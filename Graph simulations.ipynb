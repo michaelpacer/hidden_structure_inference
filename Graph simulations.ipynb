{
 "cells": [
  {
   "cell_type": "code",
   "execution_count": 1,
   "metadata": {
    "collapsed": false
   },
   "outputs": [],
   "source": [
    "%load_ext autoreload\n",
    "%autoreload 2"
   ]
  },
  {
   "cell_type": "code",
   "execution_count": 2,
   "metadata": {
    "collapsed": false
   },
   "outputs": [],
   "source": [
    "import networkx as nx\n",
    "import numpy as np\n",
    "from lib.graph_local_classes import GraphStructure, GraphParams, InnerGraphSimulation"
   ]
  },
  {
   "cell_type": "code",
   "execution_count": 3,
   "metadata": {
    "collapsed": true
   },
   "outputs": [],
   "source": [
    "# create a fully connected graph structure\n",
    "nodes = [\"A\", \"B\", \"C\", \"D\"]\n",
    "edges = []\n",
    "for node1 in nodes:\n",
    "    for node2 in nodes:\n",
    "        if node1 == node2:\n",
    "            continue\n",
    "        edges.append((node1, node2))\n",
    "        \n",
    "gs = GraphStructure(nodes, edges)"
   ]
  },
  {
   "cell_type": "code",
   "execution_count": 18,
   "metadata": {
    "collapsed": false
   },
   "outputs": [
    {
     "data": {
      "text/plain": [
       "{'lambda0': [0.062695847589069278],\n",
       " 'mu': array([ 0.31801852,  0.15961772,  0.54798542,  7.77746455,  3.08578133,\n",
       "         3.22103282,  0.14668106,  6.40482104,  0.15101429,  0.40205551,\n",
       "         4.87640812,  0.04868184]),\n",
       " 'n': 12,\n",
       " 'names': (0, 1, 2, 3, 4, 5, 6, 7, 8, 9, 10, 11),\n",
       " 'p': 0.8,\n",
       " 'psi': array([ 0.0247242 ,  0.01993138,  0.0383348 ,  0.20915333,  0.06149181,\n",
       "         0.14537558,  0.03194521,  0.10411709,  0.04865893,  0.01264925,\n",
       "         0.1237423 ,  0.01151007]),\n",
       " 'psi_shape': 1.0,\n",
       " 'r': array([ 0.07774452,  0.12486947,  0.06995588,  0.02689222,  0.01992747,\n",
       "         0.04513322,  0.21778689,  0.01625605,  0.32221404,  0.03146144,\n",
       "         0.02537571,  0.23643449]),\n",
       " 'r_shape': 1.0,\n",
       " 'scale_free_bounds': (0.01, 100)}"
      ]
     },
     "execution_count": 18,
     "metadata": {},
     "output_type": "execute_result"
    }
   ],
   "source": [
    "# graph parameters\n",
    "gp = GraphParams(len(edges))\n",
    "gp.sample()"
   ]
  },
  {
   "cell_type": "code",
   "execution_count": 14,
   "metadata": {
    "collapsed": false
   },
   "outputs": [
    {
     "data": {
      "text/plain": [
       "{'n': 12,\n",
       " 'names': (0, 1, 2, 3, 4, 5, 6, 7, 8, 9, 10, 11),\n",
       " 'p': 0.8,\n",
       " 'psi_shape': 1.0,\n",
       " 'r_shape': 1.0,\n",
       " 'scale_free_bounds': (0.01, 100)}"
      ]
     },
     "execution_count": 14,
     "metadata": {},
     "output_type": "execute_result"
    }
   ],
   "source": [
    "gp.init_to_dict()"
   ]
  },
  {
   "cell_type": "code",
   "execution_count": 24,
   "metadata": {
    "collapsed": false
   },
   "outputs": [
    {
     "data": {
      "text/plain": [
       "[array([  0.,  inf,  inf,  inf]),\n",
       " array([ 0.        ,  0.55746228,  0.55558036,  0.58127898]),\n",
       " array([  0.,  inf,  inf,  inf]),\n",
       " array([ 0.        ,  0.07814821,  0.07988542,  0.11453661]),\n",
       " array([ 0.        ,  0.01720749,  0.02118645,  0.01627335]),\n",
       " array([ 0.        ,  0.08820208,         inf,  0.0864364 ]),\n",
       " array([  0.,  inf,  inf,  inf]),\n",
       " array([ 0.        ,         inf,         inf,  0.08913017]),\n",
       " array([ 0.        ,  0.04573008,  0.09786022,  0.02721278]),\n",
       " array([ 0.        ,  0.06524633,  0.06647246,  0.06506019]),\n",
       " array([  0.,  inf,  inf,  inf]),\n",
       " array([ 0.        ,  0.04268043,  0.05378362,  0.03570754]),\n",
       " array([ 0.        ,  0.04726835,  0.06324041,  0.04348623]),\n",
       " array([ 0.        ,  0.07921501,  0.01149287,  0.07915569]),\n",
       " array([  0.,  inf,  inf,  inf]),\n",
       " array([ 0.        ,  0.01937406,  0.02844581,  0.03530338]),\n",
       " array([  0.,  inf,  inf,  inf]),\n",
       " array([  0.,  inf,  inf,  inf]),\n",
       " array([ 0.        ,         inf,  0.07983968,         inf]),\n",
       " array([  0.,  inf,  inf,  inf]),\n",
       " array([ 0.        ,  0.08471664,  0.08818262,  0.0840668 ]),\n",
       " array([  0.,  inf,  inf,  inf]),\n",
       " array([  0.,  inf,  inf,  inf]),\n",
       " array([  0.,  inf,  inf,  inf]),\n",
       " array([ 0.        ,  0.02146691,  0.02935749,  0.00993715]),\n",
       " array([  0.,  inf,  inf,  inf]),\n",
       " array([ 0.        ,  0.00402069,  0.00991737,  0.00132766]),\n",
       " array([ 0.        ,  0.04147814,  0.06470917,  0.04470223]),\n",
       " array([ 0.        ,  0.17852598,  0.17741622,  0.18458887]),\n",
       " array([ 0.        ,  0.00414197,         inf,  0.00222305]),\n",
       " array([  0.,  inf,  inf,  inf]),\n",
       " array([ 0.        ,  0.0210469 ,  0.02566689,  0.0183835 ]),\n",
       " array([ 0.        ,  0.01206477,  0.00778104,  0.02926297]),\n",
       " array([ 0.        ,  0.06746099,  0.07528831,  0.05904904]),\n",
       " array([ 0.        ,         inf,         inf,  0.00310685]),\n",
       " array([ 0.        ,  0.00370958,  0.02718722,  0.02269556]),\n",
       " array([  0.,  inf,  inf,  inf]),\n",
       " array([  0.,  inf,  inf,  inf]),\n",
       " array([  0.,  inf,  inf,  inf]),\n",
       " array([  0.,  inf,  inf,  inf]),\n",
       " array([ 0.        ,  0.22035996,  0.22158559,  0.23308886]),\n",
       " array([ 0.        ,  0.04800537,  0.05409705,  0.02654355]),\n",
       " array([  0.,  inf,  inf,  inf]),\n",
       " array([  0.,  inf,  inf,  inf]),\n",
       " array([ 0.        ,  0.01959748,  0.04620711,  0.03813158]),\n",
       " array([  0.,  inf,  inf,  inf]),\n",
       " array([  0.,  inf,  inf,  inf]),\n",
       " array([  0.,  inf,  inf,  inf]),\n",
       " array([ 0.        ,  0.04760478,         inf,         inf]),\n",
       " array([  0.,  inf,  inf,  inf]),\n",
       " array([  0.,  inf,  inf,  inf]),\n",
       " array([ 0.        ,  0.00251236,  0.01509755,         inf]),\n",
       " array([  0.,  inf,  inf,  inf]),\n",
       " array([ 0.        ,  0.02449079,  0.03687114,  0.0131932 ]),\n",
       " array([  0.,  inf,  inf,  inf]),\n",
       " array([ 0.        ,         inf,         inf,  0.19267253]),\n",
       " array([ 0.        ,  0.03879228,  0.04017491,  0.05829279]),\n",
       " array([ 0.        ,  0.01336627,         inf,  0.00770297]),\n",
       " array([ 0.        ,  0.01365186,         inf,  0.0133073 ]),\n",
       " array([  0.,  inf,  inf,  inf]),\n",
       " array([  0.,  inf,  inf,  inf]),\n",
       " array([ 0.        ,  0.09335128,  0.09480539,  0.08328026]),\n",
       " array([ 0.        ,  0.00782374,  0.00547406,         inf]),\n",
       " array([ 0.        ,  0.15303085,  0.15856447,  0.76203405]),\n",
       " array([ 0.        ,  0.01542443,         inf,  0.00822563]),\n",
       " array([  0.,  inf,  inf,  inf]),\n",
       " array([ 0.        ,  0.03690456,  0.05341839,  0.02153696]),\n",
       " array([  0.,  inf,  inf,  inf]),\n",
       " array([ 0.        ,  0.03644326,         inf,  0.06799855]),\n",
       " array([  0.,  inf,  inf,  inf]),\n",
       " array([  0.,  inf,  inf,  inf]),\n",
       " array([ 0.        ,  0.04654334,  0.05068339,  0.03030477]),\n",
       " array([ 0.        ,  0.06789064,  0.12565247,  0.06684932]),\n",
       " array([ 0.        ,         inf,  0.22360078,         inf]),\n",
       " array([ 0.        ,  0.24634941,  0.28972922,  0.31828015]),\n",
       " array([  0.,  inf,  inf,  inf]),\n",
       " array([ 0.        ,  0.15948465,  0.1590884 ,  0.16422051]),\n",
       " array([ 0.        ,  0.01754329,  0.02324407,  0.01716898]),\n",
       " array([ 0.        ,  0.08247391,  0.0851888 ,  0.12197   ]),\n",
       " array([  0.,  inf,  inf,  inf]),\n",
       " array([ 0.        ,  0.04861898,         inf,  0.04455613]),\n",
       " array([ 0.        ,  0.03386402,  0.04483015,  0.03219744]),\n",
       " array([ 0.        ,  0.13138464,  0.1311893 ,  0.16918751]),\n",
       " array([ 0.        ,  0.01596421,  0.01702434,  0.01315524]),\n",
       " array([ 0.        ,  0.08810392,  0.21710813,  0.10612886]),\n",
       " array([ 0.        ,  0.14280604,  0.13952837,  0.1445157 ]),\n",
       " array([  0.,  inf,  inf,  inf]),\n",
       " array([  0.,  inf,  inf,  inf]),\n",
       " array([  0.,  inf,  inf,  inf]),\n",
       " array([  0.,  inf,  inf,  inf]),\n",
       " array([ 0.        ,  0.0334465 ,  0.03589307,  0.03738793]),\n",
       " array([ 0.        ,  0.09581337,  0.09895009,  0.22032523]),\n",
       " array([ 0.        ,  0.00376201,         inf,  0.00126395]),\n",
       " array([ 0.        ,  0.18567951,  0.19358371,  0.1474584 ]),\n",
       " array([  0.,  inf,  inf,  inf]),\n",
       " array([ 0.        ,  0.01578787,  0.01633754,  0.02437192]),\n",
       " array([  0.,  inf,  inf,  inf]),\n",
       " array([ 0.        ,         inf,         inf,  0.04221272]),\n",
       " array([ 0.        ,  0.1728423 ,  0.17765122,  0.17899926]),\n",
       " array([ 0.       ,  0.0664914,        inf,        inf])]"
      ]
     },
     "execution_count": 24,
     "metadata": {},
     "output_type": "execute_result"
    }
   ],
   "source": [
    "# inner graph simulation\n",
    "sim = InnerGraphSimulation(gs, gp)\n",
    "# np.fromiter(sim.sample_iter_solely_first_events(1),dtype=float)\n",
    "list(sim.sample_iter_solely_first_events(100))"
   ]
  },
  {
   "cell_type": "code",
   "execution_count": 23,
   "metadata": {
    "collapsed": false
   },
   "outputs": [
    {
     "data": {
      "text/plain": [
       "[(0.0, 'A'), (0.081012416281642408, 'D'), (0.10307053000102422, 'A')]"
      ]
     },
     "execution_count": 23,
     "metadata": {},
     "output_type": "execute_result"
    }
   ],
   "source": [
    "sim._all_events"
   ]
  },
  {
   "cell_type": "code",
   "execution_count": null,
   "metadata": {
    "collapsed": true
   },
   "outputs": [],
   "source": [
    "class GraphSimulation(object):\n",
    "    \n",
    "    def __init__(self, events):\n",
    "        self.inner = \n",
    "        \n",
    "    def likelihood(self, data):\n",
    "        # compute likelihood given sample from "
   ]
  },
  {
   "cell_type": "code",
   "execution_count": null,
   "metadata": {
    "collapsed": true
   },
   "outputs": [],
   "source": []
  }
 ],
 "metadata": {
  "kernelspec": {
   "display_name": "Python 3",
   "language": "python",
   "name": "python3"
  },
  "language_info": {
   "codemirror_mode": {
    "name": "ipython",
    "version": 3
   },
   "file_extension": ".py",
   "mimetype": "text/x-python",
   "name": "python",
   "nbconvert_exporter": "python",
   "pygments_lexer": "ipython3",
   "version": "3.5.0"
  }
 },
 "nbformat": 4,
 "nbformat_minor": 0
}
