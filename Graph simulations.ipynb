{
 "cells": [
  {
   "cell_type": "code",
   "execution_count": 1,
   "metadata": {
    "collapsed": false
   },
   "outputs": [],
   "source": [
    "%load_ext autoreload\n",
    "%autoreload 2"
   ]
  },
  {
   "cell_type": "code",
   "execution_count": 2,
   "metadata": {
    "collapsed": false
   },
   "outputs": [],
   "source": [
    "import networkx as nx\n",
    "import numpy as np\n",
    "from lib.graph_local_classes import GraphStructure, GraphParams, InnerGraphSimulation\n"
   ]
  },
  {
   "cell_type": "code",
   "execution_count": 3,
   "metadata": {
    "collapsed": true
   },
   "outputs": [],
   "source": [
    "# create a fully connected graph structure\n",
    "nodes = [\"A\", \"B\", \"C\"]\n",
    "edges = []\n",
    "for node1 in nodes:\n",
    "    for node2 in nodes:\n",
    "        if node1 == node2:\n",
    "            continue\n",
    "        edges.append((node1, node2))\n",
    "        \n",
    "gs = GraphStructure(nodes, edges)"
   ]
  },
  {
   "cell_type": "code",
   "execution_count": 4,
   "metadata": {
    "collapsed": false
   },
   "outputs": [],
   "source": [
    "gp = GraphParams.from_structure(gs)\n",
    "test_top = gp.sample()\n",
    "gs_2 = gs.copy()\n",
    "gs_2.edges.pop(3)\n",
    "gp_2 = GraphParams.from_structure(gs_2)\n",
    "test_sub = gp_2.sample()"
   ]
  },
  {
   "cell_type": "code",
   "execution_count": 5,
   "metadata": {
    "collapsed": false
   },
   "outputs": [],
   "source": [
    "import numpy as np\n",
    "\n",
    "def two_list_match_indices(test_sub,test_top):\n",
    "    indices = np.full(len(test_sub),np.nan)\n",
    "    vals = np.full(len(test_sub),np.nan)\n",
    "    for j,element in enumerate(test_sub):\n",
    "        for i,x in enumerate(test_top):\n",
    "            if element==x:\n",
    "                indices[j] = i\n",
    "    assert not any(np.isnan(indices))\n",
    "    return indices.astype(np.int)"
   ]
  },
  {
   "cell_type": "code",
   "execution_count": 6,
   "metadata": {
    "collapsed": false
   },
   "outputs": [],
   "source": [
    "test_indices = two_list_match_indices(test_sub['names'],test_top['names'])"
   ]
  },
  {
   "cell_type": "code",
   "execution_count": 20,
   "metadata": {
    "collapsed": true
   },
   "outputs": [],
   "source": [
    "g_test = nx.DiGraph()\n",
    "g_test.add_nodes_from(['a','b','c','d'])\n",
    "g_test.add_edges_from([('a','b'),('b','c'),('c','d'),('d','b')])\n",
    "gp = GraphParams.from_networkx(g_test)\n",
    "GraphStructure.from_networkx(g_test)\n",
    "g_test_2 = g_test.subgraph(['a','b','d'])\n",
    "# gp2 = GraphParams.from_networkx(g_test_2)"
   ]
  },
  {
   "cell_type": "code",
   "execution_count": 21,
   "metadata": {
    "collapsed": true
   },
   "outputs": [],
   "source": [
    "# for psi, r and mu filter to include only those edges in "
   ]
  },
  {
   "cell_type": "code",
   "execution_count": 22,
   "metadata": {
    "collapsed": false
   },
   "outputs": [
    {
     "data": {
      "text/plain": [
       "[('a', 'b'), ('d', 'b')]"
      ]
     },
     "execution_count": 22,
     "metadata": {},
     "output_type": "execute_result"
    }
   ],
   "source": [
    "g_test_2.edges()"
   ]
  },
  {
   "cell_type": "code",
   "execution_count": 26,
   "metadata": {
    "collapsed": false
   },
   "outputs": [
    {
     "data": {
      "text/plain": [
       "{'lambda0': [3.9376320784726744],\n",
       " 'mu': array([  3.00080332,  10.08638097,   5.4263842 ,   0.23020079]),\n",
       " 'n': 4,\n",
       " 'names': [('a', 'b'), ('b', 'c'), ('c', 'd'), ('d', 'b')],\n",
       " 'p': 0.8,\n",
       " 'psi': array([  6.71144381,   6.09817645,  18.3831797 ,   2.8479902 ]),\n",
       " 'psi_shape': 1.0,\n",
       " 'r': array([  2.23654905,   0.60459509,   3.38774016,  12.37176557]),\n",
       " 'r_shape': 1.0,\n",
       " 'scale_free_bounds': (0.01, 100)}"
      ]
     },
     "execution_count": 26,
     "metadata": {},
     "output_type": "execute_result"
    }
   ],
   "source": [
    "gp.sample()"
   ]
  },
  {
   "cell_type": "code",
   "execution_count": 27,
   "metadata": {
    "collapsed": false
   },
   "outputs": [],
   "source": [
    "working = gp.subgraph_copy(g_test_2.edges())"
   ]
  },
  {
   "cell_type": "code",
   "execution_count": 28,
   "metadata": {
    "collapsed": false
   },
   "outputs": [
    {
     "data": {
      "text/plain": [
       "{'lambda0': [3.9376320784726744],\n",
       " 'mu': array([ 3.00080332,  0.23020079]),\n",
       " 'n': 2,\n",
       " 'names': [('a', 'b'), ('d', 'b')],\n",
       " 'p': 0.8,\n",
       " 'psi': array([ 6.71144381,  2.8479902 ]),\n",
       " 'psi_shape': 1.0,\n",
       " 'r': array([  2.23654905,  12.37176557]),\n",
       " 'r_shape': 1.0,\n",
       " 'scale_free_bounds': (0.01, 100)}"
      ]
     },
     "execution_count": 28,
     "metadata": {},
     "output_type": "execute_result"
    }
   ],
   "source": [
    "working.to_dict()"
   ]
  },
  {
   "cell_type": "code",
   "execution_count": 212,
   "metadata": {
    "collapsed": false
   },
   "outputs": [],
   "source": [
    "match_indices = two_list_match_indices(gp2.names,gp.names)"
   ]
  },
  {
   "cell_type": "code",
   "execution_count": 201,
   "metadata": {
    "collapsed": false
   },
   "outputs": [],
   "source": [
    "params = gp.to_dict()"
   ]
  },
  {
   "cell_type": "code",
   "execution_count": 202,
   "metadata": {
    "collapsed": true
   },
   "outputs": [],
   "source": [
    "edge_params = ['psi','r','mu','names']"
   ]
  },
  {
   "cell_type": "code",
   "execution_count": 203,
   "metadata": {
    "collapsed": false
   },
   "outputs": [],
   "source": [
    "param2 = params.copy()\n",
    "for p in edge_params:\n",
    "#     import ipdb; ipdb.set_trace()\n",
    "    if p is 'n':\n",
    "        param2[p] = len(match_indices)\n",
    "    try: \n",
    "        param2[p] = params[p][match_indices]\n",
    "    except TypeError:\n",
    "        if p is 'names':\n",
    "            param2[p] = [tuple(x) for x in np.array(params[p])[match_indices]]\n",
    "        else:\n",
    "            assert False"
   ]
  },
  {
   "cell_type": "code",
   "execution_count": null,
   "metadata": {
    "collapsed": true
   },
   "outputs": [],
   "source": []
  },
  {
   "cell_type": "code",
   "execution_count": 204,
   "metadata": {
    "collapsed": false
   },
   "outputs": [
    {
     "data": {
      "text/plain": [
       "{'lambda0': [27.478620959720498],\n",
       " 'mu': array([ 0.48405111,  0.19052271]),\n",
       " 'n': 4,\n",
       " 'names': [('a', 'b'), ('d', 'b')],\n",
       " 'p': 0.8,\n",
       " 'psi': array([ 4.87314939,  3.63347566]),\n",
       " 'psi_shape': 1.0,\n",
       " 'r': array([ 10.06742734,  19.0710891 ]),\n",
       " 'r_shape': 1.0,\n",
       " 'scale_free_bounds': (0.01, 100)}"
      ]
     },
     "execution_count": 204,
     "metadata": {},
     "output_type": "execute_result"
    }
   ],
   "source": [
    "param2"
   ]
  },
  {
   "cell_type": "code",
   "execution_count": 187,
   "metadata": {
    "collapsed": false
   },
   "outputs": [
    {
     "data": {
      "text/plain": [
       "{'lambda0': [27.478620959720498],\n",
       " 'mu': None,\n",
       " 'n': 4,\n",
       " 'names': [('a', 'b'), ('d', 'b')],\n",
       " 'p': 0.8,\n",
       " 'psi': array([ 31.62635801,   9.4408811 ]),\n",
       " 'psi_shape': 1.0,\n",
       " 'r': None,\n",
       " 'r_shape': 1.0,\n",
       " 'scale_free_bounds': (0.01, 100)}"
      ]
     },
     "execution_count": 187,
     "metadata": {},
     "output_type": "execute_result"
    }
   ],
   "source": [
    "gp2.to_dict()"
   ]
  },
  {
   "cell_type": "code",
   "execution_count": 10,
   "metadata": {
    "collapsed": false
   },
   "outputs": [
    {
     "ename": "NameError",
     "evalue": "name 'param2' is not defined",
     "output_type": "error",
     "traceback": [
      "\u001b[0;31m---------------------------------------------------------------------------\u001b[0m",
      "\u001b[0;31mNameError\u001b[0m                                 Traceback (most recent call last)",
      "\u001b[0;32m<ipython-input-10-f9128b88d4e8>\u001b[0m in \u001b[0;36m<module>\u001b[0;34m()\u001b[0m\n\u001b[0;32m----> 1\u001b[0;31m \u001b[0mgp2\u001b[0m\u001b[0;34m.\u001b[0m\u001b[0mupdate\u001b[0m\u001b[0;34m(\u001b[0m\u001b[0mparam2\u001b[0m\u001b[0;34m)\u001b[0m\u001b[0;34m\u001b[0m\u001b[0m\n\u001b[0m",
      "\u001b[0;31mNameError\u001b[0m: name 'param2' is not defined"
     ]
    }
   ],
   "source": [
    "gp2.update(param2)"
   ]
  },
  {
   "cell_type": "code",
   "execution_count": 174,
   "metadata": {
    "collapsed": false
   },
   "outputs": [
    {
     "data": {
      "text/plain": [
       "{'lambda0': [27.478620959720498],\n",
       " 'mu': array([ 17.13374774,   4.78385929]),\n",
       " 'n': 4,\n",
       " 'names': [('a', 'b'), ('d', 'b')],\n",
       " 'p': 0.8,\n",
       " 'psi': array([ 31.62635801,   9.4408811 ]),\n",
       " 'psi_shape': 1.0,\n",
       " 'r': array([ 1.84585174,  1.97348637]),\n",
       " 'r_shape': 1.0,\n",
       " 'scale_free_bounds': (0.01, 100)}"
      ]
     },
     "execution_count": 174,
     "metadata": {},
     "output_type": "execute_result"
    }
   ],
   "source": [
    "param2, "
   ]
  },
  {
   "cell_type": "code",
   "execution_count": 176,
   "metadata": {
    "collapsed": false
   },
   "outputs": [
    {
     "data": {
      "text/plain": [
       "{'lambda0': None,\n",
       " 'mu': None,\n",
       " 'n': 2,\n",
       " 'names': [('a', 'b'), ('d', 'b')],\n",
       " 'p': 0.8,\n",
       " 'psi': None,\n",
       " 'psi_shape': 1.0,\n",
       " 'r': None,\n",
       " 'r_shape': 1.0,\n",
       " 'scale_free_bounds': (0.01, 100)}"
      ]
     },
     "execution_count": 176,
     "metadata": {},
     "output_type": "execute_result"
    }
   ],
   "source": [
    "gp2.to_dict()"
   ]
  },
  {
   "cell_type": "code",
   "execution_count": 144,
   "metadata": {
    "collapsed": false
   },
   "outputs": [
    {
     "data": {
      "text/plain": [
       "array([ 31.62635801,   9.4408811 ])"
      ]
     },
     "execution_count": 144,
     "metadata": {},
     "output_type": "execute_result"
    }
   ],
   "source": [
    "params['psi'][match_indices]"
   ]
  },
  {
   "cell_type": "code",
   "execution_count": 105,
   "metadata": {
    "collapsed": false
   },
   "outputs": [
    {
     "data": {
      "text/plain": [
       "array([ 0.00028858,  0.00623571,  0.00933329,  0.00266192,  0.01798175])"
      ]
     },
     "execution_count": 105,
     "metadata": {},
     "output_type": "execute_result"
    }
   ],
   "source": [
    "test_top['psi'][test_indices]"
   ]
  },
  {
   "cell_type": "code",
   "execution_count": 70,
   "metadata": {
    "collapsed": false
   },
   "outputs": [
    {
     "data": {
      "text/plain": [
       "False"
      ]
     },
     "execution_count": 70,
     "metadata": {},
     "output_type": "execute_result"
    }
   ],
   "source": [
    "any(np.isnan(np.full(0,np.nan)))"
   ]
  },
  {
   "cell_type": "code",
   "execution_count": null,
   "metadata": {
    "collapsed": true
   },
   "outputs": [],
   "source": []
  },
  {
   "cell_type": "code",
   "execution_count": 25,
   "metadata": {
    "collapsed": false
   },
   "outputs": [
    {
     "data": {
      "text/plain": [
       "[('A', 'B'), ('A', 'C'), ('B', 'A'), ('B', 'C'), ('C', 'A'), ('C', 'B')]"
      ]
     },
     "execution_count": 25,
     "metadata": {},
     "output_type": "execute_result"
    }
   ],
   "source": [
    "test_top['names']"
   ]
  },
  {
   "cell_type": "code",
   "execution_count": 20,
   "metadata": {
    "collapsed": false
   },
   "outputs": [
    {
     "data": {
      "text/plain": [
       "{'lambda0': [2.9296713685616815],\n",
       " 'mu': array([ 3.0981727 ,  1.25117946,  1.2511856 ,  7.3462397 ,  1.33943099]),\n",
       " 'n': 5,\n",
       " 'names': [('A', 'B'), ('A', 'C'), ('B', 'A'), ('C', 'A'), ('C', 'B')],\n",
       " 'p': 0.8,\n",
       " 'psi': array([ 10.23387002,   0.7706454 ,   4.21249859,   3.63772805,   2.08644052]),\n",
       " 'psi_shape': 1.0,\n",
       " 'r': array([ 3.30319547,  0.61593514,  3.36680553,  0.49518232,  1.55770662]),\n",
       " 'r_shape': 1.0,\n",
       " 'scale_free_bounds': (0.01, 100)}"
      ]
     },
     "execution_count": 20,
     "metadata": {},
     "output_type": "execute_result"
    }
   ],
   "source": [
    "test_2"
   ]
  },
  {
   "cell_type": "code",
   "execution_count": 3,
   "metadata": {
    "collapsed": false
   },
   "outputs": [
    {
     "data": {
      "text/plain": [
       "{'lambda0': [0.013383926538154477],\n",
       " 'mu': array([ 0.38477235,  4.53195151,  0.8482703 ,  0.31605468,  0.8933808 ,\n",
       "         0.20188198]),\n",
       " 'n': 6,\n",
       " 'names': (0, 1, 2, 3, 4, 5),\n",
       " 'p': 0.8,\n",
       " 'psi': array([ 0.00282613,  0.03313858,  0.02021503,  0.00189923,  0.02435895,\n",
       "         0.00847459]),\n",
       " 'psi_shape': 1.0,\n",
       " 'r': array([ 0.00734494,  0.00731221,  0.02383089,  0.00600917,  0.02726603,\n",
       "         0.04197796]),\n",
       " 'r_shape': 1.0,\n",
       " 'scale_free_bounds': (0.01, 100)}"
      ]
     },
     "execution_count": 3,
     "metadata": {},
     "output_type": "execute_result"
    }
   ],
   "source": [
    "# graph parameters\n",
    "gp = GraphParams(len(edges))\n",
    "gp.sample()"
   ]
  },
  {
   "cell_type": "code",
   "execution_count": 14,
   "metadata": {
    "collapsed": false
   },
   "outputs": [
    {
     "data": {
      "text/plain": [
       "{'n': 12,\n",
       " 'names': (0, 1, 2, 3, 4, 5, 6, 7, 8, 9, 10, 11),\n",
       " 'p': 0.8,\n",
       " 'psi_shape': 1.0,\n",
       " 'r_shape': 1.0,\n",
       " 'scale_free_bounds': (0.01, 100)}"
      ]
     },
     "execution_count": 14,
     "metadata": {},
     "output_type": "execute_result"
    }
   ],
   "source": [
    "gp.init_to_dict()"
   ]
  },
  {
   "cell_type": "code",
   "execution_count": 24,
   "metadata": {
    "collapsed": false
   },
   "outputs": [
    {
     "data": {
      "text/plain": [
       "[array([  0.,  inf,  inf,  inf]),\n",
       " array([ 0.        ,  0.55746228,  0.55558036,  0.58127898]),\n",
       " array([  0.,  inf,  inf,  inf]),\n",
       " array([ 0.        ,  0.07814821,  0.07988542,  0.11453661]),\n",
       " array([ 0.        ,  0.01720749,  0.02118645,  0.01627335]),\n",
       " array([ 0.        ,  0.08820208,         inf,  0.0864364 ]),\n",
       " array([  0.,  inf,  inf,  inf]),\n",
       " array([ 0.        ,         inf,         inf,  0.08913017]),\n",
       " array([ 0.        ,  0.04573008,  0.09786022,  0.02721278]),\n",
       " array([ 0.        ,  0.06524633,  0.06647246,  0.06506019]),\n",
       " array([  0.,  inf,  inf,  inf]),\n",
       " array([ 0.        ,  0.04268043,  0.05378362,  0.03570754]),\n",
       " array([ 0.        ,  0.04726835,  0.06324041,  0.04348623]),\n",
       " array([ 0.        ,  0.07921501,  0.01149287,  0.07915569]),\n",
       " array([  0.,  inf,  inf,  inf]),\n",
       " array([ 0.        ,  0.01937406,  0.02844581,  0.03530338]),\n",
       " array([  0.,  inf,  inf,  inf]),\n",
       " array([  0.,  inf,  inf,  inf]),\n",
       " array([ 0.        ,         inf,  0.07983968,         inf]),\n",
       " array([  0.,  inf,  inf,  inf]),\n",
       " array([ 0.        ,  0.08471664,  0.08818262,  0.0840668 ]),\n",
       " array([  0.,  inf,  inf,  inf]),\n",
       " array([  0.,  inf,  inf,  inf]),\n",
       " array([  0.,  inf,  inf,  inf]),\n",
       " array([ 0.        ,  0.02146691,  0.02935749,  0.00993715]),\n",
       " array([  0.,  inf,  inf,  inf]),\n",
       " array([ 0.        ,  0.00402069,  0.00991737,  0.00132766]),\n",
       " array([ 0.        ,  0.04147814,  0.06470917,  0.04470223]),\n",
       " array([ 0.        ,  0.17852598,  0.17741622,  0.18458887]),\n",
       " array([ 0.        ,  0.00414197,         inf,  0.00222305]),\n",
       " array([  0.,  inf,  inf,  inf]),\n",
       " array([ 0.        ,  0.0210469 ,  0.02566689,  0.0183835 ]),\n",
       " array([ 0.        ,  0.01206477,  0.00778104,  0.02926297]),\n",
       " array([ 0.        ,  0.06746099,  0.07528831,  0.05904904]),\n",
       " array([ 0.        ,         inf,         inf,  0.00310685]),\n",
       " array([ 0.        ,  0.00370958,  0.02718722,  0.02269556]),\n",
       " array([  0.,  inf,  inf,  inf]),\n",
       " array([  0.,  inf,  inf,  inf]),\n",
       " array([  0.,  inf,  inf,  inf]),\n",
       " array([  0.,  inf,  inf,  inf]),\n",
       " array([ 0.        ,  0.22035996,  0.22158559,  0.23308886]),\n",
       " array([ 0.        ,  0.04800537,  0.05409705,  0.02654355]),\n",
       " array([  0.,  inf,  inf,  inf]),\n",
       " array([  0.,  inf,  inf,  inf]),\n",
       " array([ 0.        ,  0.01959748,  0.04620711,  0.03813158]),\n",
       " array([  0.,  inf,  inf,  inf]),\n",
       " array([  0.,  inf,  inf,  inf]),\n",
       " array([  0.,  inf,  inf,  inf]),\n",
       " array([ 0.        ,  0.04760478,         inf,         inf]),\n",
       " array([  0.,  inf,  inf,  inf]),\n",
       " array([  0.,  inf,  inf,  inf]),\n",
       " array([ 0.        ,  0.00251236,  0.01509755,         inf]),\n",
       " array([  0.,  inf,  inf,  inf]),\n",
       " array([ 0.        ,  0.02449079,  0.03687114,  0.0131932 ]),\n",
       " array([  0.,  inf,  inf,  inf]),\n",
       " array([ 0.        ,         inf,         inf,  0.19267253]),\n",
       " array([ 0.        ,  0.03879228,  0.04017491,  0.05829279]),\n",
       " array([ 0.        ,  0.01336627,         inf,  0.00770297]),\n",
       " array([ 0.        ,  0.01365186,         inf,  0.0133073 ]),\n",
       " array([  0.,  inf,  inf,  inf]),\n",
       " array([  0.,  inf,  inf,  inf]),\n",
       " array([ 0.        ,  0.09335128,  0.09480539,  0.08328026]),\n",
       " array([ 0.        ,  0.00782374,  0.00547406,         inf]),\n",
       " array([ 0.        ,  0.15303085,  0.15856447,  0.76203405]),\n",
       " array([ 0.        ,  0.01542443,         inf,  0.00822563]),\n",
       " array([  0.,  inf,  inf,  inf]),\n",
       " array([ 0.        ,  0.03690456,  0.05341839,  0.02153696]),\n",
       " array([  0.,  inf,  inf,  inf]),\n",
       " array([ 0.        ,  0.03644326,         inf,  0.06799855]),\n",
       " array([  0.,  inf,  inf,  inf]),\n",
       " array([  0.,  inf,  inf,  inf]),\n",
       " array([ 0.        ,  0.04654334,  0.05068339,  0.03030477]),\n",
       " array([ 0.        ,  0.06789064,  0.12565247,  0.06684932]),\n",
       " array([ 0.        ,         inf,  0.22360078,         inf]),\n",
       " array([ 0.        ,  0.24634941,  0.28972922,  0.31828015]),\n",
       " array([  0.,  inf,  inf,  inf]),\n",
       " array([ 0.        ,  0.15948465,  0.1590884 ,  0.16422051]),\n",
       " array([ 0.        ,  0.01754329,  0.02324407,  0.01716898]),\n",
       " array([ 0.        ,  0.08247391,  0.0851888 ,  0.12197   ]),\n",
       " array([  0.,  inf,  inf,  inf]),\n",
       " array([ 0.        ,  0.04861898,         inf,  0.04455613]),\n",
       " array([ 0.        ,  0.03386402,  0.04483015,  0.03219744]),\n",
       " array([ 0.        ,  0.13138464,  0.1311893 ,  0.16918751]),\n",
       " array([ 0.        ,  0.01596421,  0.01702434,  0.01315524]),\n",
       " array([ 0.        ,  0.08810392,  0.21710813,  0.10612886]),\n",
       " array([ 0.        ,  0.14280604,  0.13952837,  0.1445157 ]),\n",
       " array([  0.,  inf,  inf,  inf]),\n",
       " array([  0.,  inf,  inf,  inf]),\n",
       " array([  0.,  inf,  inf,  inf]),\n",
       " array([  0.,  inf,  inf,  inf]),\n",
       " array([ 0.        ,  0.0334465 ,  0.03589307,  0.03738793]),\n",
       " array([ 0.        ,  0.09581337,  0.09895009,  0.22032523]),\n",
       " array([ 0.        ,  0.00376201,         inf,  0.00126395]),\n",
       " array([ 0.        ,  0.18567951,  0.19358371,  0.1474584 ]),\n",
       " array([  0.,  inf,  inf,  inf]),\n",
       " array([ 0.        ,  0.01578787,  0.01633754,  0.02437192]),\n",
       " array([  0.,  inf,  inf,  inf]),\n",
       " array([ 0.        ,         inf,         inf,  0.04221272]),\n",
       " array([ 0.        ,  0.1728423 ,  0.17765122,  0.17899926]),\n",
       " array([ 0.       ,  0.0664914,        inf,        inf])]"
      ]
     },
     "execution_count": 24,
     "metadata": {},
     "output_type": "execute_result"
    }
   ],
   "source": [
    "# inner graph simulation\n",
    "sim = InnerGraphSimulation(gs, gp)\n",
    "# np.fromiter(sim.sample_iter_solely_first_events(1),dtype=float)\n",
    "list(sim.sample_iter_solely_first_events(100))"
   ]
  },
  {
   "cell_type": "code",
   "execution_count": 23,
   "metadata": {
    "collapsed": false
   },
   "outputs": [
    {
     "data": {
      "text/plain": [
       "[(0.0, 'A'), (0.081012416281642408, 'D'), (0.10307053000102422, 'A')]"
      ]
     },
     "execution_count": 23,
     "metadata": {},
     "output_type": "execute_result"
    }
   ],
   "source": [
    "sim._all_events"
   ]
  },
  {
   "cell_type": "code",
   "execution_count": null,
   "metadata": {
    "collapsed": true
   },
   "outputs": [],
   "source": [
    "class GraphSimulation(object):\n",
    "    \n",
    "    def __init__(self, events):\n",
    "        self.inner = \n",
    "        \n",
    "    def likelihood(self, data):\n",
    "        # compute likelihood given sample from "
   ]
  },
  {
   "cell_type": "code",
   "execution_count": null,
   "metadata": {
    "collapsed": true
   },
   "outputs": [],
   "source": []
  }
 ],
 "metadata": {
  "kernelspec": {
   "display_name": "Python 3",
   "language": "python",
   "name": "python3"
  },
  "language_info": {
   "codemirror_mode": {
    "name": "ipython",
    "version": 3
   },
   "file_extension": ".py",
   "mimetype": "text/x-python",
   "name": "python",
   "nbconvert_exporter": "python",
   "pygments_lexer": "ipython3",
   "version": "3.5.0"
  }
 },
 "nbformat": 4,
 "nbformat_minor": 0
}
