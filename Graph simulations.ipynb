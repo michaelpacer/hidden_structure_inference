{
 "cells": [
  {
   "cell_type": "code",
   "execution_count": 1,
   "metadata": {
    "collapsed": false
   },
   "outputs": [],
   "source": [
    "import networkx as nx\n",
    "import numpy as np"
   ]
  },
  {
   "cell_type": "code",
   "execution_count": 2,
   "metadata": {
    "collapsed": true
   },
   "outputs": [],
   "source": [
    "class GraphStructure(object):\n",
    "    \n",
    "    def __init__(self, nodes, edges):\n",
    "        self.nodes = sorted(nodes)\n",
    "        self.edges = sorted(edges)\n",
    "       \n",
    "    @classmethod\n",
    "    def from_networkx(cls, graph):\n",
    "        # cls == Graph\n",
    "        # graph is a networkx object\n",
    "        nodes = graph.nodes()\n",
    "        edges = graph.edges()\n",
    "        obj = cls(nodes, edges)\n",
    "        return obj\n",
    "    \n",
    "    def to_networkx(self):\n",
    "        graph = nx.Graph()\n",
    "        graph.add_nodes(self.nodes)\n",
    "        graph.add_edges(self.edges)\n",
    "        return graph        \n",
    "        \n",
    "    def __eq__(self, other):\n",
    "        if self.nodes != other.nodes:\n",
    "            return False\n",
    "        if self.edges != other.edges:\n",
    "            return False\n",
    "        return True\n",
    "    \n",
    "    def children(self, node):\n",
    "        return [e for e in self.edges if e[0] == node]\n",
    "\n",
    "    def parents(self, node):\n",
    "        return [e for e in self.edges if e[1] == node]"
   ]
  },
  {
   "cell_type": "code",
   "execution_count": 3,
   "metadata": {
    "collapsed": true
   },
   "outputs": [],
   "source": [
    "class GraphParams(object):\n",
    "    \n",
    "    def __init__(self, n, lambda0=1.0, p=0.8):\n",
    "        self.n = n             # number of edges\n",
    "        self.lambda0 = lambda0 # scale-free parameter\n",
    "        self.p = p             # probability of sending a message\n",
    "        self.psi = None        # psi edge parameters\n",
    "        self.r = None          # r edge parameters\n",
    "        self.mu = None         # psi / r\n",
    "         \n",
    "    def sample(self):\n",
    "        self.psi = np.random.gamma(shape=1.0, scale=self.lambda0, size=self.n)\n",
    "        self.r = np.random.gamma(shape=1.0, scale=self.lambda0, size=self.n)\n",
    "        self.mu = self.psi / self.r\n",
    "        return self.to_dict()\n",
    "    \n",
    "    def to_dict(self):\n",
    "        return {\n",
    "            \"n\": self.n,\n",
    "            \"psi\": self.psi,\n",
    "            \"r\": self.r,\n",
    "            \"lambda0\": self.lambda0,\n",
    "            \"p\": self.p,\n",
    "            \"mu\": self.mu\n",
    "        }\n",
    "    \n",
    "    @classmethod\n",
    "    def from_dict(cls, d):\n",
    "        obj = cls(d['n'], lambda0=d['lambda0'], p=d['p'])\n",
    "        obj.psi = d['psi']\n",
    "        obj.r = d['r']\n",
    "        return obj\n",
    "    \n",
    "    def update(self, d):\n",
    "        for param, val in d.items():\n",
    "            if param == 'mu':\n",
    "                continue\n",
    "            if hasattr(self, param):\n",
    "                setattr(self, param, val)\n",
    "            else:\n",
    "                raise AttributeError(\"no such attribute '{}'\".format(param))"
   ]
  },
  {
   "cell_type": "code",
   "execution_count": 4,
   "metadata": {
    "collapsed": true
   },
   "outputs": [],
   "source": [
    "class InnerGraphSimulation(object):\n",
    "    \n",
    "    def __init__(self, structure, params):\n",
    "        self.structure = structure\n",
    "        self.params = params\n",
    "        self._all_events = None\n",
    "        self._first_events = None\n",
    "        \n",
    "    def sample_edge(self, edge, time):\n",
    "        index = self.structure.edges.index(edge)\n",
    "        \n",
    "        # does it occur?\n",
    "        occurs = np.random.rand() < self.params.p\n",
    "        if not occurs:\n",
    "            return []\n",
    "        \n",
    "        # how many events?\n",
    "        num_events = np.random.poisson(lam=self.params.mu[index])\n",
    "        if num_events == 0:\n",
    "            return []\n",
    "        \n",
    "        # when do those events occur?\n",
    "        event_times = time + np.random.exponential(scale=self.params.r[index], size=num_events)\n",
    "        event_times.sort()\n",
    "        return [(t, edge[1]) for t in event_times]\n",
    "        \n",
    "    def _sample(self, first_only=True, max_time=4.0):\n",
    "        pending = [(0, self.structure.nodes[0])]\n",
    "        self._all_events = []\n",
    "        self._first_events = None\n",
    "        if first_only:\n",
    "            processed_nodes = []\n",
    "\n",
    "        while len(pending) > 0:\n",
    "            time, node = pending.pop(0)\n",
    "            if time >= max_time:\n",
    "                break\n",
    "\n",
    "            self._all_events.append((time, node))\n",
    "            if first_only:\n",
    "                if node in processed_nodes:\n",
    "                    continue\n",
    "                processed_nodes.append(node)\n",
    "\n",
    "            children = self.structure.children(node)\n",
    "            for edge in children:\n",
    "                child_events = self.sample_edge(edge, time)\n",
    "                if len(child_events) == 0:\n",
    "                    continue\n",
    "                pending.extend(child_events)\n",
    "            pending.sort()\n",
    "            \n",
    "        self._all_events.sort()\n",
    "        self._compute_first_events()\n",
    "        return self._first_events\n",
    "    \n",
    "    def sample(self, k=1, first_only=True, max_time=4.0):\n",
    "        first_events = np.empty((k, len(self.structure.nodes)))\n",
    "        for i in range(k):\n",
    "            first_events[i] = self._sample(first_only=first_only, max_time=max_time)\n",
    "        return first_events\n",
    "    \n",
    "    def _compute_first_events(self):\n",
    "        first_events = {node: np.inf for node in self.structure.nodes}\n",
    "        for time, node in self._all_events:\n",
    "            if first_events[node] < np.inf:\n",
    "                continue\n",
    "            first_events[node] = time\n",
    "        self._first_events = np.array([first_events[node] for node in self.structure.nodes])"
   ]
  },
  {
   "cell_type": "code",
   "execution_count": 5,
   "metadata": {
    "collapsed": true
   },
   "outputs": [],
   "source": [
    "# create a fully connected graph structure\n",
    "nodes = [\"A\", \"B\", \"C\", \"D\"]\n",
    "edges = []\n",
    "for node1 in nodes:\n",
    "    for node2 in nodes:\n",
    "        if node1 == node2:\n",
    "            continue\n",
    "        edges.append((node1, node2))\n",
    "        \n",
    "gs = GraphStructure(nodes, edges)"
   ]
  },
  {
   "cell_type": "code",
   "execution_count": 6,
   "metadata": {
    "collapsed": false
   },
   "outputs": [
    {
     "data": {
      "text/plain": [
       "{'lambda0': 1.0,\n",
       " 'mu': array([  2.29344191e+00,   1.78416592e+00,   3.72334822e-01,\n",
       "          2.24343280e-02,   1.37785879e+00,   6.09284345e+00,\n",
       "          4.57713701e+00,   1.47412899e-01,   1.93547415e-01,\n",
       "          1.08081522e+02,   5.39666128e-02,   1.13605122e+00]),\n",
       " 'n': 12,\n",
       " 'p': 0.8,\n",
       " 'psi': array([ 2.26187893,  0.22476094,  0.61717296,  0.0956303 ,  0.66182561,\n",
       "         1.40993516,  0.21701461,  0.30007726,  0.46604834,  2.05857858,\n",
       "         0.10537935,  2.0718588 ]),\n",
       " 'r': array([ 0.98623773,  0.12597535,  1.65757519,  4.26267733,  0.48032905,\n",
       "         0.2314084 ,  0.04741274,  2.03562415,  2.40792851,  0.01904654,\n",
       "         1.95267672,  1.82373713])}"
      ]
     },
     "execution_count": 6,
     "metadata": {},
     "output_type": "execute_result"
    }
   ],
   "source": [
    "# graph parameters\n",
    "gp = GraphParams(len(edges))\n",
    "gp.sample()"
   ]
  },
  {
   "cell_type": "code",
   "execution_count": 7,
   "metadata": {
    "collapsed": false
   },
   "outputs": [
    {
     "data": {
      "text/plain": [
       "array([[ 0.        ,  0.41158525,  0.06832821,  0.41353685],\n",
       "       [ 0.        ,  0.20532481,  0.01110261,  0.25971305],\n",
       "       [ 0.        ,  0.4155097 ,  0.62615129,  0.17583114],\n",
       "       ..., \n",
       "       [ 0.        ,         inf,  0.10292434,         inf],\n",
       "       [ 0.        ,         inf,  0.6786789 ,         inf],\n",
       "       [ 0.        ,         inf,  0.07603071,  0.42576558]])"
      ]
     },
     "execution_count": 7,
     "metadata": {},
     "output_type": "execute_result"
    }
   ],
   "source": [
    "# inner graph simulation\n",
    "sim = InnerGraphSimulation(gs, gp)\n",
    "sim.sample(1000)"
   ]
  },
  {
   "cell_type": "code",
   "execution_count": 8,
   "metadata": {
    "collapsed": false
   },
   "outputs": [
    {
     "data": {
      "text/plain": [
       "[(0, 'A'),\n",
       " (0.076030710976054863, 'C'),\n",
       " (0.092917495627482777, 'A'),\n",
       " (0.14298321402152042, 'A'),\n",
       " (0.42576557806129844, 'D'),\n",
       " (0.42623086640203062, 'A'),\n",
       " (0.42637169418479687, 'A'),\n",
       " (0.42673504999797218, 'A'),\n",
       " (0.42701250458899476, 'A'),\n",
       " (0.42711696622241585, 'A'),\n",
       " (0.42727368255344039, 'A'),\n",
       " (0.42768900089396034, 'A'),\n",
       " (0.42781915446310509, 'A'),\n",
       " (0.42782167558070938, 'A'),\n",
       " (0.42810358114416341, 'A'),\n",
       " (0.428221875136789, 'A'),\n",
       " (0.42848186842007835, 'A'),\n",
       " (0.42870404524377215, 'A'),\n",
       " (0.4289233680198441, 'A'),\n",
       " (0.43000859460216567, 'A'),\n",
       " (0.4302352309972155, 'A'),\n",
       " (0.43045424956369233, 'A'),\n",
       " (0.43048510924313466, 'A'),\n",
       " (0.43192758290776251, 'A'),\n",
       " (0.432412339849995, 'A'),\n",
       " (0.43280436478818723, 'A'),\n",
       " (0.43384784946238752, 'A'),\n",
       " (0.43473899125738824, 'A'),\n",
       " (0.43509606941779061, 'A'),\n",
       " (0.43513932259679255, 'A'),\n",
       " (0.43517810660627065, 'A'),\n",
       " (0.43534116354054891, 'A'),\n",
       " (0.43587313827652563, 'A'),\n",
       " (0.43588701856543532, 'A'),\n",
       " (0.43694359001014199, 'A'),\n",
       " (0.4370138809869491, 'A'),\n",
       " (0.43704296354329142, 'A'),\n",
       " (0.43735597265400195, 'A'),\n",
       " (0.43777590210775624, 'A'),\n",
       " (0.43780123495905493, 'A'),\n",
       " (0.43792129353739989, 'A'),\n",
       " (0.43801662965016597, 'A'),\n",
       " (0.43808276672546026, 'A'),\n",
       " (0.43811128816297989, 'A'),\n",
       " (0.43813910560521707, 'A'),\n",
       " (0.43814324059352466, 'A'),\n",
       " (0.4398108577702306, 'A'),\n",
       " (0.43983678344638355, 'A'),\n",
       " (0.44003456306294325, 'A'),\n",
       " (0.44115689383649348, 'A'),\n",
       " (0.44118877169044496, 'A'),\n",
       " (0.44157971544017105, 'A'),\n",
       " (0.44158181149805154, 'A'),\n",
       " (0.44194396096568567, 'A'),\n",
       " (0.44240270935613474, 'A'),\n",
       " (0.44296203661040096, 'A'),\n",
       " (0.44387728208933674, 'A'),\n",
       " (0.44396672097987422, 'A'),\n",
       " (0.44399173501960759, 'A'),\n",
       " (0.4445808598187726, 'A'),\n",
       " (0.44596220940441234, 'A'),\n",
       " (0.44718026410814948, 'A'),\n",
       " (0.44725405198962259, 'A'),\n",
       " (0.44745625422794849, 'A'),\n",
       " (0.44839162089237694, 'A'),\n",
       " (0.44915344228649734, 'A'),\n",
       " (0.44930141713136462, 'A'),\n",
       " (0.44948460896173714, 'A'),\n",
       " (0.45088138992677823, 'A'),\n",
       " (0.45118451056517761, 'A'),\n",
       " (0.45315568829249381, 'A'),\n",
       " (0.45423003336498541, 'A'),\n",
       " (0.45466282960551974, 'A'),\n",
       " (0.45476842350385976, 'A'),\n",
       " (0.45533992685330282, 'A'),\n",
       " (0.45622665673396623, 'A'),\n",
       " (0.45635746103852914, 'A'),\n",
       " (0.4571291227677039, 'A'),\n",
       " (0.45744093942526881, 'A'),\n",
       " (0.4581433709726731, 'A'),\n",
       " (0.45825289042687245, 'A'),\n",
       " (0.45875420985855675, 'A'),\n",
       " (0.45894706379598743, 'A'),\n",
       " (0.46052380970641471, 'A'),\n",
       " (0.46134212853263429, 'A'),\n",
       " (0.46190372372695043, 'A'),\n",
       " (0.46296769276413352, 'A'),\n",
       " (0.46673376660574917, 'A'),\n",
       " (0.46763097258927483, 'A'),\n",
       " (0.47142389523732264, 'A'),\n",
       " (0.47884348773270785, 'A'),\n",
       " (0.47965765879880801, 'A'),\n",
       " (0.48313704894525572, 'A'),\n",
       " (0.48380895158798348, 'A'),\n",
       " (0.48623128434405949, 'A'),\n",
       " (0.48876987365119379, 'A'),\n",
       " (0.49765822551461675, 'A'),\n",
       " (0.49867954807476977, 'A'),\n",
       " (2.0898473483545734, 'C')]"
      ]
     },
     "execution_count": 8,
     "metadata": {},
     "output_type": "execute_result"
    }
   ],
   "source": [
    "sim._all_events"
   ]
  },
  {
   "cell_type": "code",
   "execution_count": null,
   "metadata": {
    "collapsed": true
   },
   "outputs": [],
   "source": [
    "class GraphSimulation(object):\n",
    "    \n",
    "    def __init__(self, events):\n",
    "        self.inner = \n",
    "        \n",
    "    def likelihood(self, data):\n",
    "        # compute likelihood given sample from "
   ]
  },
  {
   "cell_type": "code",
   "execution_count": null,
   "metadata": {
    "collapsed": true
   },
   "outputs": [],
   "source": []
  }
 ],
 "metadata": {
  "kernelspec": {
   "display_name": "Python 3",
   "language": "python",
   "name": "python3"
  },
  "language_info": {
   "codemirror_mode": {
    "name": "ipython",
    "version": 3
   },
   "file_extension": ".py",
   "mimetype": "text/x-python",
   "name": "python",
   "nbconvert_exporter": "python",
   "pygments_lexer": "ipython3",
   "version": "3.5.0"
  }
 },
 "nbformat": 4,
 "nbformat_minor": 0
}
