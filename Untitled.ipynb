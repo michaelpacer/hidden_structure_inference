{
 "cells": [
  {
   "cell_type": "code",
   "execution_count": 1,
   "metadata": {
    "collapsed": false
   },
   "outputs": [],
   "source": [
    "%load_ext autoreload\n",
    "%autoreload 2"
   ]
  },
  {
   "cell_type": "code",
   "execution_count": 2,
   "metadata": {
    "collapsed": false
   },
   "outputs": [],
   "source": [
    "import numpy as np\n",
    "import networkx as nx\n",
    "from graph_enumerator import *\n",
    "from graph_local_classes import *\n",
    "from node_semantics import Node_Name_Rule, Edge_Semantics_Rule"
   ]
  },
  {
   "cell_type": "code",
   "execution_count": 4,
   "metadata": {
    "collapsed": false
   },
   "outputs": [],
   "source": [
    "def intervention_effects(graph):    \n",
    "    return node_name_edge_picker_source_node(\"int\", graph)\n",
    "\n",
    "def cause_observation_pairings(graph):    \n",
    "    return node_name_edge_picker_2_args(\"★\", \"obs\", graph)\n",
    "\n",
    "def hidden_cause_pairs(graph):\n",
    "    return node_name_edge_picker_2_args(\"★\", \"★\", graph)\n",
    "       \n",
    "\n",
    "def local_graph_edge_types(graph):\n",
    "    set_graph_edge_types(graph,intervention_effects(graph),\"deterministic_intervention\")\n",
    "    set_graph_edge_types(graph,cause_observation_pairings(graph),\"observed\")\n",
    "    set_graph_edge_types(graph,hidden_cause_pairs(graph),\"hidden\")\n",
    "    \n",
    "def node_to_edge_semantics(graph):\n",
    "    pass"
   ]
  },
  {
   "cell_type": "code",
   "execution_count": 3,
   "metadata": {
    "collapsed": false
   },
   "outputs": [],
   "source": [
    "generator_dictionary ={ \"nodes\" : [\"A_int\",\"A_obs\",\"A_★\",\"B_obs\",\"B_★\",\"C_obs\",\"C_★\",\"D_obs\",\"D_★\"],\n",
    "    \"query_edge_set\" : [\n",
    "        (\"A_★\",'B_★'),\n",
    "        (\"A_★\",'C_★'),\n",
    "        (\"A_★\",'D_★'),\n",
    "        (\"B_★\",'C_★'),\n",
    "        (\"B_★\",'D_★'),\n",
    "        (\"C_★\",'B_★'),\n",
    "        (\"C_★\",'D_★'),\n",
    "        (\"D_★\",'B_★'),\n",
    "        (\"D_★\",'C_★')\n",
    "    ],\n",
    "    \"filters\": {\n",
    "        \"explicit_child_parentage\"  : [[\n",
    "            (\"A_int\",[]),\n",
    "            (\"A_★\",[\"A_int\"]),\n",
    "            ('A_obs',['A_int','A_★']),\n",
    "            ('B_obs',['B_★']),\n",
    "            ('C_obs',[\"C_★\"]),\n",
    "            ('D_obs',[\"D_★\"])\n",
    "        ]],\n",
    "        \"explicit_parent_offspring\" : [[\n",
    "            ('A_int',['A_obs','A_★']),\n",
    "            (\"A_obs\",[]),\n",
    "            (\"B_obs\",[]),\n",
    "            (\"C_obs\",[]),\n",
    "            (\"D_obs\",[])\n",
    "        ]],\n",
    "        \"extract_remove_self_loops\": []\n",
    "    },\n",
    "    \"conditions\": {\n",
    "        \"create_path_complete_condition\" : [[(\"A_int\",\"B_★\"),(\"A_int\",\"C_★\"),(\"A_int\",\"D_★\")]],\n",
    "    }\n",
    "}\n",
    "\n",
    "\n",
    "\n",
    "node_semantics={\n",
    "        # \".*_int\" → intervener\n",
    "        \"intervener\": {\n",
    "            \"node_type\":\"intervener\",\n",
    "            \"where\":\"suffix\",\n",
    "            \"infix\":\"_\",\n",
    "            \"code\":\"int\"},\n",
    "        # \".*_obs\" → observed\n",
    "        \"observed\": {\n",
    "            \"node_type\":\"observed\",\n",
    "            \"where\":\"suffix\",\n",
    "            \"infix\":\"_\",\n",
    "            \"code\":\"obs\"},\n",
    "        # \".*_★\" → hidden\n",
    "        \"hidden\": {\n",
    "            \"node_type\":\"hidden\",\n",
    "            \"where\":\"suffix\",\n",
    "            \"infix\":\"_\",\n",
    "            \"code\":\"★\"}\n",
    "}\n",
    "\n",
    "edge_semantics={\n",
    "    \"hidden_sample\":{\n",
    "        \"source_types\":[\"hidden\"],\n",
    "        \"target_types\":[\"hidden\"],\n",
    "        \"edge_type\": \"hidden_sample\"\n",
    "    },\n",
    "    \"to_observation\":{\n",
    "        \"source_types\":[\"hidden\"],\n",
    "        \"target_types\":[\"observed\"],\n",
    "        \"edge_type\": \"to_observation\"\n",
    "    },\n",
    "    \"intervention\":{\n",
    "        \"source_types\":[\"intervener\"],\n",
    "        \"target_types\":None,\n",
    "        \"edge_type\": \"intervention\"\n",
    "    }\n",
    "}\n",
    "# todo(maybe): rework filters and conditions to take node types and edge types as arguments"
   ]
  },
  {
   "cell_type": "code",
   "execution_count": 6,
   "metadata": {
    "collapsed": false
   },
   "outputs": [
    {
     "name": "stdout",
     "output_type": "stream",
     "text": [
      "<function create_path_complete_condition.<locals>.path_complete_condition at 0x1042c07b8>\n"
     ]
    },
    {
     "data": {
      "text/plain": [
       "[<networkx.classes.digraph.DiGraph at 0x102670320>,\n",
       " <networkx.classes.digraph.DiGraph at 0x102670390>,\n",
       " <networkx.classes.digraph.DiGraph at 0x102670128>,\n",
       " <networkx.classes.digraph.DiGraph at 0x1026700f0>,\n",
       " <networkx.classes.digraph.DiGraph at 0x102670198>,\n",
       " <networkx.classes.digraph.DiGraph at 0x102670160>,\n",
       " <networkx.classes.digraph.DiGraph at 0x102670400>,\n",
       " <networkx.classes.digraph.DiGraph at 0x104465080>,\n",
       " <networkx.classes.digraph.DiGraph at 0x104465048>,\n",
       " <networkx.classes.digraph.DiGraph at 0x10434f1d0>,\n",
       " <networkx.classes.digraph.DiGraph at 0x10434f278>,\n",
       " <networkx.classes.digraph.DiGraph at 0x10434f2b0>,\n",
       " <networkx.classes.digraph.DiGraph at 0x10434f048>,\n",
       " <networkx.classes.digraph.DiGraph at 0x10434f080>,\n",
       " <networkx.classes.digraph.DiGraph at 0x10434f0b8>,\n",
       " <networkx.classes.digraph.DiGraph at 0x10434f198>,\n",
       " <networkx.classes.digraph.DiGraph at 0x10434f128>,\n",
       " <networkx.classes.digraph.DiGraph at 0x104346eb8>,\n",
       " <networkx.classes.digraph.DiGraph at 0x104346f98>,\n",
       " <networkx.classes.digraph.DiGraph at 0x104346fd0>,\n",
       " <networkx.classes.digraph.DiGraph at 0x104346f60>,\n",
       " <networkx.classes.digraph.DiGraph at 0x1042c6080>,\n",
       " <networkx.classes.digraph.DiGraph at 0x1042c6048>,\n",
       " <networkx.classes.digraph.DiGraph at 0x1042c61d0>,\n",
       " <networkx.classes.digraph.DiGraph at 0x1042c6390>,\n",
       " <networkx.classes.digraph.DiGraph at 0x1043aac88>,\n",
       " <networkx.classes.digraph.DiGraph at 0x1043aaf60>,\n",
       " <networkx.classes.digraph.DiGraph at 0x1043aacf8>,\n",
       " <networkx.classes.digraph.DiGraph at 0x1043aadd8>,\n",
       " <networkx.classes.digraph.DiGraph at 0x1043aada0>,\n",
       " <networkx.classes.digraph.DiGraph at 0x1043aacc0>,\n",
       " <networkx.classes.digraph.DiGraph at 0x1043aad30>,\n",
       " <networkx.classes.digraph.DiGraph at 0x1043aad68>,\n",
       " <networkx.classes.digraph.DiGraph at 0x1043aae10>,\n",
       " <networkx.classes.digraph.DiGraph at 0x1043aaf28>,\n",
       " <networkx.classes.digraph.DiGraph at 0x1043aaeb8>,\n",
       " <networkx.classes.digraph.DiGraph at 0x1043aae48>,\n",
       " <networkx.classes.digraph.DiGraph at 0x1043aae80>,\n",
       " <networkx.classes.digraph.DiGraph at 0x1043aaef0>,\n",
       " <networkx.classes.digraph.DiGraph at 0x1043aac50>,\n",
       " <networkx.classes.digraph.DiGraph at 0x1043aac18>,\n",
       " <networkx.classes.digraph.DiGraph at 0x1043aaba8>,\n",
       " <networkx.classes.digraph.DiGraph at 0x1043aab70>,\n",
       " <networkx.classes.digraph.DiGraph at 0x1043aabe0>,\n",
       " <networkx.classes.digraph.DiGraph at 0x10439d240>,\n",
       " <networkx.classes.digraph.DiGraph at 0x10439d2b0>,\n",
       " <networkx.classes.digraph.DiGraph at 0x102673da0>,\n",
       " <networkx.classes.digraph.DiGraph at 0x1037f47f0>,\n",
       " <networkx.classes.digraph.DiGraph at 0x102673ba8>,\n",
       " <networkx.classes.digraph.DiGraph at 0x102673c88>,\n",
       " <networkx.classes.digraph.DiGraph at 0x102673c50>,\n",
       " <networkx.classes.digraph.DiGraph at 0x10434f0f0>,\n",
       " <networkx.classes.digraph.DiGraph at 0x104346f28>,\n",
       " <networkx.classes.digraph.DiGraph at 0x102673278>,\n",
       " <networkx.classes.digraph.DiGraph at 0x102673c18>,\n",
       " <networkx.classes.digraph.DiGraph at 0x102b52c50>,\n",
       " <networkx.classes.digraph.DiGraph at 0x102b52fd0>,\n",
       " <networkx.classes.digraph.DiGraph at 0x1042adba8>,\n",
       " <networkx.classes.digraph.DiGraph at 0x1042adda0>,\n",
       " <networkx.classes.digraph.DiGraph at 0x1042adb00>,\n",
       " <networkx.classes.digraph.DiGraph at 0x1042adac8>,\n",
       " <networkx.classes.digraph.DiGraph at 0x1042adb70>,\n",
       " <networkx.classes.digraph.DiGraph at 0x1042adbe0>,\n",
       " <networkx.classes.digraph.DiGraph at 0x1042adc18>,\n",
       " <networkx.classes.digraph.DiGraph at 0x1042add68>,\n",
       " <networkx.classes.digraph.DiGraph at 0x1042adcf8>,\n",
       " <networkx.classes.digraph.DiGraph at 0x1042add30>,\n",
       " <networkx.classes.digraph.DiGraph at 0x1042adcc0>,\n",
       " <networkx.classes.digraph.DiGraph at 0x1042ade10>,\n",
       " <networkx.classes.digraph.DiGraph at 0x1042addd8>,\n",
       " <networkx.classes.digraph.DiGraph at 0x1042ade48>,\n",
       " <networkx.classes.digraph.DiGraph at 0x1042adfd0>,\n",
       " <networkx.classes.digraph.DiGraph at 0x1042adef0>,\n",
       " <networkx.classes.digraph.DiGraph at 0x1042ade80>,\n",
       " <networkx.classes.digraph.DiGraph at 0x1042adeb8>,\n",
       " <networkx.classes.digraph.DiGraph at 0x1042adf28>,\n",
       " <networkx.classes.digraph.DiGraph at 0x1042adc88>,\n",
       " <networkx.classes.digraph.DiGraph at 0x1042adf60>,\n",
       " <networkx.classes.digraph.DiGraph at 0x1042adb38>,\n",
       " <networkx.classes.digraph.DiGraph at 0x1042adf98>,\n",
       " <networkx.classes.digraph.DiGraph at 0x1042ad908>,\n",
       " <networkx.classes.digraph.DiGraph at 0x1042ad8d0>,\n",
       " <networkx.classes.digraph.DiGraph at 0x1042ad208>,\n",
       " <networkx.classes.digraph.DiGraph at 0x1042ad1d0>,\n",
       " <networkx.classes.digraph.DiGraph at 0x1042adc50>,\n",
       " <networkx.classes.digraph.DiGraph at 0x1042ad940>,\n",
       " <networkx.classes.digraph.DiGraph at 0x1042ada58>,\n",
       " <networkx.classes.digraph.DiGraph at 0x1042ad9e8>,\n",
       " <networkx.classes.digraph.DiGraph at 0x1042ad978>,\n",
       " <networkx.classes.digraph.DiGraph at 0x1042ad9b0>,\n",
       " <networkx.classes.digraph.DiGraph at 0x1042ada20>,\n",
       " <networkx.classes.digraph.DiGraph at 0x1044650f0>,\n",
       " <networkx.classes.digraph.DiGraph at 0x1044650b8>,\n",
       " <networkx.classes.digraph.DiGraph at 0x104465128>,\n",
       " <networkx.classes.digraph.DiGraph at 0x104465160>,\n",
       " <networkx.classes.digraph.DiGraph at 0x1044651d0>,\n",
       " <networkx.classes.digraph.DiGraph at 0x104465208>,\n",
       " <networkx.classes.digraph.DiGraph at 0x104465240>,\n",
       " <networkx.classes.digraph.DiGraph at 0x1044652b0>,\n",
       " <networkx.classes.digraph.DiGraph at 0x104465278>,\n",
       " <networkx.classes.digraph.DiGraph at 0x104465198>,\n",
       " <networkx.classes.digraph.DiGraph at 0x104465320>,\n",
       " <networkx.classes.digraph.DiGraph at 0x104465358>,\n",
       " <networkx.classes.digraph.DiGraph at 0x1044652e8>,\n",
       " <networkx.classes.digraph.DiGraph at 0x104465390>,\n",
       " <networkx.classes.digraph.DiGraph at 0x1044653c8>,\n",
       " <networkx.classes.digraph.DiGraph at 0x104465400>,\n",
       " <networkx.classes.digraph.DiGraph at 0x104465438>,\n",
       " <networkx.classes.digraph.DiGraph at 0x104465470>,\n",
       " <networkx.classes.digraph.DiGraph at 0x1044654a8>,\n",
       " <networkx.classes.digraph.DiGraph at 0x1044654e0>,\n",
       " <networkx.classes.digraph.DiGraph at 0x104465550>,\n",
       " <networkx.classes.digraph.DiGraph at 0x104465518>,\n",
       " <networkx.classes.digraph.DiGraph at 0x1044655c0>,\n",
       " <networkx.classes.digraph.DiGraph at 0x104465588>,\n",
       " <networkx.classes.digraph.DiGraph at 0x1044655f8>,\n",
       " <networkx.classes.digraph.DiGraph at 0x104465630>,\n",
       " <networkx.classes.digraph.DiGraph at 0x104465668>,\n",
       " <networkx.classes.digraph.DiGraph at 0x1044656d8>,\n",
       " <networkx.classes.digraph.DiGraph at 0x1044656a0>,\n",
       " <networkx.classes.digraph.DiGraph at 0x104465710>,\n",
       " <networkx.classes.digraph.DiGraph at 0x104465748>,\n",
       " <networkx.classes.digraph.DiGraph at 0x104465780>,\n",
       " <networkx.classes.digraph.DiGraph at 0x1044657b8>,\n",
       " <networkx.classes.digraph.DiGraph at 0x1044657f0>,\n",
       " <networkx.classes.digraph.DiGraph at 0x104465828>,\n",
       " <networkx.classes.digraph.DiGraph at 0x104465898>,\n",
       " <networkx.classes.digraph.DiGraph at 0x104465860>,\n",
       " <networkx.classes.digraph.DiGraph at 0x1044658d0>,\n",
       " <networkx.classes.digraph.DiGraph at 0x104465908>,\n",
       " <networkx.classes.digraph.DiGraph at 0x104465978>,\n",
       " <networkx.classes.digraph.DiGraph at 0x104465940>,\n",
       " <networkx.classes.digraph.DiGraph at 0x1044659b0>,\n",
       " <networkx.classes.digraph.DiGraph at 0x1044659e8>,\n",
       " <networkx.classes.digraph.DiGraph at 0x104465a20>,\n",
       " <networkx.classes.digraph.DiGraph at 0x104465ac8>,\n",
       " <networkx.classes.digraph.DiGraph at 0x104465a90>,\n",
       " <networkx.classes.digraph.DiGraph at 0x104465a58>,\n",
       " <networkx.classes.digraph.DiGraph at 0x104465b00>,\n",
       " <networkx.classes.digraph.DiGraph at 0x104465b38>,\n",
       " <networkx.classes.digraph.DiGraph at 0x104465ba8>,\n",
       " <networkx.classes.digraph.DiGraph at 0x104465b70>,\n",
       " <networkx.classes.digraph.DiGraph at 0x104465c18>,\n",
       " <networkx.classes.digraph.DiGraph at 0x104465c50>,\n",
       " <networkx.classes.digraph.DiGraph at 0x104465c88>,\n",
       " <networkx.classes.digraph.DiGraph at 0x104465be0>,\n",
       " <networkx.classes.digraph.DiGraph at 0x104465cc0>,\n",
       " <networkx.classes.digraph.DiGraph at 0x104465d30>,\n",
       " <networkx.classes.digraph.DiGraph at 0x104465d68>,\n",
       " <networkx.classes.digraph.DiGraph at 0x102b58160>,\n",
       " <networkx.classes.digraph.DiGraph at 0x102b581d0>,\n",
       " <networkx.classes.digraph.DiGraph at 0x102b580f0>,\n",
       " <networkx.classes.digraph.DiGraph at 0x102b58208>,\n",
       " <networkx.classes.digraph.DiGraph at 0x102b58198>,\n",
       " <networkx.classes.digraph.DiGraph at 0x102b580b8>,\n",
       " <networkx.classes.digraph.DiGraph at 0x1045555f8>,\n",
       " <networkx.classes.digraph.DiGraph at 0x1045556a0>,\n",
       " <networkx.classes.digraph.DiGraph at 0x1045556d8>,\n",
       " <networkx.classes.digraph.DiGraph at 0x104555710>,\n",
       " <networkx.classes.digraph.DiGraph at 0x104555748>,\n",
       " <networkx.classes.digraph.DiGraph at 0x1045557b8>,\n",
       " <networkx.classes.digraph.DiGraph at 0x104555780>,\n",
       " <networkx.classes.digraph.DiGraph at 0x1045557f0>,\n",
       " <networkx.classes.digraph.DiGraph at 0x104555828>,\n",
       " <networkx.classes.digraph.DiGraph at 0x104555898>,\n",
       " <networkx.classes.digraph.DiGraph at 0x1045558d0>,\n",
       " <networkx.classes.digraph.DiGraph at 0x104555908>,\n",
       " <networkx.classes.digraph.DiGraph at 0x104555860>,\n",
       " <networkx.classes.digraph.DiGraph at 0x104555940>,\n",
       " <networkx.classes.digraph.DiGraph at 0x1045559b0>,\n",
       " <networkx.classes.digraph.DiGraph at 0x1045559e8>,\n",
       " <networkx.classes.digraph.DiGraph at 0x104555978>,\n",
       " <networkx.classes.digraph.DiGraph at 0x104555a20>,\n",
       " <networkx.classes.digraph.DiGraph at 0x104555a58>,\n",
       " <networkx.classes.digraph.DiGraph at 0x104555a90>,\n",
       " <networkx.classes.digraph.DiGraph at 0x104555ac8>,\n",
       " <networkx.classes.digraph.DiGraph at 0x104555b00>,\n",
       " <networkx.classes.digraph.DiGraph at 0x104555b38>,\n",
       " <networkx.classes.digraph.DiGraph at 0x104555b70>,\n",
       " <networkx.classes.digraph.DiGraph at 0x104555ba8>,\n",
       " <networkx.classes.digraph.DiGraph at 0x104555be0>,\n",
       " <networkx.classes.digraph.DiGraph at 0x104555c50>,\n",
       " <networkx.classes.digraph.DiGraph at 0x104555c18>,\n",
       " <networkx.classes.digraph.DiGraph at 0x104555cc0>,\n",
       " <networkx.classes.digraph.DiGraph at 0x104555c88>,\n",
       " <networkx.classes.digraph.DiGraph at 0x104555cf8>,\n",
       " <networkx.classes.digraph.DiGraph at 0x104555d30>,\n",
       " <networkx.classes.digraph.DiGraph at 0x104555d68>,\n",
       " <networkx.classes.digraph.DiGraph at 0x104555da0>,\n",
       " <networkx.classes.digraph.DiGraph at 0x104555dd8>,\n",
       " <networkx.classes.digraph.DiGraph at 0x104555e10>,\n",
       " <networkx.classes.digraph.DiGraph at 0x104555e48>,\n",
       " <networkx.classes.digraph.DiGraph at 0x104555e80>,\n",
       " <networkx.classes.digraph.DiGraph at 0x104555eb8>,\n",
       " <networkx.classes.digraph.DiGraph at 0x104555ef0>,\n",
       " <networkx.classes.digraph.DiGraph at 0x104555f60>,\n",
       " <networkx.classes.digraph.DiGraph at 0x104555f28>,\n",
       " <networkx.classes.digraph.DiGraph at 0x104555f98>,\n",
       " <networkx.classes.digraph.DiGraph at 0x104555fd0>,\n",
       " <networkx.classes.digraph.DiGraph at 0x1045a1048>,\n",
       " <networkx.classes.digraph.DiGraph at 0x1045a1080>,\n",
       " <networkx.classes.digraph.DiGraph at 0x1045a10b8>,\n",
       " <networkx.classes.digraph.DiGraph at 0x1045a10f0>,\n",
       " <networkx.classes.digraph.DiGraph at 0x1045a1160>,\n",
       " <networkx.classes.digraph.DiGraph at 0x1045a1128>,\n",
       " <networkx.classes.digraph.DiGraph at 0x1045a1198>,\n",
       " <networkx.classes.digraph.DiGraph at 0x1045a11d0>,\n",
       " <networkx.classes.digraph.DiGraph at 0x1045a1208>,\n",
       " <networkx.classes.digraph.DiGraph at 0x1045a1240>,\n",
       " <networkx.classes.digraph.DiGraph at 0x1045a1278>,\n",
       " <networkx.classes.digraph.DiGraph at 0x1045a12b0>,\n",
       " <networkx.classes.digraph.DiGraph at 0x1045a12e8>,\n",
       " <networkx.classes.digraph.DiGraph at 0x1045a1320>,\n",
       " <networkx.classes.digraph.DiGraph at 0x1045a1358>,\n",
       " <networkx.classes.digraph.DiGraph at 0x1045a1390>,\n",
       " <networkx.classes.digraph.DiGraph at 0x1045a13c8>,\n",
       " <networkx.classes.digraph.DiGraph at 0x1045a1400>,\n",
       " <networkx.classes.digraph.DiGraph at 0x1045a1438>,\n",
       " <networkx.classes.digraph.DiGraph at 0x1045a1470>,\n",
       " <networkx.classes.digraph.DiGraph at 0x1045a14a8>,\n",
       " <networkx.classes.digraph.DiGraph at 0x1045a14e0>,\n",
       " <networkx.classes.digraph.DiGraph at 0x1045a1518>,\n",
       " <networkx.classes.digraph.DiGraph at 0x1045a1550>,\n",
       " <networkx.classes.digraph.DiGraph at 0x1045a1588>,\n",
       " <networkx.classes.digraph.DiGraph at 0x1045a15c0>,\n",
       " <networkx.classes.digraph.DiGraph at 0x1045a1630>,\n",
       " <networkx.classes.digraph.DiGraph at 0x1045a15f8>,\n",
       " <networkx.classes.digraph.DiGraph at 0x1045a1668>,\n",
       " <networkx.classes.digraph.DiGraph at 0x1045a16d8>,\n",
       " <networkx.classes.digraph.DiGraph at 0x1045a16a0>,\n",
       " <networkx.classes.digraph.DiGraph at 0x1045a1710>,\n",
       " <networkx.classes.digraph.DiGraph at 0x1045a1780>,\n",
       " <networkx.classes.digraph.DiGraph at 0x1045a1748>,\n",
       " <networkx.classes.digraph.DiGraph at 0x1045a17b8>,\n",
       " <networkx.classes.digraph.DiGraph at 0x1045a17f0>,\n",
       " <networkx.classes.digraph.DiGraph at 0x1045a1828>,\n",
       " <networkx.classes.digraph.DiGraph at 0x1045a1898>,\n",
       " <networkx.classes.digraph.DiGraph at 0x1045a1860>,\n",
       " <networkx.classes.digraph.DiGraph at 0x1045a18d0>,\n",
       " <networkx.classes.digraph.DiGraph at 0x1045a1908>,\n",
       " <networkx.classes.digraph.DiGraph at 0x1045a1940>,\n",
       " <networkx.classes.digraph.DiGraph at 0x1045a1978>,\n",
       " <networkx.classes.digraph.DiGraph at 0x1045a19b0>,\n",
       " <networkx.classes.digraph.DiGraph at 0x1045a19e8>,\n",
       " <networkx.classes.digraph.DiGraph at 0x1045a1a58>,\n",
       " <networkx.classes.digraph.DiGraph at 0x1045a1a20>,\n",
       " <networkx.classes.digraph.DiGraph at 0x1045a1ac8>,\n",
       " <networkx.classes.digraph.DiGraph at 0x1045a1a90>,\n",
       " <networkx.classes.digraph.DiGraph at 0x1045a1b00>,\n",
       " <networkx.classes.digraph.DiGraph at 0x1045a1b38>,\n",
       " <networkx.classes.digraph.DiGraph at 0x1045a1ba8>,\n",
       " <networkx.classes.digraph.DiGraph at 0x1045a1be0>,\n",
       " <networkx.classes.digraph.DiGraph at 0x1045a1c18>,\n",
       " <networkx.classes.digraph.DiGraph at 0x1045a1c50>,\n",
       " <networkx.classes.digraph.DiGraph at 0x1045a1c88>,\n",
       " <networkx.classes.digraph.DiGraph at 0x1045a1b70>,\n",
       " <networkx.classes.digraph.DiGraph at 0x1045a1cf8>,\n",
       " <networkx.classes.digraph.DiGraph at 0x1045a1d30>,\n",
       " <networkx.classes.digraph.DiGraph at 0x1045a1cc0>,\n",
       " <networkx.classes.digraph.DiGraph at 0x1045a1d68>,\n",
       " <networkx.classes.digraph.DiGraph at 0x1045a1da0>,\n",
       " <networkx.classes.digraph.DiGraph at 0x1045a1dd8>,\n",
       " <networkx.classes.digraph.DiGraph at 0x1045a1e10>,\n",
       " <networkx.classes.digraph.DiGraph at 0x1045a1e48>,\n",
       " <networkx.classes.digraph.DiGraph at 0x1045a1e80>,\n",
       " <networkx.classes.digraph.DiGraph at 0x1045a1eb8>,\n",
       " <networkx.classes.digraph.DiGraph at 0x1045a1f28>,\n",
       " <networkx.classes.digraph.DiGraph at 0x1045a1ef0>,\n",
       " <networkx.classes.digraph.DiGraph at 0x1045a1f98>,\n",
       " <networkx.classes.digraph.DiGraph at 0x1045a1f60>,\n",
       " <networkx.classes.digraph.DiGraph at 0x1045a1fd0>,\n",
       " <networkx.classes.digraph.DiGraph at 0x104453048>,\n",
       " <networkx.classes.digraph.DiGraph at 0x104453080>,\n",
       " <networkx.classes.digraph.DiGraph at 0x1044530f0>,\n",
       " <networkx.classes.digraph.DiGraph at 0x1044530b8>,\n",
       " <networkx.classes.digraph.DiGraph at 0x104453128>,\n",
       " <networkx.classes.digraph.DiGraph at 0x104453160>,\n",
       " <networkx.classes.digraph.DiGraph at 0x104453198>,\n",
       " <networkx.classes.digraph.DiGraph at 0x1044531d0>,\n",
       " <networkx.classes.digraph.DiGraph at 0x104453208>,\n",
       " <networkx.classes.digraph.DiGraph at 0x104453240>,\n",
       " <networkx.classes.digraph.DiGraph at 0x1044532b0>,\n",
       " <networkx.classes.digraph.DiGraph at 0x104453278>,\n",
       " <networkx.classes.digraph.DiGraph at 0x1044532e8>,\n",
       " <networkx.classes.digraph.DiGraph at 0x104453320>,\n",
       " <networkx.classes.digraph.DiGraph at 0x104453358>,\n",
       " <networkx.classes.digraph.DiGraph at 0x104453390>,\n",
       " <networkx.classes.digraph.DiGraph at 0x1044533c8>,\n",
       " <networkx.classes.digraph.DiGraph at 0x104453400>,\n",
       " <networkx.classes.digraph.DiGraph at 0x104453438>,\n",
       " <networkx.classes.digraph.DiGraph at 0x1044534a8>,\n",
       " <networkx.classes.digraph.DiGraph at 0x1044534e0>,\n",
       " <networkx.classes.digraph.DiGraph at 0x104453470>,\n",
       " <networkx.classes.digraph.DiGraph at 0x104453550>,\n",
       " <networkx.classes.digraph.DiGraph at 0x104453518>,\n",
       " <networkx.classes.digraph.DiGraph at 0x1044535c0>,\n",
       " <networkx.classes.digraph.DiGraph at 0x104453588>,\n",
       " <networkx.classes.digraph.DiGraph at 0x104453630>,\n",
       " <networkx.classes.digraph.DiGraph at 0x104453668>,\n",
       " <networkx.classes.digraph.DiGraph at 0x1044535f8>,\n",
       " <networkx.classes.digraph.DiGraph at 0x1044536a0>,\n",
       " <networkx.classes.digraph.DiGraph at 0x1044536d8>,\n",
       " <networkx.classes.digraph.DiGraph at 0x104453748>,\n",
       " <networkx.classes.digraph.DiGraph at 0x104453780>]"
      ]
     },
     "execution_count": 6,
     "metadata": {},
     "output_type": "execute_result"
    }
   ],
   "source": [
    "working_graph_iter = generate_graphs(**generator_dictionary)\n",
    "\n",
    "working_graphs = list(working_graph_iter)\n",
    "working_graphs"
   ]
  },
  {
   "cell_type": "code",
   "execution_count": 5,
   "metadata": {
    "collapsed": false
   },
   "outputs": [],
   "source": [
    "working_graph_index = 250\n",
    "test_here = GraphStructure.from_networkx(working_graphs[working_graph_index])"
   ]
  },
  {
   "cell_type": "code",
   "execution_count": 153,
   "metadata": {
    "collapsed": false
   },
   "outputs": [
    {
     "data": {
      "text/plain": [
       "<networkx.classes.digraph.DiGraph at 0x10e27f860>"
      ]
     },
     "execution_count": 153,
     "metadata": {},
     "output_type": "execute_result"
    }
   ],
   "source": [
    "working_graphs[working_graph_index]\n"
   ]
  },
  {
   "cell_type": "code",
   "execution_count": 11,
   "metadata": {
    "collapsed": false
   },
   "outputs": [
    {
     "name": "stdout",
     "output_type": "stream",
     "text": [
      "\n",
      "\n"
     ]
    }
   ],
   "source": [
    "working_graph_index = 0\n",
    "# test_me.clear()\n",
    "test_me=working_graphs[working_graph_index].copy()\n",
    "# local_graph_edge_types(test_me)\n",
    "\n",
    "\n",
    "test = [Node_Name_Rule(**rule) for rule in node_semantics.values()]\n",
    "for t in test:\n",
    "    t.apply_rule(test_me)\n",
    "\n",
    "test = [Edge_Semantics_Rule(**rule) for rule in edge_semantics.values()]\n",
    "for t in test:\n",
    "    t.apply_rule(test_me)\n",
    "\n",
    "# print(test_me.nodes(data=True))\n",
    "# for edge in test_me.edges(data=True):\n",
    "#     print(edge)\n",
    "\n",
    "print('\\n')\n",
    "sub_edges = [x for x in test_me.edges(data=True) if x[2]['edge_type'] in [\"hidden_sample\"]]\n",
    "G_test = subgraph_from_edges(test_me,sub_edges,ref_back=False)\n",
    "# for edge in G_test.edges(data=True):\n",
    "#     print(edge)\n",
    "test_here = GraphStructure.from_networkx(G_test)\n"
   ]
  },
  {
   "cell_type": "code",
   "execution_count": 11,
   "metadata": {
    "collapsed": false
   },
   "outputs": [
    {
     "name": "stdout",
     "output_type": "stream",
     "text": [
      "\n",
      "\n"
     ]
    }
   ],
   "source": [
    "working_graph_index = 0\n",
    "# test_me.clear()\n",
    "test_me=working_graphs[working_graph_index].copy()\n",
    "# local_graph_edge_types(test_me)\n",
    "\n",
    "Node_Name_Rule.graph_semantics_apply(test_me,node_semantics)\n",
    "\n",
    "Edge_Semantics_Rule.graph_semantics_apply(test_me,node_semantics)\n",
    "\n",
    "# print(test_me.nodes(data=True))\n",
    "# for edge in test_me.edges(data=True):\n",
    "#     print(edge)\n",
    "\n",
    "print('\\n')\n",
    "sub_edges = [x for x in test_me.edges(data=True) if x[2]['edge_type'] in [\"hidden_sample\"]]\n",
    "G_test = subgraph_from_edges(test_me,sub_edges,ref_back=False)\n",
    "# for edge in G_test.edges(data=True):\n",
    "#     print(edge)\n",
    "test_here = GraphStructure.from_networkx(G_test)\n"
   ]
  },
  {
   "cell_type": "code",
   "execution_count": 13,
   "metadata": {
    "collapsed": false
   },
   "outputs": [
    {
     "data": {
      "text/plain": [
       "[1, 2, 3, 4]"
      ]
     },
     "execution_count": 13,
     "metadata": {},
     "output_type": "execute_result"
    }
   ],
   "source": [
    "list(range(1,5))"
   ]
  },
  {
   "cell_type": "code",
   "execution_count": 51,
   "metadata": {
    "collapsed": false
   },
   "outputs": [
    {
     "name": "stdout",
     "output_type": "stream",
     "text": [
      "[('A_int', 'A_out', {'edge_type': 'deterministic_intervention'}), ('A_int', 'A_★', {'edge_type': 'deterministic_intervention'})]\n",
      "2\n",
      "{}\n"
     ]
    }
   ],
   "source": [
    "blah = nx.DiGraph()\n",
    "print(sorted(test_me.edges(data=True))[0:2])\n",
    "print(len(sorted(test_me.edges(data=True))[0:2]))\n",
    "blah.add_edges_from(test_me.edges(data=True))\n",
    "print(nx.get_node_attributes(blah,\"data_type\"))"
   ]
  },
  {
   "cell_type": "code",
   "execution_count": 122,
   "metadata": {
    "collapsed": false
   },
   "outputs": [
    {
     "name": "stdout",
     "output_type": "stream",
     "text": [
      "D_★ B_★\n"
     ]
    }
   ],
   "source": [
    "sub_edges = [x for x in test_me.edges(data=True) if x[2]['edge_type'] in [\"hidden_sample\",\"to_observation\"]]\n",
    "sub_nodes = list({y for x in sub_edges for y in x[0:2]})\n",
    "sub_edges.pop(0)\n",
    "sub_edges = [x[0:2] for x in sub_edges]\n",
    "G_sub = test_me.subgraph(sub_nodes)\n",
    "for edge in G_sub.edges(data=False):\n",
    "    if edge not in sub_edges:\n",
    "#         G_sub.remove_edge(*edge[0:2])\n",
    "        print(*edge[0:2])"
   ]
  },
  {
   "cell_type": "code",
   "execution_count": 123,
   "metadata": {
    "collapsed": false
   },
   "outputs": [
    {
     "name": "stdout",
     "output_type": "stream",
     "text": [
      "D_★ B_★\n"
     ]
    }
   ],
   "source": [
    "sub_edges = [x[0:2] for x in test_me.edges(data=True) if x[2]['edge_type'] in [\"hidden_sample\",\"to_observation\"]]\n",
    "sub_nodes = list({y for x in sub_edges for y in x[0:2]})\n",
    "sub_edges.pop(0)\n",
    "sub_edges = [x[0:2] for x in sub_edges]\n",
    "G_sub = test_me.subgraph(sub_nodes)\n",
    "for edge in G_sub.edges(data=False):\n",
    "    if edge not in sub_edges:\n",
    "#         G_sub.remove_edge(*edge[0:2])\n",
    "        print(*edge[0:2])"
   ]
  },
  {
   "cell_type": "code",
   "execution_count": 157,
   "metadata": {
    "collapsed": false
   },
   "outputs": [
    {
     "name": "stdout",
     "output_type": "stream",
     "text": [
      "[('B_★', 'B_obs', {'edge_type': 'to_observation'}), ('B_★', 'D_★', {'edge_type': 'hidden_sample'}), ('D_★', 'B_★', {'edge_type': 'hidden_sample'}), ('D_★', 'D_obs', {'edge_type': 'to_observation'}), ('A_★', 'A_obs', {'edge_type': 'to_observation'}), ('A_★', 'D_★', {'edge_type': 'hidden_sample'}), ('A_★', 'C_★', {'edge_type': 'hidden_sample'}), ('C_★', 'C_obs', {'edge_type': 'to_observation'})]\n",
      "[('B_★', 'B_obs', {'edge_type': 'to_observation'}), ('B_★', 'D_★', {'edge_type': 'hidden_sample'}), ('D_★', 'B_★', {'edge_type': 'hidden_sample'}), ('D_★', 'D_obs', {'edge_type': 'to_observation'}), ('A_★', 'A_obs', {'blah': 'blah', 'edge_type': 'to_observation'}), ('A_★', 'D_★', {'edge_type': 'hidden_sample'}), ('A_★', 'C_★', {'edge_type': 'hidden_sample'}), ('C_★', 'C_obs', {'edge_type': 'to_observation'})]\n"
     ]
    }
   ],
   "source": [
    "sub_edges = [x for x in test_me.edges(data=True) if x[2]['edge_type'] in [\"hidden_sample\",\"to_observation\"]]\n",
    "G_test = subgraph_from_edges(test_me,sub_edges)\n",
    "print(G_test.edges(data=True))\n",
    "test_me.edge['A_★']['A_obs']['blah'] = \"blah\"\n",
    "print(G_test.edges(data=True))"
   ]
  },
  {
   "cell_type": "code",
   "execution_count": 162,
   "metadata": {
    "collapsed": false
   },
   "outputs": [
    {
     "name": "stdout",
     "output_type": "stream",
     "text": [
      "[('C_★', 'C_obs', {'edge_type': 'to_observation'}), ('D_★', 'B_★', {'edge_type': 'hidden_sample'}), ('D_★', 'D_obs', {'edge_type': 'to_observation'}), ('A_★', 'C_★', {'edge_type': 'hidden_sample'}), ('A_★', 'D_★', {'edge_type': 'hidden_sample'}), ('A_★', 'A_obs', {'blah': 'blah2', 'edge_type': 'to_observation'}), ('B_★', 'D_★', {'edge_type': 'hidden_sample'}), ('B_★', 'B_obs', {'edge_type': 'to_observation'})]\n",
      "[('C_★', 'C_obs', {'edge_type': 'to_observation'}), ('D_★', 'B_★', {'edge_type': 'hidden_sample'}), ('D_★', 'D_obs', {'edge_type': 'to_observation'}), ('A_★', 'C_★', {'edge_type': 'hidden_sample'}), ('A_★', 'D_★', {'edge_type': 'hidden_sample'}), ('A_★', 'A_obs', {'blah': 'blah2', 'edge_type': 'to_observation'}), ('B_★', 'D_★', {'edge_type': 'hidden_sample'}), ('B_★', 'B_obs', {'edge_type': 'to_observation'})]\n"
     ]
    }
   ],
   "source": [
    "sub_edges = [x for x in test_me.edges(data=True) if x[2]['edge_type'] in [\"hidden_sample\"]]\n",
    "G_test = subgraph_from_edges(test_me,sub_edges,ref_back=False)\n",
    "print(G_test.edges(data=True))\n",
    "test_me.edge['A_★']['A_obs']['blah'] = \"blah2\"\n",
    "print(G_test.edges(data=True))"
   ]
  },
  {
   "cell_type": "code",
   "execution_count": 114,
   "metadata": {
    "collapsed": false
   },
   "outputs": [
    {
     "name": "stdout",
     "output_type": "stream",
     "text": [
      "B_★ D_★\n",
      "B_★ B_obs\n",
      "D_★ B_★\n",
      "D_★ D_obs\n",
      "A_★ C_★\n",
      "A_★ D_★\n",
      "A_★ A_obs\n",
      "C_★ C_obs\n"
     ]
    }
   ],
   "source": [
    "for edge in G_sub.edges(data=True):\n",
    "    if edge not in sub_edges:\n",
    "#         G_sub.remove_edge(*edge[0:2])\n",
    "        print(*edge[0:2])"
   ]
  },
  {
   "cell_type": "code",
   "execution_count": 112,
   "metadata": {
    "collapsed": false
   },
   "outputs": [
    {
     "data": {
      "text/plain": [
       "[('D_★', 'B_★'),\n",
       " ('D_★', 'D_obs'),\n",
       " ('A_★', 'D_★'),\n",
       " ('A_★', 'A_obs'),\n",
       " ('A_★', 'C_★'),\n",
       " ('B_★', 'B_obs'),\n",
       " ('B_★', 'D_★'),\n",
       " ('C_★', 'C_obs')]"
      ]
     },
     "execution_count": 112,
     "metadata": {},
     "output_type": "execute_result"
    }
   ],
   "source": [
    "sub_edges"
   ]
  },
  {
   "cell_type": "code",
   "execution_count": 113,
   "metadata": {
    "collapsed": false
   },
   "outputs": [
    {
     "name": "stdout",
     "output_type": "stream",
     "text": [
      "[('D_★', 'D_obs'), ('A_★', 'D_★'), ('A_★', 'A_obs'), ('A_★', 'C_★'), ('B_★', 'B_obs'), ('B_★', 'D_★'), ('C_★', 'C_obs')]\n"
     ]
    }
   ],
   "source": [
    "sub_nodes = list({y for x in sub_edges for y in x[0:2]})\n",
    "sub_edges.pop(0)\n",
    "print(sub_edges)\n",
    "G_sub = test_me.subgraph(sub_nodes)"
   ]
  },
  {
   "cell_type": "code",
   "execution_count": 161,
   "metadata": {
    "collapsed": false
   },
   "outputs": [],
   "source": [
    "def subgraph_from_edges(G,edge_list,ref_back=True):\n",
    "    \"\"\"\n",
    "    Creates a networkx graph that is a subgraph of G\n",
    "    defined by the list of edges in edge_list.\n",
    "\n",
    "    Requires G to be a networkx Graph or DiGraph\n",
    "    edge_list is a list of edges in either (u,v) or (u,v,d) form\n",
    "    where u and v are nodes comprising an edge, \n",
    "    and d would be a dictionary of edge attributes\n",
    "\n",
    "    ref_back determines whether the created subgraph refers to back\n",
    "    to the original graph and therefore changes to the subgraph's \n",
    "    attributes also affect the original graph, or if it is to create a\n",
    "    new copy of the original graph. \n",
    "    \"\"\"\n",
    "    \n",
    "    sub_nodes = list({y for x in sub_edges for y in x[0:2]})\n",
    "    edge_list_no_data = [edge[0:2] for edge in edge_list]\n",
    "    \n",
    "    if ref_back:\n",
    "        G_sub = G.subgraph(sub_nodes)\n",
    "        for edge in G_sub.edges():\n",
    "            if edge not in edge_list_no_data:\n",
    "                G_sub.remove_edge(*edge)\n",
    "    else:\n",
    "        G_sub = G.subgraph(sub_nodes).copy()\n",
    "        for edge in G_sub.edges():\n",
    "            if edge not in edge_list_no_data:\n",
    "                G_sub.remove_edge(*edge)\n",
    "                \n",
    "    return G_sub"
   ]
  },
  {
   "cell_type": "code",
   "execution_count": 22,
   "metadata": {
    "collapsed": false
   },
   "outputs": [
    {
     "data": {
      "text/plain": [
       "[4.1819448098726477,\n",
       " 48.954238103264487,\n",
       " 0.11344504641206675,\n",
       " 5.0979337074711406,\n",
       " 97.476232211629721,\n",
       " 0.63781144972496362,\n",
       " 3.6595265728086894,\n",
       " 2.6138498724353911,\n",
       " 0.53460621794354402,\n",
       " 86.007564047884117]"
      ]
     },
     "execution_count": 22,
     "metadata": {},
     "output_type": "execute_result"
    }
   ],
   "source": [
    "lower_bound = np.log(1/10)\n",
    "upper_bound = np.log(100)\n",
    "sample_size = 10\n",
    "\n",
    "list(np.exp(np.random.uniform(lower_bound,upper_bound, sample_size)))"
   ]
  },
  {
   "cell_type": "code",
   "execution_count": 4,
   "metadata": {
    "collapsed": false
   },
   "outputs": [
    {
     "data": {
      "text/plain": [
       "{'lambda0': 1.0,\n",
       " 'mu': array([ 3.82001574,  4.04440094,  0.86065167,  1.04792785,  0.75265984,\n",
       "         0.40766355,  0.12328736,  2.8922141 ,  0.0065804 ,  0.32915792]),\n",
       " 'n': 10,\n",
       " 'p': 0.8,\n",
       " 'psi': array([ 1.99483499,  5.27743021,  0.69622677,  0.61497876,  2.3412383 ,\n",
       "         0.64726211,  0.08078222,  0.75777148,  0.01917067,  0.04662125]),\n",
       " 'r': array([ 0.52220596,  1.30487315,  0.80895303,  0.5868522 ,  3.11061942,\n",
       "         1.58773605,  0.65523524,  0.26200394,  2.91329992,  0.14163795])}"
      ]
     },
     "execution_count": 4,
     "metadata": {},
     "output_type": "execute_result"
    }
   ],
   "source": [
    "gp = GraphParams(len(test_here.edges))\n",
    "gp.sample()"
   ]
  },
  {
   "cell_type": "code",
   "execution_count": 17,
   "metadata": {
    "collapsed": false
   },
   "outputs": [
    {
     "data": {
      "text/plain": [
       "[('A_int', 'A_out'),\n",
       " ('A_int', 'A_★'),\n",
       " ('A_★', 'A_out'),\n",
       " ('A_★', 'C_★'),\n",
       " ('A_★', 'D_★'),\n",
       " ('B_★', 'B_out'),\n",
       " ('B_★', 'D_★'),\n",
       " ('C_★', 'C_out'),\n",
       " ('D_★', 'B_★'),\n",
       " ('D_★', 'D_out')]"
      ]
     },
     "execution_count": 17,
     "metadata": {},
     "output_type": "execute_result"
    }
   ],
   "source": [
    "test_here.edges"
   ]
  },
  {
   "cell_type": "code",
   "execution_count": 13,
   "metadata": {
    "collapsed": false
   },
   "outputs": [
    {
     "data": {
      "text/plain": [
       "[('A_★', 'A_out', {'edge_type': 'observed'}),\n",
       " ('A_★', 'D_★', {'edge_type': 'hidden'}),\n",
       " ('A_★', 'C_★', {'edge_type': 'hidden'}),\n",
       " ('B_★', 'B_out', {'edge_type': 'observed'}),\n",
       " ('B_★', 'D_★', {'edge_type': 'hidden'}),\n",
       " ('A_int', 'A_out', {'edge_type': 'deterministic_intervention'}),\n",
       " ('A_int', 'A_★', {'edge_type': 'deterministic_intervention'}),\n",
       " ('D_★', 'B_★', {'edge_type': 'hidden'}),\n",
       " ('D_★', 'D_out', {'edge_type': 'observed'}),\n",
       " ('C_★', 'C_out', {'edge_type': 'observed'})]"
      ]
     },
     "execution_count": 13,
     "metadata": {},
     "output_type": "execute_result"
    }
   ],
   "source": [
    "test_me.edges(data=True)"
   ]
  },
  {
   "cell_type": "code",
   "execution_count": 18,
   "metadata": {
    "collapsed": false
   },
   "outputs": [
    {
     "data": {
      "text/plain": [
       "{('A_int', 'A_out'): 0.013888888888888888,\n",
       " ('A_int', 'A_★'): 0.09722222222222221,\n",
       " ('A_★', 'A_out'): 0.013888888888888888,\n",
       " ('A_★', 'C_★'): 0.05555555555555555,\n",
       " ('A_★', 'D_★'): 0.1111111111111111,\n",
       " ('B_★', 'B_out'): 0.05555555555555555,\n",
       " ('B_★', 'D_★'): 0.027777777777777776,\n",
       " ('C_★', 'C_out'): 0.041666666666666664,\n",
       " ('D_★', 'B_★'): 0.08333333333333333,\n",
       " ('D_★', 'D_out'): 0.05555555555555555}"
      ]
     },
     "execution_count": 18,
     "metadata": {},
     "output_type": "execute_result"
    }
   ],
   "source": []
  },
  {
   "cell_type": "code",
   "execution_count": 11,
   "metadata": {
    "collapsed": false
   },
   "outputs": [
    {
     "data": {
      "text/plain": [
       "['A_int', 'A_out', 'A_★', 'B_out', 'B_★', 'C_out', 'C_★', 'D_out', 'D_★']"
      ]
     },
     "execution_count": 11,
     "metadata": {},
     "output_type": "execute_result"
    }
   ],
   "source": []
  },
  {
   "cell_type": "code",
   "execution_count": null,
   "metadata": {
    "collapsed": true
   },
   "outputs": [],
   "source": []
  }
 ],
 "metadata": {
  "kernelspec": {
   "display_name": "Python 3",
   "language": "python",
   "name": "python3"
  },
  "language_info": {
   "codemirror_mode": {
    "name": "ipython",
    "version": 3
   },
   "file_extension": ".py",
   "mimetype": "text/x-python",
   "name": "python",
   "nbconvert_exporter": "python",
   "pygments_lexer": "ipython3",
   "version": "3.5.0"
  }
 },
 "nbformat": 4,
 "nbformat_minor": 0
}
