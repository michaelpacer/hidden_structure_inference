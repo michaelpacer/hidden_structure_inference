{
 "cells": [
  {
   "cell_type": "code",
   "execution_count": 1,
   "metadata": {
    "collapsed": false
   },
   "outputs": [],
   "source": [
    "%load_ext autoreload\n",
    "%autoreload 3"
   ]
  },
  {
   "cell_type": "code",
   "execution_count": 2,
   "metadata": {
    "collapsed": false
   },
   "outputs": [],
   "source": [
    "import numpy as np\n",
    "import networkx as nx\n",
    "from graph_enumerator import *\n",
    "from graph_local_classes import *\n",
    "from node_semantics import Node_Name_Rule, Edge_Semantics_Rule"
   ]
  },
  {
   "cell_type": "code",
   "execution_count": 3,
   "metadata": {
    "collapsed": false
   },
   "outputs": [],
   "source": [
    "generator_dictionary ={ \"nodes\" : [\"A_int\",\"A_obs\",\"A_★\",\"B_obs\",\"B_★\",\"C_obs\",\"C_★\",\"D_obs\",\"D_★\"],\n",
    "    \"query_edge_set\" : [\n",
    "        (\"A_★\",'B_★'),\n",
    "        (\"A_★\",'C_★'),\n",
    "        (\"A_★\",'D_★'),\n",
    "        (\"B_★\",'C_★'),\n",
    "        (\"B_★\",'D_★'),\n",
    "        (\"C_★\",'B_★'),\n",
    "        (\"C_★\",'D_★'),\n",
    "        (\"D_★\",'B_★'),\n",
    "        (\"D_★\",'C_★')\n",
    "    ],\n",
    "    \"filters\": {\n",
    "        \"explicit_child_parentage\"  : [[\n",
    "            (\"A_int\",[]),\n",
    "            (\"A_★\",[\"A_int\"]),\n",
    "            ('A_obs',['A_int','A_★']),\n",
    "            ('B_obs',['B_★']),\n",
    "            ('C_obs',[\"C_★\"]),\n",
    "            ('D_obs',[\"D_★\"])\n",
    "        ]],\n",
    "        \"explicit_parent_offspring\" : [[\n",
    "            ('A_int',['A_obs','A_★']),\n",
    "            (\"A_obs\",[]),\n",
    "            (\"B_obs\",[]),\n",
    "            (\"C_obs\",[]),\n",
    "            (\"D_obs\",[])\n",
    "        ]],\n",
    "        \"extract_remove_self_loops\": []\n",
    "    },\n",
    "    \"conditions\": {\n",
    "        \"create_path_complete_condition\" : [[(\"A_int\",\"B_★\"),(\"A_int\",\"C_★\"),(\"A_int\",\"D_★\")]],\n",
    "    }\n",
    "}\n",
    "\n",
    "\n",
    "\n",
    "node_semantics={\n",
    "        # \".*_int\" → intervener\n",
    "        \"intervener\": {\n",
    "            \"node_type\":\"intervener\",\n",
    "            \"where\":\"suffix\",\n",
    "            \"infix\":\"_\",\n",
    "            \"code\":\"int\"},\n",
    "        # \".*_obs\" → observed\n",
    "        \"observed\": {\n",
    "            \"node_type\":\"observed\",\n",
    "            \"where\":\"suffix\",\n",
    "            \"infix\":\"_\",\n",
    "            \"code\":\"obs\"},\n",
    "        # \".*_★\" → hidden\n",
    "        \"hidden\": {\n",
    "            \"node_type\":\"hidden\",\n",
    "            \"where\":\"suffix\",\n",
    "            \"infix\":\"_\",\n",
    "            \"code\":\"★\"}\n",
    "}\n",
    "\n",
    "edge_semantics={\n",
    "    \"hidden_sample\":{\n",
    "        \"source_types\":[\"hidden\"],\n",
    "        \"target_types\":[\"hidden\"],\n",
    "        \"edge_type\": \"hidden_sample\"\n",
    "    },\n",
    "    \"observed\":{\n",
    "        \"source_types\":[\"hidden\"],\n",
    "        \"target_types\":[\"observed\"],\n",
    "        \"edge_type\": \"observed\"\n",
    "    },\n",
    "    \"intervention\":{\n",
    "        \"source_types\":[\"intervener\"],\n",
    "        \"target_types\":None,\n",
    "        \"edge_type\": \"intervention\"\n",
    "    }\n",
    "}\n",
    "# todo(maybe): rework filters and conditions to take node types and edge types as arguments"
   ]
  },
  {
   "cell_type": "code",
   "execution_count": 4,
   "metadata": {
    "collapsed": false
   },
   "outputs": [
    {
     "name": "stdout",
     "output_type": "stream",
     "text": [
      "<function create_path_complete_condition.<locals>.path_complete_condition at 0x10a626510>\n"
     ]
    }
   ],
   "source": [
    "working_graph_iter = generate_graphs(**generator_dictionary)\n",
    "working_graphs = list(working_graph_iter)"
   ]
  },
  {
   "cell_type": "code",
   "execution_count": 47,
   "metadata": {
    "collapsed": false
   },
   "outputs": [],
   "source": [
    "working_graph_index = 0\n",
    "test_me=working_graphs[working_graph_index].copy()\n",
    "\n",
    "Node_Name_Rule.graph_semantics_apply(test_me,node_semantics)\n",
    "Edge_Semantics_Rule.graph_semantics_apply(test_me,edge_semantics)\n",
    "\n",
    "hidden_edges = [x for x in test_me.edges(data=True) if x[2]['edge_type'] in [\"hidden_sample\"]]\n",
    "observed_edges = [x for x in test_me.edges(data=True) if x[2]['edge_type'] in [\"observed\"]]\n",
    "G_inner_test = subgraph_from_edges(test_me,hidden_edges,ref_back=False)\n",
    "G_outer_test = subgraph_from_edges(test_me,observed_edges,ref_back=False)\n"
   ]
  },
  {
   "cell_type": "code",
   "execution_count": 48,
   "metadata": {
    "collapsed": false
   },
   "outputs": [
    {
     "data": {
      "text/plain": [
       "{'lambda0': [0.25090008233766564],\n",
       " 'mu': array([ 0.77587232,  1.54701107,  5.36924626,  1.92062912]),\n",
       " 'n': 4,\n",
       " 'names': [('A_★', 'A_obs'),\n",
       "  ('B_★', 'B_obs'),\n",
       "  ('C_★', 'C_obs'),\n",
       "  ('D_★', 'D_obs')],\n",
       " 'p': 0.8,\n",
       " 'psi': array([ 0.49320822,  0.01268745,  0.32921153,  0.71753913]),\n",
       " 'psi_shape': 1.0,\n",
       " 'r': array([ 0.6356822 ,  0.00820127,  0.06131429,  0.37359588]),\n",
       " 'r_shape': 1.0,\n",
       " 'scale_free_bounds': (0.01, 100)}"
      ]
     },
     "execution_count": 48,
     "metadata": {},
     "output_type": "execute_result"
    }
   ],
   "source": [
    "inner_test = GraphStructure.from_networkx(G_inner_test)\n",
    "outer_test = GraphStructure.from_networkx(G_outer_test)\n",
    "gp_in = GraphParams.from_structure(inner_test)\n",
    "gp_out = GraphParams.from_structure(outer_test)\n",
    "gp_in.sample()\n",
    "gp_out.sample()"
   ]
  },
  {
   "cell_type": "code",
   "execution_count": 49,
   "metadata": {
    "collapsed": false
   },
   "outputs": [],
   "source": [
    "inner_simul = InnerGraphSimulation(inner_test,gp_in)\n",
    "vals = inner_simul.sample(20)"
   ]
  },
  {
   "cell_type": "code",
   "execution_count": 50,
   "metadata": {
    "collapsed": false
   },
   "outputs": [
    {
     "data": {
      "text/plain": [
       "array([[ 0.        ,         inf,         inf,  0.81845741],\n",
       "       [ 0.        ,         inf,         inf,  3.39408122],\n",
       "       [ 0.        ,         inf,  3.65393021,  1.78676782],\n",
       "       [ 0.        ,  3.89380012,  1.68785061,  0.86198098],\n",
       "       [ 0.        ,         inf,         inf,         inf],\n",
       "       [ 0.        ,         inf,         inf,  0.03075077],\n",
       "       [ 0.        ,  0.72779172,  0.72825988,  0.06197036],\n",
       "       [ 0.        ,         inf,  2.29517823,  0.06289242],\n",
       "       [ 0.        ,  1.79326362,  1.79736376,  1.5260612 ],\n",
       "       [ 0.        ,  3.14329088,  2.95065442,  0.45877584],\n",
       "       [ 0.        ,         inf,  0.31268796,  0.36335676],\n",
       "       [ 0.        ,         inf,         inf,  0.567339  ],\n",
       "       [ 0.        ,         inf,         inf,  1.40434682],\n",
       "       [ 0.        ,         inf,         inf,         inf],\n",
       "       [ 0.        ,  1.55447097,  1.56112456,  0.15259242],\n",
       "       [ 0.        ,  2.93720529,  2.94875048,  3.26504501],\n",
       "       [ 0.        ,  2.42250225,         inf,  1.80422634],\n",
       "       [ 0.        ,  2.47357827,  2.47746443,  2.49391022],\n",
       "       [ 0.        ,  2.4261535 ,  1.16333521,  0.2491488 ],\n",
       "       [ 0.        ,         inf,  3.95535183,  2.32383679]])"
      ]
     },
     "execution_count": 50,
     "metadata": {},
     "output_type": "execute_result"
    }
   ],
   "source": [
    "vals"
   ]
  },
  {
   "cell_type": "code",
   "execution_count": 31,
   "metadata": {
    "collapsed": false
   },
   "outputs": [],
   "source": [
    "test_obs_dict = gp_out.to_dict()"
   ]
  },
  {
   "cell_type": "code",
   "execution_count": 32,
   "metadata": {
    "collapsed": false
   },
   "outputs": [
    {
     "data": {
      "text/plain": [
       "[('A_★', 'A_obs'), ('B_★', 'B_obs'), ('C_★', 'C_obs'), ('D_★', 'D_obs')]"
      ]
     },
     "execution_count": 32,
     "metadata": {},
     "output_type": "execute_result"
    }
   ],
   "source": [
    "test_obs_dict[\"names\"]"
   ]
  },
  {
   "cell_type": "code",
   "execution_count": 46,
   "metadata": {
    "collapsed": false
   },
   "outputs": [
    {
     "data": {
      "text/plain": [
       "[('A_★', 'C_★'),\n",
       " ('A_★', 'D_★'),\n",
       " ('B_★', 'C_★'),\n",
       " ('B_★', 'D_★'),\n",
       " ('C_★', 'B_★'),\n",
       " ('C_★', 'D_★'),\n",
       " ('D_★', 'B_★'),\n",
       " ('D_★', 'C_★')]"
      ]
     },
     "execution_count": 46,
     "metadata": {},
     "output_type": "execute_result"
    }
   ],
   "source": [
    "inner_test.edges"
   ]
  },
  {
   "cell_type": "code",
   "execution_count": null,
   "metadata": {
    "collapsed": true
   },
   "outputs": [],
   "source": [
    "cond2 = [0,1,3,2]\n",
    "cond3 = [0,3,2,1]\n",
    "cond4 = [0,1,2,2]\n"
   ]
  },
  {
   "cell_type": "code",
   "execution_count": null,
   "metadata": {
    "collapsed": true
   },
   "outputs": [],
   "source": [
    "def one_link_likelilhood(cause_happen,effect_happen,rate_param,max_obs_time=3,cause_time=None,effect_time=None):\n",
    "    if not cause_happen:\n",
    "        if not effect_happen:\n",
    "            return 1\n",
    "        elif effect_happen:\n",
    "            return 0\n",
    "    if cause_happen:\n",
    "        if not effect_happen:\n",
    "            return np.exp(-rate_param*(max_obs_time-cause_time))\n",
    "        elif effect_happen:\n",
    "            return rate_param*np.exp(-rate_param*(effect_time-cause_time))"
   ]
  },
  {
   "cell_type": "markdown",
   "metadata": {},
   "source": [
    "Data from lagnado & Sloman\n",
    "\n",
    "value_sequences = ['ABCD', 'ABC', 'ABD', 'AB','A']\n",
    "data_vals = np.random.choice(value_sequences, size = 100, p=[0.512,0.128,0.128,0.032,.2])\n",
    "cond1timings= {\"A\":0,\"B\":0,\"C\":0,\"D\":0}\n",
    "cond2timings= {\"A\":0,\"B\":1,\"C\":3,\"D\":2}\n",
    "cond3timings= {\"A\":0,\"B\":3,\"C\":2,\"D\":1}\n",
    "cond4timings= {\"A\":0,\"B\":1,\"C\":2,\"D\":2}\n",
    "\n",
    "\n",
    "results = {(\"a\",\"b\"):[1.00, .96, .58,.92], ('a','c'):[.38, .17, .88, .29], ('a','d'):[.33, .13, .54, .33],\n",
    "           (\"b\",\"c\"):[.75, .79, .21, .79], ('b','d'):[.75, .96, .38, .88],\n",
    "           (\"c\",\"b\"):[.63, .38, .79, .50], ('c','d'):[.29, .21, .33, .29],\n",
    "           (\"d\",\"b\"):[.50, .46, .50, .46], (\"d\",\"c\"):[.25, .83 ,.71 ,.21]}\n"
   ]
  }
 ],
 "metadata": {
  "kernelspec": {
   "display_name": "Python 3",
   "language": "python",
   "name": "python3"
  },
  "language_info": {
   "codemirror_mode": {
    "name": "ipython",
    "version": 3
   },
   "file_extension": ".py",
   "mimetype": "text/x-python",
   "name": "python",
   "nbconvert_exporter": "python",
   "pygments_lexer": "ipython3",
   "version": "3.5.0"
  }
 },
 "nbformat": 4,
 "nbformat_minor": 0
}
