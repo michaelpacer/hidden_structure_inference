{
 "cells": [
  {
   "cell_type": "code",
   "execution_count": 1,
   "metadata": {
    "collapsed": false
   },
   "outputs": [],
   "source": [
    "%load_ext autoreload\n",
    "%autoreload 2"
   ]
  },
  {
   "cell_type": "code",
   "execution_count": 2,
   "metadata": {
    "collapsed": false
   },
   "outputs": [],
   "source": [
    "import numpy as np\n",
    "import networkx as nx\n",
    "from graph_enumerator import *\n",
    "from graph_local_classes import *\n",
    "from node_semantics import Node_Name_Rule, Edge_Semantics_Rule"
   ]
  },
  {
   "cell_type": "code",
   "execution_count": 4,
   "metadata": {
    "collapsed": false
   },
   "outputs": [],
   "source": [
    "def intervention_effects(graph):    \n",
    "    return node_name_edge_picker_source_node(\"int\", graph)\n",
    "\n",
    "def cause_observation_pairings(graph):    \n",
    "    return node_name_edge_picker_2_args(\"★\", \"obs\", graph)\n",
    "\n",
    "def hidden_cause_pairs(graph):\n",
    "    return node_name_edge_picker_2_args(\"★\", \"★\", graph)\n",
    "       \n",
    "\n",
    "def local_graph_edge_types(graph):\n",
    "    set_graph_edge_types(graph,intervention_effects(graph),\"deterministic_intervention\")\n",
    "    set_graph_edge_types(graph,cause_observation_pairings(graph),\"observed\")\n",
    "    set_graph_edge_types(graph,hidden_cause_pairs(graph),\"hidden\")\n",
    "    \n",
    "def node_to_edge_semantics(graph):\n",
    "    pass"
   ]
  },
  {
   "cell_type": "code",
   "execution_count": 5,
   "metadata": {
    "collapsed": false
   },
   "outputs": [],
   "source": [
    "generator_dictionary ={ \"nodes\" : [\"A_int\",\"A_obs\",\"A_★\",\"B_obs\",\"B_★\",\"C_obs\",\"C_★\",\"D_obs\",\"D_★\"],\n",
    "    \"query_edge_set\" : [\n",
    "        (\"A_★\",'B_★'),\n",
    "        (\"A_★\",'C_★'),\n",
    "        (\"A_★\",'D_★'),\n",
    "        (\"B_★\",'C_★'),\n",
    "        (\"B_★\",'D_★'),\n",
    "        (\"C_★\",'B_★'),\n",
    "        (\"C_★\",'D_★'),\n",
    "        (\"D_★\",'B_★'),\n",
    "        (\"D_★\",'C_★')\n",
    "    ],\n",
    "    \"filters\": {\n",
    "        \"explicit_child_parentage\"  : [[\n",
    "            (\"A_int\",[]),\n",
    "            (\"A_★\",[\"A_int\"]),\n",
    "            ('A_obs',['A_int','A_★']),\n",
    "            ('B_obs',['B_★']),\n",
    "            ('C_obs',[\"C_★\"]),\n",
    "            ('D_obs',[\"D_★\"])\n",
    "        ]],\n",
    "        \"explicit_parent_offspring\" : [[\n",
    "            ('A_int',['A_obs','A_★']),\n",
    "            (\"A_obs\",[]),\n",
    "            (\"B_obs\",[]),\n",
    "            (\"C_obs\",[]),\n",
    "            (\"D_obs\",[])\n",
    "        ]],\n",
    "        \"extract_remove_self_loops\": []\n",
    "    },\n",
    "    \"conditions\": {\n",
    "        \"create_path_complete_condition\" : [[(\"A_int\",\"B_★\"),(\"A_int\",\"C_★\"),(\"A_int\",\"D_★\")]],\n",
    "    }\n",
    "}\n",
    "\n",
    "node_semantics={\n",
    "        # \".*_int\" → intervener\n",
    "        \"intervener\": {\n",
    "            \"node_type\":\"intervener\",\n",
    "            \"where\":\"suffix\",\n",
    "            \"infix\":\"_\",\n",
    "            \"code\":\"int\"},\n",
    "        # \".*_obs\" → observed\n",
    "        \"observed\": {\n",
    "            \"node_type\":\"observed\",\n",
    "            \"where\":\"suffix\",\n",
    "            \"infix\":\"_\",\n",
    "            \"code\":\"obs\"},\n",
    "        # \".*_★\" → hidden\n",
    "        \"hidden\": {\n",
    "            \"node_type\":\"hidden\",\n",
    "            \"where\":\"suffix\",\n",
    "            \"infix\":\"_\",\n",
    "            \"code\":\"★\"}\n",
    "}\n",
    "\n",
    "edge_semantics={\n",
    "    \"hidden_sample\":{\n",
    "        \"source_types\":[\"hidden\"],\n",
    "        \"target_types\":[\"hidden\"],\n",
    "        \"edge_type\": \"hidden_sample\"\n",
    "    },\n",
    "    \"to_observation\":{\n",
    "        \"source_types\":[\"hidden\"],\n",
    "        \"target_types\":[\"observed\"],\n",
    "        \"edge_type\": \"to_observation\"\n",
    "    },\n",
    "    \"intervention\":{\n",
    "        \"source_types\":[\"intervener\"],\n",
    "        \"target_types\":None,\n",
    "        \"edge_type\": \"intervention\"\n",
    "    }\n",
    "}\n",
    "# todo(maybe): rework filters and conditions to take node types and edge types as arguments"
   ]
  },
  {
   "cell_type": "code",
   "execution_count": 154,
   "metadata": {
    "collapsed": false
   },
   "outputs": [
    {
     "name": "stdout",
     "output_type": "stream",
     "text": [
      "<function create_path_complete_condition.<locals>.path_complete_condition at 0x10e173d08>\n"
     ]
    }
   ],
   "source": [
    "working_graph_iter = generate_graphs(**generator_dictionary)\n",
    "\n",
    "working_graphs = list(working_graph_iter)"
   ]
  },
  {
   "cell_type": "code",
   "execution_count": 155,
   "metadata": {
    "collapsed": false
   },
   "outputs": [
    {
     "data": {
      "text/plain": [
       "[<networkx.classes.digraph.DiGraph at 0x10e1e2550>,\n",
       " <networkx.classes.digraph.DiGraph at 0x10e1e2780>,\n",
       " <networkx.classes.digraph.DiGraph at 0x10e1e25c0>,\n",
       " <networkx.classes.digraph.DiGraph at 0x10e1e27b8>,\n",
       " <networkx.classes.digraph.DiGraph at 0x10e1e2748>,\n",
       " <networkx.classes.digraph.DiGraph at 0x10e1e25f8>,\n",
       " <networkx.classes.digraph.DiGraph at 0x10e1e2630>,\n",
       " <networkx.classes.digraph.DiGraph at 0x10e1e2048>,\n",
       " <networkx.classes.digraph.DiGraph at 0x10e1e20b8>,\n",
       " <networkx.classes.digraph.DiGraph at 0x10e1e2080>,\n",
       " <networkx.classes.digraph.DiGraph at 0x10e1e20f0>,\n",
       " <networkx.classes.digraph.DiGraph at 0x10e1e2128>,\n",
       " <networkx.classes.digraph.DiGraph at 0x10e1e2160>,\n",
       " <networkx.classes.digraph.DiGraph at 0x10e1e21d0>,\n",
       " <networkx.classes.digraph.DiGraph at 0x10e1e2198>,\n",
       " <networkx.classes.digraph.DiGraph at 0x10e1e2240>,\n",
       " <networkx.classes.digraph.DiGraph at 0x10e1e22b0>,\n",
       " <networkx.classes.digraph.DiGraph at 0x10e1e2208>,\n",
       " <networkx.classes.digraph.DiGraph at 0x10e1e2278>,\n",
       " <networkx.classes.digraph.DiGraph at 0x10e1e22e8>,\n",
       " <networkx.classes.digraph.DiGraph at 0x10e1e2400>,\n",
       " <networkx.classes.digraph.DiGraph at 0x10e1e2438>,\n",
       " <networkx.classes.digraph.DiGraph at 0x10e1e23c8>,\n",
       " <networkx.classes.digraph.DiGraph at 0x10e1e24a8>,\n",
       " <networkx.classes.digraph.DiGraph at 0x10e1e24e0>,\n",
       " <networkx.classes.digraph.DiGraph at 0x10e1e2390>,\n",
       " <networkx.classes.digraph.DiGraph at 0x10e1e2470>,\n",
       " <networkx.classes.digraph.DiGraph at 0x10e1e2518>,\n",
       " <networkx.classes.digraph.DiGraph at 0x10e0fc6d8>,\n",
       " <networkx.classes.digraph.DiGraph at 0x10e0fcc88>,\n",
       " <networkx.classes.digraph.DiGraph at 0x10e0fcb00>,\n",
       " <networkx.classes.digraph.DiGraph at 0x10e0fcfd0>,\n",
       " <networkx.classes.digraph.DiGraph at 0x10e0fc9b0>,\n",
       " <networkx.classes.digraph.DiGraph at 0x10e0fcdd8>,\n",
       " <networkx.classes.digraph.DiGraph at 0x10e0fce10>,\n",
       " <networkx.classes.digraph.DiGraph at 0x10e0fc908>,\n",
       " <networkx.classes.digraph.DiGraph at 0x10e0fc6a0>,\n",
       " <networkx.classes.digraph.DiGraph at 0x10e0fc9e8>,\n",
       " <networkx.classes.digraph.DiGraph at 0x10e0fc780>,\n",
       " <networkx.classes.digraph.DiGraph at 0x10e0fcbe0>,\n",
       " <networkx.classes.digraph.DiGraph at 0x10e0fcba8>,\n",
       " <networkx.classes.digraph.DiGraph at 0x10e0fcac8>,\n",
       " <networkx.classes.digraph.DiGraph at 0x10e0fca90>,\n",
       " <networkx.classes.digraph.DiGraph at 0x10e0fcb70>,\n",
       " <networkx.classes.digraph.DiGraph at 0x10e0fcc18>,\n",
       " <networkx.classes.digraph.DiGraph at 0x10e0fc978>,\n",
       " <networkx.classes.digraph.DiGraph at 0x10e0fcd68>,\n",
       " <networkx.classes.digraph.DiGraph at 0x10e0fcda0>,\n",
       " <networkx.classes.digraph.DiGraph at 0x10e0fcc50>,\n",
       " <networkx.classes.digraph.DiGraph at 0x10e0fccc0>,\n",
       " <networkx.classes.digraph.DiGraph at 0x10e0fcd30>,\n",
       " <networkx.classes.digraph.DiGraph at 0x10e0fceb8>,\n",
       " <networkx.classes.digraph.DiGraph at 0x10e0fcef0>,\n",
       " <networkx.classes.digraph.DiGraph at 0x10e0fce80>,\n",
       " <networkx.classes.digraph.DiGraph at 0x10e0fce48>,\n",
       " <networkx.classes.digraph.DiGraph at 0x10e0fcf28>,\n",
       " <networkx.classes.digraph.DiGraph at 0x10e0fcf60>,\n",
       " <networkx.classes.digraph.DiGraph at 0x10e0fc630>,\n",
       " <networkx.classes.digraph.DiGraph at 0x10e0fccf8>,\n",
       " <networkx.classes.digraph.DiGraph at 0x10e0fcf98>,\n",
       " <networkx.classes.digraph.DiGraph at 0x10e0fcb38>,\n",
       " <networkx.classes.digraph.DiGraph at 0x10d5413c8>,\n",
       " <networkx.classes.digraph.DiGraph at 0x10d541400>,\n",
       " <networkx.classes.digraph.DiGraph at 0x10d541780>,\n",
       " <networkx.classes.digraph.DiGraph at 0x10e2aba58>,\n",
       " <networkx.classes.digraph.DiGraph at 0x10e2abb00>,\n",
       " <networkx.classes.digraph.DiGraph at 0x10e2ab908>,\n",
       " <networkx.classes.digraph.DiGraph at 0x10e2ab898>,\n",
       " <networkx.classes.digraph.DiGraph at 0x10e2abac8>,\n",
       " <networkx.classes.digraph.DiGraph at 0x10e2ab978>,\n",
       " <networkx.classes.digraph.DiGraph at 0x10e2abcc0>,\n",
       " <networkx.classes.digraph.DiGraph at 0x10e2abb70>,\n",
       " <networkx.classes.digraph.DiGraph at 0x10e2abbe0>,\n",
       " <networkx.classes.digraph.DiGraph at 0x10e2abd30>,\n",
       " <networkx.classes.digraph.DiGraph at 0x10e1e2320>,\n",
       " <networkx.classes.digraph.DiGraph at 0x10e1e2358>,\n",
       " <networkx.classes.digraph.DiGraph at 0x10e2abba8>,\n",
       " <networkx.classes.digraph.DiGraph at 0x10e2ab780>,\n",
       " <networkx.classes.digraph.DiGraph at 0x10e2abb38>,\n",
       " <networkx.classes.digraph.DiGraph at 0x10e2abc50>,\n",
       " <networkx.classes.digraph.DiGraph at 0x10e2abd68>,\n",
       " <networkx.classes.digraph.DiGraph at 0x10e2abc18>,\n",
       " <networkx.classes.digraph.DiGraph at 0x10e2ab828>,\n",
       " <networkx.classes.digraph.DiGraph at 0x10e2abc88>,\n",
       " <networkx.classes.digraph.DiGraph at 0x10e2aba90>,\n",
       " <networkx.classes.digraph.DiGraph at 0x10e2ab9b0>,\n",
       " <networkx.classes.digraph.DiGraph at 0x10e2ab7b8>,\n",
       " <networkx.classes.digraph.DiGraph at 0x10e2ab860>,\n",
       " <networkx.classes.digraph.DiGraph at 0x10e2ab7f0>,\n",
       " <networkx.classes.digraph.DiGraph at 0x10e2ab6a0>,\n",
       " <networkx.classes.digraph.DiGraph at 0x10e2aba20>,\n",
       " <networkx.classes.digraph.DiGraph at 0x10e0dd978>,\n",
       " <networkx.classes.digraph.DiGraph at 0x10e2566d8>,\n",
       " <networkx.classes.digraph.DiGraph at 0x10e256710>,\n",
       " <networkx.classes.digraph.DiGraph at 0x10e2a1630>,\n",
       " <networkx.classes.digraph.DiGraph at 0x10e00d748>,\n",
       " <networkx.classes.digraph.DiGraph at 0x10e00d9b0>,\n",
       " <networkx.classes.digraph.DiGraph at 0x10e00da90>,\n",
       " <networkx.classes.digraph.DiGraph at 0x10e00d908>,\n",
       " <networkx.classes.digraph.DiGraph at 0x10e00d9e8>,\n",
       " <networkx.classes.digraph.DiGraph at 0x10e00da20>,\n",
       " <networkx.classes.digraph.DiGraph at 0x10e00da58>,\n",
       " <networkx.classes.digraph.DiGraph at 0x10e00d828>,\n",
       " <networkx.classes.digraph.DiGraph at 0x10e00d898>,\n",
       " <networkx.classes.digraph.DiGraph at 0x10e00d7f0>,\n",
       " <networkx.classes.digraph.DiGraph at 0x10e00d978>,\n",
       " <networkx.classes.digraph.DiGraph at 0x10e00dc18>,\n",
       " <networkx.classes.digraph.DiGraph at 0x10e00dac8>,\n",
       " <networkx.classes.digraph.DiGraph at 0x10e00d860>,\n",
       " <networkx.classes.digraph.DiGraph at 0x10e00d080>,\n",
       " <networkx.classes.digraph.DiGraph at 0x10e00dc88>,\n",
       " <networkx.classes.digraph.DiGraph at 0x10e00db38>,\n",
       " <networkx.classes.digraph.DiGraph at 0x10e00dbe0>,\n",
       " <networkx.classes.digraph.DiGraph at 0x10e00dc50>,\n",
       " <networkx.classes.digraph.DiGraph at 0x10e00dba8>,\n",
       " <networkx.classes.digraph.DiGraph at 0x10e00d3c8>,\n",
       " <networkx.classes.digraph.DiGraph at 0x10e00d390>,\n",
       " <networkx.classes.digraph.DiGraph at 0x10e00db00>,\n",
       " <networkx.classes.digraph.DiGraph at 0x10e00db70>,\n",
       " <networkx.classes.digraph.DiGraph at 0x10e00d438>,\n",
       " <networkx.classes.digraph.DiGraph at 0x10e00d4e0>,\n",
       " <networkx.classes.digraph.DiGraph at 0x10e00d128>,\n",
       " <networkx.classes.digraph.DiGraph at 0x10e00d358>,\n",
       " <networkx.classes.digraph.DiGraph at 0x10e00d400>,\n",
       " <networkx.classes.digraph.DiGraph at 0x10e00d7b8>,\n",
       " <networkx.classes.digraph.DiGraph at 0x10e00d4a8>,\n",
       " <networkx.classes.digraph.DiGraph at 0x10e00d5f8>,\n",
       " <networkx.classes.digraph.DiGraph at 0x10e00d710>,\n",
       " <networkx.classes.digraph.DiGraph at 0x10e00d5c0>,\n",
       " <networkx.classes.digraph.DiGraph at 0x10e00d470>,\n",
       " <networkx.classes.digraph.DiGraph at 0x10e00d6a0>,\n",
       " <networkx.classes.digraph.DiGraph at 0x10e00d588>,\n",
       " <networkx.classes.digraph.DiGraph at 0x10e00d630>,\n",
       " <networkx.classes.digraph.DiGraph at 0x10e00d668>,\n",
       " <networkx.classes.digraph.DiGraph at 0x10c3baba8>,\n",
       " <networkx.classes.digraph.DiGraph at 0x10e103be0>,\n",
       " <networkx.classes.digraph.DiGraph at 0x10e103a58>,\n",
       " <networkx.classes.digraph.DiGraph at 0x10e103c50>,\n",
       " <networkx.classes.digraph.DiGraph at 0x10e103a20>,\n",
       " <networkx.classes.digraph.DiGraph at 0x10e103ba8>,\n",
       " <networkx.classes.digraph.DiGraph at 0x10e103c18>,\n",
       " <networkx.classes.digraph.DiGraph at 0x10e103b70>,\n",
       " <networkx.classes.digraph.DiGraph at 0x10e103ac8>,\n",
       " <networkx.classes.digraph.DiGraph at 0x10e103cf8>,\n",
       " <networkx.classes.digraph.DiGraph at 0x10e103c88>,\n",
       " <networkx.classes.digraph.DiGraph at 0x10e103cc0>,\n",
       " <networkx.classes.digraph.DiGraph at 0x10e1034e0>,\n",
       " <networkx.classes.digraph.DiGraph at 0x10e103588>,\n",
       " <networkx.classes.digraph.DiGraph at 0x10e103048>,\n",
       " <networkx.classes.digraph.DiGraph at 0x10e103128>,\n",
       " <networkx.classes.digraph.DiGraph at 0x10e103198>,\n",
       " <networkx.classes.digraph.DiGraph at 0x10e103390>,\n",
       " <networkx.classes.digraph.DiGraph at 0x10e103080>,\n",
       " <networkx.classes.digraph.DiGraph at 0x10e1031d0>,\n",
       " <networkx.classes.digraph.DiGraph at 0x10e103208>,\n",
       " <networkx.classes.digraph.DiGraph at 0x10e1032e8>,\n",
       " <networkx.classes.digraph.DiGraph at 0x10e1030f0>,\n",
       " <networkx.classes.digraph.DiGraph at 0x10e103278>,\n",
       " <networkx.classes.digraph.DiGraph at 0x10e103240>,\n",
       " <networkx.classes.digraph.DiGraph at 0x10e1030b8>,\n",
       " <networkx.classes.digraph.DiGraph at 0x10e103320>,\n",
       " <networkx.classes.digraph.DiGraph at 0x10e1032b0>,\n",
       " <networkx.classes.digraph.DiGraph at 0x10e103358>,\n",
       " <networkx.classes.digraph.DiGraph at 0x10e1033c8>,\n",
       " <networkx.classes.digraph.DiGraph at 0x10e103400>,\n",
       " <networkx.classes.digraph.DiGraph at 0x10e103518>,\n",
       " <networkx.classes.digraph.DiGraph at 0x10e103d30>,\n",
       " <networkx.classes.digraph.DiGraph at 0x10e103470>,\n",
       " <networkx.classes.digraph.DiGraph at 0x10e1035c0>,\n",
       " <networkx.classes.digraph.DiGraph at 0x10e103780>,\n",
       " <networkx.classes.digraph.DiGraph at 0x10e1036a0>,\n",
       " <networkx.classes.digraph.DiGraph at 0x10e103438>,\n",
       " <networkx.classes.digraph.DiGraph at 0x10e103668>,\n",
       " <networkx.classes.digraph.DiGraph at 0x10e1037f0>,\n",
       " <networkx.classes.digraph.DiGraph at 0x10e103710>,\n",
       " <networkx.classes.digraph.DiGraph at 0x10e1036d8>,\n",
       " <networkx.classes.digraph.DiGraph at 0x10e103748>,\n",
       " <networkx.classes.digraph.DiGraph at 0x10e103828>,\n",
       " <networkx.classes.digraph.DiGraph at 0x10e103860>,\n",
       " <networkx.classes.digraph.DiGraph at 0x10e103978>,\n",
       " <networkx.classes.digraph.DiGraph at 0x10e103940>,\n",
       " <networkx.classes.digraph.DiGraph at 0x10e103898>,\n",
       " <networkx.classes.digraph.DiGraph at 0x10e103908>,\n",
       " <networkx.classes.digraph.DiGraph at 0x10e1039b0>,\n",
       " <networkx.classes.digraph.DiGraph at 0x10e1038d0>,\n",
       " <networkx.classes.digraph.DiGraph at 0x10e103b38>,\n",
       " <networkx.classes.digraph.DiGraph at 0x10e103b00>,\n",
       " <networkx.classes.digraph.DiGraph at 0x10e1039e8>,\n",
       " <networkx.classes.digraph.DiGraph at 0x10e369668>,\n",
       " <networkx.classes.digraph.DiGraph at 0x10e369710>,\n",
       " <networkx.classes.digraph.DiGraph at 0x10e369828>,\n",
       " <networkx.classes.digraph.DiGraph at 0x10e369940>,\n",
       " <networkx.classes.digraph.DiGraph at 0x10e369860>,\n",
       " <networkx.classes.digraph.DiGraph at 0x10e3699e8>,\n",
       " <networkx.classes.digraph.DiGraph at 0x10e369898>,\n",
       " <networkx.classes.digraph.DiGraph at 0x10e3699b0>,\n",
       " <networkx.classes.digraph.DiGraph at 0x10e3698d0>,\n",
       " <networkx.classes.digraph.DiGraph at 0x10e369c50>,\n",
       " <networkx.classes.digraph.DiGraph at 0x10e369be0>,\n",
       " <networkx.classes.digraph.DiGraph at 0x10e369a58>,\n",
       " <networkx.classes.digraph.DiGraph at 0x10e369a90>,\n",
       " <networkx.classes.digraph.DiGraph at 0x10e369ac8>,\n",
       " <networkx.classes.digraph.DiGraph at 0x10e369b00>,\n",
       " <networkx.classes.digraph.DiGraph at 0x10e369ba8>,\n",
       " <networkx.classes.digraph.DiGraph at 0x10e369c88>,\n",
       " <networkx.classes.digraph.DiGraph at 0x10e369b70>,\n",
       " <networkx.classes.digraph.DiGraph at 0x10e369b38>,\n",
       " <networkx.classes.digraph.DiGraph at 0x10e369c18>,\n",
       " <networkx.classes.digraph.DiGraph at 0x10e369cc0>,\n",
       " <networkx.classes.digraph.DiGraph at 0x10e369cf8>,\n",
       " <networkx.classes.digraph.DiGraph at 0x10e369d68>,\n",
       " <networkx.classes.digraph.DiGraph at 0x10e369da0>,\n",
       " <networkx.classes.digraph.DiGraph at 0x10e369d30>,\n",
       " <networkx.classes.digraph.DiGraph at 0x10e369dd8>,\n",
       " <networkx.classes.digraph.DiGraph at 0x10e369e10>,\n",
       " <networkx.classes.digraph.DiGraph at 0x10e369e48>,\n",
       " <networkx.classes.digraph.DiGraph at 0x10e369e80>,\n",
       " <networkx.classes.digraph.DiGraph at 0x10e369eb8>,\n",
       " <networkx.classes.digraph.DiGraph at 0x10e369ef0>,\n",
       " <networkx.classes.digraph.DiGraph at 0x10e369f28>,\n",
       " <networkx.classes.digraph.DiGraph at 0x10e369f60>,\n",
       " <networkx.classes.digraph.DiGraph at 0x10e369f98>,\n",
       " <networkx.classes.digraph.DiGraph at 0x10e369fd0>,\n",
       " <networkx.classes.digraph.DiGraph at 0x10e369748>,\n",
       " <networkx.classes.digraph.DiGraph at 0x10e3696d8>,\n",
       " <networkx.classes.digraph.DiGraph at 0x10e369780>,\n",
       " <networkx.classes.digraph.DiGraph at 0x10e3696a0>,\n",
       " <networkx.classes.digraph.DiGraph at 0x10e369908>,\n",
       " <networkx.classes.digraph.DiGraph at 0x10e17fbe0>,\n",
       " <networkx.classes.digraph.DiGraph at 0x10e369978>,\n",
       " <networkx.classes.digraph.DiGraph at 0x10e17fb70>,\n",
       " <networkx.classes.digraph.DiGraph at 0x10e17fc18>,\n",
       " <networkx.classes.digraph.DiGraph at 0x10e17fba8>,\n",
       " <networkx.classes.digraph.DiGraph at 0x10e17f6a0>,\n",
       " <networkx.classes.digraph.DiGraph at 0x10e17f400>,\n",
       " <networkx.classes.digraph.DiGraph at 0x10e17f5f8>,\n",
       " <networkx.classes.digraph.DiGraph at 0x10e17fc88>,\n",
       " <networkx.classes.digraph.DiGraph at 0x10e17fc50>,\n",
       " <networkx.classes.digraph.DiGraph at 0x10e17fcc0>,\n",
       " <networkx.classes.digraph.DiGraph at 0x10e17fcf8>,\n",
       " <networkx.classes.digraph.DiGraph at 0x10e17fd30>,\n",
       " <networkx.classes.digraph.DiGraph at 0x10e17fd68>,\n",
       " <networkx.classes.digraph.DiGraph at 0x10e17fda0>,\n",
       " <networkx.classes.digraph.DiGraph at 0x10e17fe10>,\n",
       " <networkx.classes.digraph.DiGraph at 0x10e17fdd8>,\n",
       " <networkx.classes.digraph.DiGraph at 0x10e17fe80>,\n",
       " <networkx.classes.digraph.DiGraph at 0x10e17feb8>,\n",
       " <networkx.classes.digraph.DiGraph at 0x10e17fe48>,\n",
       " <networkx.classes.digraph.DiGraph at 0x10e17fef0>,\n",
       " <networkx.classes.digraph.DiGraph at 0x10e17ff28>,\n",
       " <networkx.classes.digraph.DiGraph at 0x10e17ff98>,\n",
       " <networkx.classes.digraph.DiGraph at 0x10e17ffd0>,\n",
       " <networkx.classes.digraph.DiGraph at 0x10e17f8d0>,\n",
       " <networkx.classes.digraph.DiGraph at 0x10e17f908>,\n",
       " <networkx.classes.digraph.DiGraph at 0x10e17f470>,\n",
       " <networkx.classes.digraph.DiGraph at 0x10e17ff60>,\n",
       " <networkx.classes.digraph.DiGraph at 0x10e17f438>,\n",
       " <networkx.classes.digraph.DiGraph at 0x10e17f390>,\n",
       " <networkx.classes.digraph.DiGraph at 0x10e17f4a8>,\n",
       " <networkx.classes.digraph.DiGraph at 0x10e17f518>,\n",
       " <networkx.classes.digraph.DiGraph at 0x10e17f4e0>,\n",
       " <networkx.classes.digraph.DiGraph at 0x10e216048>,\n",
       " <networkx.classes.digraph.DiGraph at 0x10e216080>,\n",
       " <networkx.classes.digraph.DiGraph at 0x10e2160b8>,\n",
       " <networkx.classes.digraph.DiGraph at 0x10e2160f0>,\n",
       " <networkx.classes.digraph.DiGraph at 0x10e216128>,\n",
       " <networkx.classes.digraph.DiGraph at 0x10e216198>,\n",
       " <networkx.classes.digraph.DiGraph at 0x10e216160>,\n",
       " <networkx.classes.digraph.DiGraph at 0x10e216208>,\n",
       " <networkx.classes.digraph.DiGraph at 0x10e2161d0>,\n",
       " <networkx.classes.digraph.DiGraph at 0x10e216240>,\n",
       " <networkx.classes.digraph.DiGraph at 0x10e216278>,\n",
       " <networkx.classes.digraph.DiGraph at 0x10e2162b0>,\n",
       " <networkx.classes.digraph.DiGraph at 0x10e216320>,\n",
       " <networkx.classes.digraph.DiGraph at 0x10e2162e8>,\n",
       " <networkx.classes.digraph.DiGraph at 0x10e216358>,\n",
       " <networkx.classes.digraph.DiGraph at 0x10e216390>,\n",
       " <networkx.classes.digraph.DiGraph at 0x10e2163c8>,\n",
       " <networkx.classes.digraph.DiGraph at 0x10e216400>,\n",
       " <networkx.classes.digraph.DiGraph at 0x10e216438>,\n",
       " <networkx.classes.digraph.DiGraph at 0x10e216470>,\n",
       " <networkx.classes.digraph.DiGraph at 0x10e2164e0>,\n",
       " <networkx.classes.digraph.DiGraph at 0x10e2164a8>,\n",
       " <networkx.classes.digraph.DiGraph at 0x10e216518>,\n",
       " <networkx.classes.digraph.DiGraph at 0x10e216550>,\n",
       " <networkx.classes.digraph.DiGraph at 0x10e216588>,\n",
       " <networkx.classes.digraph.DiGraph at 0x10e2165c0>,\n",
       " <networkx.classes.digraph.DiGraph at 0x10e2165f8>,\n",
       " <networkx.classes.digraph.DiGraph at 0x10e216630>,\n",
       " <networkx.classes.digraph.DiGraph at 0x10e216668>,\n",
       " <networkx.classes.digraph.DiGraph at 0x10e2166d8>,\n",
       " <networkx.classes.digraph.DiGraph at 0x10e216710>,\n",
       " <networkx.classes.digraph.DiGraph at 0x10e2166a0>,\n",
       " <networkx.classes.digraph.DiGraph at 0x10e216780>,\n",
       " <networkx.classes.digraph.DiGraph at 0x10e216748>,\n",
       " <networkx.classes.digraph.DiGraph at 0x10e2167f0>,\n",
       " <networkx.classes.digraph.DiGraph at 0x10e2167b8>,\n",
       " <networkx.classes.digraph.DiGraph at 0x10e216860>,\n",
       " <networkx.classes.digraph.DiGraph at 0x10e216898>,\n",
       " <networkx.classes.digraph.DiGraph at 0x10e216828>,\n",
       " <networkx.classes.digraph.DiGraph at 0x10e2168d0>,\n",
       " <networkx.classes.digraph.DiGraph at 0x10e216908>,\n",
       " <networkx.classes.digraph.DiGraph at 0x10e216978>,\n",
       " <networkx.classes.digraph.DiGraph at 0x10e2169b0>]"
      ]
     },
     "execution_count": 155,
     "metadata": {},
     "output_type": "execute_result"
    }
   ],
   "source": [
    "working_graphs"
   ]
  },
  {
   "cell_type": "code",
   "execution_count": 5,
   "metadata": {
    "collapsed": false
   },
   "outputs": [],
   "source": [
    "working_graph_index = 250\n",
    "test_here = GraphStructure.from_networkx(working_graphs[working_graph_index])"
   ]
  },
  {
   "cell_type": "code",
   "execution_count": 153,
   "metadata": {
    "collapsed": false
   },
   "outputs": [
    {
     "data": {
      "text/plain": [
       "<networkx.classes.digraph.DiGraph at 0x10e27f860>"
      ]
     },
     "execution_count": 153,
     "metadata": {},
     "output_type": "execute_result"
    }
   ],
   "source": [
    "working_graphs[working_graph_index]\n"
   ]
  },
  {
   "cell_type": "code",
   "execution_count": 158,
   "metadata": {
    "collapsed": false
   },
   "outputs": [
    {
     "name": "stdout",
     "output_type": "stream",
     "text": [
      "[('A_int', {'node_type': 'intervener'}), ('C_★', {'node_type': 'hidden'}), ('D_★', {'node_type': 'hidden'}), ('D_obs', {'node_type': 'observed'}), ('A_obs', {'node_type': 'observed'}), ('C_obs', {'node_type': 'observed'}), ('A_★', {'node_type': 'hidden'}), ('B_★', {'node_type': 'hidden'}), ('B_obs', {'node_type': 'observed'})]\n",
      "('A_int', 'A_★', {'edge_type': 'intervention'})\n",
      "('A_int', 'A_obs', {'edge_type': 'intervention'})\n",
      "('C_★', 'C_obs', {'edge_type': 'to_observation'})\n",
      "('D_★', 'B_★', {'edge_type': 'hidden_sample'})\n",
      "('D_★', 'D_obs', {'edge_type': 'to_observation'})\n",
      "('A_★', 'C_★', {'edge_type': 'hidden_sample'})\n",
      "('A_★', 'D_★', {'edge_type': 'hidden_sample'})\n",
      "('A_★', 'A_obs', {'edge_type': 'to_observation'})\n",
      "('B_★', 'D_★', {'edge_type': 'hidden_sample'})\n",
      "('B_★', 'B_obs', {'edge_type': 'to_observation'})\n"
     ]
    }
   ],
   "source": [
    "working_graph_index = 250\n",
    "# test_me.clear()\n",
    "test_me=working_graphs[working_graph_index].copy()\n",
    "# local_graph_edge_types(test_me)\n",
    "test = [Node_Name_Rule(**rule) for rule in node_semantics.values()]\n",
    "for t in test:\n",
    "    t.apply_rule(test_me)\n",
    "\n",
    "test = [Edge_Semantics_Rule(**rule) for rule in edge_semantics.values()]\n",
    "for t in test:\n",
    "    t.apply_rule(test_me)\n",
    "\n",
    "print(test_me.nodes(data=True))\n",
    "for edge in test_me.edges(data=True):\n",
    "    print(edge)"
   ]
  },
  {
   "cell_type": "code",
   "execution_count": 51,
   "metadata": {
    "collapsed": false
   },
   "outputs": [
    {
     "name": "stdout",
     "output_type": "stream",
     "text": [
      "[('A_int', 'A_out', {'edge_type': 'deterministic_intervention'}), ('A_int', 'A_★', {'edge_type': 'deterministic_intervention'})]\n",
      "2\n",
      "{}\n"
     ]
    }
   ],
   "source": [
    "blah = nx.DiGraph()\n",
    "print(sorted(test_me.edges(data=True))[0:2])\n",
    "print(len(sorted(test_me.edges(data=True))[0:2]))\n",
    "blah.add_edges_from(test_me.edges(data=True))\n",
    "print(nx.get_node_attributes(blah,\"data_type\"))"
   ]
  },
  {
   "cell_type": "code",
   "execution_count": 122,
   "metadata": {
    "collapsed": false
   },
   "outputs": [
    {
     "name": "stdout",
     "output_type": "stream",
     "text": [
      "D_★ B_★\n"
     ]
    }
   ],
   "source": [
    "sub_edges = [x for x in test_me.edges(data=True) if x[2]['edge_type'] in [\"hidden_sample\",\"to_observation\"]]\n",
    "sub_nodes = list({y for x in sub_edges for y in x[0:2]})\n",
    "sub_edges.pop(0)\n",
    "sub_edges = [x[0:2] for x in sub_edges]\n",
    "G_sub = test_me.subgraph(sub_nodes)\n",
    "for edge in G_sub.edges(data=False):\n",
    "    if edge not in sub_edges:\n",
    "#         G_sub.remove_edge(*edge[0:2])\n",
    "        print(*edge[0:2])"
   ]
  },
  {
   "cell_type": "code",
   "execution_count": 123,
   "metadata": {
    "collapsed": false
   },
   "outputs": [
    {
     "name": "stdout",
     "output_type": "stream",
     "text": [
      "D_★ B_★\n"
     ]
    }
   ],
   "source": [
    "sub_edges = [x[0:2] for x in test_me.edges(data=True) if x[2]['edge_type'] in [\"hidden_sample\",\"to_observation\"]]\n",
    "sub_nodes = list({y for x in sub_edges for y in x[0:2]})\n",
    "sub_edges.pop(0)\n",
    "sub_edges = [x[0:2] for x in sub_edges]\n",
    "G_sub = test_me.subgraph(sub_nodes)\n",
    "for edge in G_sub.edges(data=False):\n",
    "    if edge not in sub_edges:\n",
    "#         G_sub.remove_edge(*edge[0:2])\n",
    "        print(*edge[0:2])"
   ]
  },
  {
   "cell_type": "code",
   "execution_count": 157,
   "metadata": {
    "collapsed": false
   },
   "outputs": [
    {
     "name": "stdout",
     "output_type": "stream",
     "text": [
      "[('B_★', 'B_obs', {'edge_type': 'to_observation'}), ('B_★', 'D_★', {'edge_type': 'hidden_sample'}), ('D_★', 'B_★', {'edge_type': 'hidden_sample'}), ('D_★', 'D_obs', {'edge_type': 'to_observation'}), ('A_★', 'A_obs', {'edge_type': 'to_observation'}), ('A_★', 'D_★', {'edge_type': 'hidden_sample'}), ('A_★', 'C_★', {'edge_type': 'hidden_sample'}), ('C_★', 'C_obs', {'edge_type': 'to_observation'})]\n",
      "[('B_★', 'B_obs', {'edge_type': 'to_observation'}), ('B_★', 'D_★', {'edge_type': 'hidden_sample'}), ('D_★', 'B_★', {'edge_type': 'hidden_sample'}), ('D_★', 'D_obs', {'edge_type': 'to_observation'}), ('A_★', 'A_obs', {'blah': 'blah', 'edge_type': 'to_observation'}), ('A_★', 'D_★', {'edge_type': 'hidden_sample'}), ('A_★', 'C_★', {'edge_type': 'hidden_sample'}), ('C_★', 'C_obs', {'edge_type': 'to_observation'})]\n"
     ]
    }
   ],
   "source": [
    "sub_edges = [x for x in test_me.edges(data=True) if x[2]['edge_type'] in [\"hidden_sample\",\"to_observation\"]]\n",
    "G_test = subgraph_from_edges(test_me,sub_edges)\n",
    "print(G_test.edges(data=True))\n",
    "test_me.edge['A_★']['A_obs']['blah'] = \"blah\"\n",
    "print(G_test.edges(data=True))"
   ]
  },
  {
   "cell_type": "code",
   "execution_count": 159,
   "metadata": {
    "collapsed": false
   },
   "outputs": [
    {
     "name": "stdout",
     "output_type": "stream",
     "text": [
      "went here\n",
      "[('C_★', 'C_obs', {'edge_type': 'to_observation'}), ('D_★', 'B_★', {'edge_type': 'hidden_sample'}), ('D_★', 'D_obs', {'edge_type': 'to_observation'}), ('A_★', 'C_★', {'edge_type': 'hidden_sample'}), ('A_★', 'D_★', {'edge_type': 'hidden_sample'}), ('A_★', 'A_obs', {'edge_type': 'to_observation'}), ('B_★', 'D_★', {'edge_type': 'hidden_sample'}), ('B_★', 'B_obs', {'edge_type': 'to_observation'})]\n",
      "[('C_★', 'C_obs', {'edge_type': 'to_observation'}), ('D_★', 'B_★', {'edge_type': 'hidden_sample'}), ('D_★', 'D_obs', {'edge_type': 'to_observation'}), ('A_★', 'C_★', {'edge_type': 'hidden_sample'}), ('A_★', 'D_★', {'edge_type': 'hidden_sample'}), ('A_★', 'A_obs', {'edge_type': 'to_observation'}), ('B_★', 'D_★', {'edge_type': 'hidden_sample'}), ('B_★', 'B_obs', {'edge_type': 'to_observation'})]\n"
     ]
    }
   ],
   "source": [
    "sub_edges = [x for x in test_me.edges(data=True) if x[2]['edge_type'] in [\"hidden_sample\",\"to_observation\"]]\n",
    "G_test = subgraph_from_edges(test_me,sub_edges,ref_back=False)\n",
    "print(G_test.edges(data=True))\n",
    "test_me.edge['A_★']['A_obs']['blah'] = \"blah2\"\n",
    "print(G_test.edges(data=True))"
   ]
  },
  {
   "cell_type": "code",
   "execution_count": 114,
   "metadata": {
    "collapsed": false
   },
   "outputs": [
    {
     "name": "stdout",
     "output_type": "stream",
     "text": [
      "B_★ D_★\n",
      "B_★ B_obs\n",
      "D_★ B_★\n",
      "D_★ D_obs\n",
      "A_★ C_★\n",
      "A_★ D_★\n",
      "A_★ A_obs\n",
      "C_★ C_obs\n"
     ]
    }
   ],
   "source": [
    "for edge in G_sub.edges(data=True):\n",
    "    if edge not in sub_edges:\n",
    "#         G_sub.remove_edge(*edge[0:2])\n",
    "        print(*edge[0:2])"
   ]
  },
  {
   "cell_type": "code",
   "execution_count": 112,
   "metadata": {
    "collapsed": false
   },
   "outputs": [
    {
     "data": {
      "text/plain": [
       "[('D_★', 'B_★'),\n",
       " ('D_★', 'D_obs'),\n",
       " ('A_★', 'D_★'),\n",
       " ('A_★', 'A_obs'),\n",
       " ('A_★', 'C_★'),\n",
       " ('B_★', 'B_obs'),\n",
       " ('B_★', 'D_★'),\n",
       " ('C_★', 'C_obs')]"
      ]
     },
     "execution_count": 112,
     "metadata": {},
     "output_type": "execute_result"
    }
   ],
   "source": [
    "sub_edges"
   ]
  },
  {
   "cell_type": "code",
   "execution_count": 113,
   "metadata": {
    "collapsed": false
   },
   "outputs": [
    {
     "name": "stdout",
     "output_type": "stream",
     "text": [
      "[('D_★', 'D_obs'), ('A_★', 'D_★'), ('A_★', 'A_obs'), ('A_★', 'C_★'), ('B_★', 'B_obs'), ('B_★', 'D_★'), ('C_★', 'C_obs')]\n"
     ]
    }
   ],
   "source": [
    "sub_nodes = list({y for x in sub_edges for y in x[0:2]})\n",
    "sub_edges.pop(0)\n",
    "print(sub_edges)\n",
    "G_sub = test_me.subgraph(sub_nodes)"
   ]
  },
  {
   "cell_type": "code",
   "execution_count": 107,
   "metadata": {
    "collapsed": false
   },
   "outputs": [
    {
     "name": "stdout",
     "output_type": "stream",
     "text": [
      "('B_★', 'D_★')\n",
      "('B_★', 'B_obs')\n",
      "('D_★', 'B_★')\n",
      "('D_★', 'D_obs')\n",
      "('A_★', 'C_★')\n",
      "('A_★', 'D_★')\n",
      "('A_★', 'A_obs')\n",
      "('C_★', 'C_obs')\n"
     ]
    }
   ],
   "source": [
    "for edge in G_sub.edges():\n",
    "    print(edge)"
   ]
  },
  {
   "cell_type": "code",
   "execution_count": 134,
   "metadata": {
    "collapsed": false
   },
   "outputs": [],
   "source": [
    "def subgraph_from_edges(G,edge_list,ref_back=True):\n",
    "    \"\"\"\n",
    "    Creates a networkx graph that is a subgraph of G\n",
    "    defined by the list of edges in edge_list.\n",
    "\n",
    "    Requires G to be a networkx Graph or DiGraph\n",
    "    edge_list is a list of edges in either (u,v) or (u,v,d) form\n",
    "    where u and v are nodes comprising an edge, \n",
    "    and d would be a dictionary of edge attributes\n",
    "\n",
    "    ref_back determines whether the created subgraph refers to back\n",
    "    to the original graph and therefore changes to the subgraph's \n",
    "    attributes also affect the original graph, or if it is to create a\n",
    "    new copy of the original graph. \n",
    "    \"\"\"\n",
    "    \n",
    "    sub_nodes = list({y for x in sub_edges for y in x[0:2]})\n",
    "    edge_list_no_data = [edge[0:2] for edge in edge_list]\n",
    "    \n",
    "    if ref_back:\n",
    "        G_sub = G.subgraph(sub_nodes)\n",
    "        for edge in G_sub.edges():\n",
    "            if edge not in edge_list_no_data:\n",
    "                G_sub.remove_edge(*edge)\n",
    "    else:\n",
    "        G_sub = G.subgraph(sub_nodes).copy()\n",
    "        for edge in G_sub.edges():\n",
    "            if edge not in edge_list_no_data:\n",
    "                G_sub.remove_edge(*edge)\n",
    "                \n",
    "    return G_sub"
   ]
  },
  {
   "cell_type": "code",
   "execution_count": 22,
   "metadata": {
    "collapsed": false
   },
   "outputs": [
    {
     "data": {
      "text/plain": [
       "[4.1819448098726477,\n",
       " 48.954238103264487,\n",
       " 0.11344504641206675,\n",
       " 5.0979337074711406,\n",
       " 97.476232211629721,\n",
       " 0.63781144972496362,\n",
       " 3.6595265728086894,\n",
       " 2.6138498724353911,\n",
       " 0.53460621794354402,\n",
       " 86.007564047884117]"
      ]
     },
     "execution_count": 22,
     "metadata": {},
     "output_type": "execute_result"
    }
   ],
   "source": [
    "lower_bound = np.log(1/10)\n",
    "upper_bound = np.log(100)\n",
    "sample_size = 10\n",
    "\n",
    "list(np.exp(np.random.uniform(lower_bound,upper_bound, sample_size)))"
   ]
  },
  {
   "cell_type": "code",
   "execution_count": 4,
   "metadata": {
    "collapsed": false
   },
   "outputs": [
    {
     "data": {
      "text/plain": [
       "{'lambda0': 1.0,\n",
       " 'mu': array([ 3.82001574,  4.04440094,  0.86065167,  1.04792785,  0.75265984,\n",
       "         0.40766355,  0.12328736,  2.8922141 ,  0.0065804 ,  0.32915792]),\n",
       " 'n': 10,\n",
       " 'p': 0.8,\n",
       " 'psi': array([ 1.99483499,  5.27743021,  0.69622677,  0.61497876,  2.3412383 ,\n",
       "         0.64726211,  0.08078222,  0.75777148,  0.01917067,  0.04662125]),\n",
       " 'r': array([ 0.52220596,  1.30487315,  0.80895303,  0.5868522 ,  3.11061942,\n",
       "         1.58773605,  0.65523524,  0.26200394,  2.91329992,  0.14163795])}"
      ]
     },
     "execution_count": 4,
     "metadata": {},
     "output_type": "execute_result"
    }
   ],
   "source": [
    "gp = GraphParams(len(test_here.edges))\n",
    "gp.sample()"
   ]
  },
  {
   "cell_type": "code",
   "execution_count": 17,
   "metadata": {
    "collapsed": false
   },
   "outputs": [
    {
     "data": {
      "text/plain": [
       "[('A_int', 'A_out'),\n",
       " ('A_int', 'A_★'),\n",
       " ('A_★', 'A_out'),\n",
       " ('A_★', 'C_★'),\n",
       " ('A_★', 'D_★'),\n",
       " ('B_★', 'B_out'),\n",
       " ('B_★', 'D_★'),\n",
       " ('C_★', 'C_out'),\n",
       " ('D_★', 'B_★'),\n",
       " ('D_★', 'D_out')]"
      ]
     },
     "execution_count": 17,
     "metadata": {},
     "output_type": "execute_result"
    }
   ],
   "source": [
    "test_here.edges"
   ]
  },
  {
   "cell_type": "code",
   "execution_count": 13,
   "metadata": {
    "collapsed": false
   },
   "outputs": [
    {
     "data": {
      "text/plain": [
       "[('A_★', 'A_out', {'edge_type': 'observed'}),\n",
       " ('A_★', 'D_★', {'edge_type': 'hidden'}),\n",
       " ('A_★', 'C_★', {'edge_type': 'hidden'}),\n",
       " ('B_★', 'B_out', {'edge_type': 'observed'}),\n",
       " ('B_★', 'D_★', {'edge_type': 'hidden'}),\n",
       " ('A_int', 'A_out', {'edge_type': 'deterministic_intervention'}),\n",
       " ('A_int', 'A_★', {'edge_type': 'deterministic_intervention'}),\n",
       " ('D_★', 'B_★', {'edge_type': 'hidden'}),\n",
       " ('D_★', 'D_out', {'edge_type': 'observed'}),\n",
       " ('C_★', 'C_out', {'edge_type': 'observed'})]"
      ]
     },
     "execution_count": 13,
     "metadata": {},
     "output_type": "execute_result"
    }
   ],
   "source": [
    "test_me.edges(data=True)"
   ]
  },
  {
   "cell_type": "code",
   "execution_count": 18,
   "metadata": {
    "collapsed": false
   },
   "outputs": [
    {
     "data": {
      "text/plain": [
       "{('A_int', 'A_out'): 0.013888888888888888,\n",
       " ('A_int', 'A_★'): 0.09722222222222221,\n",
       " ('A_★', 'A_out'): 0.013888888888888888,\n",
       " ('A_★', 'C_★'): 0.05555555555555555,\n",
       " ('A_★', 'D_★'): 0.1111111111111111,\n",
       " ('B_★', 'B_out'): 0.05555555555555555,\n",
       " ('B_★', 'D_★'): 0.027777777777777776,\n",
       " ('C_★', 'C_out'): 0.041666666666666664,\n",
       " ('D_★', 'B_★'): 0.08333333333333333,\n",
       " ('D_★', 'D_out'): 0.05555555555555555}"
      ]
     },
     "execution_count": 18,
     "metadata": {},
     "output_type": "execute_result"
    }
   ],
   "source": []
  },
  {
   "cell_type": "code",
   "execution_count": 11,
   "metadata": {
    "collapsed": false
   },
   "outputs": [
    {
     "data": {
      "text/plain": [
       "['A_int', 'A_out', 'A_★', 'B_out', 'B_★', 'C_out', 'C_★', 'D_out', 'D_★']"
      ]
     },
     "execution_count": 11,
     "metadata": {},
     "output_type": "execute_result"
    }
   ],
   "source": []
  },
  {
   "cell_type": "code",
   "execution_count": null,
   "metadata": {
    "collapsed": true
   },
   "outputs": [],
   "source": []
  }
 ],
 "metadata": {
  "kernelspec": {
   "display_name": "Python 3",
   "language": "python",
   "name": "python3"
  },
  "language_info": {
   "codemirror_mode": {
    "name": "ipython",
    "version": 3
   },
   "file_extension": ".py",
   "mimetype": "text/x-python",
   "name": "python",
   "nbconvert_exporter": "python",
   "pygments_lexer": "ipython3",
   "version": "3.5.0"
  }
 },
 "nbformat": 4,
 "nbformat_minor": 0
}
