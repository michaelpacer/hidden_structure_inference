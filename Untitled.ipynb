{
 "cells": [
  {
   "cell_type": "code",
   "execution_count": 1,
   "metadata": {
    "collapsed": false
   },
   "outputs": [],
   "source": [
    "%load_ext autoreload\n",
    "%autoreload 3"
   ]
  },
  {
   "cell_type": "code",
   "execution_count": 2,
   "metadata": {
    "collapsed": false
   },
   "outputs": [],
   "source": [
    "import numpy as np\n",
    "import networkx as nx\n",
    "from graph_enumerator import *\n",
    "from graph_local_classes import *\n",
    "from node_semantics import Node_Name_Rule, Edge_Semantics_Rule"
   ]
  },
  {
   "cell_type": "code",
   "execution_count": 3,
   "metadata": {
    "collapsed": false
   },
   "outputs": [],
   "source": [
    "generator_dictionary ={ \"nodes\" : [\"A_int\",\"A_obs\",\"A_★\",\"B_obs\",\"B_★\",\"C_obs\",\"C_★\",\"D_obs\",\"D_★\"],\n",
    "    \"query_edge_set\" : [\n",
    "        (\"A_★\",'B_★'),\n",
    "        (\"A_★\",'C_★'),\n",
    "        (\"A_★\",'D_★'),\n",
    "        (\"B_★\",'C_★'),\n",
    "        (\"B_★\",'D_★'),\n",
    "        (\"C_★\",'B_★'),\n",
    "        (\"C_★\",'D_★'),\n",
    "        (\"D_★\",'B_★'),\n",
    "        (\"D_★\",'C_★')\n",
    "    ],\n",
    "    \"filters\": {\n",
    "        \"explicit_child_parentage\"  : [[\n",
    "            (\"A_int\",[]),\n",
    "            (\"A_★\",[\"A_int\"]),\n",
    "            ('A_obs',['A_int','A_★']),\n",
    "            ('B_obs',['B_★']),\n",
    "            ('C_obs',[\"C_★\"]),\n",
    "            ('D_obs',[\"D_★\"])\n",
    "        ]],\n",
    "        \"explicit_parent_offspring\" : [[\n",
    "            ('A_int',['A_obs','A_★']),\n",
    "            (\"A_obs\",[]),\n",
    "            (\"B_obs\",[]),\n",
    "            (\"C_obs\",[]),\n",
    "            (\"D_obs\",[])\n",
    "        ]],\n",
    "        \"extract_remove_self_loops\": []\n",
    "    },\n",
    "    \"conditions\": {\n",
    "        \"create_path_complete_condition\" : [[(\"A_int\",\"B_★\"),(\"A_int\",\"C_★\"),(\"A_int\",\"D_★\")]],\n",
    "    }\n",
    "}\n",
    "\n",
    "\n",
    "\n",
    "node_semantics={\n",
    "        # \".*_int\" → intervener\n",
    "        \"intervener\": {\n",
    "            \"node_type\":\"intervener\",\n",
    "            \"where\":\"suffix\",\n",
    "            \"infix\":\"_\",\n",
    "            \"code\":\"int\"},\n",
    "        # \".*_obs\" → observed\n",
    "        \"observed\": {\n",
    "            \"node_type\":\"observed\",\n",
    "            \"where\":\"suffix\",\n",
    "            \"infix\":\"_\",\n",
    "            \"code\":\"obs\"},\n",
    "        # \".*_★\" → hidden\n",
    "        \"hidden\": {\n",
    "            \"node_type\":\"hidden\",\n",
    "            \"where\":\"suffix\",\n",
    "            \"infix\":\"_\",\n",
    "            \"code\":\"★\"}\n",
    "}\n",
    "\n",
    "edge_semantics={\n",
    "    \"hidden_sample\":{\n",
    "        \"source_types\":[\"hidden\"],\n",
    "        \"target_types\":[\"hidden\"],\n",
    "        \"edge_type\": \"hidden_sample\"\n",
    "    },\n",
    "    \"observed\":{\n",
    "        \"source_types\":[\"hidden\"],\n",
    "        \"target_types\":[\"observed\"],\n",
    "        \"edge_type\": \"observed\"\n",
    "    },\n",
    "    \"intervention\":{\n",
    "        \"source_types\":[\"intervener\"],\n",
    "        \"target_types\":None,\n",
    "        \"edge_type\": \"intervention\"\n",
    "    }\n",
    "}\n",
    "# todo(maybe): rework filters and conditions to take node types and edge types as arguments"
   ]
  },
  {
   "cell_type": "code",
   "execution_count": 4,
   "metadata": {
    "collapsed": false
   },
   "outputs": [
    {
     "name": "stdout",
     "output_type": "stream",
     "text": [
      "<function create_path_complete_condition.<locals>.path_complete_condition at 0x10a626510>\n"
     ]
    }
   ],
   "source": [
    "working_graph_iter = generate_graphs(**generator_dictionary)\n",
    "working_graphs = list(working_graph_iter)"
   ]
  },
  {
   "cell_type": "code",
   "execution_count": 10,
   "metadata": {
    "collapsed": false
   },
   "outputs": [],
   "source": [
    "working_graph_index = 50\n",
    "test_me=working_graphs[working_graph_index].copy()\n",
    "\n",
    "Node_Name_Rule.graph_semantics_apply(test_me,node_semantics)\n",
    "Edge_Semantics_Rule.graph_semantics_apply(test_me,edge_semantics)\n",
    "\n",
    "hidden_edges = [x for x in test_me.edges(data=True) if x[2]['edge_type'] in [\"hidden_sample\"]]\n",
    "observed_edges = [x for x in test_me.edges(data=True) if x[2]['edge_type'] in [\"observed\"]]\n",
    "G_inner_test = subgraph_from_edges(test_me,hidden_edges,ref_back=False)\n",
    "G_outer_test = subgraph_from_edges(test_me,observed_edges,ref_back=False)\n"
   ]
  },
  {
   "cell_type": "code",
   "execution_count": 9,
   "metadata": {
    "collapsed": false
   },
   "outputs": [
    {
     "data": {
      "text/plain": [
       "{'lambda0': [9.3407119002064487],\n",
       " 'mu': array([ 0.71215985,  0.62645604,  0.1154647 ,  0.25650547]),\n",
       " 'n': 4,\n",
       " 'names': [('A_★', 'A_obs'),\n",
       "  ('B_★', 'B_obs'),\n",
       "  ('C_★', 'C_obs'),\n",
       "  ('D_★', 'D_obs')],\n",
       " 'p': 0.8,\n",
       " 'psi': array([  7.25640488,  16.30139867,   2.59736371,   2.46992138]),\n",
       " 'psi_shape': 1.0,\n",
       " 'r': array([ 10.18929231,  26.02161625,  22.49487349,   9.62911785]),\n",
       " 'r_shape': 1.0,\n",
       " 'scale_free_bounds': (0.01, 100)}"
      ]
     },
     "execution_count": 9,
     "metadata": {},
     "output_type": "execute_result"
    }
   ],
   "source": [
    "inner_test = GraphStructure.from_networkx(G_inner_test)\n",
    "outer_test = GraphStructure.from_networkx(G_outer_test)\n",
    "gp_in = GraphParams.from_structure(inner_test)\n",
    "gp_out = GraphParams.from_structure(outer_test)\n",
    "gp_in.sample()\n",
    "gp_out.sample()"
   ]
  },
  {
   "cell_type": "code",
   "execution_count": 60,
   "metadata": {
    "collapsed": false
   },
   "outputs": [
    {
     "data": {
      "text/plain": [
       "array([[  0.00000000e+00,              inf,              inf,\n",
       "          3.38002851e-03],\n",
       "       [  0.00000000e+00,              inf,   1.82308694e-01,\n",
       "          2.20419458e-05],\n",
       "       [  0.00000000e+00,              inf,   9.69919489e-02,\n",
       "          3.58098956e-03],\n",
       "       ..., \n",
       "       [  0.00000000e+00,              inf,              inf,\n",
       "                     inf],\n",
       "       [  0.00000000e+00,              inf,              inf,\n",
       "                     inf],\n",
       "       [  0.00000000e+00,   3.87406556e-01,   3.83090182e-01,\n",
       "          1.34034350e-04]])"
      ]
     },
     "execution_count": 60,
     "metadata": {},
     "output_type": "execute_result"
    }
   ],
   "source": [
    "inner_simul = InnerGraphSimulation(inner_test,gp_in)\n",
    "inner_simul.sample(1000)"
   ]
  }
 ],
 "metadata": {
  "kernelspec": {
   "display_name": "Python 3",
   "language": "python",
   "name": "python3"
  },
  "language_info": {
   "codemirror_mode": {
    "name": "ipython",
    "version": 3
   },
   "file_extension": ".py",
   "mimetype": "text/x-python",
   "name": "python",
   "nbconvert_exporter": "python",
   "pygments_lexer": "ipython3",
   "version": "3.5.0"
  }
 },
 "nbformat": 4,
 "nbformat_minor": 0
}
