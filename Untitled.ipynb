{
 "cells": [
  {
   "cell_type": "code",
   "execution_count": 24,
   "metadata": {
    "collapsed": false
   },
   "outputs": [],
   "source": [
    "%load_ext autoreload\n",
    "%autoreload 3"
   ]
  },
  {
   "cell_type": "code",
   "execution_count": 26,
   "metadata": {
    "collapsed": false
   },
   "outputs": [],
   "source": [
    "import numpy as np\n",
    "import networkx as nx\n",
    "from graph_enumerator import *\n",
    "from graph_local_classes import *\n",
    "from node_semantics import Node_Name_Rule, Edge_Semantics_Rule"
   ]
  },
  {
   "cell_type": "code",
   "execution_count": 4,
   "metadata": {
    "collapsed": false
   },
   "outputs": [],
   "source": [
    "def intervention_effects(graph):    \n",
    "    return node_name_edge_picker_source_node(\"int\", graph)\n",
    "\n",
    "def cause_observation_pairings(graph):    \n",
    "    return node_name_edge_picker_2_args(\"★\", \"obs\", graph)\n",
    "\n",
    "def hidden_cause_pairs(graph):\n",
    "    return node_name_edge_picker_2_args(\"★\", \"★\", graph)\n",
    "       \n",
    "\n",
    "def local_graph_edge_types(graph):\n",
    "    set_graph_edge_types(graph,intervention_effects(graph),\"deterministic_intervention\")\n",
    "    set_graph_edge_types(graph,cause_observation_pairings(graph),\"observed\")\n",
    "    set_graph_edge_types(graph,hidden_cause_pairs(graph),\"hidden\")\n",
    "    \n",
    "def node_to_edge_semantics(graph):\n",
    "    pass"
   ]
  },
  {
   "cell_type": "code",
   "execution_count": 37,
   "metadata": {
    "collapsed": false
   },
   "outputs": [],
   "source": [
    "generator_dictionary ={ \"nodes\" : [\"A_int\",\"A_obs\",\"A_★\",\"B_obs\",\"B_★\",\"C_obs\",\"C_★\",\"D_obs\",\"D_★\"],\n",
    "    \"query_edge_set\" : [\n",
    "        (\"A_★\",'B_★'),\n",
    "        (\"A_★\",'C_★'),\n",
    "        (\"A_★\",'D_★'),\n",
    "        (\"B_★\",'C_★'),\n",
    "        (\"B_★\",'D_★'),\n",
    "        (\"C_★\",'B_★'),\n",
    "        (\"C_★\",'D_★'),\n",
    "        (\"D_★\",'B_★'),\n",
    "        (\"D_★\",'C_★')\n",
    "    ],\n",
    "    \"filters\": {\n",
    "        \"explicit_child_parentage\"  : [[\n",
    "            (\"A_int\",[]),\n",
    "            (\"A_★\",[\"A_int\"]),\n",
    "            ('A_obs',['A_int','A_★']),\n",
    "            ('B_obs',['B_★']),\n",
    "            ('C_obs',[\"C_★\"]),\n",
    "            ('D_obs',[\"D_★\"])\n",
    "        ]],\n",
    "        \"explicit_parent_offspring\" : [[\n",
    "            ('A_int',['A_obs','A_★']),\n",
    "            (\"A_obs\",[]),\n",
    "            (\"B_obs\",[]),\n",
    "            (\"C_obs\",[]),\n",
    "            (\"D_obs\",[])\n",
    "        ]],\n",
    "        \"extract_remove_self_loops\": []\n",
    "    },\n",
    "    \"conditions\": {\n",
    "        \"create_path_complete_condition\" : [[(\"A_int\",\"B_★\"),(\"A_int\",\"C_★\"),(\"A_int\",\"D_★\")]],\n",
    "    }\n",
    "}\n",
    "\n",
    "\n",
    "\n",
    "node_semantics={\n",
    "        # \".*_int\" → intervener\n",
    "        \"intervener\": {\n",
    "            \"node_type\":\"intervener\",\n",
    "            \"where\":\"suffix\",\n",
    "            \"infix\":\"_\",\n",
    "            \"code\":\"int\"},\n",
    "        # \".*_obs\" → observed\n",
    "        \"observed\": {\n",
    "            \"node_type\":\"observed\",\n",
    "            \"where\":\"suffix\",\n",
    "            \"infix\":\"_\",\n",
    "            \"code\":\"obs\"},\n",
    "        # \".*_★\" → hidden\n",
    "        \"hidden\": {\n",
    "            \"node_type\":\"hidden\",\n",
    "            \"where\":\"suffix\",\n",
    "            \"infix\":\"_\",\n",
    "            \"code\":\"★\"}\n",
    "}\n",
    "\n",
    "edge_semantics={\n",
    "    \"hidden_sample\":{\n",
    "        \"source_types\":[\"hidden\"],\n",
    "        \"target_types\":[\"hidden\"],\n",
    "        \"edge_type\": \"hidden_sample\"\n",
    "    },\n",
    "    \"observed\":{\n",
    "        \"source_types\":[\"hidden\"],\n",
    "        \"target_types\":[\"observed\"],\n",
    "        \"edge_type\": \"observed\"\n",
    "    },\n",
    "    \"intervention\":{\n",
    "        \"source_types\":[\"intervener\"],\n",
    "        \"target_types\":None,\n",
    "        \"edge_type\": \"intervention\"\n",
    "    }\n",
    "}\n",
    "# todo(maybe): rework filters and conditions to take node types and edge types as arguments"
   ]
  },
  {
   "cell_type": "code",
   "execution_count": 39,
   "metadata": {
    "collapsed": false
   },
   "outputs": [
    {
     "name": "stdout",
     "output_type": "stream",
     "text": [
      "<function create_path_complete_condition.<locals>.path_complete_condition at 0x1042c0598>\n"
     ]
    }
   ],
   "source": [
    "working_graph_iter = generate_graphs(**generator_dictionary)\n",
    "\n",
    "working_graphs = list(working_graph_iter)\n"
   ]
  },
  {
   "cell_type": "code",
   "execution_count": 41,
   "metadata": {
    "collapsed": false
   },
   "outputs": [],
   "source": [
    "working_graph_index = 50\n",
    "test_me.clear()\n",
    "test_me=working_graphs[working_graph_index].copy()\n",
    "\n",
    "Node_Name_Rule.graph_semantics_apply(test_me,node_semantics)\n",
    "\n",
    "Edge_Semantics_Rule.graph_semantics_apply(test_me,edge_semantics)\n",
    "\n",
    "hidden_edges = [x for x in test_me.edges(data=True) if x[2]['edge_type'] in [\"hidden_sample\"]]\n",
    "observed_edges = [x for x in test_me.edges(data=True) if x[2]['edge_type'] in [\"observed\"]]\n",
    "G_inner_test = subgraph_from_edges(test_me,hidden_edges,ref_back=False)\n",
    "G_outer_test = subgraph_from_edges(test_me,observed_edges,ref_back=False)\n",
    "# for edge in G_inner_test.edges(data=True):\n",
    "#     print(edge)\n"
   ]
  },
  {
   "cell_type": "code",
   "execution_count": 49,
   "metadata": {
    "collapsed": false
   },
   "outputs": [
    {
     "data": {
      "text/plain": [
       "[('B_★', 'C_★', {'edge_type': 'hidden_sample'}),\n",
       " ('B_★', 'D_★', {'edge_type': 'hidden_sample'}),\n",
       " ('D_★', 'C_★', {'edge_type': 'hidden_sample'}),\n",
       " ('A_★', 'D_★', {'edge_type': 'hidden_sample'}),\n",
       " ('C_★', 'B_★', {'edge_type': 'hidden_sample'}),\n",
       " ('C_★', 'D_★', {'edge_type': 'hidden_sample'})]"
      ]
     },
     "execution_count": 49,
     "metadata": {},
     "output_type": "execute_result"
    }
   ],
   "source": []
  },
  {
   "cell_type": "code",
   "execution_count": 59,
   "metadata": {
    "collapsed": false
   },
   "outputs": [
    {
     "data": {
      "text/plain": [
       "{'lambda0': [0.066025258250857644],\n",
       " 'mu': array([ 1.90060551,  0.74877799,  0.10805237,  5.91274236]),\n",
       " 'n': 4,\n",
       " 'names': [('A_★', 'A_obs'),\n",
       "  ('B_★', 'B_obs'),\n",
       "  ('C_★', 'C_obs'),\n",
       "  ('D_★', 'D_obs')],\n",
       " 'p': 0.8,\n",
       " 'psi': array([ 0.05581055,  0.04043496,  0.00415552,  0.04601343]),\n",
       " 'psi_shape': 1.0,\n",
       " 'r': array([ 0.02936461,  0.05400126,  0.03845841,  0.00778208]),\n",
       " 'r_shape': 1.0,\n",
       " 'scale_free_bounds': (0.01, 100)}"
      ]
     },
     "execution_count": 59,
     "metadata": {},
     "output_type": "execute_result"
    }
   ],
   "source": [
    "inner_test = GraphStructure.from_networkx(G_inner_test)\n",
    "outer_test = GraphStructure.from_networkx(G_outer_test)\n",
    "gp_in = GraphParams.from_structure(inner_test)\n",
    "gp_out = GraphParams.from_structure(outer_test)\n",
    "gp_in.sample()\n",
    "gp_out.sample()"
   ]
  },
  {
   "cell_type": "code",
   "execution_count": 60,
   "metadata": {
    "collapsed": false
   },
   "outputs": [
    {
     "data": {
      "text/plain": [
       "array([[  0.00000000e+00,              inf,              inf,\n",
       "          3.38002851e-03],\n",
       "       [  0.00000000e+00,              inf,   1.82308694e-01,\n",
       "          2.20419458e-05],\n",
       "       [  0.00000000e+00,              inf,   9.69919489e-02,\n",
       "          3.58098956e-03],\n",
       "       ..., \n",
       "       [  0.00000000e+00,              inf,              inf,\n",
       "                     inf],\n",
       "       [  0.00000000e+00,              inf,              inf,\n",
       "                     inf],\n",
       "       [  0.00000000e+00,   3.87406556e-01,   3.83090182e-01,\n",
       "          1.34034350e-04]])"
      ]
     },
     "execution_count": 60,
     "metadata": {},
     "output_type": "execute_result"
    }
   ],
   "source": [
    "inner_simul = InnerGraphSimulation(inner_test,gp_in)\n",
    "inner_simul.sample(1000)"
   ]
  }
 ],
 "metadata": {
  "kernelspec": {
   "display_name": "Python 3",
   "language": "python",
   "name": "python3"
  },
  "language_info": {
   "codemirror_mode": {
    "name": "ipython",
    "version": 3
   },
   "file_extension": ".py",
   "mimetype": "text/x-python",
   "name": "python",
   "nbconvert_exporter": "python",
   "pygments_lexer": "ipython3",
   "version": "3.5.0"
  }
 },
 "nbformat": 4,
 "nbformat_minor": 0
}
