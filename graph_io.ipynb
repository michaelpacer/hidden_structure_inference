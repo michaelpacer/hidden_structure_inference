{
 "cells": [
  {
   "cell_type": "code",
   "execution_count": 3,
   "metadata": {
    "collapsed": true
   },
   "outputs": [],
   "source": [
    "import json\n",
    "import networkx as nx\n",
    "from networkx.readwrite import json_graph"
   ]
  },
  {
   "cell_type": "code",
   "execution_count": 4,
   "metadata": {
    "collapsed": true
   },
   "outputs": [],
   "source": [
    "from lib.graph_enumerator import generate_graphs\n",
    "from lib.node_semantics import Node_Name_Rule, Edge_Semantics_Rule\n",
    "from lib import config, result_config\n",
    "from lib.likelihood_calculations import Inference\n",
    "from lib.utils import filename_utility"
   ]
  },
  {
   "cell_type": "code",
   "execution_count": 9,
   "metadata": {
    "collapsed": true
   },
   "outputs": [],
   "source": [
    "graph_iter = generate_graphs(**config.generator_dictionary)\n",
    "graphs = list(graph_iter)\n",
    "\n",
    "for graph in graphs:    \n",
    "    Node_Name_Rule.graph_semantics_apply(graph,config.node_semantics)\n",
    "    Edge_Semantics_Rule.graph_semantics_apply(graph,config.edge_semantics)\n",
    "\n",
    "test_graph = graphs[0]"
   ]
  },
  {
   "cell_type": "code",
   "execution_count": 10,
   "metadata": {
    "collapsed": false
   },
   "outputs": [
    {
     "data": {
      "text/plain": [
       "{'adjacency': [[{'edge_type': 'hidden_sample', 'id': 'C_★'},\n",
       "   {'edge_type': 'hidden_sample', 'id': 'D_★'},\n",
       "   {'edge_type': 'observed', 'id': 'A_obs'},\n",
       "   {'edge_type': 'hidden_sample', 'id': 'B_★'}],\n",
       "  [{'edge_type': 'hidden_sample', 'id': 'D_★'},\n",
       "   {'edge_type': 'observed', 'id': 'C_obs'},\n",
       "   {'edge_type': 'hidden_sample', 'id': 'B_★'}],\n",
       "  [{'edge_type': 'hidden_sample', 'id': 'C_★'},\n",
       "   {'edge_type': 'observed', 'id': 'D_obs'},\n",
       "   {'edge_type': 'hidden_sample', 'id': 'B_★'}],\n",
       "  [],\n",
       "  [],\n",
       "  [],\n",
       "  [],\n",
       "  [{'edge_type': 'intervention', 'id': 'A_★'},\n",
       "   {'edge_type': 'intervention', 'id': 'A_obs'}],\n",
       "  [{'edge_type': 'hidden_sample', 'id': 'C_★'},\n",
       "   {'edge_type': 'observed', 'id': 'B_obs'},\n",
       "   {'edge_type': 'hidden_sample', 'id': 'D_★'}]],\n",
       " 'directed': True,\n",
       " 'graph': [],\n",
       " 'multigraph': False,\n",
       " 'nodes': [{'id': 'A_★', 'node_type': 'hidden'},\n",
       "  {'id': 'C_★', 'node_type': 'hidden'},\n",
       "  {'id': 'D_★', 'node_type': 'hidden'},\n",
       "  {'id': 'A_obs', 'node_type': 'observed'},\n",
       "  {'id': 'B_obs', 'node_type': 'observed'},\n",
       "  {'id': 'D_obs', 'node_type': 'observed'},\n",
       "  {'id': 'C_obs', 'node_type': 'observed'},\n",
       "  {'id': 'A_int', 'node_type': 'intervener'},\n",
       "  {'id': 'B_★', 'node_type': 'hidden'}]}"
      ]
     },
     "execution_count": 10,
     "metadata": {},
     "output_type": "execute_result"
    }
   ],
   "source": [
    "json_graph.adjacency_data(test_graph)"
   ]
  },
  {
   "cell_type": "code",
   "execution_count": 14,
   "metadata": {
    "collapsed": false
   },
   "outputs": [
    {
     "data": {
      "text/plain": [
       "{}"
      ]
     },
     "execution_count": 14,
     "metadata": {},
     "output_type": "execute_result"
    }
   ],
   "source": [
    "test_2= json_graph.adjacency_graph(json_graph.adjacency_data(test_graph))\n",
    "test_2"
   ]
  },
  {
   "cell_type": "code",
   "execution_count": 6,
   "metadata": {
    "collapsed": false
   },
   "outputs": [
    {
     "data": {
      "text/plain": [
       "[('A_★', 'C_★', {'edge_type': 'hidden_sample'}),\n",
       " ('A_★', 'D_★', {'edge_type': 'hidden_sample'}),\n",
       " ('A_★', 'A_obs', {'edge_type': 'observed'}),\n",
       " ('A_★', 'B_★', {'edge_type': 'hidden_sample'}),\n",
       " ('D_★', 'C_★', {'edge_type': 'hidden_sample'}),\n",
       " ('D_★', 'D_obs', {'edge_type': 'observed'}),\n",
       " ('D_★', 'B_★', {'edge_type': 'hidden_sample'}),\n",
       " ('C_★', 'D_★', {'edge_type': 'hidden_sample'}),\n",
       " ('C_★', 'C_obs', {'edge_type': 'observed'}),\n",
       " ('C_★', 'B_★', {'edge_type': 'hidden_sample'}),\n",
       " ('A_int', 'A_★', {'edge_type': 'intervention'}),\n",
       " ('A_int', 'A_obs', {'edge_type': 'intervention'}),\n",
       " ('B_★', 'C_★', {'edge_type': 'hidden_sample'}),\n",
       " ('B_★', 'B_obs', {'edge_type': 'observed'}),\n",
       " ('B_★', 'D_★', {'edge_type': 'hidden_sample'})]"
      ]
     },
     "execution_count": 6,
     "metadata": {},
     "output_type": "execute_result"
    }
   ],
   "source": [
    "for edge in test_2.edges():\n",
    "    attr = test_2[edge[0]][edge[1]]\n",
    "    if 'id' in attr:\n",
    "        del attr['id']\n",
    "test_2.edges(data=True)"
   ]
  },
  {
   "cell_type": "code",
   "execution_count": null,
   "metadata": {
    "collapsed": true
   },
   "outputs": [],
   "source": []
  }
 ],
 "metadata": {
  "kernelspec": {
   "display_name": "Python 3",
   "language": "python",
   "name": "python3"
  },
  "language_info": {
   "codemirror_mode": {
    "name": "ipython",
    "version": 3
   },
   "file_extension": ".py",
   "mimetype": "text/x-python",
   "name": "python",
   "nbconvert_exporter": "python",
   "pygments_lexer": "ipython3",
   "version": "3.5.0"
  }
 },
 "nbformat": 4,
 "nbformat_minor": 0
}
