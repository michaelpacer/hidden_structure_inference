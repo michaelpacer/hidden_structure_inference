{
 "cells": [
  {
   "cell_type": "code",
   "execution_count": 6,
   "metadata": {
    "collapsed": true
   },
   "outputs": [],
   "source": [
    "import numpy as np\n",
    "from lib import config, result_config"
   ]
  },
  {
   "cell_type": "code",
   "execution_count": 7,
   "metadata": {
    "collapsed": false
   },
   "outputs": [],
   "source": [
    "data = np.load(\"results/hidden_structure_results_2015_50_1_1525.npz\")"
   ]
  },
  {
   "cell_type": "code",
   "execution_count": 48,
   "metadata": {
    "collapsed": false
   },
   "outputs": [],
   "source": [
    "results_posterior = data['posterior']\n",
    "results_params = data['init_dict'].item()\n",
    "results_loglik = data['loglik']"
   ]
  },
  {
   "cell_type": "code",
   "execution_count": 54,
   "metadata": {
    "collapsed": false
   },
   "outputs": [
    {
     "data": {
      "text/plain": [
       "1"
      ]
     },
     "execution_count": 54,
     "metadata": {},
     "output_type": "execute_result"
    }
   ],
   "source": [
    "data['init_dict'].size"
   ]
  },
  {
   "cell_type": "code",
   "execution_count": null,
   "metadata": {
    "collapsed": true
   },
   "outputs": [],
   "source": [
    "for idx,g in enumerate(result_graphs):\n",
    "    for edge in edges_of_interest:\n",
    "        if edge in g.edges():\n",
    "            edges_of_interest[edge]+=result_posterior[idx]\n"
   ]
  },
  {
   "cell_type": "code",
   "execution_count": 2,
   "metadata": {
    "collapsed": true
   },
   "outputs": [],
   "source": []
  },
  {
   "cell_type": "code",
   "execution_count": 36,
   "metadata": {
    "collapsed": false
   },
   "outputs": [
    {
     "data": {
      "text/plain": [
       "{'data_probs': [0.512, 0.128, 0.128, 0.032, 0.2],\n",
       " 'data_sets': [[0, 1, 3, 2],\n",
       "  [0, 1, 3, -inf],\n",
       "  [0, 1, -inf, 2],\n",
       "  [0, 1, -inf, -inf],\n",
       "  [0, -inf, -inf, -inf]],\n",
       " 'max_obs_time': 4,\n",
       " 'num_data_samps': 100,\n",
       " 'param_sample_size': 2,\n",
       " 'scale_free_bounds': (0.1, 10),\n",
       " 'sparsity': 0.1,\n",
       " 'stigma_sample_size': 2}"
      ]
     },
     "execution_count": 36,
     "metadata": {},
     "output_type": "execute_result"
    }
   ],
   "source": [
    "results_params"
   ]
  },
  {
   "cell_type": "code",
   "execution_count": 4,
   "metadata": {
    "collapsed": false
   },
   "outputs": [
    {
     "data": {
      "text/plain": [
       "{('A_★', 'B_★'): [1.0, 0.96, 0.58, 0.92],\n",
       " ('A_★', 'C_★'): [0.38, 0.17, 0.88, 0.29],\n",
       " ('A_★', 'D_★'): [0.33, 0.13, 0.54, 0.33],\n",
       " ('B_★', 'C_★'): [0.75, 0.79, 0.21, 0.79],\n",
       " ('B_★', 'D_★'): [0.75, 0.96, 0.38, 0.88],\n",
       " ('C_★', 'B_★'): [0.63, 0.38, 0.79, 0.5],\n",
       " ('C_★', 'D_★'): [0.29, 0.21, 0.33, 0.29],\n",
       " ('D_★', 'B_★'): [0.5, 0.46, 0.5, 0.46],\n",
       " ('D_★', 'C_★'): [0.25, 0.83, 0.71, 0.21]}"
      ]
     },
     "execution_count": 4,
     "metadata": {},
     "output_type": "execute_result"
    }
   ],
   "source": [
    "result_config.lag_slo_results"
   ]
  },
  {
   "cell_type": "code",
   "execution_count": 30,
   "metadata": {
    "collapsed": false
   },
   "outputs": [],
   "source": [
    "blah = test.item()"
   ]
  },
  {
   "cell_type": "code",
   "execution_count": 34,
   "metadata": {
    "collapsed": false
   },
   "outputs": [
    {
     "data": {
      "text/plain": [
       "dict_keys(['data_sets', 'param_sample_size', 'stigma_sample_size', 'scale_free_bounds', 'max_obs_time', 'data_probs', 'sparsity', 'num_data_samps'])"
      ]
     },
     "execution_count": 34,
     "metadata": {},
     "output_type": "execute_result"
    }
   ],
   "source": [
    "blah.keys()"
   ]
  },
  {
   "cell_type": "code",
   "execution_count": 13,
   "metadata": {
    "collapsed": true
   },
   "outputs": [],
   "source": [
    "from lib.graph_enumerator import generate_graphs\n",
    "from lib.node_semantics import Node_Name_Rule, Edge_Semantics_Rule\n",
    "from lib import config, result_config\n",
    "from lib.likelihood_calculations import Inference\n",
    "from lib.utils import filename_utility\n"
   ]
  },
  {
   "cell_type": "code",
   "execution_count": 14,
   "metadata": {
    "collapsed": true
   },
   "outputs": [],
   "source": [
    "graph_iter = generate_graphs(**config.generator_dictionary)\n",
    "graphs = list(graph_iter)\n",
    "for graph in graphs:    \n",
    "    Node_Name_Rule.graph_semantics_apply(graph,config.node_semantics)\n",
    "    Edge_Semantics_Rule.graph_semantics_apply(graph,config.edge_semantics)\n"
   ]
  },
  {
   "cell_type": "code",
   "execution_count": 42,
   "metadata": {
    "collapsed": false
   },
   "outputs": [
    {
     "name": "stdout",
     "output_type": "stream",
     "text": [
      "[<networkx.classes.digraph.DiGraph object at 0x10db746a0>, <networkx.classes.digraph.DiGraph object at 0x10db74748>, <networkx.classes.digraph.DiGraph object at 0x10db74780>, <networkx.classes.digraph.DiGraph object at 0x10db747b8>, <networkx.classes.digraph.DiGraph object at 0x10db747f0>, <networkx.classes.digraph.DiGraph object at 0x10db74828>, <networkx.classes.digraph.DiGraph object at 0x10db74860>, <networkx.classes.digraph.DiGraph object at 0x10db74898>, <networkx.classes.digraph.DiGraph object at 0x10db748d0>, <networkx.classes.digraph.DiGraph object at 0x10db74908>, <networkx.classes.digraph.DiGraph object at 0x10db74940>, <networkx.classes.digraph.DiGraph object at 0x10db74978>, <networkx.classes.digraph.DiGraph object at 0x10db749b0>, <networkx.classes.digraph.DiGraph object at 0x10db749e8>, <networkx.classes.digraph.DiGraph object at 0x10db74a20>, <networkx.classes.digraph.DiGraph object at 0x10db74ac8>, <networkx.classes.digraph.DiGraph object at 0x10db74b00>, <networkx.classes.digraph.DiGraph object at 0x10db74b38>, <networkx.classes.digraph.DiGraph object at 0x10db74b70>, <networkx.classes.digraph.DiGraph object at 0x10db74ba8>, <networkx.classes.digraph.DiGraph object at 0x10db74be0>, <networkx.classes.digraph.DiGraph object at 0x10db74c18>, <networkx.classes.digraph.DiGraph object at 0x10db74c50>, <networkx.classes.digraph.DiGraph object at 0x10db74c88>, <networkx.classes.digraph.DiGraph object at 0x10db74cc0>, <networkx.classes.digraph.DiGraph object at 0x10db74cf8>, <networkx.classes.digraph.DiGraph object at 0x10db74d30>, <networkx.classes.digraph.DiGraph object at 0x10db74d68>, <networkx.classes.digraph.DiGraph object at 0x10db74da0>, <networkx.classes.digraph.DiGraph object at 0x10db74dd8>, <networkx.classes.digraph.DiGraph object at 0x10db74e10>, <networkx.classes.digraph.DiGraph object at 0x10db74e48>, <networkx.classes.digraph.DiGraph object at 0x10db74e80>, <networkx.classes.digraph.DiGraph object at 0x10db74eb8>, <networkx.classes.digraph.DiGraph object at 0x10db74ef0>, <networkx.classes.digraph.DiGraph object at 0x10db74f28>, <networkx.classes.digraph.DiGraph object at 0x10db74f60>, <networkx.classes.digraph.DiGraph object at 0x10db74f98>, <networkx.classes.digraph.DiGraph object at 0x10db74fd0>, <networkx.classes.digraph.DiGraph object at 0x10dba0048>, <networkx.classes.digraph.DiGraph object at 0x10dba0080>, <networkx.classes.digraph.DiGraph object at 0x10dba00b8>, <networkx.classes.digraph.DiGraph object at 0x10dba00f0>, <networkx.classes.digraph.DiGraph object at 0x10dba0128>, <networkx.classes.digraph.DiGraph object at 0x10dba0160>, <networkx.classes.digraph.DiGraph object at 0x10dba0198>, <networkx.classes.digraph.DiGraph object at 0x10db74a58>, <networkx.classes.digraph.DiGraph object at 0x10db74a90>, <networkx.classes.digraph.DiGraph object at 0x10dba01d0>, <networkx.classes.digraph.DiGraph object at 0x10dba0208>, <networkx.classes.digraph.DiGraph object at 0x10dba0240>, <networkx.classes.digraph.DiGraph object at 0x10dba0278>, <networkx.classes.digraph.DiGraph object at 0x10dba02b0>, <networkx.classes.digraph.DiGraph object at 0x10dba02e8>, <networkx.classes.digraph.DiGraph object at 0x10dba0320>, <networkx.classes.digraph.DiGraph object at 0x10dba0358>, <networkx.classes.digraph.DiGraph object at 0x10dba0390>, <networkx.classes.digraph.DiGraph object at 0x10dba03c8>, <networkx.classes.digraph.DiGraph object at 0x10dba0400>, <networkx.classes.digraph.DiGraph object at 0x10dba0438>, <networkx.classes.digraph.DiGraph object at 0x10dba0470>, <networkx.classes.digraph.DiGraph object at 0x10dba04a8>, <networkx.classes.digraph.DiGraph object at 0x10dba04e0>, <networkx.classes.digraph.DiGraph object at 0x10dba0518>, <networkx.classes.digraph.DiGraph object at 0x10dba0550>, <networkx.classes.digraph.DiGraph object at 0x10dba0588>, <networkx.classes.digraph.DiGraph object at 0x10dba05c0>, <networkx.classes.digraph.DiGraph object at 0x10dba05f8>, <networkx.classes.digraph.DiGraph object at 0x10dba0668>, <networkx.classes.digraph.DiGraph object at 0x10dba0630>, <networkx.classes.digraph.DiGraph object at 0x10dba06a0>, <networkx.classes.digraph.DiGraph object at 0x10dba06d8>, <networkx.classes.digraph.DiGraph object at 0x10dba0710>, <networkx.classes.digraph.DiGraph object at 0x10dba0748>, <networkx.classes.digraph.DiGraph object at 0x10dba0780>, <networkx.classes.digraph.DiGraph object at 0x10dba07b8>, <networkx.classes.digraph.DiGraph object at 0x10dba07f0>, <networkx.classes.digraph.DiGraph object at 0x10dba0828>, <networkx.classes.digraph.DiGraph object at 0x10dba0860>, <networkx.classes.digraph.DiGraph object at 0x10dba0898>, <networkx.classes.digraph.DiGraph object at 0x10dba08d0>, <networkx.classes.digraph.DiGraph object at 0x10dba0908>, <networkx.classes.digraph.DiGraph object at 0x10dba0978>, <networkx.classes.digraph.DiGraph object at 0x10dba0940>, <networkx.classes.digraph.DiGraph object at 0x10dba09b0>, <networkx.classes.digraph.DiGraph object at 0x10dba09e8>, <networkx.classes.digraph.DiGraph object at 0x10dba0a20>, <networkx.classes.digraph.DiGraph object at 0x10dba0a58>, <networkx.classes.digraph.DiGraph object at 0x10dba0a90>, <networkx.classes.digraph.DiGraph object at 0x10dba0ac8>, <networkx.classes.digraph.DiGraph object at 0x10dba0b00>, <networkx.classes.digraph.DiGraph object at 0x10dba0b38>, <networkx.classes.digraph.DiGraph object at 0x10dba0b70>, <networkx.classes.digraph.DiGraph object at 0x10dba0ba8>, <networkx.classes.digraph.DiGraph object at 0x10dba0be0>, <networkx.classes.digraph.DiGraph object at 0x10dba0c18>, <networkx.classes.digraph.DiGraph object at 0x10dba0c50>, <networkx.classes.digraph.DiGraph object at 0x10dba0c88>, <networkx.classes.digraph.DiGraph object at 0x10dba0cf8>, <networkx.classes.digraph.DiGraph object at 0x10dba0cc0>, <networkx.classes.digraph.DiGraph object at 0x10dba0d30>, <networkx.classes.digraph.DiGraph object at 0x10dba0d68>, <networkx.classes.digraph.DiGraph object at 0x10dba0da0>, <networkx.classes.digraph.DiGraph object at 0x10dba0dd8>, <networkx.classes.digraph.DiGraph object at 0x10dba0e10>, <networkx.classes.digraph.DiGraph object at 0x10dba0e48>, <networkx.classes.digraph.DiGraph object at 0x10dba0e80>, <networkx.classes.digraph.DiGraph object at 0x10dba0eb8>, <networkx.classes.digraph.DiGraph object at 0x10dba0ef0>, <networkx.classes.digraph.DiGraph object at 0x10dba0f28>, <networkx.classes.digraph.DiGraph object at 0x10dba0f60>, <networkx.classes.digraph.DiGraph object at 0x10dba0f98>, <networkx.classes.digraph.DiGraph object at 0x10dba0fd0>, <networkx.classes.digraph.DiGraph object at 0x10dbd4048>, <networkx.classes.digraph.DiGraph object at 0x10dbd4080>, <networkx.classes.digraph.DiGraph object at 0x10dbd40b8>, <networkx.classes.digraph.DiGraph object at 0x10dbd40f0>, <networkx.classes.digraph.DiGraph object at 0x10dbd4128>, <networkx.classes.digraph.DiGraph object at 0x10dbd4160>, <networkx.classes.digraph.DiGraph object at 0x10dbd4198>, <networkx.classes.digraph.DiGraph object at 0x10dbd41d0>, <networkx.classes.digraph.DiGraph object at 0x10dbd4208>, <networkx.classes.digraph.DiGraph object at 0x10dbd4240>, <networkx.classes.digraph.DiGraph object at 0x10dbd4278>, <networkx.classes.digraph.DiGraph object at 0x10dbd42b0>, <networkx.classes.digraph.DiGraph object at 0x10dbd42e8>, <networkx.classes.digraph.DiGraph object at 0x10dbd4320>, <networkx.classes.digraph.DiGraph object at 0x10dbd4358>, <networkx.classes.digraph.DiGraph object at 0x10dbd4390>, <networkx.classes.digraph.DiGraph object at 0x10dbd43c8>, <networkx.classes.digraph.DiGraph object at 0x10dbd4438>, <networkx.classes.digraph.DiGraph object at 0x10dbd4400>, <networkx.classes.digraph.DiGraph object at 0x10dbd4470>, <networkx.classes.digraph.DiGraph object at 0x10dbd44a8>, <networkx.classes.digraph.DiGraph object at 0x10dbd44e0>, <networkx.classes.digraph.DiGraph object at 0x10dbd4550>, <networkx.classes.digraph.DiGraph object at 0x10dbd4518>, <networkx.classes.digraph.DiGraph object at 0x10dbd4588>, <networkx.classes.digraph.DiGraph object at 0x10dbd45f8>, <networkx.classes.digraph.DiGraph object at 0x10dbd45c0>, <networkx.classes.digraph.DiGraph object at 0x10dbd4630>, <networkx.classes.digraph.DiGraph object at 0x10dbd4668>, <networkx.classes.digraph.DiGraph object at 0x10dbd46a0>, <networkx.classes.digraph.DiGraph object at 0x10dbd46d8>, <networkx.classes.digraph.DiGraph object at 0x10dbd4748>, <networkx.classes.digraph.DiGraph object at 0x10dbd4710>, <networkx.classes.digraph.DiGraph object at 0x10dbd4780>, <networkx.classes.digraph.DiGraph object at 0x10dbd47b8>, <networkx.classes.digraph.DiGraph object at 0x10dbd47f0>, <networkx.classes.digraph.DiGraph object at 0x10dbd4828>, <networkx.classes.digraph.DiGraph object at 0x10dbd4860>, <networkx.classes.digraph.DiGraph object at 0x10dbd4898>, <networkx.classes.digraph.DiGraph object at 0x10dbd48d0>, <networkx.classes.digraph.DiGraph object at 0x10dbd4908>, <networkx.classes.digraph.DiGraph object at 0x10dbd4940>, <networkx.classes.digraph.DiGraph object at 0x10dbd49b0>, <networkx.classes.digraph.DiGraph object at 0x10dbd4978>, <networkx.classes.digraph.DiGraph object at 0x10dbd49e8>, <networkx.classes.digraph.DiGraph object at 0x10dbd4a20>, <networkx.classes.digraph.DiGraph object at 0x10dbd4a58>, <networkx.classes.digraph.DiGraph object at 0x10dbd4ac8>, <networkx.classes.digraph.DiGraph object at 0x10dbd4a90>, <networkx.classes.digraph.DiGraph object at 0x10dbd4b00>, <networkx.classes.digraph.DiGraph object at 0x10dbd4b38>, <networkx.classes.digraph.DiGraph object at 0x10dbd4ba8>, <networkx.classes.digraph.DiGraph object at 0x10dbd4be0>, <networkx.classes.digraph.DiGraph object at 0x10dbd4c18>, <networkx.classes.digraph.DiGraph object at 0x10dbd4b70>, <networkx.classes.digraph.DiGraph object at 0x10dbd4c50>, <networkx.classes.digraph.DiGraph object at 0x10dbd4cc0>, <networkx.classes.digraph.DiGraph object at 0x10dbd4cf8>, <networkx.classes.digraph.DiGraph object at 0x10dbd4c88>, <networkx.classes.digraph.DiGraph object at 0x10dbd4d30>, <networkx.classes.digraph.DiGraph object at 0x10dbd4d68>, <networkx.classes.digraph.DiGraph object at 0x10dbd4da0>, <networkx.classes.digraph.DiGraph object at 0x10dbd4dd8>, <networkx.classes.digraph.DiGraph object at 0x10dbd4e10>, <networkx.classes.digraph.DiGraph object at 0x10dbd4e48>, <networkx.classes.digraph.DiGraph object at 0x10dbd4e80>, <networkx.classes.digraph.DiGraph object at 0x10dbd4eb8>, <networkx.classes.digraph.DiGraph object at 0x10dbd4ef0>, <networkx.classes.digraph.DiGraph object at 0x10dbd4f60>, <networkx.classes.digraph.DiGraph object at 0x10dbd4f28>, <networkx.classes.digraph.DiGraph object at 0x10dbd4fd0>, <networkx.classes.digraph.DiGraph object at 0x10dbd4f98>, <networkx.classes.digraph.DiGraph object at 0x10dc07048>, <networkx.classes.digraph.DiGraph object at 0x10dc07080>, <networkx.classes.digraph.DiGraph object at 0x10dc070b8>, <networkx.classes.digraph.DiGraph object at 0x10dc070f0>, <networkx.classes.digraph.DiGraph object at 0x10dc07128>, <networkx.classes.digraph.DiGraph object at 0x10dc07160>, <networkx.classes.digraph.DiGraph object at 0x10dc07198>, <networkx.classes.digraph.DiGraph object at 0x10dc071d0>, <networkx.classes.digraph.DiGraph object at 0x10dc07208>, <networkx.classes.digraph.DiGraph object at 0x10dc07240>, <networkx.classes.digraph.DiGraph object at 0x10dc072b0>, <networkx.classes.digraph.DiGraph object at 0x10dc07278>, <networkx.classes.digraph.DiGraph object at 0x10dc072e8>, <networkx.classes.digraph.DiGraph object at 0x10dc07320>, <networkx.classes.digraph.DiGraph object at 0x10dc07358>, <networkx.classes.digraph.DiGraph object at 0x10dc07390>, <networkx.classes.digraph.DiGraph object at 0x10dc073c8>, <networkx.classes.digraph.DiGraph object at 0x10dc07400>, <networkx.classes.digraph.DiGraph object at 0x10dc07470>, <networkx.classes.digraph.DiGraph object at 0x10dc07438>, <networkx.classes.digraph.DiGraph object at 0x10dc074a8>, <networkx.classes.digraph.DiGraph object at 0x10dc074e0>, <networkx.classes.digraph.DiGraph object at 0x10dc07518>, <networkx.classes.digraph.DiGraph object at 0x10dc07550>, <networkx.classes.digraph.DiGraph object at 0x10dc07588>, <networkx.classes.digraph.DiGraph object at 0x10dc075c0>, <networkx.classes.digraph.DiGraph object at 0x10dc075f8>, <networkx.classes.digraph.DiGraph object at 0x10dc07630>, <networkx.classes.digraph.DiGraph object at 0x10dc07668>, <networkx.classes.digraph.DiGraph object at 0x10dc076a0>, <networkx.classes.digraph.DiGraph object at 0x10dc076d8>, <networkx.classes.digraph.DiGraph object at 0x10dc07710>, <networkx.classes.digraph.DiGraph object at 0x10dc07748>, <networkx.classes.digraph.DiGraph object at 0x10dc07780>, <networkx.classes.digraph.DiGraph object at 0x10dc077b8>, <networkx.classes.digraph.DiGraph object at 0x10dc077f0>, <networkx.classes.digraph.DiGraph object at 0x10dc07828>, <networkx.classes.digraph.DiGraph object at 0x10dc07860>, <networkx.classes.digraph.DiGraph object at 0x10dc07898>, <networkx.classes.digraph.DiGraph object at 0x10dc078d0>, <networkx.classes.digraph.DiGraph object at 0x10dc07940>, <networkx.classes.digraph.DiGraph object at 0x10dc07908>, <networkx.classes.digraph.DiGraph object at 0x10dc07978>, <networkx.classes.digraph.DiGraph object at 0x10dc079e8>, <networkx.classes.digraph.DiGraph object at 0x10dc079b0>, <networkx.classes.digraph.DiGraph object at 0x10dc07a20>, <networkx.classes.digraph.DiGraph object at 0x10dc07a90>, <networkx.classes.digraph.DiGraph object at 0x10dc07a58>, <networkx.classes.digraph.DiGraph object at 0x10dc07ac8>, <networkx.classes.digraph.DiGraph object at 0x10dc07b00>, <networkx.classes.digraph.DiGraph object at 0x10dc07b38>, <networkx.classes.digraph.DiGraph object at 0x10dc07ba8>, <networkx.classes.digraph.DiGraph object at 0x10dc07b70>, <networkx.classes.digraph.DiGraph object at 0x10dc07be0>, <networkx.classes.digraph.DiGraph object at 0x10dc07c18>, <networkx.classes.digraph.DiGraph object at 0x10dc07c50>, <networkx.classes.digraph.DiGraph object at 0x10dc07c88>, <networkx.classes.digraph.DiGraph object at 0x10dc07cc0>, <networkx.classes.digraph.DiGraph object at 0x10dc07cf8>, <networkx.classes.digraph.DiGraph object at 0x10dc07d68>, <networkx.classes.digraph.DiGraph object at 0x10dc07d30>, <networkx.classes.digraph.DiGraph object at 0x10dc07dd8>, <networkx.classes.digraph.DiGraph object at 0x10dc07da0>, <networkx.classes.digraph.DiGraph object at 0x10dc07e10>, <networkx.classes.digraph.DiGraph object at 0x10dc07e48>, <networkx.classes.digraph.DiGraph object at 0x10dc07eb8>, <networkx.classes.digraph.DiGraph object at 0x10dc07ef0>, <networkx.classes.digraph.DiGraph object at 0x10dc07f28>, <networkx.classes.digraph.DiGraph object at 0x10dc07f60>, <networkx.classes.digraph.DiGraph object at 0x10dc07f98>, <networkx.classes.digraph.DiGraph object at 0x10dc07e80>, <networkx.classes.digraph.DiGraph object at 0x10dc38048>, <networkx.classes.digraph.DiGraph object at 0x10dc38080>, <networkx.classes.digraph.DiGraph object at 0x10dc07fd0>, <networkx.classes.digraph.DiGraph object at 0x10dc380b8>, <networkx.classes.digraph.DiGraph object at 0x10dc380f0>, <networkx.classes.digraph.DiGraph object at 0x10dc38128>, <networkx.classes.digraph.DiGraph object at 0x10dc38160>, <networkx.classes.digraph.DiGraph object at 0x10dc38198>, <networkx.classes.digraph.DiGraph object at 0x10dc381d0>, <networkx.classes.digraph.DiGraph object at 0x10dc38208>, <networkx.classes.digraph.DiGraph object at 0x10dc38278>, <networkx.classes.digraph.DiGraph object at 0x10dc38240>, <networkx.classes.digraph.DiGraph object at 0x10dc382e8>, <networkx.classes.digraph.DiGraph object at 0x10dc382b0>, <networkx.classes.digraph.DiGraph object at 0x10dc38320>, <networkx.classes.digraph.DiGraph object at 0x10dc38358>, <networkx.classes.digraph.DiGraph object at 0x10dc38390>, <networkx.classes.digraph.DiGraph object at 0x10dc38400>, <networkx.classes.digraph.DiGraph object at 0x10dc383c8>, <networkx.classes.digraph.DiGraph object at 0x10dc38438>, <networkx.classes.digraph.DiGraph object at 0x10dc38470>, <networkx.classes.digraph.DiGraph object at 0x10dc384a8>, <networkx.classes.digraph.DiGraph object at 0x10dc384e0>, <networkx.classes.digraph.DiGraph object at 0x10dc38518>, <networkx.classes.digraph.DiGraph object at 0x10dc38550>, <networkx.classes.digraph.DiGraph object at 0x10dc385c0>, <networkx.classes.digraph.DiGraph object at 0x10dc38588>, <networkx.classes.digraph.DiGraph object at 0x10dc385f8>, <networkx.classes.digraph.DiGraph object at 0x10dc38630>, <networkx.classes.digraph.DiGraph object at 0x10dc38668>, <networkx.classes.digraph.DiGraph object at 0x10dc386a0>, <networkx.classes.digraph.DiGraph object at 0x10dc386d8>, <networkx.classes.digraph.DiGraph object at 0x10dc38710>, <networkx.classes.digraph.DiGraph object at 0x10dc38748>, <networkx.classes.digraph.DiGraph object at 0x10dc387b8>, <networkx.classes.digraph.DiGraph object at 0x10dc387f0>, <networkx.classes.digraph.DiGraph object at 0x10dc38780>, <networkx.classes.digraph.DiGraph object at 0x10dc38860>, <networkx.classes.digraph.DiGraph object at 0x10dc38828>, <networkx.classes.digraph.DiGraph object at 0x10dc388d0>, <networkx.classes.digraph.DiGraph object at 0x10dc38898>, <networkx.classes.digraph.DiGraph object at 0x10dc38940>, <networkx.classes.digraph.DiGraph object at 0x10dc38978>, <networkx.classes.digraph.DiGraph object at 0x10dc38908>, <networkx.classes.digraph.DiGraph object at 0x10dc389b0>, <networkx.classes.digraph.DiGraph object at 0x10dc389e8>, <networkx.classes.digraph.DiGraph object at 0x10dc38a58>, <networkx.classes.digraph.DiGraph object at 0x10dc38a90>]\n",
      "[['C_obs' 'B_★' 'A_★' ..., 'A_obs' 'D_obs' 'B_obs']\n",
      " ['C_obs' 'B_★' 'A_★' ..., 'A_obs' 'D_obs' 'B_obs']\n",
      " ['C_obs' 'B_★' 'A_★' ..., 'A_obs' 'D_obs' 'B_obs']\n",
      " ..., \n",
      " ['C_obs' 'B_★' 'A_★' ..., 'A_obs' 'D_obs' 'B_obs']\n",
      " ['C_obs' 'B_★' 'A_★' ..., 'A_obs' 'D_obs' 'B_obs']\n",
      " ['C_obs' 'B_★' 'A_★' ..., 'A_obs' 'D_obs' 'B_obs']]\n"
     ]
    }
   ],
   "source": [
    "print(graphs)\n",
    "print(np.array(graphs))"
   ]
  },
  {
   "cell_type": "code",
   "execution_count": 16,
   "metadata": {
    "collapsed": false
   },
   "outputs": [],
   "source": [
    "test_graph = graphs[0]"
   ]
  },
  {
   "cell_type": "code",
   "execution_count": 9,
   "metadata": {
    "collapsed": false
   },
   "outputs": [],
   "source": [
    "import networkx as nx"
   ]
  },
  {
   "cell_type": "code",
   "execution_count": 60,
   "metadata": {
    "collapsed": false
   },
   "outputs": [
    {
     "data": {
      "text/plain": [
       "<networkx.classes.digraph.DiGraph at 0x10db746a0>"
      ]
     },
     "execution_count": 60,
     "metadata": {},
     "output_type": "execute_result"
    }
   ],
   "source": [
    "test_graph"
   ]
  },
  {
   "cell_type": "code",
   "execution_count": 8,
   "metadata": {
    "collapsed": true
   },
   "outputs": [],
   "source": [
    "from networkx.readwrite import json_graph"
   ]
  },
  {
   "cell_type": "code",
   "execution_count": 37,
   "metadata": {
    "collapsed": false
   },
   "outputs": [],
   "source": [
    "for edge in test_2.edges():\n",
    "    attr = test_2[edge[0]][edge[1]]\n",
    "    if 'id' in attr:\n",
    "        del attr['id']"
   ]
  },
  {
   "cell_type": "code",
   "execution_count": 35,
   "metadata": {
    "collapsed": false
   },
   "outputs": [],
   "source": [
    "del test_2['A_★']['A_obs']['id']"
   ]
  },
  {
   "cell_type": "code",
   "execution_count": 38,
   "metadata": {
    "collapsed": false
   },
   "outputs": [
    {
     "data": {
      "text/plain": [
       "[('A_★', 'D_★', {'edge_type': 'hidden_sample'}),\n",
       " ('A_★', 'A_obs', {'edge_type': 'observed'}),\n",
       " ('A_★', 'C_★', {'edge_type': 'hidden_sample'}),\n",
       " ('A_★', 'B_★', {'edge_type': 'hidden_sample'}),\n",
       " ('C_★', 'D_★', {'edge_type': 'hidden_sample'}),\n",
       " ('C_★', 'B_★', {'edge_type': 'hidden_sample'}),\n",
       " ('C_★', 'C_obs', {'edge_type': 'observed'}),\n",
       " ('D_★', 'D_obs', {'edge_type': 'observed'}),\n",
       " ('D_★', 'C_★', {'edge_type': 'hidden_sample'}),\n",
       " ('D_★', 'B_★', {'edge_type': 'hidden_sample'}),\n",
       " ('A_int', 'A_★', {'edge_type': 'intervention'}),\n",
       " ('A_int', 'A_obs', {'edge_type': 'intervention'}),\n",
       " ('B_★', 'D_★', {'edge_type': 'hidden_sample'}),\n",
       " ('B_★', 'C_★', {'edge_type': 'hidden_sample'}),\n",
       " ('B_★', 'B_obs', {'edge_type': 'observed'})]"
      ]
     },
     "execution_count": 38,
     "metadata": {},
     "output_type": "execute_result"
    }
   ],
   "source": [
    "test_2.edges(data=True)"
   ]
  },
  {
   "cell_type": "code",
   "execution_count": 31,
   "metadata": {
    "collapsed": false
   },
   "outputs": [],
   "source": [
    "test_2= json_graph.adjacency_graph(json_graph.adjacency_data(test_graph))"
   ]
  },
  {
   "cell_type": "code",
   "execution_count": 18,
   "metadata": {
    "collapsed": false
   },
   "outputs": [
    {
     "data": {
      "text/plain": [
       "{'adjacency': [[{'edge_type': 'observed', 'id': 'D_obs'},\n",
       "   {'edge_type': 'hidden_sample', 'id': 'C_★'},\n",
       "   {'edge_type': 'hidden_sample', 'id': 'B_★'}],\n",
       "  [],\n",
       "  [{'edge_type': 'hidden_sample', 'id': 'D_★'},\n",
       "   {'edge_type': 'hidden_sample', 'id': 'B_★'},\n",
       "   {'edge_type': 'observed', 'id': 'C_obs'}],\n",
       "  [],\n",
       "  [{'edge_type': 'hidden_sample', 'id': 'D_★'},\n",
       "   {'edge_type': 'observed', 'id': 'A_obs'},\n",
       "   {'edge_type': 'hidden_sample', 'id': 'C_★'},\n",
       "   {'edge_type': 'hidden_sample', 'id': 'B_★'}],\n",
       "  [],\n",
       "  [{'edge_type': 'intervention', 'id': 'A_★'},\n",
       "   {'edge_type': 'intervention', 'id': 'A_obs'}],\n",
       "  [],\n",
       "  [{'edge_type': 'hidden_sample', 'id': 'D_★'},\n",
       "   {'edge_type': 'hidden_sample', 'id': 'C_★'},\n",
       "   {'edge_type': 'observed', 'id': 'B_obs'}]],\n",
       " 'directed': True,\n",
       " 'graph': [],\n",
       " 'multigraph': False,\n",
       " 'nodes': [{'id': 'D_★', 'node_type': 'hidden'},\n",
       "  {'id': 'A_obs', 'node_type': 'observed'},\n",
       "  {'id': 'C_★', 'node_type': 'hidden'},\n",
       "  {'id': 'B_obs', 'node_type': 'observed'},\n",
       "  {'id': 'A_★', 'node_type': 'hidden'},\n",
       "  {'id': 'D_obs', 'node_type': 'observed'},\n",
       "  {'id': 'A_int', 'node_type': 'intervener'},\n",
       "  {'id': 'C_obs', 'node_type': 'observed'},\n",
       "  {'id': 'B_★', 'node_type': 'hidden'}]}"
      ]
     },
     "execution_count": 18,
     "metadata": {},
     "output_type": "execute_result"
    }
   ],
   "source": [
    "json_graph.adjacency_data(test_graph)"
   ]
  },
  {
   "cell_type": "code",
   "execution_count": 23,
   "metadata": {
    "collapsed": false
   },
   "outputs": [
    {
     "data": {
      "text/plain": [
       "[('A_★', 'D_★', {'edge_type': 'hidden_sample'}),\n",
       " ('A_★', 'A_obs', {'edge_type': 'observed'}),\n",
       " ('A_★', 'C_★', {'edge_type': 'hidden_sample'}),\n",
       " ('A_★', 'B_★', {'edge_type': 'hidden_sample'}),\n",
       " ('C_★', 'D_★', {'edge_type': 'hidden_sample'}),\n",
       " ('C_★', 'B_★', {'edge_type': 'hidden_sample'}),\n",
       " ('C_★', 'C_obs', {'edge_type': 'observed'}),\n",
       " ('D_★', 'D_obs', {'edge_type': 'observed'}),\n",
       " ('D_★', 'C_★', {'edge_type': 'hidden_sample'}),\n",
       " ('D_★', 'B_★', {'edge_type': 'hidden_sample'}),\n",
       " ('A_int', 'A_★', {'edge_type': 'intervention'}),\n",
       " ('A_int', 'A_obs', {'edge_type': 'intervention'}),\n",
       " ('B_★', 'D_★', {'edge_type': 'hidden_sample'}),\n",
       " ('B_★', 'C_★', {'edge_type': 'hidden_sample'}),\n",
       " ('B_★', 'B_obs', {'edge_type': 'observed'})]"
      ]
     },
     "execution_count": 23,
     "metadata": {},
     "output_type": "execute_result"
    }
   ],
   "source": [
    "json_graph.node_link_graph(json_graph.node_link_data(test_graph)).edges(data=True)"
   ]
  },
  {
   "cell_type": "code",
   "execution_count": 12,
   "metadata": {
    "collapsed": false
   },
   "outputs": [
    {
     "data": {
      "text/plain": [
       "{'directed': True,\n",
       " 'graph': {},\n",
       " 'links': [],\n",
       " 'multigraph': False,\n",
       " 'nodes': [{'id': 1}]}"
      ]
     },
     "execution_count": 12,
     "metadata": {},
     "output_type": "execute_result"
    }
   ],
   "source": [
    "G = nx.DiGraph()\n",
    "G.add_node(1)\n",
    "json_graph.node_link_data(G)"
   ]
  },
  {
   "cell_type": "code",
   "execution_count": 40,
   "metadata": {
    "collapsed": true
   },
   "outputs": [],
   "source": [
    "new_graphs = [json_graph.adjacency_data(graph) for graph in graphs]"
   ]
  },
  {
   "cell_type": "code",
   "execution_count": 44,
   "metadata": {
    "collapsed": true
   },
   "outputs": [],
   "source": [
    "import json"
   ]
  },
  {
   "cell_type": "code",
   "execution_count": 45,
   "metadata": {
    "collapsed": false
   },
   "outputs": [],
   "source": [
    "s = json.dumps(new_graphs)"
   ]
  },
  {
   "cell_type": "code",
   "execution_count": 47,
   "metadata": {
    "collapsed": false
   },
   "outputs": [],
   "source": [
    "test_graph_back = json.loads(s)"
   ]
  },
  {
   "cell_type": "code",
   "execution_count": 49,
   "metadata": {
    "collapsed": false
   },
   "outputs": [],
   "source": [
    "newer_graphs = [json_graph.adjacency_graph(js_graph) for js_graph in test_graph_back]"
   ]
  },
  {
   "cell_type": "code",
   "execution_count": 79,
   "metadata": {
    "collapsed": false
   },
   "outputs": [
    {
     "data": {
      "text/plain": [
       "('B_★', 'C_★', {'edge_type': 'hidden_sample', 'id': 'C_★'})"
      ]
     },
     "execution_count": 79,
     "metadata": {},
     "output_type": "execute_result"
    }
   ],
   "source": [
    "test_2.edges(data=True)[0]"
   ]
  },
  {
   "cell_type": "code",
   "execution_count": 143,
   "metadata": {
    "collapsed": false
   },
   "outputs": [],
   "source": [
    "# newer_graphs[0].edges(data=True)\n",
    "\n",
    "import json\n",
    "from networkx.readwrite import json_graph\n",
    "\n",
    "def json_graph_list_dumps(graph_list):\n",
    "    return json.dumps([json_graph.adjacency_data(graph) for graph in graph_list])\n",
    "    \n",
    "\n",
    "def json_graph_list_dump(graph_list,file):\n",
    "    with open_filename(file,'w') as f:\n",
    "        json.dump([json_graph.adjacency_data(graph) for graph in graph_list],f)\n",
    "    pass\n",
    "\n",
    "def json_graph_list_loads(json_string):\n",
    "    js_graph_list = json.loads(json_string)\n",
    "    return [remove_id_from_json_graphs(json_graph.adjacency_graph(js_graph)) for js_graph in js_graph_list]\n",
    "    \n",
    "def json_graph_list_load(file):\n",
    "    with open_filename(file,'r') as f:\n",
    "        js_graph_list = json.load(f)\n",
    "    return [remove_id_from_json_graphs(json_graph.adjacency_graph(js_graph)) for js_graph in js_graph_list]\n",
    "\n",
    "def remove_id_from_json_graphs(G):\n",
    "    graph = G.copy()\n",
    "    for edge in sorted(graph.edges()):\n",
    "        attr = graph[edge[0]][edge[1]]\n",
    "        if 'id' in attr:\n",
    "            del attr['id']\n",
    "    return graph"
   ]
  },
  {
   "cell_type": "code",
   "execution_count": 144,
   "metadata": {
    "collapsed": true
   },
   "outputs": [],
   "source": [
    "json_graph_list_dump(graphs,'results/test_json.json')"
   ]
  },
  {
   "cell_type": "code",
   "execution_count": 70,
   "metadata": {
    "collapsed": true
   },
   "outputs": [],
   "source": [
    "newest_graphs = [remove_id_from_json_graphs(graph) for graph in newer_graphs]"
   ]
  },
  {
   "cell_type": "code",
   "execution_count": 72,
   "metadata": {
    "collapsed": false
   },
   "outputs": [
    {
     "data": {
      "text/plain": [
       "[('D_★', 'D_obs', {'edge_type': 'observed'}),\n",
       " ('D_★', 'C_★', {'edge_type': 'hidden_sample'}),\n",
       " ('D_★', 'B_★', {'edge_type': 'hidden_sample'}),\n",
       " ('C_★', 'D_★', {'edge_type': 'hidden_sample'}),\n",
       " ('C_★', 'B_★', {'edge_type': 'hidden_sample'}),\n",
       " ('C_★', 'C_obs', {'edge_type': 'observed'}),\n",
       " ('A_★', 'D_★', {'edge_type': 'hidden_sample'}),\n",
       " ('A_★', 'A_obs', {'edge_type': 'observed'}),\n",
       " ('A_★', 'C_★', {'edge_type': 'hidden_sample'}),\n",
       " ('A_★', 'B_★', {'edge_type': 'hidden_sample'}),\n",
       " ('A_int', 'A_★', {'edge_type': 'intervention'}),\n",
       " ('A_int', 'A_obs', {'edge_type': 'intervention'}),\n",
       " ('B_★', 'D_★', {'edge_type': 'hidden_sample'}),\n",
       " ('B_★', 'C_★', {'edge_type': 'hidden_sample'}),\n",
       " ('B_★', 'B_obs', {'edge_type': 'observed'})]"
      ]
     },
     "execution_count": 72,
     "metadata": {},
     "output_type": "execute_result"
    }
   ],
   "source": [
    "newest_graphs[0].edges(data=True)"
   ]
  },
  {
   "cell_type": "code",
   "execution_count": 80,
   "metadata": {
    "collapsed": false
   },
   "outputs": [
    {
     "data": {
      "text/plain": [
       "('B_★', 'C_★', {'edge_type': 'hidden_sample'})"
      ]
     },
     "execution_count": 80,
     "metadata": {},
     "output_type": "execute_result"
    }
   ],
   "source": [
    "test_graph.edges(data=True)[0]"
   ]
  },
  {
   "cell_type": "code",
   "execution_count": 131,
   "metadata": {
    "collapsed": true
   },
   "outputs": [],
   "source": [
    "f_test = open('writing/file_test.txt','r')"
   ]
  },
  {
   "cell_type": "code",
   "execution_count": 140,
   "metadata": {
    "collapsed": false
   },
   "outputs": [
    {
     "name": "stdout",
     "output_type": "stream",
     "text": [
      "\n"
     ]
    }
   ],
   "source": [
    "with open_filename(f_test,'w+',closefd=False) as f:\n",
    "    print(f.read())"
   ]
  },
  {
   "cell_type": "code",
   "execution_count": 135,
   "metadata": {
    "collapsed": false
   },
   "outputs": [],
   "source": [
    "\n",
    "\n",
    "class open_filename(object):\n",
    "    \"\"\"Context manager that opens a filename and closes it on exit, but does\n",
    "    nothing for file-like objects.\n",
    "    \"\"\"\n",
    "    def __init__(self, filename, *args, **kwargs):\n",
    "        self.closing = kwargs.pop('closing', False)\n",
    "        if isinstance(filename, basestring):\n",
    "            self.fh = open(filename, *args, **kwargs)\n",
    "            self.closing = True\n",
    "        else:\n",
    "            self.fh = filename\n",
    "\n",
    "    def __enter__(self):\n",
    "        return self.fh\n",
    "\n",
    "    def __exit__(self, exc_type, exc_val, exc_tb):\n",
    "        if self.closing:\n",
    "            self.fh.close()\n",
    "\n",
    "        return False\n"
   ]
  }
 ],
 "metadata": {
  "kernelspec": {
   "display_name": "Python 3",
   "language": "python",
   "name": "python3"
  },
  "language_info": {
   "codemirror_mode": {
    "name": "ipython",
    "version": 3
   },
   "file_extension": ".py",
   "mimetype": "text/x-python",
   "name": "python",
   "nbconvert_exporter": "python",
   "pygments_lexer": "ipython3",
   "version": "3.5.0"
  }
 },
 "nbformat": 4,
 "nbformat_minor": 0
}
