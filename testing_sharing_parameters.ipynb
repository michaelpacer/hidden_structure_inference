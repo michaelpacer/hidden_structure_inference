{
 "cells": [
  {
   "cell_type": "code",
   "execution_count": 2,
   "metadata": {
    "collapsed": true
   },
   "outputs": [],
   "source": [
    "%load_ext autoreload\n",
    "%autoreload 2"
   ]
  },
  {
   "cell_type": "code",
   "execution_count": 3,
   "metadata": {
    "collapsed": true
   },
   "outputs": [],
   "source": [
    "import networkx as nx\n",
    "import numpy as np\n",
    "from lib.graph_local_classes import GraphStructure, GraphParams, InnerGraphSimulation\n",
    "f"
   ]
  },
  {
   "cell_type": "code",
   "execution_count": 5,
   "metadata": {
    "collapsed": false
   },
   "outputs": [
    {
     "data": {
      "text/plain": [
       "array([[ 0.50648813,  0.72048957,  0.76308834,  0.75717963,  0.1149179 ],\n",
       "       [ 0.29919279,  0.78909145,  0.55136613,  0.86529601,  0.36335707],\n",
       "       [ 0.38205836,  0.45532305,  0.83391321,  0.33104917,  0.11771307],\n",
       "       [ 0.40278419,  0.70901091,  0.15038111,  0.27407319,  0.737474  ],\n",
       "       [ 0.95059704,  0.90341016,  0.74156563,  0.57058762,  0.77340271],\n",
       "       [ 0.16253126,  0.92707191,  0.24444899,  0.3007158 ,  0.43584605],\n",
       "       [ 0.27280878,  0.0843301 ,  0.05195333,  0.87137782,  0.86584603],\n",
       "       [ 0.19827532,  0.72720921,  0.87086757,  0.31222356,  0.84651116],\n",
       "       [ 0.72305811,  0.98759717,  0.8532401 ,  0.70018914,  0.9447325 ],\n",
       "       [ 0.95102745,  0.18653906,  0.16125501,  0.86090777,  0.33977376],\n",
       "       [ 0.53120436,  0.45225128,  0.2428219 ,  0.85155478,  0.50098636],\n",
       "       [ 0.06182055,  0.35532362,  0.62963839,  0.2663882 ,  0.72946442],\n",
       "       [ 0.48306606,  0.14261525,  0.89895772,  0.58583186,  0.10955857],\n",
       "       [ 0.82816037,  0.44278248,  0.67298839,  0.91964581,  0.79514825],\n",
       "       [ 0.94668953,  0.06907202,  0.97244789,  0.15263571,  0.08448538],\n",
       "       [ 0.8410989 ,  0.25474039,  0.47256706,  0.22984141,  0.37738226],\n",
       "       [ 0.33657479,  0.90050175,  0.45644975,  0.35092832,  0.47921257],\n",
       "       [ 0.15207685,  0.78018021,  0.24401087,  0.01401885,  0.85478272],\n",
       "       [ 0.97691985,  0.86836284,  0.17181931,  0.11441938,  0.41608552],\n",
       "       [ 0.34450686,  0.50118566,  0.45884245,  0.5753246 ,  0.01058236]])"
      ]
     },
     "execution_count": 5,
     "metadata": {},
     "output_type": "execute_result"
    }
   ],
   "source": [
    "logmean np.random.random(size=(20,5))"
   ]
  },
  {
   "cell_type": "code",
   "execution_count": null,
   "metadata": {
    "collapsed": true
   },
   "outputs": [],
   "source": []
  }
 ],
 "metadata": {
  "kernelspec": {
   "display_name": "Python 3",
   "language": "python",
   "name": "python3"
  },
  "language_info": {
   "codemirror_mode": {
    "name": "ipython",
    "version": 3
   },
   "file_extension": ".py",
   "mimetype": "text/x-python",
   "name": "python",
   "nbconvert_exporter": "python",
   "pygments_lexer": "ipython3",
   "version": "3.5.0"
  }
 },
 "nbformat": 4,
 "nbformat_minor": 0
}
