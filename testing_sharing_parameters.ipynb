{
 "cells": [
  {
   "cell_type": "code",
   "execution_count": 1,
   "metadata": {
    "collapsed": false
   },
   "outputs": [],
   "source": [
    "%load_ext autoreload\n",
    "%autoreload 2"
   ]
  },
  {
   "cell_type": "code",
   "execution_count": 2,
   "metadata": {
    "collapsed": true
   },
   "outputs": [],
   "source": [
    "import networkx as nx\n",
    "import numpy as np\n",
    "from lib.graph_local_classes import GraphStructure, GraphParams, InnerGraphSimulation"
   ]
  },
  {
   "cell_type": "code",
   "execution_count": 3,
   "metadata": {
    "collapsed": false
   },
   "outputs": [],
   "source": [
    "\n",
    "from lib.graph_enumerator import generate_graphs\n",
    "from lib.node_semantics import Node_Name_Rule, Edge_Semantics_Rule\n",
    "from lib import config, result_config\n",
    "from lib.likelihood_calculations_shared_params import Inference\n",
    "from lib.utils import filename_utility\n",
    "from lib.misc import cond_to_data\n",
    "import time"
   ]
  },
  {
   "cell_type": "code",
   "execution_count": 8,
   "metadata": {
    "collapsed": false
   },
   "outputs": [],
   "source": [
    "graph_iter = generate_graphs(**config.generator_dictionary)\n",
    "graphs = list(graph_iter)\n",
    "for graph in graphs:\n",
    "    Node_Name_Rule.graph_semantics_apply(graph,config.node_semantics)\n",
    "    Edge_Semantics_Rule.graph_semantics_apply(graph,config.edge_semantics)\n",
    "\n",
    "inference_obj = Inference()\n",
    "\n",
    "options = config.options\n",
    "options['data_sets']=cond_to_data(config.conds[1,:])\n",
    "\n"
   ]
  },
  {
   "cell_type": "code",
   "execution_count": 9,
   "metadata": {
    "collapsed": false
   },
   "outputs": [],
   "source": [
    "result_graphs, result_posterior, result_loglik, result_dict = inference_obj.p_graph_given_d(graphs,config.options)\n"
   ]
  },
  {
   "cell_type": "code",
   "execution_count": 13,
   "metadata": {
    "collapsed": false
   },
   "outputs": [],
   "source": [
    "small_val = .05\n",
    "\n",
    "cond1 = [0,small_val,small_val,small_val]\n",
    "cond2 = [0,1,3,2]\n",
    "cond3 = [0,3,2,1]\n",
    "cond4 = [0,1,2,2]\n",
    "\n",
    "conds = np.array([cond1,cond2,cond3,cond4])"
   ]
  },
  {
   "cell_type": "code",
   "execution_count": 18,
   "metadata": {
    "collapsed": false
   },
   "outputs": [
    {
     "data": {
      "text/plain": [
       "array([ 0.05,  1.  ,  3.  ,  1.  ])"
      ]
     },
     "execution_count": 18,
     "metadata": {},
     "output_type": "execute_result"
    }
   ],
   "source": []
  },
  {
   "cell_type": "code",
   "execution_count": 6,
   "metadata": {
    "collapsed": false
   },
   "outputs": [
    {
     "data": {
      "text/plain": [
       "{'lambda0': [0.0424809387754264],\n",
       " 'mu': array([  2.71933940e+00,   4.53054052e+00,   5.89509979e+00,\n",
       "          1.54304435e-03,   5.21191696e+00,   4.71668377e-01,\n",
       "          6.78399058e+00,   3.41861445e-01,   1.64180234e+01,\n",
       "          4.34800210e-02,   2.87475581e+00,   1.28164203e+01,\n",
       "          1.99377316e-01,   1.65249193e+00,   2.32301474e+00]),\n",
       " 'n': 15,\n",
       " 'names': [('A_int', 'A_obs'),\n",
       "  ('A_int', 'A_★'),\n",
       "  ('A_★', 'A_obs'),\n",
       "  ('A_★', 'B_★'),\n",
       "  ('A_★', 'C_★'),\n",
       "  ('A_★', 'D_★'),\n",
       "  ('B_★', 'B_obs'),\n",
       "  ('B_★', 'C_★'),\n",
       "  ('B_★', 'D_★'),\n",
       "  ('C_★', 'B_★'),\n",
       "  ('C_★', 'C_obs'),\n",
       "  ('C_★', 'D_★'),\n",
       "  ('D_★', 'B_★'),\n",
       "  ('D_★', 'C_★'),\n",
       "  ('D_★', 'D_obs')],\n",
       " 'p': 0.8,\n",
       " 'psi': array([  1.55579701e-01,   2.88112347e-02,   6.73583746e-02,\n",
       "          1.12340298e-04,   4.19068282e-02,   5.73180822e-02,\n",
       "          1.33962671e-02,   4.27577446e-02,   3.51847135e-02,\n",
       "          2.30080104e-03,   4.48371358e-02,   1.03234279e-01,\n",
       "          2.27167638e-02,   2.44328657e-02,   1.02862783e-01]),\n",
       " 'psi_shape': 1.0,\n",
       " 'r': array([ 0.05721231,  0.00635934,  0.01142616,  0.07280432,  0.00804058,\n",
       "         0.12152199,  0.00197469,  0.12507332,  0.00214305,  0.05291628,\n",
       "         0.01559685,  0.00805485,  0.11393856,  0.01478547,  0.04427987]),\n",
       " 'r_shape': 1.0,\n",
       " 'scale_free_bounds': (0.01, 100)}"
      ]
     },
     "execution_count": 6,
     "metadata": {},
     "output_type": "execute_result"
    }
   ],
   "source": [
    "graph_iter = generate_graphs(**config.generator_dictionary)\n",
    "graphs = list(graph_iter)\n",
    "for graph in graphs:\n",
    "    Node_Name_Rule.graph_semantics_apply(graph,config.node_semantics)\n",
    "    Edge_Semantics_Rule.graph_semantics_apply(graph,config.edge_semantics)\n",
    "\n",
    "max_graph = graphs[0]\n",
    "num_graphs = len(graphs)\n",
    "num_params = config.options[\"param_sample_size\"]\n",
    "loglikelihood_by_param = np.zeros(shape = (num_params,num_graphs))\n",
    "max_graph_params = GraphParams.from_networkx(max_graph) # fix this when you can\n",
    "max_graph_params.sample()\n",
    "# blah = inference_obj.subgraph_loglik(graphs[1],max_graph_params,options=config.options)\n"
   ]
  },
  {
   "cell_type": "code",
   "execution_count": 26,
   "metadata": {
    "collapsed": true
   },
   "outputs": [],
   "source": [
    "class ContObj:\n",
    "    \n",
    "    def __iter__(self):\n",
    "        return iter(['hi', 'banana','red'])\n",
    "    \n",
    "    def __getitem__(self, value):\n",
    "        \n",
    "        return np.ones(shape=[value]*value)"
   ]
  },
  {
   "cell_type": "code",
   "execution_count": null,
   "metadata": {
    "collapsed": true
   },
   "outputs": [],
   "source": []
  },
  {
   "cell_type": "code",
   "execution_count": 29,
   "metadata": {
    "collapsed": true
   },
   "outputs": [],
   "source": [
    "cont_obj = ContObj()"
   ]
  },
  {
   "cell_type": "code",
   "execution_count": 33,
   "metadata": {
    "collapsed": false
   },
   "outputs": [
    {
     "data": {
      "text/plain": [
       "array([[[ 1.,  1.,  1.,  1.],\n",
       "        [ 1.,  1.,  1.,  1.],\n",
       "        [ 1.,  1.,  1.,  1.],\n",
       "        [ 1.,  1.,  1.,  1.]],\n",
       "\n",
       "       [[ 1.,  1.,  1.,  1.],\n",
       "        [ 1.,  1.,  1.,  1.],\n",
       "        [ 1.,  1.,  1.,  1.],\n",
       "        [ 1.,  1.,  1.,  1.]],\n",
       "\n",
       "       [[ 1.,  1.,  1.,  1.],\n",
       "        [ 1.,  1.,  1.,  1.],\n",
       "        [ 1.,  1.,  1.,  1.],\n",
       "        [ 1.,  1.,  1.,  1.]],\n",
       "\n",
       "       [[ 1.,  1.,  1.,  1.],\n",
       "        [ 1.,  1.,  1.,  1.],\n",
       "        [ 1.,  1.,  1.,  1.],\n",
       "        [ 1.,  1.,  1.,  1.]]])"
      ]
     },
     "execution_count": 33,
     "metadata": {},
     "output_type": "execute_result"
    }
   ],
   "source": [
    "cont_obj[4][:, :,3, :]"
   ]
  },
  {
   "cell_type": "code",
   "execution_count": 25,
   "metadata": {
    "collapsed": false
   },
   "outputs": [
    {
     "ename": "TypeError",
     "evalue": "'ConfObj' object is not iterable",
     "output_type": "error",
     "traceback": [
      "\u001b[0;31m---------------------------------------------------------------------------\u001b[0m",
      "\u001b[0;31mTypeError\u001b[0m                                 Traceback (most recent call last)",
      "\u001b[0;32m<ipython-input-25-847281381b83>\u001b[0m in \u001b[0;36m<module>\u001b[0;34m()\u001b[0m\n\u001b[0;32m----> 1\u001b[0;31m \u001b[0;32mfor\u001b[0m \u001b[0mx\u001b[0m \u001b[0;32min\u001b[0m \u001b[0miter\u001b[0m\u001b[0;34m(\u001b[0m\u001b[0mcont_obj\u001b[0m\u001b[0;34m)\u001b[0m\u001b[0;34m:\u001b[0m\u001b[0;34m\u001b[0m\u001b[0m\n\u001b[0m\u001b[1;32m      2\u001b[0m     \u001b[0mprint\u001b[0m\u001b[0;34m(\u001b[0m\u001b[0mx\u001b[0m\u001b[0;34m)\u001b[0m\u001b[0;34m\u001b[0m\u001b[0m\n",
      "\u001b[0;31mTypeError\u001b[0m: 'ConfObj' object is not iterable"
     ]
    }
   ],
   "source": [
    "for x in iter(cont_obj):\n",
    "    print(x)"
   ]
  },
  {
   "cell_type": "code",
   "execution_count": 8,
   "metadata": {
    "collapsed": false
   },
   "outputs": [
    {
     "data": {
      "text/plain": [
       "[<networkx.classes.digraph.DiGraph at 0x1128d3dd8>,\n",
       " <networkx.classes.digraph.DiGraph at 0x1128d3eb8>,\n",
       " <networkx.classes.digraph.DiGraph at 0x1128d3ef0>,\n",
       " <networkx.classes.digraph.DiGraph at 0x1128d3f28>,\n",
       " <networkx.classes.digraph.DiGraph at 0x1128d3f60>,\n",
       " <networkx.classes.digraph.DiGraph at 0x1128d3f98>,\n",
       " <networkx.classes.digraph.DiGraph at 0x1128d3fd0>,\n",
       " <networkx.classes.digraph.DiGraph at 0x1128e6048>,\n",
       " <networkx.classes.digraph.DiGraph at 0x1128e6080>,\n",
       " <networkx.classes.digraph.DiGraph at 0x1128e60b8>,\n",
       " <networkx.classes.digraph.DiGraph at 0x1128e60f0>,\n",
       " <networkx.classes.digraph.DiGraph at 0x1128e6128>,\n",
       " <networkx.classes.digraph.DiGraph at 0x1128e61d0>,\n",
       " <networkx.classes.digraph.DiGraph at 0x1128e6208>,\n",
       " <networkx.classes.digraph.DiGraph at 0x1128e6240>,\n",
       " <networkx.classes.digraph.DiGraph at 0x1128e6278>,\n",
       " <networkx.classes.digraph.DiGraph at 0x1128e62b0>,\n",
       " <networkx.classes.digraph.DiGraph at 0x1128e62e8>,\n",
       " <networkx.classes.digraph.DiGraph at 0x1128e6320>,\n",
       " <networkx.classes.digraph.DiGraph at 0x1128e6358>,\n",
       " <networkx.classes.digraph.DiGraph at 0x1128e6390>,\n",
       " <networkx.classes.digraph.DiGraph at 0x1128e63c8>,\n",
       " <networkx.classes.digraph.DiGraph at 0x112878f98>,\n",
       " <networkx.classes.digraph.DiGraph at 0x1128745c0>,\n",
       " <networkx.classes.digraph.DiGraph at 0x112874550>,\n",
       " <networkx.classes.digraph.DiGraph at 0x112874390>,\n",
       " <networkx.classes.digraph.DiGraph at 0x112874f28>,\n",
       " <networkx.classes.digraph.DiGraph at 0x112874710>,\n",
       " <networkx.classes.digraph.DiGraph at 0x112874400>,\n",
       " <networkx.classes.digraph.DiGraph at 0x112874470>,\n",
       " <networkx.classes.digraph.DiGraph at 0x1128746d8>,\n",
       " <networkx.classes.digraph.DiGraph at 0x112874e80>,\n",
       " <networkx.classes.digraph.DiGraph at 0x112874cc0>,\n",
       " <networkx.classes.digraph.DiGraph at 0x112874c18>,\n",
       " <networkx.classes.digraph.DiGraph at 0x1128742e8>,\n",
       " <networkx.classes.digraph.DiGraph at 0x112874908>,\n",
       " <networkx.classes.digraph.DiGraph at 0x112874da0>,\n",
       " <networkx.classes.digraph.DiGraph at 0x112874860>,\n",
       " <networkx.classes.digraph.DiGraph at 0x112874198>,\n",
       " <networkx.classes.digraph.DiGraph at 0x112874a20>,\n",
       " <networkx.classes.digraph.DiGraph at 0x1128749e8>,\n",
       " <networkx.classes.digraph.DiGraph at 0x1128749b0>,\n",
       " <networkx.classes.digraph.DiGraph at 0x112874b00>,\n",
       " <networkx.classes.digraph.DiGraph at 0x112874fd0>,\n",
       " <networkx.classes.digraph.DiGraph at 0x112874b38>,\n",
       " <networkx.classes.digraph.DiGraph at 0x112874cf8>,\n",
       " <networkx.classes.digraph.DiGraph at 0x112874b70>,\n",
       " <networkx.classes.digraph.DiGraph at 0x112874be0>,\n",
       " <networkx.classes.digraph.DiGraph at 0x112874a90>,\n",
       " <networkx.classes.digraph.DiGraph at 0x112874c50>,\n",
       " <networkx.classes.digraph.DiGraph at 0x112874d30>,\n",
       " <networkx.classes.digraph.DiGraph at 0x112874f98>,\n",
       " <networkx.classes.digraph.DiGraph at 0x112874438>,\n",
       " <networkx.classes.digraph.DiGraph at 0x112874e10>,\n",
       " <networkx.classes.digraph.DiGraph at 0x112874e48>,\n",
       " <networkx.classes.digraph.DiGraph at 0x112874f60>,\n",
       " <networkx.classes.digraph.DiGraph at 0x112874208>,\n",
       " <networkx.classes.digraph.DiGraph at 0x112874ba8>,\n",
       " <networkx.classes.digraph.DiGraph at 0x1128746a0>,\n",
       " <networkx.classes.digraph.DiGraph at 0x1128740f0>,\n",
       " <networkx.classes.digraph.DiGraph at 0x112874c88>,\n",
       " <networkx.classes.digraph.DiGraph at 0x112874240>,\n",
       " <networkx.classes.digraph.DiGraph at 0x112874358>,\n",
       " <networkx.classes.digraph.DiGraph at 0x112874d68>,\n",
       " <networkx.classes.digraph.DiGraph at 0x112874588>,\n",
       " <networkx.classes.digraph.DiGraph at 0x112874ef0>,\n",
       " <networkx.classes.digraph.DiGraph at 0x1128744e0>,\n",
       " <networkx.classes.digraph.DiGraph at 0x112874eb8>,\n",
       " <networkx.classes.digraph.DiGraph at 0x1128741d0>,\n",
       " <networkx.classes.digraph.DiGraph at 0x112874048>,\n",
       " <networkx.classes.digraph.DiGraph at 0x1128d34a8>,\n",
       " <networkx.classes.digraph.DiGraph at 0x1128d3400>,\n",
       " <networkx.classes.digraph.DiGraph at 0x1128d3048>,\n",
       " <networkx.classes.digraph.DiGraph at 0x1128d3080>,\n",
       " <networkx.classes.digraph.DiGraph at 0x1128d3208>,\n",
       " <networkx.classes.digraph.DiGraph at 0x1128d31d0>,\n",
       " <networkx.classes.digraph.DiGraph at 0x1128d30b8>,\n",
       " <networkx.classes.digraph.DiGraph at 0x1128d30f0>,\n",
       " <networkx.classes.digraph.DiGraph at 0x1128d3128>,\n",
       " <networkx.classes.digraph.DiGraph at 0x1128d3160>,\n",
       " <networkx.classes.digraph.DiGraph at 0x1128d3198>,\n",
       " <networkx.classes.digraph.DiGraph at 0x1128d3278>,\n",
       " <networkx.classes.digraph.DiGraph at 0x1128d32b0>,\n",
       " <networkx.classes.digraph.DiGraph at 0x1128d3240>,\n",
       " <networkx.classes.digraph.DiGraph at 0x1128d32e8>,\n",
       " <networkx.classes.digraph.DiGraph at 0x1128d33c8>,\n",
       " <networkx.classes.digraph.DiGraph at 0x1128d3320>,\n",
       " <networkx.classes.digraph.DiGraph at 0x1128d3390>,\n",
       " <networkx.classes.digraph.DiGraph at 0x1128d3358>,\n",
       " <networkx.classes.digraph.DiGraph at 0x1128d3470>,\n",
       " <networkx.classes.digraph.DiGraph at 0x1128d3438>,\n",
       " <networkx.classes.digraph.DiGraph at 0x1128e6160>,\n",
       " <networkx.classes.digraph.DiGraph at 0x1128e6198>,\n",
       " <networkx.classes.digraph.DiGraph at 0x1128e6400>,\n",
       " <networkx.classes.digraph.DiGraph at 0x1128e6438>,\n",
       " <networkx.classes.digraph.DiGraph at 0x1128e6470>,\n",
       " <networkx.classes.digraph.DiGraph at 0x1128e64a8>,\n",
       " <networkx.classes.digraph.DiGraph at 0x1128e64e0>,\n",
       " <networkx.classes.digraph.DiGraph at 0x1128e6550>,\n",
       " <networkx.classes.digraph.DiGraph at 0x1128e6518>,\n",
       " <networkx.classes.digraph.DiGraph at 0x1128e6588>,\n",
       " <networkx.classes.digraph.DiGraph at 0x1128e65c0>,\n",
       " <networkx.classes.digraph.DiGraph at 0x1128e65f8>,\n",
       " <networkx.classes.digraph.DiGraph at 0x1128e6630>,\n",
       " <networkx.classes.digraph.DiGraph at 0x1128e6668>,\n",
       " <networkx.classes.digraph.DiGraph at 0x1128e66a0>,\n",
       " <networkx.classes.digraph.DiGraph at 0x1128e66d8>,\n",
       " <networkx.classes.digraph.DiGraph at 0x1128e6710>,\n",
       " <networkx.classes.digraph.DiGraph at 0x1128e6748>,\n",
       " <networkx.classes.digraph.DiGraph at 0x1128e6780>,\n",
       " <networkx.classes.digraph.DiGraph at 0x1128e67b8>,\n",
       " <networkx.classes.digraph.DiGraph at 0x1128e67f0>,\n",
       " <networkx.classes.digraph.DiGraph at 0x1128e6828>,\n",
       " <networkx.classes.digraph.DiGraph at 0x1128e6860>,\n",
       " <networkx.classes.digraph.DiGraph at 0x1128e6898>,\n",
       " <networkx.classes.digraph.DiGraph at 0x1128e68d0>,\n",
       " <networkx.classes.digraph.DiGraph at 0x1128e6908>,\n",
       " <networkx.classes.digraph.DiGraph at 0x1128e6940>,\n",
       " <networkx.classes.digraph.DiGraph at 0x1128e6978>,\n",
       " <networkx.classes.digraph.DiGraph at 0x1128e69b0>,\n",
       " <networkx.classes.digraph.DiGraph at 0x1128e69e8>,\n",
       " <networkx.classes.digraph.DiGraph at 0x1128e6a20>,\n",
       " <networkx.classes.digraph.DiGraph at 0x1128e6a58>,\n",
       " <networkx.classes.digraph.DiGraph at 0x1128e6a90>,\n",
       " <networkx.classes.digraph.DiGraph at 0x1128e6ac8>,\n",
       " <networkx.classes.digraph.DiGraph at 0x1128e6b00>,\n",
       " <networkx.classes.digraph.DiGraph at 0x1128e6b38>,\n",
       " <networkx.classes.digraph.DiGraph at 0x1128e6b70>,\n",
       " <networkx.classes.digraph.DiGraph at 0x1128e6ba8>,\n",
       " <networkx.classes.digraph.DiGraph at 0x1128e6be0>,\n",
       " <networkx.classes.digraph.DiGraph at 0x1128e6c50>,\n",
       " <networkx.classes.digraph.DiGraph at 0x1128e6c18>,\n",
       " <networkx.classes.digraph.DiGraph at 0x1128e6c88>,\n",
       " <networkx.classes.digraph.DiGraph at 0x1128e6cc0>,\n",
       " <networkx.classes.digraph.DiGraph at 0x1128e6cf8>,\n",
       " <networkx.classes.digraph.DiGraph at 0x1128e6d68>,\n",
       " <networkx.classes.digraph.DiGraph at 0x1128e6d30>,\n",
       " <networkx.classes.digraph.DiGraph at 0x1128e6da0>,\n",
       " <networkx.classes.digraph.DiGraph at 0x1128e6e10>,\n",
       " <networkx.classes.digraph.DiGraph at 0x1128e6dd8>,\n",
       " <networkx.classes.digraph.DiGraph at 0x1128e6e48>,\n",
       " <networkx.classes.digraph.DiGraph at 0x1128e6e80>,\n",
       " <networkx.classes.digraph.DiGraph at 0x1128e6eb8>,\n",
       " <networkx.classes.digraph.DiGraph at 0x1128e6ef0>,\n",
       " <networkx.classes.digraph.DiGraph at 0x1128e6f60>,\n",
       " <networkx.classes.digraph.DiGraph at 0x1128e6f28>,\n",
       " <networkx.classes.digraph.DiGraph at 0x1128e6f98>,\n",
       " <networkx.classes.digraph.DiGraph at 0x1128e6fd0>,\n",
       " <networkx.classes.digraph.DiGraph at 0x1129a6048>,\n",
       " <networkx.classes.digraph.DiGraph at 0x1129a6080>,\n",
       " <networkx.classes.digraph.DiGraph at 0x1129a60b8>,\n",
       " <networkx.classes.digraph.DiGraph at 0x1129a60f0>,\n",
       " <networkx.classes.digraph.DiGraph at 0x1129a6128>,\n",
       " <networkx.classes.digraph.DiGraph at 0x1129a6160>,\n",
       " <networkx.classes.digraph.DiGraph at 0x1129a6198>,\n",
       " <networkx.classes.digraph.DiGraph at 0x1129a6208>,\n",
       " <networkx.classes.digraph.DiGraph at 0x1129a61d0>,\n",
       " <networkx.classes.digraph.DiGraph at 0x1129a6240>,\n",
       " <networkx.classes.digraph.DiGraph at 0x1129a6278>,\n",
       " <networkx.classes.digraph.DiGraph at 0x1129a62b0>,\n",
       " <networkx.classes.digraph.DiGraph at 0x1129a6320>,\n",
       " <networkx.classes.digraph.DiGraph at 0x1129a62e8>,\n",
       " <networkx.classes.digraph.DiGraph at 0x1129a6358>,\n",
       " <networkx.classes.digraph.DiGraph at 0x1129a6390>,\n",
       " <networkx.classes.digraph.DiGraph at 0x1129a6400>,\n",
       " <networkx.classes.digraph.DiGraph at 0x1129a6438>,\n",
       " <networkx.classes.digraph.DiGraph at 0x1129a6470>,\n",
       " <networkx.classes.digraph.DiGraph at 0x1129a63c8>,\n",
       " <networkx.classes.digraph.DiGraph at 0x1129a64a8>,\n",
       " <networkx.classes.digraph.DiGraph at 0x1129a6518>,\n",
       " <networkx.classes.digraph.DiGraph at 0x1129a6550>,\n",
       " <networkx.classes.digraph.DiGraph at 0x1129a64e0>,\n",
       " <networkx.classes.digraph.DiGraph at 0x1129a6588>,\n",
       " <networkx.classes.digraph.DiGraph at 0x1129a65c0>,\n",
       " <networkx.classes.digraph.DiGraph at 0x1129a65f8>,\n",
       " <networkx.classes.digraph.DiGraph at 0x1129a6630>,\n",
       " <networkx.classes.digraph.DiGraph at 0x1129a6668>,\n",
       " <networkx.classes.digraph.DiGraph at 0x1129a66a0>,\n",
       " <networkx.classes.digraph.DiGraph at 0x1129a66d8>,\n",
       " <networkx.classes.digraph.DiGraph at 0x1129a6710>,\n",
       " <networkx.classes.digraph.DiGraph at 0x1129a6748>,\n",
       " <networkx.classes.digraph.DiGraph at 0x1129a67b8>,\n",
       " <networkx.classes.digraph.DiGraph at 0x1129a6780>,\n",
       " <networkx.classes.digraph.DiGraph at 0x1129a6828>,\n",
       " <networkx.classes.digraph.DiGraph at 0x1129a67f0>,\n",
       " <networkx.classes.digraph.DiGraph at 0x1129a6860>,\n",
       " <networkx.classes.digraph.DiGraph at 0x1129a6898>,\n",
       " <networkx.classes.digraph.DiGraph at 0x1129a68d0>,\n",
       " <networkx.classes.digraph.DiGraph at 0x1129a6908>,\n",
       " <networkx.classes.digraph.DiGraph at 0x1129a6940>,\n",
       " <networkx.classes.digraph.DiGraph at 0x1129a6978>,\n",
       " <networkx.classes.digraph.DiGraph at 0x1129a69b0>,\n",
       " <networkx.classes.digraph.DiGraph at 0x1129a69e8>,\n",
       " <networkx.classes.digraph.DiGraph at 0x1129a6a20>,\n",
       " <networkx.classes.digraph.DiGraph at 0x1129a6a58>,\n",
       " <networkx.classes.digraph.DiGraph at 0x1129a6ac8>,\n",
       " <networkx.classes.digraph.DiGraph at 0x1129a6a90>,\n",
       " <networkx.classes.digraph.DiGraph at 0x1129a6b00>,\n",
       " <networkx.classes.digraph.DiGraph at 0x1129a6b38>,\n",
       " <networkx.classes.digraph.DiGraph at 0x1129a6b70>,\n",
       " <networkx.classes.digraph.DiGraph at 0x1129a6ba8>,\n",
       " <networkx.classes.digraph.DiGraph at 0x1129a6be0>,\n",
       " <networkx.classes.digraph.DiGraph at 0x1129a6c18>,\n",
       " <networkx.classes.digraph.DiGraph at 0x1129a6c88>,\n",
       " <networkx.classes.digraph.DiGraph at 0x1129a6c50>,\n",
       " <networkx.classes.digraph.DiGraph at 0x1129a6cc0>,\n",
       " <networkx.classes.digraph.DiGraph at 0x1129a6cf8>,\n",
       " <networkx.classes.digraph.DiGraph at 0x1129a6d30>,\n",
       " <networkx.classes.digraph.DiGraph at 0x1129a6d68>,\n",
       " <networkx.classes.digraph.DiGraph at 0x1129a6da0>,\n",
       " <networkx.classes.digraph.DiGraph at 0x1129a6dd8>,\n",
       " <networkx.classes.digraph.DiGraph at 0x1129a6e10>,\n",
       " <networkx.classes.digraph.DiGraph at 0x1129a6e48>,\n",
       " <networkx.classes.digraph.DiGraph at 0x1129a6e80>,\n",
       " <networkx.classes.digraph.DiGraph at 0x1129a6eb8>,\n",
       " <networkx.classes.digraph.DiGraph at 0x1129a6ef0>,\n",
       " <networkx.classes.digraph.DiGraph at 0x1129a6f28>,\n",
       " <networkx.classes.digraph.DiGraph at 0x1129a6f60>,\n",
       " <networkx.classes.digraph.DiGraph at 0x1129a6f98>,\n",
       " <networkx.classes.digraph.DiGraph at 0x1129a6fd0>,\n",
       " <networkx.classes.digraph.DiGraph at 0x1129d8048>,\n",
       " <networkx.classes.digraph.DiGraph at 0x1129d8080>,\n",
       " <networkx.classes.digraph.DiGraph at 0x1129d80b8>,\n",
       " <networkx.classes.digraph.DiGraph at 0x1129d80f0>,\n",
       " <networkx.classes.digraph.DiGraph at 0x1129d8128>,\n",
       " <networkx.classes.digraph.DiGraph at 0x1129d8198>,\n",
       " <networkx.classes.digraph.DiGraph at 0x1129d8160>,\n",
       " <networkx.classes.digraph.DiGraph at 0x1129d81d0>,\n",
       " <networkx.classes.digraph.DiGraph at 0x1129d8240>,\n",
       " <networkx.classes.digraph.DiGraph at 0x1129d8208>,\n",
       " <networkx.classes.digraph.DiGraph at 0x1129d8278>,\n",
       " <networkx.classes.digraph.DiGraph at 0x1129d82e8>,\n",
       " <networkx.classes.digraph.DiGraph at 0x1129d82b0>,\n",
       " <networkx.classes.digraph.DiGraph at 0x1129d8320>,\n",
       " <networkx.classes.digraph.DiGraph at 0x1129d8358>,\n",
       " <networkx.classes.digraph.DiGraph at 0x1129d8390>,\n",
       " <networkx.classes.digraph.DiGraph at 0x1129d8400>,\n",
       " <networkx.classes.digraph.DiGraph at 0x1129d83c8>,\n",
       " <networkx.classes.digraph.DiGraph at 0x1129d8438>,\n",
       " <networkx.classes.digraph.DiGraph at 0x1129d8470>,\n",
       " <networkx.classes.digraph.DiGraph at 0x1129d84a8>,\n",
       " <networkx.classes.digraph.DiGraph at 0x1129d84e0>,\n",
       " <networkx.classes.digraph.DiGraph at 0x1129d8518>,\n",
       " <networkx.classes.digraph.DiGraph at 0x1129d8550>,\n",
       " <networkx.classes.digraph.DiGraph at 0x1129d85c0>,\n",
       " <networkx.classes.digraph.DiGraph at 0x1129d8588>,\n",
       " <networkx.classes.digraph.DiGraph at 0x1129d8630>,\n",
       " <networkx.classes.digraph.DiGraph at 0x1129d85f8>,\n",
       " <networkx.classes.digraph.DiGraph at 0x1129d8668>,\n",
       " <networkx.classes.digraph.DiGraph at 0x1129d86a0>,\n",
       " <networkx.classes.digraph.DiGraph at 0x1129d8710>,\n",
       " <networkx.classes.digraph.DiGraph at 0x1129d8748>,\n",
       " <networkx.classes.digraph.DiGraph at 0x1129d8780>,\n",
       " <networkx.classes.digraph.DiGraph at 0x1129d87b8>,\n",
       " <networkx.classes.digraph.DiGraph at 0x1129d87f0>,\n",
       " <networkx.classes.digraph.DiGraph at 0x1129d86d8>,\n",
       " <networkx.classes.digraph.DiGraph at 0x1129d8860>,\n",
       " <networkx.classes.digraph.DiGraph at 0x1129d8898>,\n",
       " <networkx.classes.digraph.DiGraph at 0x1129d8828>,\n",
       " <networkx.classes.digraph.DiGraph at 0x1129d88d0>,\n",
       " <networkx.classes.digraph.DiGraph at 0x1129d8908>,\n",
       " <networkx.classes.digraph.DiGraph at 0x1129d8940>,\n",
       " <networkx.classes.digraph.DiGraph at 0x1129d8978>,\n",
       " <networkx.classes.digraph.DiGraph at 0x1129d89b0>,\n",
       " <networkx.classes.digraph.DiGraph at 0x1129d89e8>,\n",
       " <networkx.classes.digraph.DiGraph at 0x1129d8a20>,\n",
       " <networkx.classes.digraph.DiGraph at 0x1129d8a90>,\n",
       " <networkx.classes.digraph.DiGraph at 0x1129d8a58>,\n",
       " <networkx.classes.digraph.DiGraph at 0x1129d8b00>,\n",
       " <networkx.classes.digraph.DiGraph at 0x1129d8ac8>,\n",
       " <networkx.classes.digraph.DiGraph at 0x1129d8b38>,\n",
       " <networkx.classes.digraph.DiGraph at 0x1129d8b70>,\n",
       " <networkx.classes.digraph.DiGraph at 0x1129d8ba8>,\n",
       " <networkx.classes.digraph.DiGraph at 0x1129d8c18>,\n",
       " <networkx.classes.digraph.DiGraph at 0x1129d8be0>,\n",
       " <networkx.classes.digraph.DiGraph at 0x1129d8c50>,\n",
       " <networkx.classes.digraph.DiGraph at 0x1129d8c88>,\n",
       " <networkx.classes.digraph.DiGraph at 0x1129d8cc0>,\n",
       " <networkx.classes.digraph.DiGraph at 0x1129d8cf8>,\n",
       " <networkx.classes.digraph.DiGraph at 0x1129d8d30>,\n",
       " <networkx.classes.digraph.DiGraph at 0x1129d8d68>,\n",
       " <networkx.classes.digraph.DiGraph at 0x1129d8dd8>,\n",
       " <networkx.classes.digraph.DiGraph at 0x1129d8da0>,\n",
       " <networkx.classes.digraph.DiGraph at 0x1129d8e10>,\n",
       " <networkx.classes.digraph.DiGraph at 0x1129d8e48>,\n",
       " <networkx.classes.digraph.DiGraph at 0x1129d8e80>,\n",
       " <networkx.classes.digraph.DiGraph at 0x1129d8eb8>,\n",
       " <networkx.classes.digraph.DiGraph at 0x1129d8ef0>,\n",
       " <networkx.classes.digraph.DiGraph at 0x1129d8f28>,\n",
       " <networkx.classes.digraph.DiGraph at 0x1129d8f60>,\n",
       " <networkx.classes.digraph.DiGraph at 0x1129d8fd0>,\n",
       " <networkx.classes.digraph.DiGraph at 0x112a09048>,\n",
       " <networkx.classes.digraph.DiGraph at 0x1129d8f98>,\n",
       " <networkx.classes.digraph.DiGraph at 0x112a090b8>,\n",
       " <networkx.classes.digraph.DiGraph at 0x112a09080>,\n",
       " <networkx.classes.digraph.DiGraph at 0x112a09128>,\n",
       " <networkx.classes.digraph.DiGraph at 0x112a090f0>,\n",
       " <networkx.classes.digraph.DiGraph at 0x112a09198>,\n",
       " <networkx.classes.digraph.DiGraph at 0x112a091d0>,\n",
       " <networkx.classes.digraph.DiGraph at 0x112a09160>,\n",
       " <networkx.classes.digraph.DiGraph at 0x112a09208>,\n",
       " <networkx.classes.digraph.DiGraph at 0x112a09240>,\n",
       " <networkx.classes.digraph.DiGraph at 0x112a092b0>,\n",
       " <networkx.classes.digraph.DiGraph at 0x112a092e8>]"
      ]
     },
     "execution_count": 8,
     "metadata": {},
     "output_type": "execute_result"
    }
   ],
   "source": [
    "result_graphs"
   ]
  },
  {
   "cell_type": "code",
   "execution_count": null,
   "metadata": {
    "collapsed": true
   },
   "outputs": [],
   "source": []
  }
 ],
 "metadata": {
  "kernelspec": {
   "display_name": "Python 3",
   "language": "python",
   "name": "python3"
  },
  "language_info": {
   "codemirror_mode": {
    "name": "ipython",
    "version": 3
   },
   "file_extension": ".py",
   "mimetype": "text/x-python",
   "name": "python",
   "nbconvert_exporter": "python",
   "pygments_lexer": "ipython3",
   "version": "3.5.0"
  }
 },
 "nbformat": 4,
 "nbformat_minor": 0
}
