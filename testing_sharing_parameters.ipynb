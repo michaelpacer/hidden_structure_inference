{
 "cells": [
  {
   "cell_type": "code",
   "execution_count": 55,
   "metadata": {
    "collapsed": false
   },
   "outputs": [
    {
     "name": "stdout",
     "output_type": "stream",
     "text": [
      "The autoreload extension is already loaded. To reload it, use:\n",
      "  %reload_ext autoreload\n"
     ]
    }
   ],
   "source": [
    "%load_ext autoreload\n",
    "%autoreload 2"
   ]
  },
  {
   "cell_type": "code",
   "execution_count": 56,
   "metadata": {
    "collapsed": true
   },
   "outputs": [],
   "source": [
    "import networkx as nx\n",
    "import numpy as np\n",
    "from lib.graph_local_classes import GraphStructure, GraphParams, InnerGraphSimulation"
   ]
  },
  {
   "cell_type": "code",
   "execution_count": 91,
   "metadata": {
    "collapsed": false
   },
   "outputs": [],
   "source": [
    "\n",
    "from lib.graph_enumerator import generate_graphs\n",
    "from lib.node_semantics import Node_Name_Rule, Edge_Semantics_Rule\n",
    "from lib import config, result_config\n",
    "from lib.likelihood_calculations_shared_params import Inference\n",
    "from lib.utils import filename_utility\n",
    "from lib.misc import cond_to_data\n",
    "import time\n",
    "from joblib import Parallel, delayed\n"
   ]
  },
  {
   "cell_type": "code",
   "execution_count": 79,
   "metadata": {
    "collapsed": false
   },
   "outputs": [],
   "source": [
    "graph_iter = generate_graphs(**config.generator_dictionary)\n",
    "graphs = list(graph_iter)\n",
    "for graph in graphs:\n",
    "    Node_Name_Rule.graph_semantics_apply(graph,config.node_semantics)\n",
    "    Edge_Semantics_Rule.graph_semantics_apply(graph,config.edge_semantics)\n",
    "\n",
    "inference_obj = Inference()\n",
    "\n",
    "options = config.options\n",
    "options['data_sets']=cond_to_data(config.conds[1,:])\n",
    "options['stigma_sample_size']=2000\n",
    "options['param_sample_size']=2\n",
    "\n",
    "scale_free_bounds = (10**(-.1),10**(.1))\n",
    "# scale_free_bounds = (10**(-.25),10**(.25))\n",
    "# scale_free_bounds = (10**-1,10**1)\n",
    "# scale_free_bounds = (10**-3,10**3)\n",
    "\n",
    "options['scale_free_bounds']=scale_free_bounds\n"
   ]
  },
  {
   "cell_type": "code",
   "execution_count": 60,
   "metadata": {
    "collapsed": false
   },
   "outputs": [],
   "source": []
  },
  {
   "cell_type": "code",
   "execution_count": 80,
   "metadata": {
    "collapsed": false
   },
   "outputs": [
    {
     "name": "stderr",
     "output_type": "stream",
     "text": [
      "[Parallel(n_jobs=-2)]: Done   3 out of   2 | elapsed:  2.0min remaining:  -40.4s\n",
      "[Parallel(n_jobs=-2)]: Done   2 out of   2 | elapsed:  2.0min finished\n"
     ]
    }
   ],
   "source": [
    "result_graphs, result_posterior, result_loglik, result_dict, result_params = inference_obj.p_graph_given_d(graphs,config.options)\n"
   ]
  },
  {
   "cell_type": "code",
   "execution_count": 89,
   "metadata": {
    "collapsed": false
   },
   "outputs": [],
   "source": [
    "edges_q = result_config.edges_of_interest.copy()\n",
    "\n",
    "posterior = result_posterior\n",
    "for i,g in enumerate(graphs):\n",
    "    for edge in edges_q:\n",
    "        if edge in g.edges():\n",
    "            edges_q[edge]+=posterior[i]\n",
    "\n"
   ]
  },
  {
   "cell_type": "code",
   "execution_count": 87,
   "metadata": {
    "collapsed": false
   },
   "outputs": [
    {
     "data": {
      "text/plain": [
       "0.63168612198522534"
      ]
     },
     "execution_count": 87,
     "metadata": {},
     "output_type": "execute_result"
    }
   ],
   "source": [
    "max(result_posterior)"
   ]
  },
  {
   "cell_type": "code",
   "execution_count": 90,
   "metadata": {
    "collapsed": false
   },
   "outputs": [
    {
     "data": {
      "text/plain": [
       "{('A_★', 'B_★'): 0.99999999999997113,\n",
       " ('A_★', 'C_★'): 0.031644545567001262,\n",
       " ('A_★', 'D_★'): 0.042244825208054317,\n",
       " ('B_★', 'C_★'): 0.33666899750642104,\n",
       " ('B_★', 'D_★'): 0.99999492264721102,\n",
       " ('C_★', 'B_★'): 0.031648623135006729,\n",
       " ('C_★', 'D_★'): 0.64228132345026334,\n",
       " ('D_★', 'B_★'): 0.63169153478740225,\n",
       " ('D_★', 'C_★'): 0.67392817765079072}"
      ]
     },
     "execution_count": 90,
     "metadata": {},
     "output_type": "execute_result"
    }
   ],
   "source": [
    "edges_q"
   ]
  },
  {
   "cell_type": "code",
   "execution_count": 13,
   "metadata": {
    "collapsed": false
   },
   "outputs": [],
   "source": [
    "small_val = .05\n",
    "\n",
    "cond1 = [0,small_val,small_val,small_val]\n",
    "cond2 = [0,1,3,2]\n",
    "cond3 = [0,3,2,1]\n",
    "cond4 = [0,1,2,2]\n",
    "\n",
    "conds = np.array([cond1,cond2,cond3,cond4])"
   ]
  },
  {
   "cell_type": "code",
   "execution_count": 66,
   "metadata": {
    "collapsed": false
   },
   "outputs": [
    {
     "data": {
      "text/plain": [
       "array([-1111.80867129, -1112.03018827, -1112.11856113, -1112.15694366,\n",
       "       -1111.96006903, -1111.91336065, -1112.30524433, -1112.16701269,\n",
       "       -1111.77595796, -1111.84427046, -1113.56299567, -1112.71611145,\n",
       "       -1111.99233718, -1112.19199688, -1114.03723794, -1112.50287692,\n",
       "       -1112.00152314, -1112.22213642, -1112.85197662, -1113.23304345,\n",
       "       -1112.46588962, -1112.6362465 , -1112.29510593, -1112.90770402,\n",
       "       -1112.86904984, -1112.26524134, -1112.44143698, -1112.48416211,\n",
       "       -1113.39024193, -1112.56973999, -1112.21488812, -1112.11182724,\n",
       "       -1112.30577237, -1112.26730274, -1111.97752776, -1111.9160035 ,\n",
       "       -1112.54929559, -1112.22267604, -1111.95323729, -1112.08033221,\n",
       "       -1112.63993439, -1112.38040367, -1112.14550645, -1112.21531653,\n",
       "       -1112.44165483, -1111.77741963, -1113.09244443, -1113.21914888,\n",
       "       -1114.10345156, -1113.35569185, -1113.06651706, -1115.20134122,\n",
       "       -1112.90074577, -1113.25558814, -1113.76517633, -1114.12080943,\n",
       "       -1112.50706368, -1112.70969909, -1112.02514855, -1114.48431792,\n",
       "       -1112.03476474, -1112.12080467, -1112.27249864, -1113.81210588,\n",
       "       -1112.32988825, -1112.07699068, -1112.72232984, -1113.60238585,\n",
       "       -1113.23591968, -1112.81198642, -1112.38439024, -1112.17229976,\n",
       "       -1114.08086752, -1114.07257199, -1113.22241567, -1246.82680046,\n",
       "       -1113.11194694, -1114.06738393, -1113.59341806, -1113.41508542,\n",
       "       -1112.99826446, -1113.76448219, -1112.61383272, -1112.63441769,\n",
       "       -1112.47924912, -1112.60468823, -1112.61219034, -1112.48980116,\n",
       "       -1113.11515254, -1112.88251269, -1113.25112926, -1112.97835696,\n",
       "       -1112.26216726, -1112.87688102, -1113.1043059 , -1112.4389253 ,\n",
       "       -1112.36758609, -1113.11570027, -1112.55227328, -1112.50187443,\n",
       "       -1114.09075468, -1112.49366586, -1112.70129494, -1113.13448054,\n",
       "       -1112.98675463, -1112.44087649, -1112.2663411 , -1112.65530001,\n",
       "       -1111.8809259 , -1112.12135065, -1112.43911583, -1112.56353572,\n",
       "       -1112.37577345, -1112.20428313, -1112.08523377, -1112.03503516,\n",
       "       -1112.6362376 , -1112.07354741, -1112.42434355, -1112.21739068,\n",
       "       -1112.1303474 , -1112.02644105, -1112.63935323, -1112.8956918 ,\n",
       "       -1112.89676564, -1112.32589355, -1114.07218217, -1115.22590881,\n",
       "       -1113.09150918, -1113.24166165, -1114.49269637, -1113.40014152,\n",
       "       -1113.06671192, -1115.17271083, -1115.11940843, -1115.11394906,\n",
       "       -1113.37073459, -1114.08239839, -1112.4422104 , -1114.03243464,\n",
       "       -1113.26821942, -1112.57625607, -1112.56332186, -1137.03763934,\n",
       "       -1112.90866869, -1112.80139523, -1113.51422423, -1113.41450683,\n",
       "       -1113.60904715, -1112.91498556, -1113.78683824, -1112.65366832,\n",
       "       -1112.11603434, -1111.96038037, -1113.8047694 , -1114.07858724,\n",
       "       -1112.17124347, -1112.50705706, -1112.32741448, -1115.12460007,\n",
       "       -1136.60665931, -1112.6345759 , -1112.6521566 , -1112.33047287,\n",
       "       -1113.82198028, -1112.26984303, -1114.08271472, -1114.07625539,\n",
       "       -1115.16779986, -1114.4602901 , -1114.3692062 , -1114.07351519,\n",
       "       -1113.78049439, -1112.87876235, -1113.56192922, -1113.20414235,\n",
       "       -1248.52218314, -1113.82522143, -1113.59966412, -1113.8127291 ,\n",
       "       -1113.2500615 , -1113.2337616 , -1113.78463927, -1113.00553313,\n",
       "       -1112.89882134, -1112.88366955, -1113.25602811, -1112.6268678 ,\n",
       "       -1113.40443694, -1112.78445259, -1113.2467126 , -1113.24508859,\n",
       "       -1112.8827185 , -1113.09568171, -1113.10525072, -1112.81296745,\n",
       "       -1112.48927371, -1113.39934006, -1112.98016852, -1112.62544197,\n",
       "       -1113.0012082 , -1113.81405914, -1112.31541174, -1112.98727846,\n",
       "       -1112.9725608 , -1112.64552548, -1113.80129325, -1114.04894637,\n",
       "       -1112.72029233, -1113.2633221 , -1112.64470636, -1112.81060596,\n",
       "       -1112.49828066, -1112.38274581, -1112.58286147, -1112.12823812,\n",
       "       -1112.37612633, -1112.26591913, -1112.50202498, -1112.31994399,\n",
       "       -1112.64794829, -1113.0004776 , -1112.56177159, -1112.22595167,\n",
       "       -1112.31292293, -1137.4662012 , -1113.37719666, -1113.39882781,\n",
       "       -1113.76628745, -1113.55976043, -1114.0833872 , -1114.05653136,\n",
       "       -1113.35633781, -1115.19987674, -1114.45604557, -1114.41875296,\n",
       "       -1112.57520336, -1113.12780262, -1114.45549252, -1114.1003735 ,\n",
       "       -1114.11121061, -1112.49555904, -1115.18962656, -1113.42992184,\n",
       "       -1113.82860775, -1114.50578235, -1114.02553247, -1112.4398732 ,\n",
       "       -1112.44651731, -1112.26977377, -1113.57981236, -1112.7363283 ,\n",
       "       -1115.22236385, -1112.82114826, -1114.03360121, -1114.43780396,\n",
       "       -1139.87872344, -1113.36664816, -1113.80951415, -1114.12148494,\n",
       "       -1115.19807123, -1268.97146441, -1113.36882745, -1114.48377133,\n",
       "       -1113.41068306, -1113.24292443, -1112.95649842, -1112.9923718 ,\n",
       "       -1113.60819089, -1113.27240531, -1113.39294625, -1113.26111788,\n",
       "       -1113.77764667, -1113.82653901, -1113.10166837, -1112.90185044,\n",
       "       -1113.12409895, -1113.57496562, -1112.62260454, -1114.1080671 ,\n",
       "       -1113.12818366, -1113.3848303 , -1112.71150941, -1112.5476754 ,\n",
       "       -1112.21301058, -1112.38117636, -1112.71731067, -1112.72106255,\n",
       "       -1114.08489227, -1113.54664178, -1113.80062704, -1115.19576676,\n",
       "       -1112.80762073, -1113.60424795, -1114.50311923, -1112.73985778,\n",
       "       -1114.48445095, -1113.79586623, -1114.50271978, -1113.60403536,\n",
       "       -1113.2515889 , -1112.8922655 , -1113.13363036, -1113.01701825])"
      ]
     },
     "execution_count": 66,
     "metadata": {},
     "output_type": "execute_result"
    }
   ],
   "source": [
    "result_loglik"
   ]
  },
  {
   "cell_type": "code",
   "execution_count": 25,
   "metadata": {
    "collapsed": false
   },
   "outputs": [
    {
     "name": "stdout",
     "output_type": "stream",
     "text": [
      "<class 'numpy.ndarray'>\n"
     ]
    }
   ],
   "source": [
    "graph_iter = generate_graphs(**config.generator_dictionary)\n",
    "graphs = list(graph_iter)\n",
    "for graph in graphs:\n",
    "    Node_Name_Rule.graph_semantics_apply(graph,config.node_semantics)\n",
    "    Edge_Semantics_Rule.graph_semantics_apply(graph,config.edge_semantics)\n",
    "\n",
    "max_graph = graphs[0]\n",
    "num_graphs = len(graphs)\n",
    "# num_params = config.options[\"param_sample_size\"]\n",
    "num_params = 2\n",
    "loglikelihood_by_param = np.zeros(shape = (num_params,num_graphs))\n",
    "print(loglikelihood_by_param.__class__)\n",
    "max_graph_params = GraphParams.from_networkx(max_graph) # fix this when you can\n",
    "# max_graph_params.sample()\n",
    "# blah = inference_obj.subgraph_loglik(graphs[1],max_graph_params,options=config.options)\n",
    "param_list = [None]*num_params\n",
    "for i in range(num_params):\n",
    "    param_list[i] = max_graph_params.sample()\n",
    "# blah = Parallel(n_jobs = -1, backend = \"multiprocessing\")( for i,x in enumerate(range(1,10)))\n",
    "    loglikelihood_by_param = np.array(Parallel(n_jobs=-1, backend=\"multiprocessing\")(\n",
    "            delayed(inference_obj.subgraph_loglik)(graph, max_graph_params,\n",
    "                options=options) for graph in graphs))\n",
    "    \n",
    "    "
   ]
  },
  {
   "cell_type": "code",
   "execution_count": 30,
   "metadata": {
    "collapsed": true
   },
   "outputs": [],
   "source": [
    "for i in range(num_params):\n",
    "    param_list[i] = max_graph_params.sample()"
   ]
  },
  {
   "cell_type": "code",
   "execution_count": 52,
   "metadata": {
    "collapsed": false
   },
   "outputs": [],
   "source": [
    "def helper_subgraph_loglik(graphs,max_graph_params,options=None):\n",
    "    return np.array([inference_obj.subgraph_loglik(graph,max_graph_params,options=options) for graph in graphs])\n",
    "loglikelihood_by_param = Parallel(n_jobs=-1, backend=\"multiprocessing\")(\n",
    "            delayed(helper_subgraph_loglik)(graphs, max_graph_params.from_dict(params),\n",
    "                options=options) for params in param_list)\n"
   ]
  },
  {
   "cell_type": "markdown",
   "metadata": {},
   "source": [
    "# do not go past here"
   ]
  },
  {
   "cell_type": "code",
   "execution_count": 53,
   "metadata": {
    "collapsed": false
   },
   "outputs": [
    {
     "data": {
      "text/plain": [
       "array([-393.75169443, -528.55738916, -250.97527905, -396.55414221,\n",
       "       -439.57018844, -422.42015627, -309.19746986, -415.98352154,\n",
       "       -431.14525507, -295.97277197,          -inf, -587.10505485,\n",
       "       -458.35969121, -552.14042652,          -inf, -567.26405325,\n",
       "       -468.15921252, -760.5689747 , -417.9503687 ,          -inf,\n",
       "       -367.98772361, -424.52783128, -562.30487535, -288.65458755,\n",
       "       -195.9473258 , -376.82565402, -450.19947908, -339.95610719,\n",
       "       -393.36861065, -432.33068766, -487.64272868, -372.55303264,\n",
       "       -600.26143928, -502.06686648, -575.57201273, -303.01790866,\n",
       "       -391.3538637 , -324.96956341, -445.00000508, -325.40178431,\n",
       "       -414.41945005, -388.10687325, -393.93039521, -287.0980737 ,\n",
       "       -477.9688525 , -244.31721968,          -inf,          -inf,\n",
       "                -inf,          -inf,          -inf, -413.66913674,\n",
       "       -493.47837185, -545.85179278, -638.45267836,          -inf,\n",
       "       -394.5752516 , -424.90646225, -397.83699435,          -inf,\n",
       "                -inf, -504.74029451, -529.89194268,          -inf,\n",
       "                -inf, -435.44505096, -507.41589625,          -inf,\n",
       "       -585.30570208,          -inf, -375.6271905 , -672.20195555,\n",
       "                -inf, -402.50447352, -479.45484728,          -inf,\n",
       "       -486.31601387, -436.54632847,          -inf,          -inf,\n",
       "                -inf,          -inf, -457.94145112, -587.46346474,\n",
       "       -161.93659502, -250.7342148 , -523.2579883 , -274.58461688,\n",
       "       -427.68732858, -494.35156116, -341.07080802, -346.2879705 ,\n",
       "       -546.29674016, -400.73461299, -502.39908453, -526.70726263,\n",
       "       -494.77391125, -273.699164  , -343.85441728, -502.53132418,\n",
       "       -730.78915654, -476.85350428, -420.79280863, -473.35057171,\n",
       "       -462.64964047, -373.16635543, -506.20068895, -688.4428752 ,\n",
       "       -383.68555121, -464.14994198, -653.46479786, -504.0266384 ,\n",
       "       -709.06977889, -395.48539409, -778.64223321, -353.95926492,\n",
       "       -315.27383309, -319.87334007, -206.20108464,          -inf,\n",
       "       -569.05359393, -330.99181682, -336.3133511 , -374.3646509 ,\n",
       "       -563.01376755, -415.07876332,          -inf,          -inf,\n",
       "                -inf,          -inf,          -inf,          -inf,\n",
       "                -inf,          -inf, -406.50175497, -527.23548552,\n",
       "                -inf,          -inf, -503.99166148, -759.71499516,\n",
       "                -inf, -428.39766202, -508.72743429,          -inf,\n",
       "       -429.17689169, -419.36099065, -590.96667662,          -inf,\n",
       "       -338.30646233, -361.00787285,          -inf, -654.63720884,\n",
       "       -405.9632824 , -399.37554633,          -inf,          -inf,\n",
       "                -inf, -475.3683358 , -770.24160104, -734.34808018,\n",
       "                -inf,          -inf,          -inf,          -inf,\n",
       "                -inf, -466.71774868, -653.77653686,          -inf,\n",
       "       -546.52322925, -480.61930304, -332.35644124, -322.06394626,\n",
       "       -732.53380792, -305.18190498, -435.13902688, -386.89477902,\n",
       "       -768.91151187, -245.01981416,          -inf, -434.37772075,\n",
       "                -inf,          -inf, -503.66361773,          -inf,\n",
       "       -492.43597992, -489.66645292, -371.16471429, -438.33019623,\n",
       "                -inf, -409.57474155, -547.35047255, -688.91506693,\n",
       "       -310.75185412, -542.3939509 , -420.27918608, -330.83843312,\n",
       "       -590.56208945,          -inf, -583.34155047, -321.39694279,\n",
       "                -inf, -697.81906024, -598.83581983, -376.60070058,\n",
       "       -365.35754646, -313.81910405,          -inf,          -inf,\n",
       "       -394.78090871, -734.78589446,          -inf, -480.73125094,\n",
       "       -646.24475154, -395.57123248, -467.13907017, -414.4977221 ,\n",
       "                -inf,          -inf, -546.98280741,          -inf,\n",
       "                -inf, -626.98544282, -364.51456156, -468.09630605,\n",
       "       -598.19915483, -494.59804994,          -inf,          -inf,\n",
       "                -inf,          -inf,          -inf, -573.65555843,\n",
       "                -inf,          -inf, -587.90938738, -612.72891905,\n",
       "       -522.5440872 , -432.19593926, -526.86485641, -401.94782587,\n",
       "                -inf, -537.47458983, -692.78254909, -518.11908038,\n",
       "                -inf,          -inf,          -inf,          -inf,\n",
       "                -inf,          -inf,          -inf,          -inf,\n",
       "       -584.49152201,          -inf, -404.36707215,          -inf,\n",
       "                -inf, -358.92777983, -378.31278744, -418.48711856,\n",
       "       -698.07290352,          -inf, -329.34388624, -546.82013066,\n",
       "                -inf, -521.03366418, -711.34505291, -568.49813086,\n",
       "       -581.3109137 , -455.70072565, -293.5537258 , -408.73187266,\n",
       "       -381.19712555, -784.02127521, -460.99111388, -523.10772892,\n",
       "                -inf,          -inf, -526.92940998,          -inf,\n",
       "       -389.91513166, -452.46368042, -660.59383275,          -inf,\n",
       "       -472.10490268,          -inf, -620.25502416, -354.5984223 ,\n",
       "                -inf,          -inf, -522.64765302, -548.84789921,\n",
       "       -719.0622669 ,          -inf,          -inf,          -inf,\n",
       "                -inf, -355.62663012, -297.32830217, -654.54189272,\n",
       "       -324.7031465 , -585.68949314,          -inf, -441.15493663])"
      ]
     },
     "execution_count": 53,
     "metadata": {},
     "output_type": "execute_result"
    }
   ],
   "source": [
    "loglikelihood_by_param[0]"
   ]
  },
  {
   "cell_type": "code",
   "execution_count": 54,
   "metadata": {
    "collapsed": false
   },
   "outputs": [
    {
     "ename": "AttributeError",
     "evalue": "'list' object has no attribute 'shape'",
     "output_type": "error",
     "traceback": [
      "\u001b[0;31m---------------------------------------------------------------------------\u001b[0m",
      "\u001b[0;31mAttributeError\u001b[0m                            Traceback (most recent call last)",
      "\u001b[0;32m<ipython-input-54-65c029e8f48d>\u001b[0m in \u001b[0;36m<module>\u001b[0;34m()\u001b[0m\n\u001b[0;32m----> 1\u001b[0;31m \u001b[0mloglikelihood_by_param\u001b[0m\u001b[0;34m.\u001b[0m\u001b[0mshape\u001b[0m\u001b[0;34m\u001b[0m\u001b[0m\n\u001b[0m",
      "\u001b[0;31mAttributeError\u001b[0m: 'list' object has no attribute 'shape'"
     ]
    }
   ],
   "source": [
    "loglikelihood_by_param.shape"
   ]
  },
  {
   "cell_type": "code",
   "execution_count": 26,
   "metadata": {
    "collapsed": false
   },
   "outputs": [
    {
     "name": "stdout",
     "output_type": "stream",
     "text": [
      "<class 'numpy.ndarray'>\n"
     ]
    }
   ],
   "source": [
    "print(loglikelihood_by_param.__class__)\n"
   ]
  },
  {
   "cell_type": "code",
   "execution_count": 134,
   "metadata": {
    "collapsed": true
   },
   "outputs": [],
   "source": [
    "from math import sqrt"
   ]
  },
  {
   "cell_type": "code",
   "execution_count": 174,
   "metadata": {
    "collapsed": false
   },
   "outputs": [
    {
     "data": {
      "text/plain": [
       "[1.0,\n",
       " 1.4142135623730951,\n",
       " 1.7320508075688772,\n",
       " 2.0,\n",
       " 2.23606797749979,\n",
       " 2.449489742783178,\n",
       " 2.6457513110645907,\n",
       " 2.8284271247461903,\n",
       " 3.0]"
      ]
     },
     "execution_count": 174,
     "metadata": {},
     "output_type": "execute_result"
    }
   ],
   "source": [
    "Parallel(n_jobs = -1, backend = \"multiprocessing\")(delayed(sqrt)(x) for i,x in enumerate(range(1,10)))"
   ]
  },
  {
   "cell_type": "code",
   "execution_count": 170,
   "metadata": {
    "collapsed": false
   },
   "outputs": [],
   "source": [
    "test_gen = [delayed(sqrt)(x,idx = i) for i,x in enumerate(range(1,10))]"
   ]
  },
  {
   "cell_type": "code",
   "execution_count": 171,
   "metadata": {
    "collapsed": false
   },
   "outputs": [
    {
     "data": {
      "text/plain": [
       "[(<function math.sqrt>, (1,), {'idx': 0}),\n",
       " (<function math.sqrt>, (2,), {'idx': 1}),\n",
       " (<function math.sqrt>, (3,), {'idx': 2}),\n",
       " (<function math.sqrt>, (4,), {'idx': 3}),\n",
       " (<function math.sqrt>, (5,), {'idx': 4}),\n",
       " (<function math.sqrt>, (6,), {'idx': 5}),\n",
       " (<function math.sqrt>, (7,), {'idx': 6}),\n",
       " (<function math.sqrt>, (8,), {'idx': 7}),\n",
       " (<function math.sqrt>, (9,), {'idx': 8})]"
      ]
     },
     "execution_count": 171,
     "metadata": {},
     "output_type": "execute_result"
    }
   ],
   "source": [
    "test_gen"
   ]
  },
  {
   "cell_type": "code",
   "execution_count": 128,
   "metadata": {
    "collapsed": false
   },
   "outputs": [
    {
     "ename": "TypeError",
     "evalue": "'int' object is not iterable",
     "output_type": "error",
     "traceback": [
      "\u001b[0;31m---------------------------------------------------------------------------\u001b[0m",
      "\u001b[0;31mTypeError\u001b[0m                                 Traceback (most recent call last)",
      "\u001b[0;32m<ipython-input-128-c4807b9ff71c>\u001b[0m in \u001b[0;36m<module>\u001b[0;34m()\u001b[0m\n\u001b[0;32m----> 1\u001b[0;31m \u001b[0;32mfor\u001b[0m \u001b[0mi\u001b[0m\u001b[0;34m,\u001b[0m\u001b[0mx\u001b[0m \u001b[0;32min\u001b[0m \u001b[0menumerate\u001b[0m\u001b[0;34m(\u001b[0m\u001b[0;36m10\u001b[0m\u001b[0;34m)\u001b[0m\u001b[0;34m:\u001b[0m\u001b[0;34m\u001b[0m\u001b[0m\n\u001b[0m\u001b[1;32m      2\u001b[0m     \u001b[0mprint\u001b[0m\u001b[0;34m(\u001b[0m\u001b[0mi\u001b[0m\u001b[0;34m,\u001b[0m\u001b[0mx\u001b[0m\u001b[0;34m)\u001b[0m\u001b[0;34m\u001b[0m\u001b[0m\n",
      "\u001b[0;31mTypeError\u001b[0m: 'int' object is not iterable"
     ]
    }
   ],
   "source": [
    "for i,x in enumerate(range(1,5)):\n",
    "    print(i,x)"
   ]
  },
  {
   "cell_type": "code",
   "execution_count": 121,
   "metadata": {
    "collapsed": false
   },
   "outputs": [
    {
     "name": "stdout",
     "output_type": "stream",
     "text": [
      "{'r': array([  7.28887461,  57.01761847,   8.54070358,  12.90071227,\n",
      "        16.59509896,   1.7601836 ,  49.47634301,   1.81576445,\n",
      "         0.50490592,  20.34303725,  14.63032422,   1.08552227,\n",
      "        31.78241691,  36.33860303,  14.41687462]), 'lambda0': [18.62627296023096], 'psi_shape': 1.0, 'r_shape': 1.0, 'scale_free_bounds': (0.01, 100), 'names': [('A_int', 'A_obs'), ('A_int', 'A_★'), ('A_★', 'A_obs'), ('A_★', 'B_★'), ('A_★', 'C_★'), ('A_★', 'D_★'), ('B_★', 'B_obs'), ('B_★', 'C_★'), ('B_★', 'D_★'), ('C_★', 'B_★'), ('C_★', 'C_obs'), ('C_★', 'D_★'), ('D_★', 'B_★'), ('D_★', 'C_★'), ('D_★', 'D_obs')], 'mu': array([  2.86044561e+00,   4.79573854e-01,   7.07358855e-01,\n",
      "         3.49711220e-01,   2.17602414e-01,   5.25812291e-01,\n",
      "         2.77978135e-01,   5.33475236e-01,   5.75700583e+01,\n",
      "         1.62187470e-01,   6.05699152e-01,   5.03472105e+01,\n",
      "         8.27638020e-02,   1.30686555e-02,   4.70509167e-01]), 'n': 15, 'p': 0.8, 'psi': array([ 20.84942935,  27.34415903,   6.04134231,   4.51152382,\n",
      "         3.61113359,   0.92552617,  13.75334154,   0.96866537,\n",
      "        29.06746319,   3.29938574,   8.86157497,  54.6530184 ,\n",
      "         2.63043366,   0.47489669,   6.78327167])}\n",
      "{'r': array([  9.52855003,   2.39395283,  38.72398587,  12.44261209,\n",
      "        45.17064661,  15.07717917,   4.96468024,  30.99938484,\n",
      "         7.69403603,  18.55259721,  20.24654865,  47.44620752,\n",
      "         7.29568879,   0.68312537,  32.23225   ]), 'lambda0': [18.62627296023096], 'psi_shape': 1.0, 'r_shape': 1.0, 'scale_free_bounds': (0.01, 100), 'names': [('A_int', 'A_obs'), ('A_int', 'A_★'), ('A_★', 'A_obs'), ('A_★', 'B_★'), ('A_★', 'C_★'), ('A_★', 'D_★'), ('B_★', 'B_obs'), ('B_★', 'C_★'), ('B_★', 'D_★'), ('C_★', 'B_★'), ('C_★', 'C_obs'), ('C_★', 'D_★'), ('D_★', 'B_★'), ('D_★', 'C_★'), ('D_★', 'D_obs')], 'mu': None, 'n': 15, 'p': 0.8, 'psi': array([ 14.11968968,  19.90083698,  54.49189038,   2.42892767,\n",
      "        39.70689803,   2.14981838,   2.2262068 ,   9.86407775,\n",
      "        13.43058103,  21.15311455,  10.04837569,   7.3793286 ,\n",
      "         2.46029101,   4.67208242,  40.45149414])}\n",
      "{'r': array([  7.28887461,  57.01761847,   8.54070358,  12.90071227,\n",
      "        16.59509896,   1.7601836 ,  49.47634301,   1.81576445,\n",
      "         0.50490592,  20.34303725,  14.63032422,   1.08552227,\n",
      "        31.78241691,  36.33860303,  14.41687462]), 'lambda0': [18.62627296023096], 'psi_shape': 1.0, 'r_shape': 1.0, 'scale_free_bounds': (0.01, 100), 'names': [('A_int', 'A_obs'), ('A_int', 'A_★'), ('A_★', 'A_obs'), ('A_★', 'B_★'), ('A_★', 'C_★'), ('A_★', 'D_★'), ('B_★', 'B_obs'), ('B_★', 'C_★'), ('B_★', 'D_★'), ('C_★', 'B_★'), ('C_★', 'C_obs'), ('C_★', 'D_★'), ('D_★', 'B_★'), ('D_★', 'C_★'), ('D_★', 'D_obs')], 'mu': None, 'n': 15, 'p': 0.8, 'psi': array([ 20.84942935,  27.34415903,   6.04134231,   4.51152382,\n",
      "         3.61113359,   0.92552617,  13.75334154,   0.96866537,\n",
      "        29.06746319,   3.29938574,   8.86157497,  54.6530184 ,\n",
      "         2.63043366,   0.47489669,   6.78327167])}\n"
     ]
    }
   ],
   "source": [
    "print(max_graph_params.to_dict())\n",
    "print(max_graph_params.from_dict(param_list[0]).to_dict())\n",
    "print(max_graph_params.from_dict(param_list[1]).to_dict())\n"
   ]
  },
  {
   "cell_type": "code",
   "execution_count": 26,
   "metadata": {
    "collapsed": true
   },
   "outputs": [],
   "source": [
    "class ContObj:\n",
    "    \n",
    "    def __iter__(self):\n",
    "        return iter(['hi', 'banana','red'])\n",
    "    \n",
    "    def __getitem__(self, value):\n",
    "        \n",
    "        return np.ones(shape=[value]*value)"
   ]
  },
  {
   "cell_type": "code",
   "execution_count": null,
   "metadata": {
    "collapsed": true
   },
   "outputs": [],
   "source": []
  },
  {
   "cell_type": "code",
   "execution_count": 29,
   "metadata": {
    "collapsed": true
   },
   "outputs": [],
   "source": [
    "cont_obj = ContObj()"
   ]
  },
  {
   "cell_type": "code",
   "execution_count": 33,
   "metadata": {
    "collapsed": false
   },
   "outputs": [
    {
     "data": {
      "text/plain": [
       "array([[[ 1.,  1.,  1.,  1.],\n",
       "        [ 1.,  1.,  1.,  1.],\n",
       "        [ 1.,  1.,  1.,  1.],\n",
       "        [ 1.,  1.,  1.,  1.]],\n",
       "\n",
       "       [[ 1.,  1.,  1.,  1.],\n",
       "        [ 1.,  1.,  1.,  1.],\n",
       "        [ 1.,  1.,  1.,  1.],\n",
       "        [ 1.,  1.,  1.,  1.]],\n",
       "\n",
       "       [[ 1.,  1.,  1.,  1.],\n",
       "        [ 1.,  1.,  1.,  1.],\n",
       "        [ 1.,  1.,  1.,  1.],\n",
       "        [ 1.,  1.,  1.,  1.]],\n",
       "\n",
       "       [[ 1.,  1.,  1.,  1.],\n",
       "        [ 1.,  1.,  1.,  1.],\n",
       "        [ 1.,  1.,  1.,  1.],\n",
       "        [ 1.,  1.,  1.,  1.]]])"
      ]
     },
     "execution_count": 33,
     "metadata": {},
     "output_type": "execute_result"
    }
   ],
   "source": [
    "cont_obj[4][:, :,3, :]"
   ]
  },
  {
   "cell_type": "code",
   "execution_count": 25,
   "metadata": {
    "collapsed": false
   },
   "outputs": [
    {
     "ename": "TypeError",
     "evalue": "'ConfObj' object is not iterable",
     "output_type": "error",
     "traceback": [
      "\u001b[0;31m---------------------------------------------------------------------------\u001b[0m",
      "\u001b[0;31mTypeError\u001b[0m                                 Traceback (most recent call last)",
      "\u001b[0;32m<ipython-input-25-847281381b83>\u001b[0m in \u001b[0;36m<module>\u001b[0;34m()\u001b[0m\n\u001b[0;32m----> 1\u001b[0;31m \u001b[0;32mfor\u001b[0m \u001b[0mx\u001b[0m \u001b[0;32min\u001b[0m \u001b[0miter\u001b[0m\u001b[0;34m(\u001b[0m\u001b[0mcont_obj\u001b[0m\u001b[0;34m)\u001b[0m\u001b[0;34m:\u001b[0m\u001b[0;34m\u001b[0m\u001b[0m\n\u001b[0m\u001b[1;32m      2\u001b[0m     \u001b[0mprint\u001b[0m\u001b[0;34m(\u001b[0m\u001b[0mx\u001b[0m\u001b[0;34m)\u001b[0m\u001b[0;34m\u001b[0m\u001b[0m\n",
      "\u001b[0;31mTypeError\u001b[0m: 'ConfObj' object is not iterable"
     ]
    }
   ],
   "source": [
    "for x in iter(cont_obj):\n",
    "    print(x)"
   ]
  },
  {
   "cell_type": "code",
   "execution_count": 8,
   "metadata": {
    "collapsed": false
   },
   "outputs": [
    {
     "data": {
      "text/plain": [
       "[<networkx.classes.digraph.DiGraph at 0x1128d3dd8>,\n",
       " <networkx.classes.digraph.DiGraph at 0x1128d3eb8>,\n",
       " <networkx.classes.digraph.DiGraph at 0x1128d3ef0>,\n",
       " <networkx.classes.digraph.DiGraph at 0x1128d3f28>,\n",
       " <networkx.classes.digraph.DiGraph at 0x1128d3f60>,\n",
       " <networkx.classes.digraph.DiGraph at 0x1128d3f98>,\n",
       " <networkx.classes.digraph.DiGraph at 0x1128d3fd0>,\n",
       " <networkx.classes.digraph.DiGraph at 0x1128e6048>,\n",
       " <networkx.classes.digraph.DiGraph at 0x1128e6080>,\n",
       " <networkx.classes.digraph.DiGraph at 0x1128e60b8>,\n",
       " <networkx.classes.digraph.DiGraph at 0x1128e60f0>,\n",
       " <networkx.classes.digraph.DiGraph at 0x1128e6128>,\n",
       " <networkx.classes.digraph.DiGraph at 0x1128e61d0>,\n",
       " <networkx.classes.digraph.DiGraph at 0x1128e6208>,\n",
       " <networkx.classes.digraph.DiGraph at 0x1128e6240>,\n",
       " <networkx.classes.digraph.DiGraph at 0x1128e6278>,\n",
       " <networkx.classes.digraph.DiGraph at 0x1128e62b0>,\n",
       " <networkx.classes.digraph.DiGraph at 0x1128e62e8>,\n",
       " <networkx.classes.digraph.DiGraph at 0x1128e6320>,\n",
       " <networkx.classes.digraph.DiGraph at 0x1128e6358>,\n",
       " <networkx.classes.digraph.DiGraph at 0x1128e6390>,\n",
       " <networkx.classes.digraph.DiGraph at 0x1128e63c8>,\n",
       " <networkx.classes.digraph.DiGraph at 0x112878f98>,\n",
       " <networkx.classes.digraph.DiGraph at 0x1128745c0>,\n",
       " <networkx.classes.digraph.DiGraph at 0x112874550>,\n",
       " <networkx.classes.digraph.DiGraph at 0x112874390>,\n",
       " <networkx.classes.digraph.DiGraph at 0x112874f28>,\n",
       " <networkx.classes.digraph.DiGraph at 0x112874710>,\n",
       " <networkx.classes.digraph.DiGraph at 0x112874400>,\n",
       " <networkx.classes.digraph.DiGraph at 0x112874470>,\n",
       " <networkx.classes.digraph.DiGraph at 0x1128746d8>,\n",
       " <networkx.classes.digraph.DiGraph at 0x112874e80>,\n",
       " <networkx.classes.digraph.DiGraph at 0x112874cc0>,\n",
       " <networkx.classes.digraph.DiGraph at 0x112874c18>,\n",
       " <networkx.classes.digraph.DiGraph at 0x1128742e8>,\n",
       " <networkx.classes.digraph.DiGraph at 0x112874908>,\n",
       " <networkx.classes.digraph.DiGraph at 0x112874da0>,\n",
       " <networkx.classes.digraph.DiGraph at 0x112874860>,\n",
       " <networkx.classes.digraph.DiGraph at 0x112874198>,\n",
       " <networkx.classes.digraph.DiGraph at 0x112874a20>,\n",
       " <networkx.classes.digraph.DiGraph at 0x1128749e8>,\n",
       " <networkx.classes.digraph.DiGraph at 0x1128749b0>,\n",
       " <networkx.classes.digraph.DiGraph at 0x112874b00>,\n",
       " <networkx.classes.digraph.DiGraph at 0x112874fd0>,\n",
       " <networkx.classes.digraph.DiGraph at 0x112874b38>,\n",
       " <networkx.classes.digraph.DiGraph at 0x112874cf8>,\n",
       " <networkx.classes.digraph.DiGraph at 0x112874b70>,\n",
       " <networkx.classes.digraph.DiGraph at 0x112874be0>,\n",
       " <networkx.classes.digraph.DiGraph at 0x112874a90>,\n",
       " <networkx.classes.digraph.DiGraph at 0x112874c50>,\n",
       " <networkx.classes.digraph.DiGraph at 0x112874d30>,\n",
       " <networkx.classes.digraph.DiGraph at 0x112874f98>,\n",
       " <networkx.classes.digraph.DiGraph at 0x112874438>,\n",
       " <networkx.classes.digraph.DiGraph at 0x112874e10>,\n",
       " <networkx.classes.digraph.DiGraph at 0x112874e48>,\n",
       " <networkx.classes.digraph.DiGraph at 0x112874f60>,\n",
       " <networkx.classes.digraph.DiGraph at 0x112874208>,\n",
       " <networkx.classes.digraph.DiGraph at 0x112874ba8>,\n",
       " <networkx.classes.digraph.DiGraph at 0x1128746a0>,\n",
       " <networkx.classes.digraph.DiGraph at 0x1128740f0>,\n",
       " <networkx.classes.digraph.DiGraph at 0x112874c88>,\n",
       " <networkx.classes.digraph.DiGraph at 0x112874240>,\n",
       " <networkx.classes.digraph.DiGraph at 0x112874358>,\n",
       " <networkx.classes.digraph.DiGraph at 0x112874d68>,\n",
       " <networkx.classes.digraph.DiGraph at 0x112874588>,\n",
       " <networkx.classes.digraph.DiGraph at 0x112874ef0>,\n",
       " <networkx.classes.digraph.DiGraph at 0x1128744e0>,\n",
       " <networkx.classes.digraph.DiGraph at 0x112874eb8>,\n",
       " <networkx.classes.digraph.DiGraph at 0x1128741d0>,\n",
       " <networkx.classes.digraph.DiGraph at 0x112874048>,\n",
       " <networkx.classes.digraph.DiGraph at 0x1128d34a8>,\n",
       " <networkx.classes.digraph.DiGraph at 0x1128d3400>,\n",
       " <networkx.classes.digraph.DiGraph at 0x1128d3048>,\n",
       " <networkx.classes.digraph.DiGraph at 0x1128d3080>,\n",
       " <networkx.classes.digraph.DiGraph at 0x1128d3208>,\n",
       " <networkx.classes.digraph.DiGraph at 0x1128d31d0>,\n",
       " <networkx.classes.digraph.DiGraph at 0x1128d30b8>,\n",
       " <networkx.classes.digraph.DiGraph at 0x1128d30f0>,\n",
       " <networkx.classes.digraph.DiGraph at 0x1128d3128>,\n",
       " <networkx.classes.digraph.DiGraph at 0x1128d3160>,\n",
       " <networkx.classes.digraph.DiGraph at 0x1128d3198>,\n",
       " <networkx.classes.digraph.DiGraph at 0x1128d3278>,\n",
       " <networkx.classes.digraph.DiGraph at 0x1128d32b0>,\n",
       " <networkx.classes.digraph.DiGraph at 0x1128d3240>,\n",
       " <networkx.classes.digraph.DiGraph at 0x1128d32e8>,\n",
       " <networkx.classes.digraph.DiGraph at 0x1128d33c8>,\n",
       " <networkx.classes.digraph.DiGraph at 0x1128d3320>,\n",
       " <networkx.classes.digraph.DiGraph at 0x1128d3390>,\n",
       " <networkx.classes.digraph.DiGraph at 0x1128d3358>,\n",
       " <networkx.classes.digraph.DiGraph at 0x1128d3470>,\n",
       " <networkx.classes.digraph.DiGraph at 0x1128d3438>,\n",
       " <networkx.classes.digraph.DiGraph at 0x1128e6160>,\n",
       " <networkx.classes.digraph.DiGraph at 0x1128e6198>,\n",
       " <networkx.classes.digraph.DiGraph at 0x1128e6400>,\n",
       " <networkx.classes.digraph.DiGraph at 0x1128e6438>,\n",
       " <networkx.classes.digraph.DiGraph at 0x1128e6470>,\n",
       " <networkx.classes.digraph.DiGraph at 0x1128e64a8>,\n",
       " <networkx.classes.digraph.DiGraph at 0x1128e64e0>,\n",
       " <networkx.classes.digraph.DiGraph at 0x1128e6550>,\n",
       " <networkx.classes.digraph.DiGraph at 0x1128e6518>,\n",
       " <networkx.classes.digraph.DiGraph at 0x1128e6588>,\n",
       " <networkx.classes.digraph.DiGraph at 0x1128e65c0>,\n",
       " <networkx.classes.digraph.DiGraph at 0x1128e65f8>,\n",
       " <networkx.classes.digraph.DiGraph at 0x1128e6630>,\n",
       " <networkx.classes.digraph.DiGraph at 0x1128e6668>,\n",
       " <networkx.classes.digraph.DiGraph at 0x1128e66a0>,\n",
       " <networkx.classes.digraph.DiGraph at 0x1128e66d8>,\n",
       " <networkx.classes.digraph.DiGraph at 0x1128e6710>,\n",
       " <networkx.classes.digraph.DiGraph at 0x1128e6748>,\n",
       " <networkx.classes.digraph.DiGraph at 0x1128e6780>,\n",
       " <networkx.classes.digraph.DiGraph at 0x1128e67b8>,\n",
       " <networkx.classes.digraph.DiGraph at 0x1128e67f0>,\n",
       " <networkx.classes.digraph.DiGraph at 0x1128e6828>,\n",
       " <networkx.classes.digraph.DiGraph at 0x1128e6860>,\n",
       " <networkx.classes.digraph.DiGraph at 0x1128e6898>,\n",
       " <networkx.classes.digraph.DiGraph at 0x1128e68d0>,\n",
       " <networkx.classes.digraph.DiGraph at 0x1128e6908>,\n",
       " <networkx.classes.digraph.DiGraph at 0x1128e6940>,\n",
       " <networkx.classes.digraph.DiGraph at 0x1128e6978>,\n",
       " <networkx.classes.digraph.DiGraph at 0x1128e69b0>,\n",
       " <networkx.classes.digraph.DiGraph at 0x1128e69e8>,\n",
       " <networkx.classes.digraph.DiGraph at 0x1128e6a20>,\n",
       " <networkx.classes.digraph.DiGraph at 0x1128e6a58>,\n",
       " <networkx.classes.digraph.DiGraph at 0x1128e6a90>,\n",
       " <networkx.classes.digraph.DiGraph at 0x1128e6ac8>,\n",
       " <networkx.classes.digraph.DiGraph at 0x1128e6b00>,\n",
       " <networkx.classes.digraph.DiGraph at 0x1128e6b38>,\n",
       " <networkx.classes.digraph.DiGraph at 0x1128e6b70>,\n",
       " <networkx.classes.digraph.DiGraph at 0x1128e6ba8>,\n",
       " <networkx.classes.digraph.DiGraph at 0x1128e6be0>,\n",
       " <networkx.classes.digraph.DiGraph at 0x1128e6c50>,\n",
       " <networkx.classes.digraph.DiGraph at 0x1128e6c18>,\n",
       " <networkx.classes.digraph.DiGraph at 0x1128e6c88>,\n",
       " <networkx.classes.digraph.DiGraph at 0x1128e6cc0>,\n",
       " <networkx.classes.digraph.DiGraph at 0x1128e6cf8>,\n",
       " <networkx.classes.digraph.DiGraph at 0x1128e6d68>,\n",
       " <networkx.classes.digraph.DiGraph at 0x1128e6d30>,\n",
       " <networkx.classes.digraph.DiGraph at 0x1128e6da0>,\n",
       " <networkx.classes.digraph.DiGraph at 0x1128e6e10>,\n",
       " <networkx.classes.digraph.DiGraph at 0x1128e6dd8>,\n",
       " <networkx.classes.digraph.DiGraph at 0x1128e6e48>,\n",
       " <networkx.classes.digraph.DiGraph at 0x1128e6e80>,\n",
       " <networkx.classes.digraph.DiGraph at 0x1128e6eb8>,\n",
       " <networkx.classes.digraph.DiGraph at 0x1128e6ef0>,\n",
       " <networkx.classes.digraph.DiGraph at 0x1128e6f60>,\n",
       " <networkx.classes.digraph.DiGraph at 0x1128e6f28>,\n",
       " <networkx.classes.digraph.DiGraph at 0x1128e6f98>,\n",
       " <networkx.classes.digraph.DiGraph at 0x1128e6fd0>,\n",
       " <networkx.classes.digraph.DiGraph at 0x1129a6048>,\n",
       " <networkx.classes.digraph.DiGraph at 0x1129a6080>,\n",
       " <networkx.classes.digraph.DiGraph at 0x1129a60b8>,\n",
       " <networkx.classes.digraph.DiGraph at 0x1129a60f0>,\n",
       " <networkx.classes.digraph.DiGraph at 0x1129a6128>,\n",
       " <networkx.classes.digraph.DiGraph at 0x1129a6160>,\n",
       " <networkx.classes.digraph.DiGraph at 0x1129a6198>,\n",
       " <networkx.classes.digraph.DiGraph at 0x1129a6208>,\n",
       " <networkx.classes.digraph.DiGraph at 0x1129a61d0>,\n",
       " <networkx.classes.digraph.DiGraph at 0x1129a6240>,\n",
       " <networkx.classes.digraph.DiGraph at 0x1129a6278>,\n",
       " <networkx.classes.digraph.DiGraph at 0x1129a62b0>,\n",
       " <networkx.classes.digraph.DiGraph at 0x1129a6320>,\n",
       " <networkx.classes.digraph.DiGraph at 0x1129a62e8>,\n",
       " <networkx.classes.digraph.DiGraph at 0x1129a6358>,\n",
       " <networkx.classes.digraph.DiGraph at 0x1129a6390>,\n",
       " <networkx.classes.digraph.DiGraph at 0x1129a6400>,\n",
       " <networkx.classes.digraph.DiGraph at 0x1129a6438>,\n",
       " <networkx.classes.digraph.DiGraph at 0x1129a6470>,\n",
       " <networkx.classes.digraph.DiGraph at 0x1129a63c8>,\n",
       " <networkx.classes.digraph.DiGraph at 0x1129a64a8>,\n",
       " <networkx.classes.digraph.DiGraph at 0x1129a6518>,\n",
       " <networkx.classes.digraph.DiGraph at 0x1129a6550>,\n",
       " <networkx.classes.digraph.DiGraph at 0x1129a64e0>,\n",
       " <networkx.classes.digraph.DiGraph at 0x1129a6588>,\n",
       " <networkx.classes.digraph.DiGraph at 0x1129a65c0>,\n",
       " <networkx.classes.digraph.DiGraph at 0x1129a65f8>,\n",
       " <networkx.classes.digraph.DiGraph at 0x1129a6630>,\n",
       " <networkx.classes.digraph.DiGraph at 0x1129a6668>,\n",
       " <networkx.classes.digraph.DiGraph at 0x1129a66a0>,\n",
       " <networkx.classes.digraph.DiGraph at 0x1129a66d8>,\n",
       " <networkx.classes.digraph.DiGraph at 0x1129a6710>,\n",
       " <networkx.classes.digraph.DiGraph at 0x1129a6748>,\n",
       " <networkx.classes.digraph.DiGraph at 0x1129a67b8>,\n",
       " <networkx.classes.digraph.DiGraph at 0x1129a6780>,\n",
       " <networkx.classes.digraph.DiGraph at 0x1129a6828>,\n",
       " <networkx.classes.digraph.DiGraph at 0x1129a67f0>,\n",
       " <networkx.classes.digraph.DiGraph at 0x1129a6860>,\n",
       " <networkx.classes.digraph.DiGraph at 0x1129a6898>,\n",
       " <networkx.classes.digraph.DiGraph at 0x1129a68d0>,\n",
       " <networkx.classes.digraph.DiGraph at 0x1129a6908>,\n",
       " <networkx.classes.digraph.DiGraph at 0x1129a6940>,\n",
       " <networkx.classes.digraph.DiGraph at 0x1129a6978>,\n",
       " <networkx.classes.digraph.DiGraph at 0x1129a69b0>,\n",
       " <networkx.classes.digraph.DiGraph at 0x1129a69e8>,\n",
       " <networkx.classes.digraph.DiGraph at 0x1129a6a20>,\n",
       " <networkx.classes.digraph.DiGraph at 0x1129a6a58>,\n",
       " <networkx.classes.digraph.DiGraph at 0x1129a6ac8>,\n",
       " <networkx.classes.digraph.DiGraph at 0x1129a6a90>,\n",
       " <networkx.classes.digraph.DiGraph at 0x1129a6b00>,\n",
       " <networkx.classes.digraph.DiGraph at 0x1129a6b38>,\n",
       " <networkx.classes.digraph.DiGraph at 0x1129a6b70>,\n",
       " <networkx.classes.digraph.DiGraph at 0x1129a6ba8>,\n",
       " <networkx.classes.digraph.DiGraph at 0x1129a6be0>,\n",
       " <networkx.classes.digraph.DiGraph at 0x1129a6c18>,\n",
       " <networkx.classes.digraph.DiGraph at 0x1129a6c88>,\n",
       " <networkx.classes.digraph.DiGraph at 0x1129a6c50>,\n",
       " <networkx.classes.digraph.DiGraph at 0x1129a6cc0>,\n",
       " <networkx.classes.digraph.DiGraph at 0x1129a6cf8>,\n",
       " <networkx.classes.digraph.DiGraph at 0x1129a6d30>,\n",
       " <networkx.classes.digraph.DiGraph at 0x1129a6d68>,\n",
       " <networkx.classes.digraph.DiGraph at 0x1129a6da0>,\n",
       " <networkx.classes.digraph.DiGraph at 0x1129a6dd8>,\n",
       " <networkx.classes.digraph.DiGraph at 0x1129a6e10>,\n",
       " <networkx.classes.digraph.DiGraph at 0x1129a6e48>,\n",
       " <networkx.classes.digraph.DiGraph at 0x1129a6e80>,\n",
       " <networkx.classes.digraph.DiGraph at 0x1129a6eb8>,\n",
       " <networkx.classes.digraph.DiGraph at 0x1129a6ef0>,\n",
       " <networkx.classes.digraph.DiGraph at 0x1129a6f28>,\n",
       " <networkx.classes.digraph.DiGraph at 0x1129a6f60>,\n",
       " <networkx.classes.digraph.DiGraph at 0x1129a6f98>,\n",
       " <networkx.classes.digraph.DiGraph at 0x1129a6fd0>,\n",
       " <networkx.classes.digraph.DiGraph at 0x1129d8048>,\n",
       " <networkx.classes.digraph.DiGraph at 0x1129d8080>,\n",
       " <networkx.classes.digraph.DiGraph at 0x1129d80b8>,\n",
       " <networkx.classes.digraph.DiGraph at 0x1129d80f0>,\n",
       " <networkx.classes.digraph.DiGraph at 0x1129d8128>,\n",
       " <networkx.classes.digraph.DiGraph at 0x1129d8198>,\n",
       " <networkx.classes.digraph.DiGraph at 0x1129d8160>,\n",
       " <networkx.classes.digraph.DiGraph at 0x1129d81d0>,\n",
       " <networkx.classes.digraph.DiGraph at 0x1129d8240>,\n",
       " <networkx.classes.digraph.DiGraph at 0x1129d8208>,\n",
       " <networkx.classes.digraph.DiGraph at 0x1129d8278>,\n",
       " <networkx.classes.digraph.DiGraph at 0x1129d82e8>,\n",
       " <networkx.classes.digraph.DiGraph at 0x1129d82b0>,\n",
       " <networkx.classes.digraph.DiGraph at 0x1129d8320>,\n",
       " <networkx.classes.digraph.DiGraph at 0x1129d8358>,\n",
       " <networkx.classes.digraph.DiGraph at 0x1129d8390>,\n",
       " <networkx.classes.digraph.DiGraph at 0x1129d8400>,\n",
       " <networkx.classes.digraph.DiGraph at 0x1129d83c8>,\n",
       " <networkx.classes.digraph.DiGraph at 0x1129d8438>,\n",
       " <networkx.classes.digraph.DiGraph at 0x1129d8470>,\n",
       " <networkx.classes.digraph.DiGraph at 0x1129d84a8>,\n",
       " <networkx.classes.digraph.DiGraph at 0x1129d84e0>,\n",
       " <networkx.classes.digraph.DiGraph at 0x1129d8518>,\n",
       " <networkx.classes.digraph.DiGraph at 0x1129d8550>,\n",
       " <networkx.classes.digraph.DiGraph at 0x1129d85c0>,\n",
       " <networkx.classes.digraph.DiGraph at 0x1129d8588>,\n",
       " <networkx.classes.digraph.DiGraph at 0x1129d8630>,\n",
       " <networkx.classes.digraph.DiGraph at 0x1129d85f8>,\n",
       " <networkx.classes.digraph.DiGraph at 0x1129d8668>,\n",
       " <networkx.classes.digraph.DiGraph at 0x1129d86a0>,\n",
       " <networkx.classes.digraph.DiGraph at 0x1129d8710>,\n",
       " <networkx.classes.digraph.DiGraph at 0x1129d8748>,\n",
       " <networkx.classes.digraph.DiGraph at 0x1129d8780>,\n",
       " <networkx.classes.digraph.DiGraph at 0x1129d87b8>,\n",
       " <networkx.classes.digraph.DiGraph at 0x1129d87f0>,\n",
       " <networkx.classes.digraph.DiGraph at 0x1129d86d8>,\n",
       " <networkx.classes.digraph.DiGraph at 0x1129d8860>,\n",
       " <networkx.classes.digraph.DiGraph at 0x1129d8898>,\n",
       " <networkx.classes.digraph.DiGraph at 0x1129d8828>,\n",
       " <networkx.classes.digraph.DiGraph at 0x1129d88d0>,\n",
       " <networkx.classes.digraph.DiGraph at 0x1129d8908>,\n",
       " <networkx.classes.digraph.DiGraph at 0x1129d8940>,\n",
       " <networkx.classes.digraph.DiGraph at 0x1129d8978>,\n",
       " <networkx.classes.digraph.DiGraph at 0x1129d89b0>,\n",
       " <networkx.classes.digraph.DiGraph at 0x1129d89e8>,\n",
       " <networkx.classes.digraph.DiGraph at 0x1129d8a20>,\n",
       " <networkx.classes.digraph.DiGraph at 0x1129d8a90>,\n",
       " <networkx.classes.digraph.DiGraph at 0x1129d8a58>,\n",
       " <networkx.classes.digraph.DiGraph at 0x1129d8b00>,\n",
       " <networkx.classes.digraph.DiGraph at 0x1129d8ac8>,\n",
       " <networkx.classes.digraph.DiGraph at 0x1129d8b38>,\n",
       " <networkx.classes.digraph.DiGraph at 0x1129d8b70>,\n",
       " <networkx.classes.digraph.DiGraph at 0x1129d8ba8>,\n",
       " <networkx.classes.digraph.DiGraph at 0x1129d8c18>,\n",
       " <networkx.classes.digraph.DiGraph at 0x1129d8be0>,\n",
       " <networkx.classes.digraph.DiGraph at 0x1129d8c50>,\n",
       " <networkx.classes.digraph.DiGraph at 0x1129d8c88>,\n",
       " <networkx.classes.digraph.DiGraph at 0x1129d8cc0>,\n",
       " <networkx.classes.digraph.DiGraph at 0x1129d8cf8>,\n",
       " <networkx.classes.digraph.DiGraph at 0x1129d8d30>,\n",
       " <networkx.classes.digraph.DiGraph at 0x1129d8d68>,\n",
       " <networkx.classes.digraph.DiGraph at 0x1129d8dd8>,\n",
       " <networkx.classes.digraph.DiGraph at 0x1129d8da0>,\n",
       " <networkx.classes.digraph.DiGraph at 0x1129d8e10>,\n",
       " <networkx.classes.digraph.DiGraph at 0x1129d8e48>,\n",
       " <networkx.classes.digraph.DiGraph at 0x1129d8e80>,\n",
       " <networkx.classes.digraph.DiGraph at 0x1129d8eb8>,\n",
       " <networkx.classes.digraph.DiGraph at 0x1129d8ef0>,\n",
       " <networkx.classes.digraph.DiGraph at 0x1129d8f28>,\n",
       " <networkx.classes.digraph.DiGraph at 0x1129d8f60>,\n",
       " <networkx.classes.digraph.DiGraph at 0x1129d8fd0>,\n",
       " <networkx.classes.digraph.DiGraph at 0x112a09048>,\n",
       " <networkx.classes.digraph.DiGraph at 0x1129d8f98>,\n",
       " <networkx.classes.digraph.DiGraph at 0x112a090b8>,\n",
       " <networkx.classes.digraph.DiGraph at 0x112a09080>,\n",
       " <networkx.classes.digraph.DiGraph at 0x112a09128>,\n",
       " <networkx.classes.digraph.DiGraph at 0x112a090f0>,\n",
       " <networkx.classes.digraph.DiGraph at 0x112a09198>,\n",
       " <networkx.classes.digraph.DiGraph at 0x112a091d0>,\n",
       " <networkx.classes.digraph.DiGraph at 0x112a09160>,\n",
       " <networkx.classes.digraph.DiGraph at 0x112a09208>,\n",
       " <networkx.classes.digraph.DiGraph at 0x112a09240>,\n",
       " <networkx.classes.digraph.DiGraph at 0x112a092b0>,\n",
       " <networkx.classes.digraph.DiGraph at 0x112a092e8>]"
      ]
     },
     "execution_count": 8,
     "metadata": {},
     "output_type": "execute_result"
    }
   ],
   "source": [
    "result_graphs"
   ]
  },
  {
   "cell_type": "code",
   "execution_count": null,
   "metadata": {
    "collapsed": true
   },
   "outputs": [],
   "source": []
  }
 ],
 "metadata": {
  "kernelspec": {
   "display_name": "Python 3",
   "language": "python",
   "name": "python3"
  },
  "language_info": {
   "codemirror_mode": {
    "name": "ipython",
    "version": 3
   },
   "file_extension": ".py",
   "mimetype": "text/x-python",
   "name": "python",
   "nbconvert_exporter": "python",
   "pygments_lexer": "ipython3",
   "version": "3.5.0"
  }
 },
 "nbformat": 4,
 "nbformat_minor": 0
}
