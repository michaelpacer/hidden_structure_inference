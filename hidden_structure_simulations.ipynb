{
 "cells": [
  {
   "cell_type": "code",
   "execution_count": 1,
   "metadata": {
    "collapsed": true
   },
   "outputs": [],
   "source": [
    "import numpy as np\n",
    "\n",
    "from lib.graph_enumerator import generate_graphs\n",
    "from lib.node_semantics import Node_Name_Rule, Edge_Semantics_Rule\n",
    "from lib import config, result_config\n",
    "from lib.likelihood_calculations import Inference"
   ]
  },
  {
   "cell_type": "code",
   "execution_count": 4,
   "metadata": {
    "collapsed": false
   },
   "outputs": [
    {
     "name": "stdout",
     "output_type": "stream",
     "text": [
      "0.00% 4.93% 9.87% 14.80% 19.74% 25.00% 29.93% 34.87% 39.80% 44.74% 50.00% 54.93% 59.87% 64.80% 69.74% 75.00% 79.93% 84.87% 89.80% 94.74% "
     ]
    }
   ],
   "source": [
    "graph_iter = generate_graphs(**config.generator_dictionary)\n",
    "graphs = list(graph_iter)\n",
    "for graph in graphs:    \n",
    "    Node_Name_Rule.graph_semantics_apply(graph,config.node_semantics)\n",
    "    Edge_Semantics_Rule.graph_semantics_apply(graph,config.edge_semantics)\n",
    "    \n",
    "inference_obj = Inference()\n",
    "    \n",
    "result_graphs, result_posterior, result_loglik, result_ = inference_obj.p_graph_given_d(graphs,config.options)\n",
    "edges_of_interest = result_config.edges_of_interest\n",
    "\n",
    "for idx,g in enumerate(result_graphs):\n",
    "    for edge in edges_of_interest:\n",
    "        if edge in g.edges():\n",
    "            edges_of_interest[edge]+=result_posterior[idx]\n",
    "            "
   ]
  },
  {
   "cell_type": "code",
   "execution_count": 3,
   "metadata": {
    "collapsed": false
   },
   "outputs": [
    {
     "data": {
      "text/plain": [
       "{('A_★', 'B_★'): 1.0000000000000007,\n",
       " ('A_★', 'C_★'): 0.98037797741212618,\n",
       " ('A_★', 'D_★'): 0.97877781909429162,\n",
       " ('B_★', 'C_★'): 0.019622022579931293,\n",
       " ('B_★', 'D_★'): 0.99999999998594391,\n",
       " ('C_★', 'B_★'): 0.99839984166810936,\n",
       " ('C_★', 'D_★'): 2.1434086909397385e-15,\n",
       " ('D_★', 'B_★'): 0.019622022587874405,\n",
       " ('D_★', 'C_★'): 0.99999999998594391}"
      ]
     },
     "execution_count": 3,
     "metadata": {},
     "output_type": "execute_result"
    }
   ],
   "source": [
    "edges_of_interest"
   ]
  },
  {
   "cell_type": "code",
   "execution_count": 2,
   "metadata": {
    "collapsed": true
   },
   "outputs": [],
   "source": [
    "\n",
    "graph_iter = generate_graphs(**config.generator_dictionary)\n",
    "graphs = list(graph_iter)\n",
    "for graph in graphs:    \n",
    "    Node_Name_Rule.graph_semantics_apply(graph,config.node_semantics)\n",
    "    Edge_Semantics_Rule.graph_semantics_apply(graph,config.edge_semantics)\n",
    "    "
   ]
  },
  {
   "cell_type": "code",
   "execution_count": 7,
   "metadata": {
    "collapsed": true
   },
   "outputs": [],
   "source": [
    "max_graph_params = GraphParams.from_networkx(graphs[0])\n",
    "max_graph_params.sample()\n",
    "test_graph = graphs[49]"
   ]
  },
  {
   "cell_type": "code",
   "execution_count": 8,
   "metadata": {
    "collapsed": false
   },
   "outputs": [],
   "source": [
    "from lib.subgraph_functions import sub_graph_sample, sub_graph_from_edge_type\n",
    "from lib.graph_local_classes import GraphStructure, GraphParams\n",
    "\n",
    "gs_out = GraphStructure.from_networkx(sub_graph_from_edge_type(test_graph,\n",
    "    edge_types=[\"observed\"]))\n",
    "gp_out = max_graph_params.subgraph_copy(gs_out.edges)\n"
   ]
  },
  {
   "cell_type": "code",
   "execution_count": 11,
   "metadata": {
    "collapsed": false
   },
   "outputs": [
    {
     "data": {
      "text/plain": [
       "{'lambda0': [10.116370580893141],\n",
       " 'mu': array([ 0.86068499,  0.19533562,  4.48581783,  0.65740919]),\n",
       " 'n': 4,\n",
       " 'names': [('A_★', 'A_obs'),\n",
       "  ('B_★', 'B_obs'),\n",
       "  ('C_★', 'C_obs'),\n",
       "  ('D_★', 'D_obs')],\n",
       " 'p': 0.8,\n",
       " 'psi': array([  3.55564982,   4.72233606,   5.86150667,  28.04508827]),\n",
       " 'psi_shape': 1.0,\n",
       " 'r': array([  4.13118602,  24.17549839,   1.30667515,  42.66001844]),\n",
       " 'r_shape': 1.0,\n",
       " 'scale_free_bounds': (0.01, 100)}"
      ]
     },
     "execution_count": 11,
     "metadata": {},
     "output_type": "execute_result"
    }
   ],
   "source": [
    "gp_out.to_dict()"
   ]
  },
  {
   "cell_type": "code",
   "execution_count": 12,
   "metadata": {
    "collapsed": false
   },
   "outputs": [
    {
     "data": {
      "text/plain": [
       "{'lambda0': [10.116370580893141],\n",
       " 'mu': array([  2.48998011e+00,   3.15617406e-01,   8.60684995e-01,\n",
       "          3.94518013e-02,   6.12191392e-01,   4.19936133e+00,\n",
       "          1.95335624e-01,   4.53369470e-01,   1.39910813e-01,\n",
       "          4.40237094e+02,   4.48581783e+00,   5.80915258e-01,\n",
       "          4.79522000e-02,   8.27865328e+00,   6.57409193e-01]),\n",
       " 'n': 15,\n",
       " 'names': [('A_int', 'A_obs'),\n",
       "  ('A_int', 'A_★'),\n",
       "  ('A_★', 'A_obs'),\n",
       "  ('A_★', 'B_★'),\n",
       "  ('A_★', 'C_★'),\n",
       "  ('A_★', 'D_★'),\n",
       "  ('B_★', 'B_obs'),\n",
       "  ('B_★', 'C_★'),\n",
       "  ('B_★', 'D_★'),\n",
       "  ('C_★', 'B_★'),\n",
       "  ('C_★', 'C_obs'),\n",
       "  ('C_★', 'D_★'),\n",
       "  ('D_★', 'B_★'),\n",
       "  ('D_★', 'C_★'),\n",
       "  ('D_★', 'D_obs')],\n",
       " 'p': 0.8,\n",
       " 'psi': array([ 25.98276388,  11.88613952,   3.55564982,   0.19829559,\n",
       "          2.95066454,   7.65545613,   4.72233606,   7.56326826,\n",
       "          1.93611378,  18.45545345,   5.86150667,   7.03468491,\n",
       "          0.15083525,  36.00104989,  28.04508827]),\n",
       " 'psi_shape': 1.0,\n",
       " 'r': array([  1.04349283e+01,   3.76599620e+01,   4.13118602e+00,\n",
       "          5.02627473e+00,   4.81983997e+00,   1.82300486e+00,\n",
       "          2.41754984e+01,   1.66823502e+01,   1.38381997e+01,\n",
       "          4.19216229e-02,   1.30667515e+00,   1.21096577e+01,\n",
       "          3.14553355e+00,   4.34866018e+00,   4.26600184e+01]),\n",
       " 'r_shape': 1.0,\n",
       " 'scale_free_bounds': (0.01, 100)}"
      ]
     },
     "execution_count": 12,
     "metadata": {},
     "output_type": "execute_result"
    }
   ],
   "source": [
    "max_graph_params.to_dict()"
   ]
  },
  {
   "cell_type": "code",
   "execution_count": null,
   "metadata": {
    "collapsed": true
   },
   "outputs": [],
   "source": []
  }
 ],
 "metadata": {
  "kernelspec": {
   "display_name": "Python 3",
   "language": "python",
   "name": "python3"
  },
  "language_info": {
   "codemirror_mode": {
    "name": "ipython",
    "version": 3
   },
   "file_extension": ".py",
   "mimetype": "text/x-python",
   "name": "python",
   "nbconvert_exporter": "python",
   "pygments_lexer": "ipython3",
   "version": "3.5.0"
  }
 },
 "nbformat": 4,
 "nbformat_minor": 0
}
