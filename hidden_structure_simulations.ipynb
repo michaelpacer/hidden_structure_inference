{
 "cells": [
  {
   "cell_type": "code",
   "execution_count": 4,
   "metadata": {
    "collapsed": false
   },
   "outputs": [
    {
     "name": "stdout",
     "output_type": "stream",
     "text": [
      "0.00% 4.93% 9.87% 14.80% 19.74% 25.00% 29.93% 34.87% 39.80% 44.74% 50.00% 54.93% 59.87% 64.80% 69.74% 75.00% 79.93% 84.87% 89.80% 94.74% "
     ]
    }
   ],
   "source": [
    "import numpy as np\n",
    "\n",
    "from lib.graph_enumerator import generate_graphs\n",
    "from lib.node_semantics import Node_Name_Rule, Edge_Semantics_Rule\n",
    "from lib import config, result_config\n",
    "from lib.likelihood_calculations import Inference\n",
    "\n",
    "\n",
    "graph_iter = generate_graphs(**config.generator_dictionary)\n",
    "graphs = list(graph_iter)\n",
    "for graph in graphs:    \n",
    "    Node_Name_Rule.graph_semantics_apply(graph,config.node_semantics)\n",
    "    Edge_Semantics_Rule.graph_semantics_apply(graph,config.edge_semantics)\n",
    "    \n",
    "inference_obj = Inference()\n",
    "    \n",
    "result_graphs, result_posterior, result_loglik, result_ = inference_obj.p_graph_given_d(graphs,config.options)\n",
    "edges_of_interest = result_config.edges_of_interest\n",
    "\n",
    "for idx,g in enumerate(result_graphs):\n",
    "    for edge in edges_of_interest:\n",
    "        if edge in g.edges():\n",
    "            edges_of_interest[edge]+=result_posterior[idx]\n",
    "            \n"
   ]
  },
  {
   "cell_type": "code",
   "execution_count": 3,
   "metadata": {
    "collapsed": false
   },
   "outputs": [
    {
     "data": {
      "text/plain": [
       "{('A_★', 'B_★'): 1.0000000000000007,\n",
       " ('A_★', 'C_★'): 0.98037797741212618,\n",
       " ('A_★', 'D_★'): 0.97877781909429162,\n",
       " ('B_★', 'C_★'): 0.019622022579931293,\n",
       " ('B_★', 'D_★'): 0.99999999998594391,\n",
       " ('C_★', 'B_★'): 0.99839984166810936,\n",
       " ('C_★', 'D_★'): 2.1434086909397385e-15,\n",
       " ('D_★', 'B_★'): 0.019622022587874405,\n",
       " ('D_★', 'C_★'): 0.99999999998594391}"
      ]
     },
     "execution_count": 3,
     "metadata": {},
     "output_type": "execute_result"
    }
   ],
   "source": [
    "edges_of_interest"
   ]
  },
  {
   "cell_type": "code",
   "execution_count": null,
   "metadata": {
    "collapsed": true
   },
   "outputs": [],
   "source": []
  }
 ],
 "metadata": {
  "kernelspec": {
   "display_name": "Python 3",
   "language": "python",
   "name": "python3"
  },
  "language_info": {
   "codemirror_mode": {
    "name": "ipython",
    "version": 3
   },
   "file_extension": ".py",
   "mimetype": "text/x-python",
   "name": "python",
   "nbconvert_exporter": "python",
   "pygments_lexer": "ipython3",
   "version": "3.5.0"
  }
 },
 "nbformat": 4,
 "nbformat_minor": 0
}
