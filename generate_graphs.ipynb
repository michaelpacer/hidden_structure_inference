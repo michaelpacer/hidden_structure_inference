{
 "cells": [
  {
   "cell_type": "code",
   "execution_count": null,
   "metadata": {
    "collapsed": true
   },
   "outputs": [],
   "source": [
    "class Filters(object):\n",
    "    \"\"\"Container class that just defines a bunch of filter functions.\"\"\"\n",
    "    \n",
    "    @staticmethod\n",
    "    def extract_remove_self_loops():\n",
    "        pass\n",
    "    \n",
    "    @staticmethod\n",
    "    def extract_remove_inward_edges(nodes):\n",
    "        pass\n",
    "    \n",
    "    @staticmethod\n",
    "    def extract_remove_outward_edges(nodes):\n",
    "        pass\n",
    "    \n",
    "    \n",
    "class Conditions(object):\n",
    "    \"\"\"Container class that just defines a bunch of conditions.\"\"\"\n",
    "    \n",
    "    @staticmethod\n",
    "    def path_complete_condition(edges):\n",
    "        pass"
   ]
  },
  {
   "cell_type": "code",
   "execution_count": null,
   "metadata": {
    "collapsed": true
   },
   "outputs": [],
   "source": [
    "def generate_graphs(nodes, edges, query_edge_set=None, filters=None, conditions=None, *args):\n",
    "    if query_edge_set is None:\n",
    "        query_edge_set = nodes\n",
    "    if filters is None:\n",
    "        filters = []\n",
    "    if conditions is None:\n",
    "        conditions = []\n",
    "    \n",
    "    G = completeDiGraph(nodes)\n",
    "    \n",
    "    # Look up each filter in the Filters class and call it with the\n",
    "    # given arguments. Keys correspond to function names and values\n",
    "    # correspond to the arguments that the function should be called with.\n",
    "    filter_set = []\n",
    "    for f, args in filters.items():\n",
    "        filter_set.append(getattr(Filters, f)(*args))\n",
    "\n",
    "    G_sub = filter_Graph(G,filter_set)\n",
    "\n",
    "    # Look up each condition in the Conditions class and call it with the\n",
    "    # given arguments. Keys correspond to function names and values correspond\n",
    "    # to the arguments that the function should be called with.\n",
    "    condition_set = []\n",
    "    for f, args in conditions.items():\n",
    "        condition_set.append(getattr(Conditions, f)(*args))\n",
    "\n",
    "    graph_set = partialConditionalSubgraphs(G_sub,query_edge_set,condition_set)\n",
    "    working_graphs = list(graph_set)\n",
    "\n",
    "    return working_graphs"
   ]
  },
  {
   "cell_type": "code",
   "execution_count": null,
   "metadata": {
    "collapsed": true
   },
   "outputs": [],
   "source": [
    "generator_dictionary = {\n",
    "    \"nodes\": [\"A_int\",\"A_out\",\"A_★\",\"B_out\",\"B_★\",\"C_out\",\"C_★\",\"D_out\",\"D_★\"],\n",
    "    \"edges\": [(\"A_★\",\"B_★\")],\n",
    "    \"query_edge_set\": [\n",
    "        (\"A_★\",'B_★'),\n",
    "        (\"A_★\",'C_★'),\n",
    "        (\"A_★\",'D_★'),\n",
    "        (\"B_★\",'C_★'),\n",
    "        (\"B_★\",'D_★'),\n",
    "        (\"C_★\",'B_★'),\n",
    "        (\"C_★\",'D_★'),\n",
    "        (\"D_★\",'B_★'),\n",
    "        (\"D_★\",'C_★')\n",
    "    ],\n",
    "    \"filters\": {\n",
    "        \"extract_remove_self_loops\": [],\n",
    "        \"extract_remove_inward_edges\": [[\n",
    "            (\"A_int\",[]),\n",
    "            (\"A_★\",[\"A_int\"]),\n",
    "            ('A_out',['A_int','A_★']),\n",
    "            ('B_out',['B_★']),\n",
    "            ('C_out',[\"C_★\"]),\n",
    "            ('D_out',[\"D_★\"])\n",
    "        ]],\n",
    "        \"extract_remove_outward_edges\": [[\n",
    "            ('A_int',['A_out','A_★']),\n",
    "            (\"A_out\",[]),\n",
    "            (\"B_out\",[]),\n",
    "            (\"C_out\",[]),\n",
    "            (\"D_out\",[])\n",
    "        ]]\n",
    "    },\n",
    "    \"conditions\": {\n",
    "        \"reachable_node_pairs\" : [[(\"A_int\",\"B_★\"),(\"A_int\",\"C_★\"),(\"A_int\",\"D_★\")]],\n",
    "    }\n",
    "}\n",
    "working_graphs = generate_graphs(**generator_dictionary)"
   ]
  },
  {
   "cell_type": "code",
   "execution_count": null,
   "metadata": {
    "collapsed": true
   },
   "outputs": [],
   "source": [
    "generate_graphs([], [], [], [],**kwargs)"
   ]
  }
 ],
 "metadata": {
  "kernelspec": {
   "display_name": "Python 3",
   "language": "python",
   "name": "python3"
  },
  "language_info": {
   "codemirror_mode": {
    "name": "ipython",
    "version": 3
   },
   "file_extension": ".py",
   "mimetype": "text/x-python",
   "name": "python",
   "nbconvert_exporter": "python",
   "pygments_lexer": "ipython3",
   "version": "3.5.0"
  }
 },
 "nbformat": 4,
 "nbformat_minor": 0
}
