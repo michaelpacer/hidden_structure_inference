{
 "cells": [
  {
   "cell_type": "code",
   "execution_count": null,
   "metadata": {
    "collapsed": true
   },
   "outputs": [],
   "source": [
    "import pstats\n",
    "\n",
    "p =pstats.Stats('results/cprofile4.txt')\n",
    "p.strip_dirs().sort_stats(-1).print_stats()\n",
    "\n",
    "p.sort_stats('cumtime').print_stats(100)"
   ]
  },
  {
   "cell_type": "code",
   "execution_count": 13,
   "metadata": {
    "collapsed": true
   },
   "outputs": [],
   "source": [
    "import line_profiler"
   ]
  },
  {
   "cell_type": "code",
   "execution_count": 23,
   "metadata": {
    "collapsed": false
   },
   "outputs": [
    {
     "name": "stdout",
     "output_type": "stream",
     "text": [
      "Timer unit: 1e-06 s\n",
      "\n",
      "Total time: 0.087582 s\n",
      "File: /Users/cocosci/Dropbox/Work/Berkeley/Projects/Time/hidden_structure_inference/lib/likelihood_calculations_shared_params.py\n",
      "Function: logposterior_from_loglik_logsparseprior at line 27\n",
      "\n",
      "Line #      Hits         Time  Per Hit   % Time  Line Contents\n",
      "==============================================================\n",
      "    27                                               @profile\n",
      "    28                                               def logposterior_from_loglik_logsparseprior(self,loglik,sparsity=.5):\n",
      "    29         4        87028  21757.0     99.4          logp = log_sparse_graphset_prior(self.graphs,sparsity=sparsity)\n",
      "    30         4           12      3.0      0.0          unnormed_logposterior = loglik+logp\n",
      "    31         4            4      1.0      0.0          try: \n",
      "    32                                                       # np.seterr(all='raise')\n",
      "    33         4          282     70.5      0.3              unnormed_logposterior - logsumexp(unnormed_logposterior)\n",
      "    34                                                       # np.seterr(over='raise')\n",
      "    35                                                   except RuntimeWarning: \n",
      "    36                                                       import ipdb; ipdb.set_trace()\n",
      "    37                                                   \n",
      "    38         4          256     64.0      0.3          return unnormed_logposterior - logsumexp(unnormed_logposterior)\n",
      "\n",
      "Total time: 523.623 s\n",
      "File: /Users/cocosci/Dropbox/Work/Berkeley/Projects/Time/hidden_structure_inference/lib/likelihood_calculations_shared_params.py\n",
      "Function: p_graph_given_d at line 40\n",
      "\n",
      "Line #      Hits         Time  Per Hit   % Time  Line Contents\n",
      "==============================================================\n",
      "    40                                               @profile\n",
      "    41                                               def p_graph_given_d(self,graphs,options):\n",
      "    42                                                   # sets a catch for all numerical warnings to be treated as errors\n",
      "    43                                                   # np.seterr(all='raise')\n",
      "    44                                                   # np.seterr(under='raise')\n",
      "    45         4           66     16.5      0.0          np.seterr(over='raise')\n",
      "    46                                                   \"\"\"\n",
      "    47                                                   options includes \n",
      "    48                                                   sparsity: the sparsity argument for the prior \n",
      "    49                                                   param_sample_size: the number of parameters to be sampled\n",
      "    50                                                   stigma_sample_size: the number of internal states to be sampled\n",
      "    51                                                   data_sets: the different data_sets to be evaluated as likelihoods\n",
      "    52                                                   data_p: the probability of each data_set in data_sets\n",
      "    53                                                   num_data_samps: number of samples of observed data to be considered in the liklihood\n",
      "    54                                                   \"\"\"\n",
      "    55         4            7      1.8      0.0          self.graphs = graphs\n",
      "    56                                           \n",
      "    57                                                   # Note: some day this will need to change if graphs is made to be an iterator and not a list\n",
      "    58         4            7      1.8      0.0          self.max_graph = self.graphs[0]\n",
      "    59         4            7      1.8      0.0          self.options = options\n",
      "    60         4            6      1.5      0.0          num_graphs = len(graphs)\n",
      "    61                                           \n",
      "    62                                                   # loglikelihood = np.empty(len(self.graphs))\n",
      "    63         4            6      1.5      0.0          num_params= options[\"param_sample_size\"]\n",
      "    64                                           \n",
      "    65                                                   # generate 1 complete graph with many data structures shared beneath it\n",
      "    66         4           10      2.5      0.0          self.gs_out = GraphStructure.from_networkx(sub_graph_from_edge_type(self.max_graph,\n",
      "    67         4         4918   1229.5      0.0              edge_types=[\"observed\"]))\n",
      "    68                                                   \n",
      "    69         4            7      1.8      0.0          self.gs_in = [GraphStructure.from_networkx(sub_graph_from_edge_type(graph,\n",
      "    70         4       772837 193209.2      0.1              edge_types=[\"hidden_sample\"])) for graph in graphs]\n",
      "    71                                           \n",
      "    72         4          229     57.2      0.0          max_graph_params = GraphParams.from_networkx(self.max_graph)\n",
      "    73                                                   \n",
      "    74         4         2589    647.2      0.0          self.param_list = [max_graph_params.sample() for x in range(num_params)]\n",
      "    75                                                   \n",
      "    76                                                   # loglikelihood_by_param = np.array(Parallel(n_jobs = -1, \n",
      "    77                                                   #     backend = \"multiprocessing\", verbose = 20)(\n",
      "    78                                                   #     delayed(self.subgraph_cross_entropy)(\n",
      "    79                                                   #         max_graph_params.from_dict(params)) for params in self.param_list))\n",
      "    80                                           \n",
      "    81         4           10      2.5      0.0          loglikelihood_by_param = np.array([self.subgraph_cross_entropy(max_graph_params.from_dict(params)) \n",
      "    82         4    522754067 130688516.8     99.8              for params in self.param_list])\n",
      "    83                                                   \n",
      "    84         4          609    152.2      0.0          loglikelihood = logmeanexp(loglikelihood_by_param,axis=0)\n",
      "    85                                                   \n",
      "    86         4            7      1.8      0.0          sparsity = options[\"sparsity\"]\n",
      "    87         4        87638  21909.5      0.0          logposterior = self.logposterior_from_loglik_logsparseprior(loglikelihood,sparsity=sparsity)\n",
      "    88                                           \n",
      "    89         4           26      6.5      0.0          return graphs,np.exp(logposterior),loglikelihood,self.options,self.param_list\n",
      "\n",
      "Total time: 522.753 s\n",
      "File: /Users/cocosci/Dropbox/Work/Berkeley/Projects/Time/hidden_structure_inference/lib/likelihood_calculations_shared_params.py\n",
      "Function: subgraph_cross_entropy at line 91\n",
      "\n",
      "Line #      Hits         Time  Per Hit   % Time  Line Contents\n",
      "==============================================================\n",
      "    91                                               @profile\n",
      "    92                                               def subgraph_cross_entropy(self,max_graph_params):\n",
      "    93        40           57      1.4      0.0          n = self.options[\"num_data_samps\"]\n",
      "    94        40          147      3.7      0.0          q = np.array(self.options[\"data_probs\"])\n",
      "    95        40          287      7.2      0.0          δ = np.array(self.options[\"data_sets\"])\n",
      "    96        40        24617    615.4      0.0          gp_out = max_graph_params.subgraph_copy(self.gs_out.edges)\n",
      "    97                                           \n",
      "    98                                           \n",
      "    99                                                   # note that q*approx_loglik_from_hidden_states should be vector)\n",
      "   100        40    522727720 13068193.0    100.0          return np.array([n*np.dot(q,self.approx_loglik_from_hidden_states(δ,graph,max_graph_params,gp_out,g_idx)) for g_idx,graph in enumerate(self.graphs)])\n",
      "\n",
      "Total time: 0.073451 s\n",
      "File: /Users/cocosci/Dropbox/Work/Berkeley/Projects/Time/hidden_structure_inference/lib/likelihood_calculations_shared_params.py\n",
      "Function: gen_iter_simulations_first_only at line 102\n",
      "\n",
      "Line #      Hits         Time  Per Hit   % Time  Line Contents\n",
      "==============================================================\n",
      "   102                                               @profile\n",
      "   103                                               def gen_iter_simulations_first_only(self,gs_in,gp_in,K):\n",
      "   104                                                   # builds a simulation object and then samples returning an M lengthed generator\n",
      "   105     12160        60069      4.9     81.8          inner_simul = InnerGraphSimulation(gs_in, gp_in)\n",
      "   106     12160        13382      1.1     18.2          return inner_simul.sample_iter_solely_first_events(K)\n",
      "\n",
      "Total time: 519.977 s\n",
      "File: /Users/cocosci/Dropbox/Work/Berkeley/Projects/Time/hidden_structure_inference/lib/likelihood_calculations_shared_params.py\n",
      "Function: approx_loglik_from_hidden_states at line 108\n",
      "\n",
      "Line #      Hits         Time  Per Hit   % Time  Line Contents\n",
      "==============================================================\n",
      "   108                                               @profile\n",
      "   109                                               def approx_loglik_from_hidden_states(self,data_sets,graph,max_graph_params,gp_out,g_idx):\n",
      "   110     12160        18833      1.5      0.0          K = self.options[\"stigma_sample_size\"]\n",
      "   111                                           \n",
      "   112                                                   # gs_in = GraphStructure.from_networkx(sub_graph_from_edge_type(graph,\n",
      "   113                                                   #     edge_types=[\"hidden_sample\"]))\n",
      "   114     12160      7603266    625.3      1.5          gp_in = max_graph_params.subgraph_copy(self.gs_in[g_idx].edges)\n",
      "   115                                           \n",
      "   116     12160       167642     13.8      0.0          hidden_states_iter = self.gen_iter_simulations_first_only(self.gs_in[g_idx],gp_in,K)\n",
      "   117                                           \n",
      "   118     12160        48640      4.0      0.0          temp_array = np.empty(shape=(K,data_sets.shape[0]))\n",
      "   119   1228160     99281123     80.8     19.1          for idx, hidden_state_sample in enumerate(hidden_states_iter):\n",
      "   120   1216000    411547814    338.4     79.1              temp_array[idx,:] = np.array([self.loglik_with_hidden_states(data_set,hidden_state_sample,gp_out) for data_set in data_sets])\n",
      "   121                                           \n",
      "   122     12160      1309557    107.7      0.3          return logmeanexp(temp_array,axis=0)\n",
      "\n",
      "Total time: 368.995 s\n",
      "File: /Users/cocosci/Dropbox/Work/Berkeley/Projects/Time/hidden_structure_inference/lib/likelihood_calculations_shared_params.py\n",
      "Function: loglik_with_hidden_states at line 124\n",
      "\n",
      "Line #      Hits         Time  Per Hit   % Time  Line Contents\n",
      "==============================================================\n",
      "   124                                               @profile\n",
      "   125                                               def loglik_with_hidden_states(self, data_set, hidden_state_sample,gp_out):\n",
      "   126                                           \n",
      "   127   6080000      6033834      1.0      1.6          return np.sum([self.one_edge_loglik(cause_time, effect_time,psi,r) for \n",
      "   128   6080000    362961236     59.7     98.4              cause_time, effect_time,psi,r in zip(hidden_state_sample,data_set,gp_out.psi,gp_out.r)])\n",
      "\n",
      "Total time: 137.101 s\n",
      "File: /Users/cocosci/Dropbox/Work/Berkeley/Projects/Time/hidden_structure_inference/lib/likelihood_calculations_shared_params.py\n",
      "Function: one_edge_loglik at line 130\n",
      "\n",
      "Line #      Hits         Time  Per Hit   % Time  Line Contents\n",
      "==============================================================\n",
      "   130                                               @profile\n",
      "   131                                               def one_edge_loglik(self, cause_time, effect_time, psi, r, T=4.0):\n",
      "   132                                           \n",
      "   133                                                   # is this an instantaneous intervention?\n",
      "   134  24320000     22467668      0.9     16.4          if cause_time - effect_time == 0:\n",
      "   135   6080000      3017944      0.5      2.2              return 0 \n",
      "   136                                           \n",
      "   137                                                   # if the cause never occurs it occurs at infinity\n",
      "   138  18240000     30202921      1.7     22.0          if np.isinf(cause_time):\n",
      "   139                                                       # it is certain that the effect will not occur if the cause does not occur\n",
      "   140   9733475     13654561      1.4     10.0              if np.isinf(effect_time):\n",
      "   141   4544779      2171705      0.5      1.6                  return 0\n",
      "   142                                                       # it is impossible for the effect to occur if the cause does not occur\n",
      "   143                                                       # previous check was elif not np.isinf(effect_time) but that must be true given top if statement\n",
      "   144                                                       else:\n",
      "   145   5188696      3069752      0.6      2.2                  return -np.inf\n",
      "   146                                           \n",
      "   147                                                   # if the cause does occur it happens at some time other than infinity\n",
      "   148   8506525     12155132      1.4      8.9          if not np.isinf(cause_time):\n",
      "   149                                                       \n",
      "   150                                                       # if the effect doesn't occur, loglik of no events between cause_time and max_time(T)\n",
      "   151   8506525     12164717      1.4      8.9              if np.isinf(effect_time):\n",
      "   152   3967221      1982741      0.5      1.4                  try:\n",
      "   153                                                               # test to make sure that you won't hit underflow\n",
      "   154   3967221      7500138      1.9      5.5                      exp_val = np.exp(-r*(T-cause_time))\n",
      "   155                                                           except FloatingPointError:\n",
      "   156                                                               # it was a really small number, set it to 0\n",
      "   157                                                               exp_val = 0         \n",
      "   158   3967221      4266970      1.1      3.1                  return -(psi/r)*(1-exp_val)\n",
      "   159                                                       \n",
      "   160                                                       # if the effect occurred but before the cause_time, that's impossible\n",
      "   161   4539304      2738086      0.6      2.0              elif effect_time < cause_time: \n",
      "   162    185338       116764      0.6      0.1                  return -np.inf\n",
      "   163                                                       # if the effect occurred, after the cause_time, \n",
      "   164                                                       # then loglik of no events from cause_time to effect_time + log of rate function\n",
      "   165                                                       else:\n",
      "   166   4353966      2231789      0.5      1.6                  try:\n",
      "   167                                                               # test to make sure that you won't hit underflow\n",
      "   168   4353966      8625205      2.0      6.3                      exp_val = np.exp(-r*(effect_time-cause_time))\n",
      "   169                                                           except FloatingPointError:\n",
      "   170                                                               # it was a really small number, set it to 0\n",
      "   171                                                               exp_val = 0         \n",
      "   172                                           \n",
      "   173   4353966     10735051      2.5      7.8                  return np.log(psi) - (r*(effect_time-cause_time)) - (psi/r)*(1-exp_val)\n",
      "\n"
     ]
    }
   ],
   "source": [
    "lstats = line_profiler.load_stats(\"run_simulation.py.lprof\")\n",
    "line_profiler.show_text(lstats.timings, lstats.unit)"
   ]
  },
  {
   "cell_type": "code",
   "execution_count": 8,
   "metadata": {
    "collapsed": false
   },
   "outputs": [
    {
     "data": {
      "text/plain": [
       "<_line_profiler.LineStats at 0x1103d3a90>"
      ]
     },
     "execution_count": 8,
     "metadata": {},
     "output_type": "execute_result"
    }
   ],
   "source": [
    "lstats"
   ]
  },
  {
   "cell_type": "code",
   "execution_count": 22,
   "metadata": {
    "collapsed": false
   },
   "outputs": [
    {
     "data": {
      "text/plain": [
       "[(0, 0), (1, 1), (2, 2), (3, 3), (4, 4)]"
      ]
     },
     "execution_count": 22,
     "metadata": {},
     "output_type": "execute_result"
    }
   ],
   "source": [
    "[(a,b) for a,b in enumerate(range(5))]"
   ]
  },
  {
   "cell_type": "code",
   "execution_count": null,
   "metadata": {
    "collapsed": true
   },
   "outputs": [],
   "source": []
  }
 ],
 "metadata": {
  "kernelspec": {
   "display_name": "Python 3",
   "language": "python",
   "name": "python3"
  },
  "language_info": {
   "codemirror_mode": {
    "name": "ipython",
    "version": 3
   },
   "file_extension": ".py",
   "mimetype": "text/x-python",
   "name": "python",
   "nbconvert_exporter": "python",
   "pygments_lexer": "ipython3",
   "version": "3.5.0"
  }
 },
 "nbformat": 4,
 "nbformat_minor": 0
}
