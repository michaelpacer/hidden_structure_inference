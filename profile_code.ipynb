{
 "cells": [
  {
   "cell_type": "code",
   "execution_count": null,
   "metadata": {
    "collapsed": true
   },
   "outputs": [],
   "source": [
    "import pstats\n",
    "\n",
    "p =pstats.Stats('results/cprofile4.txt')\n",
    "p.strip_dirs().sort_stats(-1).print_stats()\n",
    "\n",
    "p.sort_stats('cumtime').print_stats(100)"
   ]
  },
  {
   "cell_type": "code",
   "execution_count": 13,
   "metadata": {
    "collapsed": true
   },
   "outputs": [],
   "source": [
    "import line_profiler"
   ]
  },
  {
   "cell_type": "code",
   "execution_count": 16,
   "metadata": {
    "collapsed": false
   },
   "outputs": [
    {
     "name": "stdout",
     "output_type": "stream",
     "text": [
      "Timer unit: 1e-06 s\n",
      "\n",
      "Total time: 0.091713 s\n",
      "File: /Users/cocosci/Dropbox/Work/Berkeley/Projects/Time/hidden_structure_inference/lib/likelihood_calculations_shared_params.py\n",
      "Function: logposterior_from_loglik_logsparseprior at line 27\n",
      "\n",
      "Line #      Hits         Time  Per Hit   % Time  Line Contents\n",
      "==============================================================\n",
      "    27                                               @profile\n",
      "    28                                               def logposterior_from_loglik_logsparseprior(self,loglik,sparsity=.5):\n",
      "    29         4        91149  22787.2     99.4          logp = log_sparse_graphset_prior(self.graphs,sparsity=sparsity)\n",
      "    30         4           12      3.0      0.0          unnormed_logposterior = loglik+logp\n",
      "    31         4            2      0.5      0.0          try: \n",
      "    32                                                       # np.seterr(all='raise')\n",
      "    33         4          287     71.8      0.3              unnormed_logposterior - logsumexp(unnormed_logposterior)\n",
      "    34                                                       # np.seterr(over='raise')\n",
      "    35                                                   except RuntimeWarning: \n",
      "    36                                                       import ipdb; ipdb.set_trace()\n",
      "    37                                                   \n",
      "    38         4          263     65.8      0.3          return unnormed_logposterior - logsumexp(unnormed_logposterior)\n",
      "\n",
      "Total time: 516.978 s\n",
      "File: /Users/cocosci/Dropbox/Work/Berkeley/Projects/Time/hidden_structure_inference/lib/likelihood_calculations_shared_params.py\n",
      "Function: p_graph_given_d at line 40\n",
      "\n",
      "Line #      Hits         Time  Per Hit   % Time  Line Contents\n",
      "==============================================================\n",
      "    40                                               @profile\n",
      "    41                                               def p_graph_given_d(self,graphs,options):\n",
      "    42                                                   # sets a catch for all numerical warnings to be treated as errors\n",
      "    43                                                   # np.seterr(all='raise')\n",
      "    44                                                   # np.seterr(under='raise')\n",
      "    45         4           78     19.5      0.0          np.seterr(over='raise')\n",
      "    46                                                   \"\"\"\n",
      "    47                                                   options includes \n",
      "    48                                                   sparsity: the sparsity argument for the prior \n",
      "    49                                                   param_sample_size: the number of parameters to be sampled\n",
      "    50                                                   stigma_sample_size: the number of internal states to be sampled\n",
      "    51                                                   data_sets: the different data_sets to be evaluated as likelihoods\n",
      "    52                                                   data_p: the probability of each data_set in data_sets\n",
      "    53                                                   num_data_samps: number of samples of observed data to be considered in the liklihood\n",
      "    54                                                   \"\"\"\n",
      "    55         4            6      1.5      0.0          self.graphs = graphs\n",
      "    56         4            6      1.5      0.0          self.max_graph = self.graphs[0]\n",
      "    57         4            4      1.0      0.0          self.options = options\n",
      "    58         4            5      1.2      0.0          num_graphs = len(graphs)\n",
      "    59                                                   # loglikelihood = np.empty(len(self.graphs))\n",
      "    60         4            5      1.2      0.0          num_params= options[\"param_sample_size\"]\n",
      "    61                                           \n",
      "    62                                                   # generate 1 complete graph with many data structures shared beneath it\n",
      "    63                                           \n",
      "    64                                           \n",
      "    65         4          263     65.8      0.0          max_graph_params = GraphParams.from_networkx(self.max_graph)\n",
      "    66                                                   \n",
      "    67         4         3239    809.8      0.0          self.param_list = [max_graph_params.sample() for x in range(num_params)]\n",
      "    68                                           \n",
      "    69                                                   # loglikelihood_by_param = np.array(Parallel(n_jobs = -2, \n",
      "    70                                                   #     backend = \"multiprocessing\", verbose = 10)(\n",
      "    71                                                   #     delayed(self._helper_subgraph_loglik)(\n",
      "    72                                                   #         max_graph_params.from_dict(params)) for params in self.param_list))\n",
      "    73                                                   \n",
      "    74                                                   # loglikelihood_by_param = np.array(Parallel(n_jobs = -1, \n",
      "    75                                                   #     backend = \"multiprocessing\", verbose = 20)(\n",
      "    76                                                   #     delayed(self.subgraph_cross_entropy)(\n",
      "    77                                                   #         max_graph_params.from_dict(params)) for params in self.param_list))\n",
      "    78                                           \n",
      "    79         4            9      2.2      0.0          loglikelihood_by_param = np.array([self.subgraph_cross_entropy(max_graph_params.from_dict(params)) \n",
      "    80         4    516881680 129220420.0    100.0              for params in self.param_list])\n",
      "    81                                                   \n",
      "    82         4          684    171.0      0.0          loglikelihood = logmeanexp(loglikelihood_by_param,axis=0)\n",
      "    83                                                   \n",
      "    84         4            8      2.0      0.0          sparsity = options[\"sparsity\"]\n",
      "    85         4        91774  22943.5      0.0          logposterior = self.logposterior_from_loglik_logsparseprior(loglikelihood,sparsity=sparsity)\n",
      "    86                                           \n",
      "    87         4           27      6.8      0.0          return graphs,np.exp(logposterior),loglikelihood,self.options,self.param_list\n",
      "\n",
      "Total time: 516.88 s\n",
      "File: /Users/cocosci/Dropbox/Work/Berkeley/Projects/Time/hidden_structure_inference/lib/likelihood_calculations_shared_params.py\n",
      "Function: subgraph_cross_entropy at line 92\n",
      "\n",
      "Line #      Hits         Time  Per Hit   % Time  Line Contents\n",
      "==============================================================\n",
      "    92                                               @profile\n",
      "    93                                               def subgraph_cross_entropy(self,max_graph_params):\n",
      "    94        40           67      1.7      0.0          n = self.options[\"num_data_samps\"]\n",
      "    95        40          162      4.0      0.0          q = np.array(self.options[\"data_probs\"])\n",
      "    96        40          297      7.4      0.0          δ = np.array(self.options[\"data_sets\"])\n",
      "    97                                           \n",
      "    98        40           57      1.4      0.0          gs_out = GraphStructure.from_networkx(sub_graph_from_edge_type(self.max_graph,\n",
      "    99        40        48339   1208.5      0.0              edge_types=[\"observed\"]))\n",
      "   100        40        22312    557.8      0.0          gp_out = max_graph_params.subgraph_copy(gs_out.edges)\n",
      "   101                                           \n",
      "   102                                                   # note that q*loglik_from_aux_data should be vector)\n",
      "   103        40    516808981 12920224.5    100.0          return np.array([n*np.dot(q,self.approx_loglik_from_hidden_states(δ,graph,max_graph_params,gs_out,gp_out)) for graph in self.graphs])\n",
      "\n",
      "Total time: 0.074053 s\n",
      "File: /Users/cocosci/Dropbox/Work/Berkeley/Projects/Time/hidden_structure_inference/lib/likelihood_calculations_shared_params.py\n",
      "Function: gen_iter_simulations_first_only at line 105\n",
      "\n",
      "Line #      Hits         Time  Per Hit   % Time  Line Contents\n",
      "==============================================================\n",
      "   105                                               @profile\n",
      "   106                                               def gen_iter_simulations_first_only(self, gs_in,gp_in,K):\n",
      "   107                                                   # builds a simulation object and then samples returning an M lengthed generator\n",
      "   108     12160        60652      5.0     81.9          inner_simul = InnerGraphSimulation(gs_in, gp_in)\n",
      "   109     12160        13401      1.1     18.1          return inner_simul.sample_iter_solely_first_events(K)\n",
      "\n",
      "Total time: 513.719 s\n",
      "File: /Users/cocosci/Dropbox/Work/Berkeley/Projects/Time/hidden_structure_inference/lib/likelihood_calculations_shared_params.py\n",
      "Function: approx_loglik_from_hidden_states at line 111\n",
      "\n",
      "Line #      Hits         Time  Per Hit   % Time  Line Contents\n",
      "==============================================================\n",
      "   111                                               @profile\n",
      "   112                                               def approx_loglik_from_hidden_states(self,data_sets,graph,max_graph_params,gs_out,gp_out):\n",
      "   113     12160        21525      1.8      0.0          K = self.options[\"stigma_sample_size\"]\n",
      "   114                                           \n",
      "   115     12160        18619      1.5      0.0          gs_in = GraphStructure.from_networkx(sub_graph_from_edge_type(graph,\n",
      "   116     12160      9342311    768.3      1.8              edge_types=[\"hidden_sample\"]))\n",
      "   117     12160      7350367    604.5      1.4          gp_in = max_graph_params.subgraph_copy(gs_in.edges)\n",
      "   118                                           \n",
      "   119     12160       167604     13.8      0.0          hidden_states_iter = self.gen_iter_simulations_first_only(gs_in,gp_in,K)\n",
      "   120                                           \n",
      "   121                                                   \n",
      "   122     12160        51057      4.2      0.0          temp_array = np.empty(shape=(K,data_sets.shape[0]))\n",
      "   123   1228160     88616717     72.2     17.3          for idx, hidden_state_sample in enumerate(hidden_states_iter):\n",
      "   124   1216000    406723281    334.5     79.2              temp_array[idx,:] = np.array([self.loglik_with_hidden_states(data_set,hidden_state_sample,gs_out,gp_out) for data_set in data_sets])\n",
      "   125                                           \n",
      "   126                                           \n",
      "   127     12160      1427561    117.4      0.3          return logmeanexp(temp_array,axis=0)\n",
      "\n",
      "Total time: 361.036 s\n",
      "File: /Users/cocosci/Dropbox/Work/Berkeley/Projects/Time/hidden_structure_inference/lib/likelihood_calculations_shared_params.py\n",
      "Function: loglik_with_hidden_states at line 129\n",
      "\n",
      "Line #      Hits         Time  Per Hit   % Time  Line Contents\n",
      "==============================================================\n",
      "   129                                               @profile\n",
      "   130                                               def loglik_with_hidden_states(self, data_set, hidden_state_sample, gs_out,gp_out):\n",
      "   131                                           \n",
      "   132   6080000      6158037      1.0      1.7          return np.sum([self.one_edge_loglik(cause_time, effect_time,psi,r) for \n",
      "   133   6080000    354878314     58.4     98.3              cause_time, effect_time,psi,r in zip(hidden_state_sample,data_set,gp_out.psi,gp_out.r)])\n",
      "\n",
      "Total time: 124.101 s\n",
      "File: /Users/cocosci/Dropbox/Work/Berkeley/Projects/Time/hidden_structure_inference/lib/likelihood_calculations_shared_params.py\n",
      "Function: one_edge_loglik at line 135\n",
      "\n",
      "Line #      Hits         Time  Per Hit   % Time  Line Contents\n",
      "==============================================================\n",
      "   135                                               @profile\n",
      "   136                                               def one_edge_loglik(self, cause_time, effect_time, psi, r, T=4.0):\n",
      "   137                                           \n",
      "   138                                                   # is this an instantaneous intervention?\n",
      "   139  24320000     23599051      1.0     19.0          if cause_time - effect_time == 0:\n",
      "   140   6080000      3324961      0.5      2.7              return 0 \n",
      "   141                                           \n",
      "   142                                                   # if the cause never occurs it occurs at infinity\n",
      "   143  18240000     31855196      1.7     25.7          if np.isinf(cause_time):\n",
      "   144                                                       # it is certain that the effect will not occur if the cause does not occur\n",
      "   145  13100385     19136370      1.5     15.4              if np.isinf(effect_time):\n",
      "   146   6157151      3204930      0.5      2.6                  return 0\n",
      "   147                                                       # it is impossible for the effect to occur if the cause does not occur\n",
      "   148                                                       # previous check was elif not np.isinf(effect_time) but that must be true given top if statement\n",
      "   149                                                       else:\n",
      "   150   6943234      4487997      0.6      3.6                  return -np.inf\n",
      "   151                                           \n",
      "   152                                                   # if the cause does occur it happens at some time other than infinity\n",
      "   153   5139615      7741114      1.5      6.2          if not np.isinf(cause_time):\n",
      "   154                                                       \n",
      "   155                                                       # if the effect doesn't occur, loglik of no events between cause_time and max_time(T)\n",
      "   156   5139615      7622243      1.5      6.1              if np.isinf(effect_time):\n",
      "   157   2354849      1272835      0.5      1.0                  try:\n",
      "   158                                                               # test to make sure that you won't hit underflow\n",
      "   159   2354849      4898541      2.1      3.9                      exp_val = np.exp(-r*(T-cause_time))\n",
      "   160                                                           except FloatingPointError:\n",
      "   161                                                               # it was a really small number, set it to 0\n",
      "   162                                                               exp_val = 0         \n",
      "   163   2354849      2774685      1.2      2.2                  return -(psi/r)*(1-exp_val)\n",
      "   164                                                       \n",
      "   165                                                       # if the effect occurred but before the cause_time, that's impossible\n",
      "   166   2784766      1828904      0.7      1.5              elif effect_time < cause_time: \n",
      "   167    530664       342199      0.6      0.3                  return -np.inf\n",
      "   168                                                       # if the effect occurred, after the cause_time, \n",
      "   169                                                       # then loglik of no events from cause_time to effect_time + log of rate function\n",
      "   170                                                       else:\n",
      "   171   2254102      1175926      0.5      0.9                  try:\n",
      "   172                                                               # test to make sure that you won't hit underflow\n",
      "   173   2254102      4878193      2.2      3.9                      exp_val = np.exp(-r*(effect_time-cause_time))\n",
      "   174                                                           except FloatingPointError:\n",
      "   175                                                               # it was a really small number, set it to 0\n",
      "   176                                                               exp_val = 0         \n",
      "   177                                           \n",
      "   178   2254102      5957386      2.6      4.8                  return np.log(psi) - (r*(effect_time-cause_time)) - (psi/r)*(1-exp_val)\n",
      "\n"
     ]
    }
   ],
   "source": [
    "lstats = line_profiler.load_stats(\"run_simulation.py.lprof\")\n",
    "line_profiler.show_text(lstats.timings, lstats.unit)"
   ]
  },
  {
   "cell_type": "code",
   "execution_count": 8,
   "metadata": {
    "collapsed": false
   },
   "outputs": [
    {
     "data": {
      "text/plain": [
       "<_line_profiler.LineStats at 0x1103d3a90>"
      ]
     },
     "execution_count": 8,
     "metadata": {},
     "output_type": "execute_result"
    }
   ],
   "source": [
    "lstats"
   ]
  },
  {
   "cell_type": "code",
   "execution_count": 22,
   "metadata": {
    "collapsed": false
   },
   "outputs": [
    {
     "data": {
      "text/plain": [
       "[(0, 0), (1, 1), (2, 2), (3, 3), (4, 4)]"
      ]
     },
     "execution_count": 22,
     "metadata": {},
     "output_type": "execute_result"
    }
   ],
   "source": [
    "[(a,b) for a,b in enumerate(range(5))]"
   ]
  },
  {
   "cell_type": "code",
   "execution_count": null,
   "metadata": {
    "collapsed": true
   },
   "outputs": [],
   "source": []
  }
 ],
 "metadata": {
  "kernelspec": {
   "display_name": "Python 3",
   "language": "python",
   "name": "python3"
  },
  "language_info": {
   "codemirror_mode": {
    "name": "ipython",
    "version": 3
   },
   "file_extension": ".py",
   "mimetype": "text/x-python",
   "name": "python",
   "nbconvert_exporter": "python",
   "pygments_lexer": "ipython3",
   "version": "3.5.0"
  }
 },
 "nbformat": 4,
 "nbformat_minor": 0
}
