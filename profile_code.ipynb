{
 "cells": [
  {
   "cell_type": "code",
   "execution_count": null,
   "metadata": {
    "collapsed": true
   },
   "outputs": [],
   "source": [
    "import pstats\n",
    "\n",
    "p =pstats.Stats('results/cprofile4.txt')\n",
    "p.strip_dirs().sort_stats(-1).print_stats()\n",
    "\n",
    "p.sort_stats('cumtime').print_stats(100)"
   ]
  },
  {
   "cell_type": "code",
   "execution_count": 13,
   "metadata": {
    "collapsed": true
   },
   "outputs": [],
   "source": [
    "import line_profiler"
   ]
  },
  {
   "cell_type": "code",
   "execution_count": 14,
   "metadata": {
    "collapsed": false
   },
   "outputs": [
    {
     "name": "stdout",
     "output_type": "stream",
     "text": [
      "Timer unit: 1e-06 s\n",
      "\n",
      "Total time: 205.373 s\n",
      "File: /Users/cocosci/Dropbox/Work/Berkeley/Projects/Time/hidden_structure_inference/lib/likelihood_calculations_shared_params.py\n",
      "Function: p_graph_given_d at line 39\n",
      "\n",
      "Line #      Hits         Time  Per Hit   % Time  Line Contents\n",
      "==============================================================\n",
      "    39                                               @profile\n",
      "    40                                               def p_graph_given_d(self,graphs,options):\n",
      "    41                                                   # sets a catch for all numerical warnings to be treated as errors\n",
      "    42                                                   # np.seterr(all='raise')\n",
      "    43                                                   # np.seterr(under='raise')\n",
      "    44         4           76     19.0      0.0          np.seterr(over='raise')\n",
      "    45                                                   \"\"\"\n",
      "    46                                                   options includes \n",
      "    47                                                   sparsity: the sparsity argument for the prior \n",
      "    48                                                   param_sample_size: the number of parameters to be sampled\n",
      "    49                                                   stigma_sample_size: the number of internal states to be sampled\n",
      "    50                                                   data_sets: the different data_sets to be evaluated as likelihoods\n",
      "    51                                                   data_p: the probability of each data_set in data_sets\n",
      "    52                                                   num_data_samps: number of samples of observed data to be considered in the liklihood\n",
      "    53                                                   \"\"\"\n",
      "    54         4            9      2.2      0.0          self.graphs = graphs\n",
      "    55                                           \n",
      "    56                                                   # Note: some day this will need to change if graphs is made to be an iterator and not a list\n",
      "    57         4            7      1.8      0.0          self.max_graph = self.graphs[0]\n",
      "    58         4            7      1.8      0.0          self.options = options\n",
      "    59         4            8      2.0      0.0          num_graphs = len(graphs)\n",
      "    60                                           \n",
      "    61                                                   # loglikelihood = np.empty(len(self.graphs))\n",
      "    62         4            8      2.0      0.0          num_params= options[\"param_sample_size\"]\n",
      "    63                                           \n",
      "    64                                                   # generate 1 complete graph with many data structures shared beneath it\n",
      "    65         4           10      2.5      0.0          self.gs_out = GraphStructure.from_networkx(sub_graph_from_edge_type(self.max_graph,\n",
      "    66         4         5301   1325.2      0.0              edge_types=[\"observed\"]))\n",
      "    67                                                   \n",
      "    68         4           10      2.5      0.0          self.gs_in = [GraphStructure.from_networkx(sub_graph_from_edge_type(graph,\n",
      "    69         4       788711 197177.8      0.4              edge_types=[\"hidden_sample\"])) for graph in graphs]\n",
      "    70                                           \n",
      "    71         4          226     56.5      0.0          max_graph_params = GraphParams.from_networkx(self.max_graph)\n",
      "    72                                                   \n",
      "    73         4         1526    381.5      0.0          self.param_list = [max_graph_params.sample() for x in range(num_params)]\n",
      "    74                                           \n",
      "    75         4           11      2.8      0.0          if self.options[\"parallel\"]:            \n",
      "    76                                                       loglikelihood_by_param = np.array(Parallel(n_jobs = -1, \n",
      "    77                                                           backend = \"multiprocessing\", verbose = 20)(\n",
      "    78                                                           delayed(self.subgraph_cross_entropy)(\n",
      "    79                                                               max_graph_params.from_dict(params)) for params in self.param_list))\n",
      "    80                                                   else:\n",
      "    81         4            9      2.2      0.0              loglikelihood_by_param = np.array([self.subgraph_cross_entropy(max_graph_params.from_dict(params)) \n",
      "    82         4    204484223 51121055.8     99.6                  for params in self.param_list])\n",
      "    83                                                   \n",
      "    84         4          471    117.8      0.0          loglikelihood = logmeanexp(loglikelihood_by_param,axis=0)\n",
      "    85                                                   \n",
      "    86         4           10      2.5      0.0          sparsity = options[\"sparsity\"]\n",
      "    87         4        92700  23175.0      0.0          logposterior = self.logposterior_from_loglik_logsparseprior(loglikelihood,sparsity=sparsity)\n",
      "    88                                           \n",
      "    89         4           42     10.5      0.0          return graphs,np.exp(logposterior),loglikelihood,self.options,self.param_list\n",
      "\n",
      "Total time: 204.484 s\n",
      "File: /Users/cocosci/Dropbox/Work/Berkeley/Projects/Time/hidden_structure_inference/lib/likelihood_calculations_shared_params.py\n",
      "Function: subgraph_cross_entropy at line 91\n",
      "\n",
      "Line #      Hits         Time  Per Hit   % Time  Line Contents\n",
      "==============================================================\n",
      "    91                                               @profile\n",
      "    92                                               def subgraph_cross_entropy(self,max_graph_params):\n",
      "    93        16           25      1.6      0.0          n = self.options[\"num_data_samps\"]\n",
      "    94        16           76      4.8      0.0          q = np.array(self.options[\"data_probs\"])\n",
      "    95        16          127      7.9      0.0          δ = np.array(self.options[\"data_sets\"])\n",
      "    96        16        10841    677.6      0.0          gp_out = max_graph_params.subgraph_copy(self.gs_out.edges)\n",
      "    97                                           \n",
      "    98                                           \n",
      "    99                                                   # note that q*approx_loglik_from_hidden_states should be vector)\n",
      "   100        16    204472570 12779535.6    100.0          return np.array([n*np.dot(q,self.approx_loglik_from_hidden_states(δ,graph,max_graph_params,gp_out,g_idx)) for g_idx,graph in enumerate(self.graphs)])\n",
      "\n",
      "Total time: 0 s\n",
      "File: /Users/cocosci/Dropbox/Work/Berkeley/Projects/Time/hidden_structure_inference/lib/likelihood_calculations_shared_params.py\n",
      "Function: gen_iter_simulations_first_only at line 102\n",
      "\n",
      "Line #      Hits         Time  Per Hit   % Time  Line Contents\n",
      "==============================================================\n",
      "   102                                               @profile\n",
      "   103                                               def gen_iter_simulations_first_only(self,gs_in,gp_in,K):\n",
      "   104                                                   # builds a simulation object and then samples returning an M lengthed generator\n",
      "   105                                                   inner_simul = InnerGraphSimulation(gs_in, gp_in)\n",
      "   106                                                   return inner_simul.sample_iter_solely_first_events(K)\n",
      "\n",
      "Total time: 29.9338 s\n",
      "File: /Users/cocosci/Dropbox/Work/Berkeley/Projects/Time/hidden_structure_inference/lib/likelihood_calculations_shared_params.py\n",
      "Function: gen_simulations_first_only at line 108\n",
      "\n",
      "Line #      Hits         Time  Per Hit   % Time  Line Contents\n",
      "==============================================================\n",
      "   108                                               @profile\n",
      "   109                                               def gen_simulations_first_only(self,gs_in,gp_in,K):\n",
      "   110                                                   # builds a simulation object and then samples returning an M lengthed generator\n",
      "   111      4864        27382      5.6      0.1          inner_simul = InnerGraphSimulation(gs_in, gp_in)\n",
      "   112      4864     29906415   6148.5     99.9          return inner_simul.sample_solely_first_events(K)\n",
      "\n",
      "Total time: 203.435 s\n",
      "File: /Users/cocosci/Dropbox/Work/Berkeley/Projects/Time/hidden_structure_inference/lib/likelihood_calculations_shared_params.py\n",
      "Function: approx_loglik_from_hidden_states at line 114\n",
      "\n",
      "Line #      Hits         Time  Per Hit   % Time  Line Contents\n",
      "==============================================================\n",
      "   114                                               @profile\n",
      "   115                                               def approx_loglik_from_hidden_states(self,data_sets,graph,max_graph_params,gp_out,g_idx):\n",
      "   116      4864         7909      1.6      0.0          K = self.options[\"stigma_sample_size\"]\n",
      "   117                                           \n",
      "   118                                                   # gs_in = GraphStructure.from_networkx(sub_graph_from_edge_type(graph,\n",
      "   119                                                   #     edge_types=[\"hidden_sample\"]))\n",
      "   120      4864      3095159    636.3      1.5          gp_in = max_graph_params.subgraph_copy(self.gs_in[g_idx].edges)\n",
      "   121                                           \n",
      "   122                                                   # hidden_states_iter = self.gen_iter_simulations_first_only(self.gs_in[g_idx],gp_in,K)\n",
      "   123      4864     29984989   6164.7     14.7          hidden_states_iter = self.gen_simulations_first_only(self.gs_in[g_idx],gp_in,K)\n",
      "   124                                           \n",
      "   125      4864        22865      4.7      0.0          temp_array = np.empty(shape=(K,data_sets.shape[0]))\n",
      "   126    491264       618941      1.3      0.3          for idx, hidden_state_sample in enumerate(hidden_states_iter):\n",
      "   127    486400    169171012    347.8     83.2              temp_array[idx,:] = np.array([self.loglik_with_hidden_states(data_set,hidden_state_sample,gp_out) for data_set in data_sets])\n",
      "   128                                           \n",
      "   129      4864       533699    109.7      0.3          return logmeanexp(temp_array,axis=0)\n",
      "\n",
      "Total time: 155.325 s\n",
      "File: /Users/cocosci/Dropbox/Work/Berkeley/Projects/Time/hidden_structure_inference/lib/likelihood_calculations_shared_params.py\n",
      "Function: loglik_with_hidden_states at line 131\n",
      "\n",
      "Line #      Hits         Time  Per Hit   % Time  Line Contents\n",
      "==============================================================\n",
      "   131                                               @profile\n",
      "   132                                               def loglik_with_hidden_states(self, data_set, hidden_state_sample,gp_out):\n",
      "   133                                                   #params = zip(hidden_state_sample,data_set,gp_out.psi,gp_out.r)\n",
      "   134                                                   #loglik = [self.one_edge_loglik(*p) for p in params]\n",
      "   135                                                   #return np.sum(loglik)\n",
      "   136   2432000    155325493     63.9    100.0          return np.sum(self.one_edge_loglik_vectorized(data_set, hidden_state_sample, gp_out.psi,gp_out.r))\n",
      "\n",
      "Total time: 0 s\n",
      "File: /Users/cocosci/Dropbox/Work/Berkeley/Projects/Time/hidden_structure_inference/lib/likelihood_calculations_shared_params.py\n",
      "Function: one_edge_loglik at line 141\n",
      "\n",
      "Line #      Hits         Time  Per Hit   % Time  Line Contents\n",
      "==============================================================\n",
      "   141                                               @profile\n",
      "   142                                               def one_edge_loglik(self, cause_time, effect_time, psi, r, T=4.0):\n",
      "   143                                           \n",
      "   144                                                   # is this an instantaneous intervention?\n",
      "   145                                                   if cause_time - effect_time == 0:\n",
      "   146                                                       return 0 \n",
      "   147                                           \n",
      "   148                                                   # if the cause never occurs it occurs at infinity\n",
      "   149                                                   if np.isinf(cause_time):\n",
      "   150                                                       # it is certain that the effect will not occur if the cause does not occur\n",
      "   151                                                       if np.isinf(effect_time):\n",
      "   152                                                           return 0\n",
      "   153                                                       # it is impossible for the effect to occur if the cause does not occur\n",
      "   154                                                       # previous check was elif not np.isinf(effect_time) but that must be true given top if statement\n",
      "   155                                                       else:\n",
      "   156                                                           return -np.inf\n",
      "   157                                           \n",
      "   158                                                   # if the cause does occur it happens at some time other than infinity\n",
      "   159                                                   if not np.isinf(cause_time):\n",
      "   160                                                       \n",
      "   161                                                       # if the effect doesn't occur, loglik of no events between cause_time and max_time(T)\n",
      "   162                                                       if np.isinf(effect_time):\n",
      "   163                                                           try:\n",
      "   164                                                               # test to make sure that you won't hit underflow\n",
      "   165                                                               exp_val = np.exp(-r*(T-cause_time))\n",
      "   166                                                           except FloatingPointError:\n",
      "   167                                                               # it was a really small number, set it to 0\n",
      "   168                                                               exp_val = 0         \n",
      "   169                                                           return -(psi/r)*(1-exp_val)\n",
      "   170                                                       \n",
      "   171                                                       # if the effect occurred but before the cause_time, that's impossible\n",
      "   172                                                       elif effect_time < cause_time: \n",
      "   173                                                           return -np.inf\n",
      "   174                                                       # if the effect occurred, after the cause_time, \n",
      "   175                                                       # then loglik of no events from cause_time to effect_time + log of rate function\n",
      "   176                                                       else:\n",
      "   177                                                           try:\n",
      "   178                                                               # test to make sure that you won't hit underflow\n",
      "   179                                                               exp_val = np.exp(-r*(effect_time-cause_time))\n",
      "   180                                                           except FloatingPointError:\n",
      "   181                                                               # it was a really small number, set it to 0\n",
      "   182                                                               exp_val = 0         \n",
      "   183                                           \n",
      "   184                                                           return np.log(psi) - (r*(effect_time-cause_time)) - (psi/r)*(1-exp_val)\n",
      "\n",
      "Total time: 109.641 s\n",
      "File: /Users/cocosci/Dropbox/Work/Berkeley/Projects/Time/hidden_structure_inference/lib/likelihood_calculations_shared_params.py\n",
      "Function: one_edge_loglik_vectorized at line 186\n",
      "\n",
      "Line #      Hits         Time  Per Hit   % Time  Line Contents\n",
      "==============================================================\n",
      "   186                                               @profile\n",
      "   187                                               def one_edge_loglik_vectorized(self, cause_time, effect_time, psi, r, T=4.0):\n",
      "   188   2432000      5572446      2.3      5.1          out = np.zeros(len(cause_time))\n",
      "   189   2432000      4183701      1.7      3.8          cause_inf = np.isinf(cause_time)\n",
      "   190   2432000      2877553      1.2      2.6          cause_ok = ~cause_inf\n",
      "   191   2432000      3023861      1.2      2.8          effect_inf = np.isinf(effect_time)\n",
      "   192   2432000      2583247      1.1      2.4          effect_ok = ~effect_inf\n",
      "   193                                                   #out[(cause_time - effect_time) == 0] = 0\n",
      "   194                                                   #out[cause_inf & effect_inf] = 0\n",
      "   195   2432000      5578774      2.3      5.1          out[cause_inf & effect_ok] = -np.inf\n",
      "   196                                           \n",
      "   197   2432000      3034917      1.2      2.8          idx = cause_ok & effect_inf\n",
      "   198   2432000     12948722      5.3     11.8          exp_val = np.exp(-r[idx] * (T - cause_time[idx]))\n",
      "   199   2432000     15788694      6.5     14.4          out[idx] = -(psi[idx] / r[idx]) * (1 - exp_val)\n",
      "   200                                           \n",
      "   201   2432000      5063507      2.1      4.6          idx = cause_ok & (effect_time < cause_time)\n",
      "   202   2432000      3216483      1.3      2.9          out[idx] = -np.inf\n",
      "   203                                           \n",
      "   204   2432000      4745728      2.0      4.3          idx = cause_ok & (effect_time >= cause_time)\n",
      "   205   2432000     12563560      5.2     11.5          exp_val = np.exp(-r[idx] * (effect_time[idx] - cause_time[idx]))\n",
      "   206   2432000     26966851     11.1     24.6          out[idx] = np.log(psi[idx]) - (r[idx] * (effect_time[idx] - cause_time[idx])) - (psi[idx] / r[idx]) * (1 - exp_val)\n",
      "   207                                           \n",
      "   208   2432000      1492476      0.6      1.4          return out\n",
      "\n"
     ]
    }
   ],
   "source": [
    "lstats = line_profiler.load_stats(\"run_simulation.py.lprof\")\n",
    "line_profiler.show_text(lstats.timings, lstats.unit)"
   ]
  },
  {
   "cell_type": "code",
   "execution_count": 8,
   "metadata": {
    "collapsed": false
   },
   "outputs": [
    {
     "data": {
      "text/plain": [
       "<_line_profiler.LineStats at 0x1103d3a90>"
      ]
     },
     "execution_count": 8,
     "metadata": {},
     "output_type": "execute_result"
    }
   ],
   "source": [
    "lstats"
   ]
  },
  {
   "cell_type": "code",
   "execution_count": 22,
   "metadata": {
    "collapsed": false
   },
   "outputs": [
    {
     "data": {
      "text/plain": [
       "[(0, 0), (1, 1), (2, 2), (3, 3), (4, 4)]"
      ]
     },
     "execution_count": 22,
     "metadata": {},
     "output_type": "execute_result"
    }
   ],
   "source": [
    "[(a,b) for a,b in enumerate(range(5))]"
   ]
  },
  {
   "cell_type": "code",
   "execution_count": 16,
   "metadata": {
    "collapsed": false
   },
   "outputs": [],
   "source": [
    "import numpy as np\n",
    "test = np.array([0,1,2])"
   ]
  },
  {
   "cell_type": "code",
   "execution_count": 23,
   "metadata": {
    "collapsed": false
   },
   "outputs": [
    {
     "data": {
      "text/plain": [
       "array([0, 1, 2, 0, 1, 2, 0, 1, 2, 0, 1, 2, 0, 1, 2])"
      ]
     },
     "execution_count": 23,
     "metadata": {},
     "output_type": "execute_result"
    }
   ],
   "source": [
    "np.tile(test,[5,1])\n",
    "np.tile([0,1,2],[5])"
   ]
  },
  {
   "cell_type": "code",
   "execution_count": null,
   "metadata": {
    "collapsed": true
   },
   "outputs": [],
   "source": []
  }
 ],
 "metadata": {
  "kernelspec": {
   "display_name": "Python 3",
   "language": "python",
   "name": "python3"
  },
  "language_info": {
   "codemirror_mode": {
    "name": "ipython",
    "version": 3
   },
   "file_extension": ".py",
   "mimetype": "text/x-python",
   "name": "python",
   "nbconvert_exporter": "python",
   "pygments_lexer": "ipython3",
   "version": "3.5.0"
  }
 },
 "nbformat": 4,
 "nbformat_minor": 0
}
